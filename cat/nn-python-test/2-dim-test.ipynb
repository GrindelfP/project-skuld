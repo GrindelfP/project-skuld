{
 "cells": [
  {
   "cell_type": "code",
   "execution_count": 51,
   "id": "68836988-588a-4929-bfea-e24c717c1099",
   "metadata": {},
   "outputs": [],
   "source": [
    "import torch\n",
    "import torch.nn as nn\n",
    "import torch.optim as optim\n",
    "\n",
    "from torchsummary import summary\n",
    "\n",
    "import numpy as np\n",
    "\n",
    "import matplotlib.pyplot as plt"
   ]
  },
  {
   "cell_type": "code",
   "execution_count": 27,
   "id": "080e0c47-d99c-4619-b8e1-ca64997e0db4",
   "metadata": {},
   "outputs": [],
   "source": [
    "def generate_data(func, n_samples=100, n_dim=2):\n",
    "    # Generate data in the form of a 2D tensor for neural network input\n",
    "    X = torch.linspace(0, 1, n_samples * n_dim).view(n_samples, n_dim)\n",
    "    \n",
    "    # Shuffle the input data\n",
    "    shuffled_indices = torch.randperm(X.size(0))\n",
    "    X_shuffled = X[shuffled_indices]\n",
    "    \n",
    "    # Apply the function to the shuffled X values\n",
    "    y = func(X_shuffled)\n",
    "    \n",
    "    return X_shuffled, y"
   ]
  },
  {
   "cell_type": "code",
   "execution_count": 28,
   "id": "c043ec8b-ea03-4278-ba7a-0bbe30a5d61e",
   "metadata": {},
   "outputs": [],
   "source": [
    "def f1(X):\n",
    "    # Extract x1 and x2 from the columns of the 2D tensor X\n",
    "    x1 = X[:, 0]  # First column\n",
    "    x2 = X[:, 1]  # Second column\n",
    "    \n",
    "    return torch.cos(x1) + torch.sin(x2)"
   ]
  },
  {
   "cell_type": "code",
   "execution_count": 62,
   "id": "403992b4-93cd-4758-bcd7-6eed0dd608d9",
   "metadata": {},
   "outputs": [],
   "source": [
    "def indefinite_integral_f1(X):\n",
    "    # Extract x1 and x2 from the columns of the 2D tensor X\n",
    "    x1 = X[:, 0]  # First column\n",
    "    x2 = X[:, 1]  # Second column\n",
    "\n",
    "    return -x1 * torch.cos(x2) + x2 * torch.sin(x1)"
   ]
  },
  {
   "cell_type": "code",
   "execution_count": 63,
   "id": "88863e5b-a8ff-437e-b070-ead37c12ee32",
   "metadata": {},
   "outputs": [
    {
     "data": {
      "text/plain": [
       "(tensor([[0.0000, 0.1111],\n",
       "         [0.2222, 0.3333],\n",
       "         [0.4444, 0.5556],\n",
       "         [0.6667, 0.7778],\n",
       "         [0.8889, 1.0000]]),\n",
       " tensor([ 0.0000, -0.1365, -0.1387,  0.0060,  0.2961]))"
      ]
     },
     "execution_count": 63,
     "metadata": {},
     "output_type": "execute_result"
    }
   ],
   "source": [
    "X, y = generate_data(f1, n_dim=2, n_samples=5)\n",
    "integr = indefinite_integral_f1(X)"
   ]
  },
  {
   "cell_type": "code",
   "execution_count": 16,
   "id": "d31bc935-0da1-47c8-88c3-e7b632df3d41",
   "metadata": {},
   "outputs": [],
   "source": [
    "class MLP(nn.Module):\n",
    "    def __init__(self, input_size, hidden_size):\n",
    "        \"\"\"\n",
    "        Neural network constructor for a multi-layer perceptron.\n",
    "        @param input_size  Number of features in the input data\n",
    "        @param hidden_size Number of neurons in the hidden layer\n",
    "        \"\"\"\n",
    "        super(MLP, self).__init__()\n",
    "        self.input_hidden_layer = nn.Linear(input_size, hidden_size)  # input -> hidden\n",
    "        self.sigmoid_activation = nn.Sigmoid()  # Activation function\n",
    "        self.output_layer = nn.Linear(hidden_size, 1)  # hidden -> output\n",
    "    \n",
    "    def forward(self, x):\n",
    "        \"\"\"\n",
    "        Forward pass through the network.\n",
    "        @param x  Input data\n",
    "        @returns   The network's output\n",
    "        \"\"\"\n",
    "        x = self.input_hidden_layer(x)  # Pass through input-hidden layer\n",
    "        x = self.sigmoid_activation(x)  # Apply activation function\n",
    "        x = self.output_layer(x)  # Pass through output layer\n",
    "        return x"
   ]
  },
  {
   "cell_type": "code",
   "execution_count": 17,
   "id": "a17f2896-175c-4069-9f26-d8102be34593",
   "metadata": {},
   "outputs": [],
   "source": [
    "def train_model(model, criterion, optimizer, x_train, y_train, epochs):\n",
    "    \"\"\"\n",
    "    Train the model.\n",
    "    @param model        The model to be trained\n",
    "    @param criterion    Loss function\n",
    "    @param optimizer    Optimization algorithm\n",
    "    @param x_train      Training inputs\n",
    "    @param y_train      True labels\n",
    "    @param epochs       Number of training epochs\n",
    "    \"\"\"\n",
    "    loss_history = []\n",
    "    for epoch in range(epochs):\n",
    "        predictions = model(x_train)  # Forward pass\n",
    "        loss = criterion(predictions, y_train)  # Compute the loss\n",
    "\n",
    "        optimizer.zero_grad()  # Zero the gradients\n",
    "        loss.backward()  # Backpropagation\n",
    "        optimizer.step()  # Update model parameters\n",
    "\n",
    "        loss_history.append(loss.item())\n",
    "\n",
    "        if (epoch + 1) % 100 == 0:\n",
    "            print(f'Epoch [{epoch + 1}/{epochs}], Loss: {loss.item():.10f}')\n",
    "    \n",
    "    return loss_history"
   ]
  },
  {
   "cell_type": "code",
   "execution_count": 31,
   "id": "39dba2eb-ddbc-40cf-b227-d1e150299b31",
   "metadata": {},
   "outputs": [],
   "source": [
    "def test_model(model, criterion, x_test, y_test):\n",
    "    \"\"\"\n",
    "    Test the model.\n",
    "    @param model        The trained model\n",
    "    @param criterion    Loss function\n",
    "    @param x_test       Test inputs\n",
    "    @param y_test       True labels\n",
    "    \"\"\"\n",
    "    with torch.no_grad():  # Disable gradient calculation for testing\n",
    "        predictions = model(x_test)  # Forward pass\n",
    "        loss = criterion(predictions, y_test)  # Compute the loss\n",
    "\n",
    "    return loss.item()"
   ]
  },
  {
   "cell_type": "code",
   "execution_count": 84,
   "id": "b8afab6a-15b0-4802-b363-8896b7959e9d",
   "metadata": {},
   "outputs": [],
   "source": [
    "input_size = 2  # Set the number of input dimensions\n",
    "hidden_size = 20  # Set the number of neurons in the hidden layer\n",
    "n_samples = 10000  # Number of samples for training\n",
    "epochs = 1000  # Number of epochs\n",
    "learning_rate = 0.001"
   ]
  },
  {
   "cell_type": "code",
   "execution_count": 85,
   "id": "2efdd7a4-f6be-4288-824a-85df561ee101",
   "metadata": {},
   "outputs": [],
   "source": [
    "X_train, y_train = generate_data(f1, n_samples=n_samples, n_dim=input_size)"
   ]
  },
  {
   "cell_type": "code",
   "execution_count": 86,
   "id": "00079878-b655-43a6-aecc-5d5b054dfe93",
   "metadata": {},
   "outputs": [],
   "source": [
    "model = MLP(input_size, hidden_size)"
   ]
  },
  {
   "cell_type": "code",
   "execution_count": 87,
   "id": "f87ac348-28d6-44fd-9842-08df3b46ac2e",
   "metadata": {},
   "outputs": [
    {
     "name": "stdout",
     "output_type": "stream",
     "text": [
      "----------------------------------------------------------------\n",
      "        Layer (type)               Output Shape         Param #\n",
      "================================================================\n",
      "            Linear-1                   [-1, 20]              60\n",
      "           Sigmoid-2                   [-1, 20]               0\n",
      "            Linear-3                    [-1, 1]              21\n",
      "================================================================\n",
      "Total params: 81\n",
      "Trainable params: 81\n",
      "Non-trainable params: 0\n",
      "----------------------------------------------------------------\n",
      "Input size (MB): 0.00\n",
      "Forward/backward pass size (MB): 0.00\n",
      "Params size (MB): 0.00\n",
      "Estimated Total Size (MB): 0.00\n",
      "----------------------------------------------------------------\n"
     ]
    }
   ],
   "source": [
    "summary(model, input_size=(input_size,)) # подробное описание модели"
   ]
  },
  {
   "cell_type": "code",
   "execution_count": 88,
   "id": "f40a0855-2e3c-43e0-97d0-c025adef8ec7",
   "metadata": {},
   "outputs": [
    {
     "name": "stdout",
     "output_type": "stream",
     "text": [
      "Epoch [100/1000], Loss: 0.0394787043\n",
      "Epoch [200/1000], Loss: 0.0158555359\n",
      "Epoch [300/1000], Loss: 0.0157074872\n",
      "Epoch [400/1000], Loss: 0.0155629329\n",
      "Epoch [500/1000], Loss: 0.0154323885\n",
      "Epoch [600/1000], Loss: 0.0153221041\n",
      "Epoch [700/1000], Loss: 0.0152341723\n",
      "Epoch [800/1000], Loss: 0.0151677048\n",
      "Epoch [900/1000], Loss: 0.0151199624\n",
      "Epoch [1000/1000], Loss: 0.0150873363\n"
     ]
    }
   ],
   "source": [
    "criterion = nn.MSELoss()\n",
    "optimizer = optim.Adam(model.parameters(), lr=learning_rate)\n",
    "\n",
    "train_history = train_model(model, criterion, optimizer, X_train, y_train, epochs)"
   ]
  },
  {
   "cell_type": "code",
   "execution_count": 89,
   "id": "1c5062b4-87b6-4472-a74c-6306b1d37cc4",
   "metadata": {},
   "outputs": [
    {
     "data": {
      "image/png": "[encoded data removed]",
      "text/plain": [
       "<Figure size 1000x600 with 1 Axes>"
      ]
     },
     "metadata": {},
     "output_type": "display_data"
    }
   ],
   "source": [
    "plt.figure(figsize=(10, 6))\n",
    "plt.plot(train_history, label='Loss', color='b')\n",
    "plt.xlabel('Epochs')\n",
    "plt.ylabel('Loss')\n",
    "plt.title('Loss Function over Epochs')\n",
    "plt.legend()\n",
    "plt.grid(True)\n",
    "plt.show()"
   ]
  },
  {
   "cell_type": "code",
   "execution_count": 90,
   "id": "d51253cb-7621-41ec-b010-3ee265dc7e59",
   "metadata": {},
   "outputs": [],
   "source": [
    "def extract_model_params(model):\n",
    "    \"\"\"\n",
    "        Функция извлечения параметров нейросети.\n",
    "        @param model модель, из которой необходимо извлеч параметры\n",
    "        @returns 4 объекта типа numpy.array: смещения 1-го слоя, веса 1-го слоя,\n",
    "                 смещения 2-го слоя, веса 2-го слоя\n",
    "    \"\"\"\n",
    "    # detach() - возвращает выбранный параметр, numpy() конвертирует в формат numpy.array,\n",
    "    # flatten() для весов преобразует векторы-столбцы в векторы-строки.\n",
    "    b1 = model.input_hidden_layer.bias.detach().numpy() \n",
    "    w1 = model.input_hidden_layer.weight.detach().numpy().flatten()\n",
    "    b2 = model.output_layer.bias.detach().numpy() \n",
    "    w2 = model.output_layer.weight.detach().numpy().flatten()\n",
    "    \n",
    "    return b1, w1, b2, w2"
   ]
  },
  {
   "cell_type": "code",
   "execution_count": 92,
   "id": "7214a5e4-8da0-4dc1-990c-7504a2cc5ad9",
   "metadata": {},
   "outputs": [
    {
     "data": {
      "text/plain": [
       "((20,), (40,), (1,), (20,))"
      ]
     },
     "execution_count": 92,
     "metadata": {},
     "output_type": "execute_result"
    }
   ],
   "source": [
    "b1, w1, b2, w2 = extract_model_params(model)\n",
    "b1.shape, w1.shape, b2.shape, w2.shape"
   ]
  },
  {
   "cell_type": "code",
   "execution_count": null,
   "id": "206b6ae1-17e3-4c33-9376-874f9f6e8f26",
   "metadata": {},
   "outputs": [],
   "source": []
  }
 ],
 "metadata": {
  "kernelspec": {
   "display_name": "Python 3 (ipykernel)",
   "language": "python",
   "name": "python3"
  },
  "language_info": {
   "codemirror_mode": {
    "name": "ipython",
    "version": 3
   },
   "file_extension": ".py",
   "mimetype": "text/x-python",
   "name": "python",
   "nbconvert_exporter": "python",
   "pygments_lexer": "ipython3",
   "version": "3.11.5"
  }
 },
 "nbformat": 4,
 "nbformat_minor": 5
}
