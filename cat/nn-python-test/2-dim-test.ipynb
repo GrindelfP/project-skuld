{
 "cells": [
  {
   "cell_type": "code",
   "execution_count": 1,
   "id": "68836988-588a-4929-bfea-e24c717c1099",
   "metadata": {},
   "outputs": [],
   "source": [
    "import torch\n",
    "import torch.nn as nn\n",
    "import torch.optim as optim\n",
    "\n",
    "from torchsummary import summary\n",
    "\n",
    "import numpy as np\n",
    "\n",
    "import matplotlib.pyplot as plt\n",
    "\n",
    "from mpmath import polylog"
   ]
  },
  {
   "cell_type": "code",
   "execution_count": 2,
   "id": "080e0c47-d99c-4619-b8e1-ca64997e0db4",
   "metadata": {},
   "outputs": [],
   "source": [
    "def generate_data(func, n_samples=100, n_dim=2):\n",
    "    # Generate data in the form of a 2D tensor for neural network input\n",
    "    X = torch.linspace(0, 1, n_samples * n_dim).view(n_samples, n_dim)\n",
    "    \n",
    "    # Shuffle the input data\n",
    "    shuffled_indices = torch.randperm(X.size(0))\n",
    "    X_shuffled = X[shuffled_indices]\n",
    "    \n",
    "    # Apply the function to the shuffled X values\n",
    "    y = func(X_shuffled)\n",
    "    \n",
    "    return X_shuffled, y"
   ]
  },
  {
   "cell_type": "code",
   "execution_count": 3,
   "id": "c043ec8b-ea03-4278-ba7a-0bbe30a5d61e",
   "metadata": {},
   "outputs": [],
   "source": [
    "def f1(X):\n",
    "    # Extract x1 and x2 from the columns of the 2D tensor X\n",
    "    x1 = X[:, 0]  # First column\n",
    "    x2 = X[:, 1]  # Second column\n",
    "    \n",
    "    return torch.cos(x1) + torch.sin(x2)"
   ]
  },
  {
   "cell_type": "code",
   "execution_count": 4,
   "id": "403992b4-93cd-4758-bcd7-6eed0dd608d9",
   "metadata": {},
   "outputs": [],
   "source": [
    "def indefinite_integral_f1(X):\n",
    "    # Extract x1 and x2 from the columns of the 2D tensor X\n",
    "    x1 = X[:, 0]  # First column\n",
    "    x2 = X[:, 1]  # Second column\n",
    "\n",
    "    return -x1 * torch.cos(x2) + x2 * torch.sin(x1)"
   ]
  },
  {
   "cell_type": "code",
   "execution_count": 5,
   "id": "df20f17e-ea02-422c-b30c-f7e40bf64d95",
   "metadata": {},
   "outputs": [],
   "source": [
    "def definite_integral_f1(A, B):\n",
    "\n",
    "    return indefinite_integral_f1(B) - indefinite_integral_f1(A)"
   ]
  },
  {
   "cell_type": "code",
   "execution_count": 6,
   "id": "88863e5b-a8ff-437e-b070-ead37c12ee32",
   "metadata": {},
   "outputs": [],
   "source": [
    "X, y = generate_data(f1, n_dim=2, n_samples=5)\n",
    "integr = indefinite_integral_f1(X)"
   ]
  },
  {
   "cell_type": "code",
   "execution_count": 7,
   "id": "d31bc935-0da1-47c8-88c3-e7b632df3d41",
   "metadata": {},
   "outputs": [],
   "source": [
    "class MLP(nn.Module):\n",
    "    def __init__(self, input_size, hidden_size):\n",
    "        \"\"\"\n",
    "        Neural network constructor for a multi-layer perceptron.\n",
    "        @param input_size  Number of features in the input data\n",
    "        @param hidden_size Number of neurons in the hidden layer\n",
    "        \"\"\"\n",
    "        super(MLP, self).__init__()\n",
    "        self.input_hidden_layer = nn.Linear(input_size, hidden_size)  # input -> hidden\n",
    "        self.sigmoid_activation = nn.Sigmoid()  # Activation function\n",
    "        self.output_layer = nn.Linear(hidden_size, 1)  # hidden -> output\n",
    "    \n",
    "    def forward(self, x):\n",
    "        \"\"\"\n",
    "        Forward pass through the network.\n",
    "        @param x  Input data\n",
    "        @returns   The network's output\n",
    "        \"\"\"\n",
    "        x = self.input_hidden_layer(x)  # Pass through input-hidden layer\n",
    "        x = self.sigmoid_activation(x)  # Apply activation function\n",
    "        x = self.output_layer(x)  # Pass through output layer\n",
    "        return x"
   ]
  },
  {
   "cell_type": "code",
   "execution_count": 8,
   "id": "a17f2896-175c-4069-9f26-d8102be34593",
   "metadata": {},
   "outputs": [],
   "source": [
    "def train_model(model, criterion, optimizer, x_train, y_train, epochs):\n",
    "    \"\"\"\n",
    "    Train the model.\n",
    "    @param model        The model to be trained\n",
    "    @param criterion    Loss function\n",
    "    @param optimizer    Optimization algorithm\n",
    "    @param x_train      Training inputs\n",
    "    @param y_train      True labels\n",
    "    @param epochs       Number of training epochs\n",
    "    \"\"\"\n",
    "    loss_history = []\n",
    "    for epoch in range(epochs):\n",
    "        predictions = model(x_train)  # Forward pass\n",
    "        loss = criterion(predictions, y_train)  # Compute the loss\n",
    "\n",
    "        optimizer.zero_grad()  # Zero the gradients\n",
    "        loss.backward()  # Backpropagation\n",
    "        optimizer.step()  # Update model parameters\n",
    "\n",
    "        loss_history.append(loss.item())\n",
    "\n",
    "        if (epoch + 1) % 100 == 0:\n",
    "            print(f'Epoch [{epoch + 1}/{epochs}], Loss: {loss.item():.10f}')\n",
    "    \n",
    "    return loss_history"
   ]
  },
  {
   "cell_type": "code",
   "execution_count": 9,
   "id": "39dba2eb-ddbc-40cf-b227-d1e150299b31",
   "metadata": {},
   "outputs": [],
   "source": [
    "def test_model(model, criterion, x_test, y_test):\n",
    "    \"\"\"\n",
    "    Test the model.\n",
    "    @param model        The trained model\n",
    "    @param criterion    Loss function\n",
    "    @param x_test       Test inputs\n",
    "    @param y_test       True labels\n",
    "    \"\"\"\n",
    "    with torch.no_grad():  # Disable gradient calculation for testing\n",
    "        predictions = model(x_test)  # Forward pass\n",
    "        loss = criterion(predictions, y_test)  # Compute the loss\n",
    "\n",
    "    return loss.item()"
   ]
  },
  {
   "cell_type": "code",
   "execution_count": 31,
   "id": "30eab7f1-53b1-4b97-b9f4-5c06b3e1a278",
   "metadata": {},
   "outputs": [],
   "source": [
    "def predict_with_model(model, x_test):\n",
    "\n",
    "    with torch.no_grad():\n",
    "        predictions = model(x_test)\n",
    "\n",
    "    return predictions"
   ]
  },
  {
   "cell_type": "code",
   "execution_count": 10,
   "id": "b8afab6a-15b0-4802-b363-8896b7959e9d",
   "metadata": {},
   "outputs": [],
   "source": [
    "input_size = 2  # Set the number of input dimensions\n",
    "hidden_size = 20  # Set the number of neurons in the hidden layer\n",
    "n_samples = 10000  # Number of samples for training\n",
    "epochs = 1000  # Number of epochs\n",
    "learning_rate = 0.001"
   ]
  },
  {
   "cell_type": "code",
   "execution_count": 11,
   "id": "2efdd7a4-f6be-4288-824a-85df561ee101",
   "metadata": {},
   "outputs": [],
   "source": [
    "X_train, y_train = generate_data(f1, n_samples=n_samples, n_dim=input_size)"
   ]
  },
  {
   "cell_type": "code",
   "execution_count": 12,
   "id": "00079878-b655-43a6-aecc-5d5b054dfe93",
   "metadata": {},
   "outputs": [],
   "source": [
    "model = MLP(input_size, hidden_size)"
   ]
  },
  {
   "cell_type": "code",
   "execution_count": 13,
   "id": "f87ac348-28d6-44fd-9842-08df3b46ac2e",
   "metadata": {},
   "outputs": [
    {
     "name": "stdout",
     "output_type": "stream",
     "text": [
      "----------------------------------------------------------------\n",
      "        Layer (type)               Output Shape         Param #\n",
      "================================================================\n",
      "            Linear-1                   [-1, 20]              60\n",
      "           Sigmoid-2                   [-1, 20]               0\n",
      "            Linear-3                    [-1, 1]              21\n",
      "================================================================\n",
      "Total params: 81\n",
      "Trainable params: 81\n",
      "Non-trainable params: 0\n",
      "----------------------------------------------------------------\n",
      "Input size (MB): 0.00\n",
      "Forward/backward pass size (MB): 0.00\n",
      "Params size (MB): 0.00\n",
      "Estimated Total Size (MB): 0.00\n",
      "----------------------------------------------------------------\n"
     ]
    }
   ],
   "source": [
    "summary(model, input_size=(input_size,)) # подробное описание модели"
   ]
  },
  {
   "cell_type": "code",
   "execution_count": 14,
   "id": "f40a0855-2e3c-43e0-97d0-c025adef8ec7",
   "metadata": {},
   "outputs": [
    {
     "name": "stderr",
     "output_type": "stream",
     "text": [
      "/usr/local/lib/python3.11/site-packages/torch/nn/modules/loss.py:535: UserWarning: Using a target size (torch.Size([10000])) that is different to the input size (torch.Size([10000, 1])). This will likely lead to incorrect results due to broadcasting. Please ensure they have the same size.\n",
      "  return F.mse_loss(input, target, reduction=self.reduction)\n"
     ]
    },
    {
     "name": "stdout",
     "output_type": "stream",
     "text": [
      "Epoch [100/1000], Loss: 0.0249002147\n",
      "Epoch [200/1000], Loss: 0.0171447881\n",
      "Epoch [300/1000], Loss: 0.0167659018\n",
      "Epoch [400/1000], Loss: 0.0163917672\n",
      "Epoch [500/1000], Loss: 0.0160525609\n",
      "Epoch [600/1000], Loss: 0.0157652367\n",
      "Epoch [700/1000], Loss: 0.0155361267\n",
      "Epoch [800/1000], Loss: 0.0153635684\n",
      "Epoch [900/1000], Loss: 0.0152406525\n",
      "Epoch [1000/1000], Loss: 0.0151578253\n"
     ]
    }
   ],
   "source": [
    "criterion = nn.MSELoss()\n",
    "optimizer = optim.Adam(model.parameters(), lr=learning_rate)\n",
    "\n",
    "train_history = train_model(model, criterion, optimizer, X_train, y_train, epochs)"
   ]
  },
  {
   "cell_type": "code",
   "execution_count": 15,
   "id": "1c5062b4-87b6-4472-a74c-6306b1d37cc4",
   "metadata": {},
   "outputs": [
    {
     "data": {
      "image/png": "[encoded data removed]",
      "text/plain": [
       "<Figure size 1000x600 with 1 Axes>"
      ]
     },
     "metadata": {},
     "output_type": "display_data"
    }
   ],
   "source": [
    "plt.figure(figsize=(10, 6))\n",
    "plt.plot(train_history, label='Loss', color='b')\n",
    "plt.xlabel('Epochs')\n",
    "plt.ylabel('Loss')\n",
    "plt.title('Loss Function over Epochs')\n",
    "plt.legend()\n",
    "plt.grid(True)\n",
    "plt.show()"
   ]
  },
  {
   "cell_type": "code",
   "execution_count": 16,
   "id": "d2b22fb7-7cc1-4dff-a138-58622f2c5566",
   "metadata": {},
   "outputs": [],
   "source": [
    "def extract_model_params(model):\n",
    "    \"\"\"\n",
    "        Функция извлечения параметров нейросети.\n",
    "        @param model модель, из которой необходимо извлеч параметры\n",
    "        @returns 4 объекта типа numpy.array: смещения 1-го слоя, веса 1-го слоя,\n",
    "                 смещения 2-го слоя, веса 2-го слоя\n",
    "    \"\"\"\n",
    "    # detach() - возвращает выбранный параметр, numpy() конвертирует в формат numpy.array,\n",
    "    # flatten() для весов преобразует векторы-столбцы в векторы-строки.\n",
    "    b1 = model.input_hidden_layer.bias.detach().numpy() \n",
    "    w1 = model.input_hidden_layer.weight.detach().numpy()\n",
    "    # w1 = [w1[:, i] for i in range(w1.shape[1])]\n",
    "    b2 = model.output_layer.bias.detach().numpy() \n",
    "    w2 = model.output_layer.weight.detach().numpy().flatten()\n",
    "    \n",
    "    return b1, w1, b2, w2"
   ]
  },
  {
   "cell_type": "code",
   "execution_count": 17,
   "id": "7214a5e4-8da0-4dc1-990c-7504a2cc5ad9",
   "metadata": {},
   "outputs": [
    {
     "data": {
      "text/plain": [
       "((20,), (20, 2), (1,), (20,))"
      ]
     },
     "execution_count": 17,
     "metadata": {},
     "output_type": "execute_result"
    }
   ],
   "source": [
    "b1, w1, b2, w2 = extract_model_params(model)\n",
    "b1.shape, w1.shape, b2.shape, w2.shape"
   ]
  },
  {
   "cell_type": "code",
   "execution_count": 25,
   "id": "0d340bbb-6f93-4d22-952d-83db1aaceeb3",
   "metadata": {},
   "outputs": [
    {
     "data": {
      "text/plain": [
       "(array([-0.6946223 , -0.04888429, -0.19624652, -0.58437485, -0.37704802,\n",
       "         0.15595804,  0.1771961 , -0.16657959,  0.37996888, -0.16237897,\n",
       "         0.08987103,  0.39621317,  0.3120149 ,  0.10495432, -0.02375384,\n",
       "        -0.15677467, -0.26763734,  0.378303  ,  0.51248825, -0.49541795],\n",
       "       dtype=float32),\n",
       " array([[-0.43147385,  0.562421  ],\n",
       "        [ 0.18849896,  0.49672544],\n",
       "        [-0.20231706,  0.00758159],\n",
       "        [-0.18995114,  0.6743529 ],\n",
       "        [ 0.5051995 , -0.6110522 ],\n",
       "        [ 0.4443427 ,  0.6891412 ],\n",
       "        [ 0.40806758,  0.46986973],\n",
       "        [-0.42398956, -0.2337212 ],\n",
       "        [ 0.50691915, -0.67621034],\n",
       "        [-0.25660592,  0.38326892],\n",
       "        [ 0.33967417, -0.54490316],\n",
       "        [ 0.25651833, -0.4061526 ],\n",
       "        [ 0.2179358 , -0.36111334],\n",
       "        [ 0.3291684 , -0.23612154],\n",
       "        [ 0.17006423, -0.7193213 ],\n",
       "        [-0.54774433,  0.18612233],\n",
       "        [ 0.4665954 ,  0.20643753],\n",
       "        [ 0.09767294, -0.27842063],\n",
       "        [-0.3076239 , -0.50198156],\n",
       "        [ 0.65097594, -0.58287257]], dtype=float32),\n",
       " array([0.22623734], dtype=float32),\n",
       " array([-5.4885847e-03,  3.3534523e-02, -1.1562059e-01,  2.4699554e-01,\n",
       "         1.2736857e-01,  9.3382917e-02,  1.7605366e-01,  4.6952322e-02,\n",
       "         2.6458690e-01,  1.2491192e-01, -8.7062031e-02,  2.7534133e-01,\n",
       "         6.1898261e-02,  2.3135532e-01,  6.5233171e-02, -9.4537355e-02,\n",
       "        -1.9917500e-04,  2.1247557e-01,  1.6630760e-01,  1.9567382e-01],\n",
       "       dtype=float32))"
      ]
     },
     "execution_count": 25,
     "metadata": {},
     "output_type": "execute_result"
    }
   ],
   "source": [
    "b1, w1, b2, w2"
   ]
  },
  {
   "cell_type": "code",
   "execution_count": 26,
   "id": "206b6ae1-17e3-4c33-9376-874f9f6e8f26",
   "metadata": {},
   "outputs": [],
   "source": [
    "def get_NN_integral(alpha1, alpha2, beta1, beta2, b1, w1, b2, w2):\n",
    "    \"\"\"\n",
    "    Function that implements the new analytical integral based on the provided formulae.\n",
    "    \n",
    "    @param alpha1  Lower limit of integration for the first dimension\n",
    "    @param alpha2  Lower limit of integration for the second dimension\n",
    "    @param beta1   Upper limit of integration for the first dimension\n",
    "    @param beta2   Upper limit of integration for the second dimension\n",
    "    @param b1      Shifts between input and hidden layers\n",
    "    @param w1      Weights between input and hidden layers\n",
    "    @param b2      Shifts between hidden and output layers\n",
    "    @param w2      Weights between hidden and output layers\n",
    "\n",
    "    @returns       The analytical integral based on the neural network parameters.\n",
    "    \"\"\"\n",
    "    \n",
    "    def Phi_j(alpha1, alpha2, beta1, beta2, b1_j, w1_j):\n",
    "        \"\"\"\n",
    "        Nested function implementing the difference of polylogarithms as defined in the new formula.\n",
    "        \n",
    "        @param alpha1  Lower limit of integration for the first dimension\n",
    "        @param alpha2  Lower limit of integration for the second dimension\n",
    "        @param beta1   Upper limit of integration for the first dimension\n",
    "        @param beta2   Upper limit of integration for the second dimension\n",
    "        @param b1_j    j-th shift between input and hidden layers\n",
    "        @param w1_j    j-th weight between input and hidden layers\n",
    "        @param w2_j    j-th weight between hidden and output layers\n",
    "        \n",
    "        @returns       Difference of polylogarithms as defined in the new formula.\n",
    "        \"\"\"\n",
    "        w1_1j = w1_j[0]\n",
    "        w1_2j = w1_j[1]\n",
    "        print(w1_1j, w1_2j)\n",
    "        term_alpha1_alpha1 = polylog(2, -np.exp(-b1_j - w1_1j * alpha1 - w1_2j * alpha1))  # Li_2 term for alpha1, alpha1\n",
    "        term_alpha1_beta2  = polylog(2, -np.exp(-b1_j - w1_1j * alpha1 - w1_2j * beta2))   # Li_2 term for alpha1, beta2\n",
    "        term_beta1_alpha2  = polylog(2, -np.exp(-b1_j - w1_1j * beta1 - w1_2j * alpha2))    # Li_2 term for beta1, alpha2\n",
    "        term_beta1_beta2   = polylog(2, -np.exp(-b1_j - w1_1j * beta1 - w1_2j * beta2))     # Li_2 term for beta1, beta2\n",
    "        \n",
    "        return term_alpha1_alpha1 - term_alpha1_beta2 - term_beta1_alpha2 - term_beta1_beta2\n",
    "\n",
    "    integral_sum = 0  # Sum of integrals\n",
    "    \n",
    "    # Sum over all j\n",
    "    for w2_j, w1_j, b1_j in zip(w2, w1, b1):\n",
    "        phi_j = Phi_j(alpha1, alpha2, beta1, beta2, b1_j, w1_j)  # Compute the difference of polylogarithms\n",
    "        integral_sum += w2_j * ((beta1 - alpha1) * (beta2 - alpha2) + (phi_j / (w1_j[0] * w1_j[1])))  # Accumulate integral for sum\n",
    "    \n",
    "    # Final result based on the new formula\n",
    "    return b2 * (beta1 - alpha1) * (beta2 - alpha2) + integral_sum  # Full formula result"
   ]
  },
  {
   "cell_type": "code",
   "execution_count": 27,
   "id": "dcbaef81-094d-48ca-b320-47b1d2ecce07",
   "metadata": {},
   "outputs": [
    {
     "name": "stdout",
     "output_type": "stream",
     "text": [
      "-0.43147385 0.562421\n",
      "0.18849896 0.49672544\n",
      "-0.20231706 0.0075815935\n",
      "-0.18995114 0.6743529\n",
      "0.5051995 -0.6110522\n",
      "0.4443427 0.6891412\n",
      "0.40806758 0.46986973\n",
      "-0.42398956 -0.2337212\n",
      "0.50691915 -0.67621034\n",
      "-0.25660592 0.38326892\n",
      "0.33967417 -0.54490316\n",
      "0.25651833 -0.4061526\n",
      "0.2179358 -0.36111334\n",
      "0.3291684 -0.23612154\n",
      "0.17006423 -0.7193213\n",
      "-0.54774433 0.18612233\n",
      "0.4665954 0.20643753\n",
      "0.09767294 -0.27842063\n",
      "-0.3076239 -0.50198156\n",
      "0.65097594 -0.58287257\n"
     ]
    },
    {
     "data": {
      "text/plain": [
       "array([mpf('136.16486829524922')], dtype=object)"
      ]
     },
     "execution_count": 27,
     "metadata": {},
     "output_type": "execute_result"
    }
   ],
   "source": [
    "intgr = get_NN_integral(0.0, 0.0, 0.5, 0.5, b1, w1, b2, w2)\n",
    "intgr"
   ]
  },
  {
   "cell_type": "code",
   "execution_count": 34,
   "id": "74993e10-86bf-42f5-8c4b-c3091f346177",
   "metadata": {},
   "outputs": [],
   "source": [
    "x_test, y_test = generate_data(f1, 100, 2)"
   ]
  },
  {
   "cell_type": "code",
   "execution_count": 35,
   "id": "3613d9b6-d39a-4acd-abe1-ee49d67b6588",
   "metadata": {},
   "outputs": [
    {
     "name": "stderr",
     "output_type": "stream",
     "text": [
      "/usr/local/lib/python3.11/site-packages/torch/nn/modules/loss.py:535: UserWarning: Using a target size (torch.Size([100])) that is different to the input size (torch.Size([100, 1])). This will likely lead to incorrect results due to broadcasting. Please ensure they have the same size.\n",
      "  return F.mse_loss(input, target, reduction=self.reduction)\n"
     ]
    },
    {
     "data": {
      "text/plain": [
       "0.015412969514727592"
      ]
     },
     "execution_count": 35,
     "metadata": {},
     "output_type": "execute_result"
    }
   ],
   "source": [
    "test_result = test_model(model, criterion, x_test, y_test)\n",
    "test_result"
   ]
  },
  {
   "cell_type": "code",
   "execution_count": 36,
   "id": "35689c6e-b2ed-4316-81d2-3ac3d07dcfbc",
   "metadata": {},
   "outputs": [
    {
     "data": {
      "text/plain": [
       "tensor([[1.3003],\n",
       "        [1.2975],\n",
       "        [1.3152],\n",
       "        [1.2901],\n",
       "        [1.2983],\n",
       "        [1.2879],\n",
       "        [1.3052],\n",
       "        [1.3140],\n",
       "        [1.2853],\n",
       "        [1.2963],\n",
       "        [1.3018],\n",
       "        [1.2951],\n",
       "        [1.3117],\n",
       "        [1.2914],\n",
       "        [1.2862],\n",
       "        [1.3173],\n",
       "        [1.2799],\n",
       "        [1.2918],\n",
       "        [1.3111],\n",
       "        [1.3026],\n",
       "        [1.2884],\n",
       "        [1.2987],\n",
       "        [1.2922],\n",
       "        [1.2959],\n",
       "        [1.2849],\n",
       "        [1.3029],\n",
       "        [1.3149],\n",
       "        [1.2934],\n",
       "        [1.2930],\n",
       "        [1.3087],\n",
       "        [1.3094],\n",
       "        [1.2999],\n",
       "        [1.3121],\n",
       "        [1.3176],\n",
       "        [1.2971],\n",
       "        [1.3167],\n",
       "        [1.3007],\n",
       "        [1.2905],\n",
       "        [1.2892],\n",
       "        [1.3077],\n",
       "        [1.3143],\n",
       "        [1.3084],\n",
       "        [1.2909],\n",
       "        [1.3114],\n",
       "        [1.3134],\n",
       "        [1.3137],\n",
       "        [1.3164],\n",
       "        [1.3097],\n",
       "        [1.3080],\n",
       "        [1.3170],\n",
       "        [1.3014],\n",
       "        [1.2955],\n",
       "        [1.3124],\n",
       "        [1.2939],\n",
       "        [1.3022],\n",
       "        [1.2947],\n",
       "        [1.2831],\n",
       "        [1.3037],\n",
       "        [1.2926],\n",
       "        [1.2871],\n",
       "        [1.2943],\n",
       "        [1.2967],\n",
       "        [1.3041],\n",
       "        [1.3155],\n",
       "        [1.3073],\n",
       "        [1.3101],\n",
       "        [1.3063],\n",
       "        [1.3161],\n",
       "        [1.2840],\n",
       "        [1.3104],\n",
       "        [1.3091],\n",
       "        [1.3055],\n",
       "        [1.2875],\n",
       "        [1.2822],\n",
       "        [1.3066],\n",
       "        [1.2817],\n",
       "        [1.2995],\n",
       "        [1.3146],\n",
       "        [1.2866],\n",
       "        [1.3033],\n",
       "        [1.2808],\n",
       "        [1.2835],\n",
       "        [1.3048],\n",
       "        [1.2896],\n",
       "        [1.2813],\n",
       "        [1.2979],\n",
       "        [1.3127],\n",
       "        [1.3011],\n",
       "        [1.2888],\n",
       "        [1.3044],\n",
       "        [1.3070],\n",
       "        [1.2844],\n",
       "        [1.3107],\n",
       "        [1.2857],\n",
       "        [1.3158],\n",
       "        [1.3059],\n",
       "        [1.2826],\n",
       "        [1.3130],\n",
       "        [1.2991],\n",
       "        [1.2804]])"
      ]
     },
     "execution_count": 36,
     "metadata": {},
     "output_type": "execute_result"
    }
   ],
   "source": [
    "predict_with_model(model, x_test)"
   ]
  },
  {
   "cell_type": "code",
   "execution_count": null,
   "id": "5e08da1a-131f-4898-8e09-07afa61f62bd",
   "metadata": {},
   "outputs": [],
   "source": []
  }
 ],
 "metadata": {
  "kernelspec": {
   "display_name": "Python 3 (ipykernel)",
   "language": "python",
   "name": "python3"
  },
  "language_info": {
   "codemirror_mode": {
    "name": "ipython",
    "version": 3
   },
   "file_extension": ".py",
   "mimetype": "text/x-python",
   "name": "python",
   "nbconvert_exporter": "python",
   "pygments_lexer": "ipython3",
   "version": "3.11.5"
  }
 },
 "nbformat": 4,
 "nbformat_minor": 5
}
