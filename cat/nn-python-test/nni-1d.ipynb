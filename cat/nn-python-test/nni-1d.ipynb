{
 "cells": [
  {
   "cell_type": "code",
   "execution_count": 1,
   "id": "aaf1aa73-52ba-4046-8c4b-f8e97779c57c",
   "metadata": {},
   "outputs": [],
   "source": [
    "import torch\n",
    "import torch.nn as nn\n",
    "import torch.optim as optim\n",
    "from torchsummary import summary\n",
    "\n",
    "import numpy as np\n",
    "\n",
    "import matplotlib.pyplot as plt\n",
    "\n",
    "from mpmath import polylog\n",
    "\n",
    "from sklearn.model_selection import train_test_split"
   ]
  },
  {
   "cell_type": "code",
   "execution_count": 2,
   "id": "e1464279-6150-4c6b-ad05-cec42ce3ad80",
   "metadata": {},
   "outputs": [],
   "source": [
    "def generate_data(func, lower=0, upper=1, n_samples=100):\n",
    "    \"\"\"\n",
    "        Generates data in the form of a 2D (1D in case if the function \n",
    "        is single-variable) tensor of variables for fuction and neural network input\n",
    "        as well as te function values for the generated tensor of variables.\n",
    "\n",
    "        @param func      function to provide values for the variables\n",
    "        @param lower     lower bound of variables\n",
    "        @param upper     upper bound of variables\n",
    "        @param n_samples number of points of data to generate\n",
    "                         (default value is 100)\n",
    "\n",
    "        @returns         variables x and function values y\n",
    "    \"\"\"\n",
    "    x = torch.linspace(lower, upper, n_samples).view(n_samples, 1) # 1 for 1d functions\n",
    "    y = func(x)\n",
    "    \n",
    "    return x, y"
   ]
  },
  {
   "cell_type": "code",
   "execution_count": 3,
   "id": "0d4589fd-5817-4926-99b9-56cf4df56bea",
   "metadata": {},
   "outputs": [],
   "source": [
    "class MLP(nn.Module):\n",
    "    \"\"\"\n",
    "        Нейросеть, которая будет обучаться приближать функцию одной переменной.\n",
    "        \n",
    "        Нейросеть имеет архитектуру:\n",
    "\n",
    "        Входной слой (1 нейрон для переменной функции + смещение, линейная функция активации)\n",
    "        Скрытый слой (произвольное количество нейронов + смещение, функция активации - сигмоида)\n",
    "        Выходной слой (1 нейрон для приближенного значения функции, линейная функция активации)\n",
    "    \"\"\"\n",
    "    def __init__(self, hidden_size):\n",
    "        \"\"\"\n",
    "            Конструктор для нейросети.\n",
    "            @param self        нейросеть (необходим для включения в класс)\n",
    "            @param hidden_size размер скрытого слоя (размеры входного и выходного слоёв равны одному\n",
    "                               в рамках данной задачи, так как у функции одна переменная и \n",
    "                               задача сводится к описанию функции, то есть числа, скаляра).\n",
    "        \"\"\"\n",
    "        super(MLP, self).__init__()\n",
    "        self.input_hidden_layer = nn.Linear(1, hidden_size) # инициализация входного и скрытого слоя, \n",
    "                                                     # размеры: 1 --> размер скрытого слоя\n",
    "        self.sigmoid_activation = nn.Sigmoid() # инициализация функции активации скрытого слоя\n",
    "        self.output_layer = nn.Linear(hidden_size, 1) # инициализация выходного слоя, \n",
    "                                                      # размеры: размер скрытого слоя --> 1\n",
    "    \n",
    "    def forward(self, x):\n",
    "        \"\"\"\n",
    "            Функция распространения данных через нейросеть вперёд.\n",
    "           \n",
    "            @param self   нейросеть (необходим для включения в класс)\n",
    "            @param x      данные\n",
    "           \n",
    "            @returns выход в выходном нейроне\n",
    "        \"\"\"\n",
    "        x = self.input_hidden_layer(x) # данные прошли входной слой и аккумулирвоаны в скрытом слое\n",
    "        x = self.sigmoid_activation(x) # данные прошли функцию активации скрытого слоя\n",
    "        x = self.output_layer(x) # данные прошли выходной слой\n",
    "        \n",
    "        return x\n",
    "\n",
    "\n",
    "def train_model(model, criterion, optimizer, x_train, y_train, epochs):\n",
    "    \"\"\"\n",
    "        Trains the model.\n",
    "        \n",
    "        @param model        The model to be trained\n",
    "        @param criterion    Loss function\n",
    "        @param optimizer    Optimization algorithm\n",
    "        @param x_train      Training inputs\n",
    "        @param y_train      True labels\n",
    "        @param epochs       Number of training epochs\n",
    "    \"\"\"\n",
    "    loss_history = [] # история обучения (изменения функции потерь)\n",
    "    for epoch in range(epochs):\n",
    "        predictions = model(x_train) # все переменные проводятся через нейросеть \n",
    "                                     # и формируются предскзания значений функции\n",
    "        loss = criterion(predictions, y_train) # вычисляется функция потерь на данной эпохе\n",
    "\n",
    "        optimizer.zero_grad() # обнуляются градиенты перед обратным распространением ошибки\n",
    "        loss.backward() # обратное распространение ошибки\n",
    "        optimizer.step() # шаг оптимизации - обновление параметров модели \n",
    "\n",
    "        loss_history.append(loss.item()) # запись текущей функции потерь\n",
    "\n",
    "        if (epoch + 1) % 100 == 0:\n",
    "            print(f'Epoch [{epoch + 1}/{epochs}], Loss: {loss.item():.10f}') # вывод информации об обучении\n",
    "    \n",
    "    return loss_history # возвращается история обучения\n",
    "\n",
    "\n",
    "def test_model(model, criterion, x_test, y_test):\n",
    "    \"\"\"\n",
    "        Tests the model.\n",
    "        \n",
    "        @param model        The trained model\n",
    "        @param criterion    Loss function\n",
    "        @param x_test       Test inputs\n",
    "        @param y_test       True labels\n",
    "    \"\"\"\n",
    "    with torch.no_grad():  # отключение расчета градиентов \n",
    "                           # (расчет градиентов может происходить по умолчанию \n",
    "                           # даже без использования их потом, что излишне нагружает память)\n",
    "        predictions = model(x_test)  # тестовые переменные проводятся через обученную модель\n",
    "        loss = criterion(predictions, y_test)  # вычисляется функция потерь для тестового набора\n",
    "\n",
    "    # Возвращаем вычисленную функцию потерь\n",
    "    return loss.item()  # Возвращаем скалярное значение ошибки\n",
    "\n",
    "\n",
    "def predict_with_model(model, x_test):\n",
    "    \"\"\"\n",
    "        Uses the model to predict values based on x_test arguments.\n",
    "    \n",
    "        @param model        The trained model\n",
    "        @param x_test       Test inputs\n",
    "    \"\"\"\n",
    "    with torch.no_grad():\n",
    "        predictions = model(x_test)\n",
    "\n",
    "    return predictions\n",
    "\n",
    "\n",
    "def extract_model_params(model):\n",
    "    \"\"\"\n",
    "        Функция извлечения параметров нейросети.\n",
    "        @param model модель, из которой необходимо извлеч параметры\n",
    "        @returns 4 объекта типа numpy.array: смещения 1-го слоя, веса 1-го слоя,\n",
    "                 смещения 2-го слоя, веса 2-го слоя\n",
    "    \"\"\"\n",
    "    # detach() - возвращает выбранный параметр, numpy() конвертирует в формат numpy.array,\n",
    "    # flatten() для весов преобразует векторы-столбцы в векторы-строки.\n",
    "    b1 = model.input_hidden_layer.bias.detach().numpy() \n",
    "    w1 = model.input_hidden_layer.weight.detach().numpy().flatten()\n",
    "    b2 = model.output_layer.bias.detach().numpy() \n",
    "    w2 = model.output_layer.weight.detach().numpy().flatten()\n",
    "    \n",
    "    return b1, w1, b2, w2"
   ]
  },
  {
   "cell_type": "markdown",
   "id": "445f7e14-50bc-43d4-a533-f2e243fd373d",
   "metadata": {},
   "source": [
    "# Integration function"
   ]
  },
  {
   "cell_type": "code",
   "execution_count": 4,
   "id": "1c6c33b0-a2c0-485b-ba2d-609f980fb818",
   "metadata": {},
   "outputs": [],
   "source": [
    "def get_NN_integral(alpha, beta, b1, w1, b2, w2):\n",
    "    \"\"\"\n",
    "        Функция, реализующая метод численного интегрирования функции одной переменной\n",
    "        на основе параметров нейросети. Реализует формулы (6.1) и (6.2).\n",
    "\n",
    "        @param alpha нижняя граница интегрирования\n",
    "        @param beta  верхняя граница интегрирования\n",
    "        @param b1    смещения между входным и скрытым слоями\n",
    "        @param w1    веса между входным и скрытым слоями\n",
    "        @param b2    смещения между скрытым и выходным слоями\n",
    "        @param w2    веса между скрытым и выходным слоями\n",
    "\n",
    "        @returns численный интеграл на основе параметров нейросети.\n",
    "    \"\"\"\n",
    "    def Phi_j(alpha, beta, b1_j, w1_j):\n",
    "        \"\"\"\n",
    "            Вложенная функция, реализующая разность полилогарифмов (6.2).\n",
    "\n",
    "            @param alpha нижняя граница интегрирования\n",
    "            @param beta  верхняя граница интегрирования\n",
    "            @param b1_j  j-е смещение между входным и скрытым слоями\n",
    "            @param w1_j  j-тый вес между входным и скрытым слоями\n",
    "\n",
    "            @returns разность полилогарифмов (6.2)\n",
    "        \"\"\"\n",
    "        term_alpha = polylog(1, -np.exp(-b1_j - w1_j * alpha)) # расчет первого полилогарифма 1-го порядка\n",
    "        term_beta = polylog(1, -np.exp(-b1_j - w1_j * beta)) # расчет второго полилогарифма 1-го порядка\n",
    "        \n",
    "        return term_alpha - term_beta # результат - разность первого и второго полилогарифмов\n",
    "\n",
    "    integral_sum = 0 # сумма интеграллов \n",
    "    \n",
    "    for w2_j, w1_j, b1_j in zip(w2, w1, b1):\n",
    "        phi_j = Phi_j(alpha, beta, b1_j, w1_j) # рассчет разности полилогарифмов (6.2)\n",
    "        integral_sum += w2_j * ((beta - alpha) + phi_j / w1_j) # аккумулирование интегралла для суммы в (6.1)\n",
    "    \n",
    "    return b2 * (beta - alpha) + integral_sum # результат полная формула численног метода (6.1)"
   ]
  },
  {
   "cell_type": "markdown",
   "id": "1b4b110d-a9fc-4b17-92e9-235735d9a07b",
   "metadata": {},
   "source": [
    "# Physics task: Definition\n",
    "\n",
    "\\begin{equation}\n",
    "    \\int_{0}^{1}d\\alpha\\{\\alpha^{a}(1 - \\alpha)^b\\}\\int_{0}^{\\infty}dt\\{\\frac{t^m}{(1+t)^n}F[z_{0}]\\} \\equiv I(a, b, m, n; F[z_{0}])  \\tag{1}\n",
    "\\end{equation}\n",
    "\\begin{equation}   \n",
    "    F[z_0] = \\exp[-2z_0]  \\tag{2}\n",
    "\\end{equation}\n",
    "\\begin{equation} \n",
    "    z_0 = tD + \\frac{t}{1 + t}R^2  \\tag{3}\n",
    "\\end{equation}\n",
    "\\begin{equation}     \n",
    "    D = \\alpha_1(b_1^{2}P^2 + m_1^2) + \\alpha_2(b_2^{2}P^2 + m_2^2)  \\tag{4}\n",
    "\\end{equation}\n",
    "\\begin{equation} \n",
    "        R^2 = \\alpha_1^{2}b_1^2 + \\alpha_2^{2}b_2^2 + 2\\alpha_{1}\\alpha_{2}(m_{1}m_2)  \\tag{5}\n",
    "\\end{equation}\n",
    "\\begin{equation} \n",
    "    b_1 = -\\frac{m_1}{m_1 + m_2}  \\tag{6}\n",
    "\\end{equation}\n",
    "\\begin{equation} \n",
    "    b_2 = \\frac{m_1}{m_1 + m_2}  \\tag{7}\n",
    "\\end{equation}\n",
    "\\begin{equation} \n",
    "    m_1 = m_2 = 0.7083333, P^2 = -1.665046  \\tag{8}\n",
    "\\end{equation}"
   ]
  },
  {
   "cell_type": "markdown",
   "id": "940e82ea-bc0b-4ee2-8925-12fa809ededc",
   "metadata": {},
   "source": [
    "## Constants: general\n",
    "\n",
    "These constants will be used for all of the calculations."
   ]
  },
  {
   "cell_type": "code",
   "execution_count": 66,
   "id": "02d1cfca-8e4d-4732-b848-0cbb8a590c48",
   "metadata": {},
   "outputs": [],
   "source": [
    "la = 2.4000000\n",
    "alpha1 = alpha2 = la\n",
    "m1 = 0.7083333\n",
    "m2 = 0.7083333\n",
    "PP = -1.665046"
   ]
  },
  {
   "cell_type": "markdown",
   "id": "26100893-5592-4805-8bfe-c5282b037e0a",
   "metadata": {},
   "source": [
    "## First factor function\n",
    "\n",
    "\\begin{equation}\n",
    "    \\alpha^{a}(1 - \\alpha)^b\\ \\tag{1.1}\n",
    "\\end{equation}"
   ]
  },
  {
   "cell_type": "code",
   "execution_count": 67,
   "id": "45c91dc5-249a-4ea1-9952-3ce613412b13",
   "metadata": {},
   "outputs": [],
   "source": [
    "def alpha_func(alpha):\n",
    "    return alpha ** a * (1 - alpha) ** b"
   ]
  },
  {
   "cell_type": "markdown",
   "id": "f4817854-ef15-4073-a5fb-04a3cd498ec7",
   "metadata": {},
   "source": [
    "## Second factor function\n",
    "\n",
    "\\begin{equation}\n",
    "   \\frac{t^m}{(1+t)^n}F[z_{0}]  \\tag{1.2}\n",
    "\\end{equation}\n",
    "\n",
    "As far as the integral function converges quickly the infinite upper bound of integration will be replaced with a constant. Later we will decide which constant to choose."
   ]
  },
  {
   "cell_type": "code",
   "execution_count": 68,
   "id": "9da3f653-b81d-406b-9bed-d7b2b67fb37f",
   "metadata": {},
   "outputs": [],
   "source": [
    "def b1_func():\n",
    "    return - m1 / (m1 + m2)\n",
    "\n",
    "def b2_func():\n",
    "    return m2 / (m1 + m2)\n",
    "\n",
    "def D_func():\n",
    "    b1b1 = b1_func() ** 2\n",
    "    b2b2 = b2_func() ** 2\n",
    "    \n",
    "    return alpha1 * (b1b1 * PP + m1**2) + alpha2 * (b2b2 * PP + m2**2)\n",
    "\n",
    "def RR_func():\n",
    "    b1b1 = b1_func() ** 2\n",
    "    b2b2 = b2_func() ** 2\n",
    "    \n",
    "    return (alpha1**2 * b1b1 + alpha2**2 * b2b2 + 2 * alpha1 * alpha2 * (m1 * m2)) * PP ###### b1 b2\n",
    "\n",
    "def z0_func(t):\n",
    "    D = D_func()\n",
    "    RR = RR_func()\n",
    "    return t * D + t / (1 + t) * RR\n",
    "\n",
    "def F_func(t):\n",
    "    z_0 = z0_func(t)\n",
    "    return np.exp(-2*z_0)\n",
    "\n",
    "def t_func(t):\n",
    "    return t ** m / (1 + t) ** n * F_func(t)"
   ]
  },
  {
   "cell_type": "markdown",
   "id": "e39a6a8a-e666-46ef-8f92-b2e817ac37b7",
   "metadata": {},
   "source": [
    "## Second factor function: addition\n",
    "\n",
    "The further computation will require a derivative of the (2) function, so it should be declared here. The derivative is equal to\n",
    "\n",
    "\\begin{equation}\n",
    "    F'[z_0] = -2\\exp[-2z_0] \\tag{9}\n",
    "\\end{equation}"
   ]
  },
  {
   "cell_type": "code",
   "execution_count": 69,
   "id": "57cd3825-b06d-4fe9-8c74-ad0a23b2f26f",
   "metadata": {},
   "outputs": [],
   "source": [
    "def F_derivative(t):\n",
    "    return -2 * F_func(t)\n",
    "\n",
    "def t_func_with_F_der(t):\n",
    "    return t ** m / (1 + t) ** n * F_derivative(t)    "
   ]
  },
  {
   "cell_type": "markdown",
   "id": "7aa957bb-0543-4dba-bab5-d2a06d15a6b3",
   "metadata": {},
   "source": [
    "# NN Integration: first run\n",
    "\n",
    "The constants are:"
   ]
  },
  {
   "cell_type": "code",
   "execution_count": 70,
   "id": "e88b5e98-a361-4edd-bf8e-89ec2651ac4d",
   "metadata": {},
   "outputs": [],
   "source": [
    "a = 0\n",
    "b = 1\n",
    "m = 2\n",
    "n = 2"
   ]
  },
  {
   "cell_type": "markdown",
   "id": "4020fff8-8d1a-4d2d-b737-413b7bfd9e2b",
   "metadata": {},
   "source": [
    "## Dataset (1.1)"
   ]
  },
  {
   "cell_type": "code",
   "execution_count": 71,
   "id": "570dfb11-959e-4371-a644-e094715a2f77",
   "metadata": {},
   "outputs": [],
   "source": [
    "Alpha, alpha_y = generate_data(func=alpha_func, lower=0, upper=1, n_samples=1000)"
   ]
  },
  {
   "cell_type": "code",
   "execution_count": 72,
   "id": "730a1c53-a302-4d43-aa64-7e6df7d492fb",
   "metadata": {},
   "outputs": [
    {
     "data": {
      "image/png": "[encoded data removed]",
      "text/plain": [
       "<Figure size 640x480 with 1 Axes>"
      ]
     },
     "metadata": {},
     "output_type": "display_data"
    }
   ],
   "source": [
    "Alpha_np = Alpha.numpy()\n",
    "alpha_y_np = alpha_y.numpy()\n",
    "plt.plot(Alpha_np, alpha_y_np)\n",
    "plt.xlabel('α')\n",
    "plt.ylabel('y')\n",
    "plt.title('Function Plot of y(α)')\n",
    "plt.grid(True)\n",
    "plt.show()"
   ]
  },
  {
   "cell_type": "markdown",
   "id": "944c7716-1b6c-45e8-81a1-7849f5d17de9",
   "metadata": {},
   "source": [
    "## Dataset (1.2)"
   ]
  },
  {
   "cell_type": "code",
   "execution_count": 73,
   "id": "4419d686-b692-4799-bc58-101a931df737",
   "metadata": {},
   "outputs": [],
   "source": [
    "T, t_y = generate_data(func=t_func, lower=0, upper=100, n_samples=10000)"
   ]
  },
  {
   "cell_type": "code",
   "execution_count": 74,
   "id": "bed6f95c-2767-4eab-a2f8-438062927c2b",
   "metadata": {},
   "outputs": [
    {
     "data": {
      "image/png": "[encoded data removed]",
      "text/plain": [
       "<Figure size 640x480 with 1 Axes>"
      ]
     },
     "metadata": {},
     "output_type": "display_data"
    }
   ],
   "source": [
    "T_np = T.numpy()\n",
    "t_y_np = t_y.numpy()\n",
    "plt.plot(T_np, t_y_np)\n",
    "plt.xlabel('t')\n",
    "plt.ylabel('y')\n",
    "plt.title('Function Plot of y(t)')\n",
    "plt.grid(True)\n",
    "plt.show()"
   ]
  },
  {
   "cell_type": "markdown",
   "id": "c4c13d10-682d-4ce4-8d8c-28c5f4bb96d2",
   "metadata": {},
   "source": [
    "### Dataset (1.2) optimization"
   ]
  },
  {
   "cell_type": "code",
   "execution_count": 14,
   "id": "91a30605-e8db-4c0c-b076-706ba32e0aed",
   "metadata": {},
   "outputs": [],
   "source": [
    "T, t_y = generate_data(func=t_func, lower=0, upper=20, n_samples=2000)"
   ]
  },
  {
   "cell_type": "code",
   "execution_count": 15,
   "id": "6c353115-5dde-4a6e-8f5d-1898965f477b",
   "metadata": {},
   "outputs": [
    {
     "data": {
      "image/png": "[encoded data removed]",
      "text/plain": [
       "<Figure size 640x480 with 1 Axes>"
      ]
     },
     "metadata": {},
     "output_type": "display_data"
    }
   ],
   "source": [
    "T_np = T.numpy()\n",
    "t_y_np = t_y.numpy()\n",
    "plt.plot(T_np, t_y_np)\n",
    "plt.xlabel('t')\n",
    "plt.ylabel('y')\n",
    "plt.title('Function Plot of y(t)')\n",
    "plt.grid(True)\n",
    "plt.show()"
   ]
  },
  {
   "cell_type": "markdown",
   "id": "0bdd495f-105f-47b2-b000-6ee407cd87b9",
   "metadata": {},
   "source": [
    "Now let's find the point at which the $y(t)$ stops to change rapidly $|y(t_i) - y(t_{i+1})| < \\epsilon)$. This $t_i$ is going to be the upper bound of the integration."
   ]
  },
  {
   "cell_type": "code",
   "execution_count": 16,
   "id": "5b8fb922-1d66-433e-b5e8-70b15819b272",
   "metadata": {},
   "outputs": [],
   "source": [
    "T, t_y = generate_data(func=t_func, lower=0, upper=100, n_samples=10000)"
   ]
  },
  {
   "cell_type": "code",
   "execution_count": 17,
   "id": "554dc961-c101-49cf-9f3d-3e3a44c3e459",
   "metadata": {},
   "outputs": [],
   "source": [
    "def find_upper_bound(X, y, epsilon, points_limit=1, lower_index=0):\n",
    "    \"\"\"\n",
    "        Finds the upper bound of integration. In this case a point, \n",
    "        where the next function value is greater/lesser than the previous\n",
    "        less than a given threshold.\n",
    "\n",
    "        @param X            variable values\n",
    "        @param y            function values\n",
    "        @param epsilon      threshold\n",
    "        @param points_limit limit of bound points number \n",
    "        @param lower_index  starting X value for the search\n",
    "        \n",
    "        @returns       the required variable values (can be many) \n",
    "                       or empty list if none found\n",
    "    \"\"\"\n",
    "    X_points = []\n",
    "    \n",
    "    if len(X) != len(y):\n",
    "        raise ValueError(\"There numbers of variable and function values are inequal!\")\n",
    "    \n",
    "    for i in range(lower_index, len(y) - 1):\n",
    "        diff = torch.abs(y[i] - y[i + 1])\n",
    "        if diff < epsilon:\n",
    "            X_points.append(X[i])\n",
    "        if len(X_points) == points_limit:\n",
    "            break\n",
    "            \n",
    "    return X_points"
   ]
  },
  {
   "cell_type": "code",
   "execution_count": 18,
   "id": "2cba1334-62e7-4af1-9fe7-7fc725bc2d74",
   "metadata": {},
   "outputs": [
    {
     "data": {
      "text/plain": [
       "[tensor([30.8731])]"
      ]
     },
     "execution_count": 18,
     "metadata": {},
     "output_type": "execute_result"
    }
   ],
   "source": [
    "upper_bound_t = find_upper_bound(X=T, y=t_y, epsilon=0.1, points_limit=1, lower_index=1500) # the 1500 value should be around t=15 based on graph\n",
    "upper_bound_t"
   ]
  },
  {
   "cell_type": "markdown",
   "id": "d7f7b32e-9347-4f17-939d-b57669c45018",
   "metadata": {},
   "source": [
    "We see that function $y(t)$ should be integrated within bounds $[0, $ upper_bound_t$]$"
   ]
  },
  {
   "cell_type": "markdown",
   "id": "d694cda4-5a66-4b14-9fbb-bbd0bb903ce7",
   "metadata": {},
   "source": [
    "### Final dataset (1.2)"
   ]
  },
  {
   "cell_type": "code",
   "execution_count": 19,
   "id": "1edf0a07-97fb-40d9-83d1-8e19f7d8e258",
   "metadata": {},
   "outputs": [],
   "source": [
    "T, t_y = T, t_y = generate_data(func=t_func, lower=0, upper=upper_bound_t[0].item(), n_samples=3087)"
   ]
  },
  {
   "cell_type": "code",
   "execution_count": 20,
   "id": "77bd310b-3f3c-4784-81c8-0d6cca985644",
   "metadata": {},
   "outputs": [
    {
     "data": {
      "image/png": "[encoded data removed]",
      "text/plain": [
       "<Figure size 640x480 with 1 Axes>"
      ]
     },
     "metadata": {},
     "output_type": "display_data"
    }
   ],
   "source": [
    "T_np = T.numpy()\n",
    "t_y_np = t_y.numpy()\n",
    "plt.plot(T_np, t_y_np)\n",
    "plt.xlabel('t')\n",
    "plt.ylabel('y')\n",
    "plt.title('Function Plot of y(t)')\n",
    "plt.grid(True)\n",
    "plt.show()"
   ]
  },
  {
   "cell_type": "markdown",
   "id": "130e4634-454a-4d60-b91a-3b26cee3a879",
   "metadata": {},
   "source": [
    "## Integration bounds\n",
    "\n",
    "$a_1, b_1$ for (1.1), $a_2, b_2$ for (1.2)."
   ]
  },
  {
   "cell_type": "code",
   "execution_count": 21,
   "id": "ae7ff608-418c-4e2b-a326-ac75b8743414",
   "metadata": {},
   "outputs": [
    {
     "data": {
      "text/plain": [
       "(0.0, 0.0, 1.0, 30.87308692932129)"
      ]
     },
     "execution_count": 21,
     "metadata": {},
     "output_type": "execute_result"
    }
   ],
   "source": [
    "a1 = 0.0000000\n",
    "b1 = 1.0000000\n",
    "a2 = 0.0000000\n",
    "# a2 = 2.0000000\n",
    "b2 = upper_bound_t[0].item() # item for extracting float value from torch.Tensor type\n",
    "# b2 = 12.0000000\n",
    "\n",
    "a1, a2, b1, b2"
   ]
  },
  {
   "cell_type": "markdown",
   "id": "4d815de3-7191-441f-9f83-a21f5d937744",
   "metadata": {},
   "source": [
    "## Datasets based on bounds"
   ]
  },
  {
   "cell_type": "code",
   "execution_count": 22,
   "id": "92047595-3666-491f-be8d-81afbfb79bf2",
   "metadata": {},
   "outputs": [],
   "source": [
    "Alpha, alpha_y = generate_data(func=alpha_func, lower=a1, upper=b1, n_samples=1000)\n",
    "T, t_y = T, t_y = generate_data(func=t_func, lower=a2, upper=b2, n_samples=2000)"
   ]
  },
  {
   "cell_type": "code",
   "execution_count": 23,
   "id": "9907bab6-73ed-4eeb-b98c-0d89b77dae6c",
   "metadata": {},
   "outputs": [
    {
     "data": {
      "image/png": "[encoded data removed]",
      "text/plain": [
       "<Figure size 640x480 with 1 Axes>"
      ]
     },
     "metadata": {},
     "output_type": "display_data"
    }
   ],
   "source": [
    "Alpha_np = Alpha.numpy()\n",
    "alpha_y_np = alpha_y.numpy()\n",
    "plt.plot(Alpha_np, alpha_y_np)\n",
    "plt.xlabel('α')\n",
    "plt.ylabel('y')\n",
    "plt.title('Function Plot of y(α)')\n",
    "plt.grid(True)\n",
    "plt.show()"
   ]
  },
  {
   "cell_type": "code",
   "execution_count": 24,
   "id": "d5fcf712-5994-4ff6-baa2-d190263d95f1",
   "metadata": {},
   "outputs": [
    {
     "data": {
      "image/png": "[encoded data removed]",
      "text/plain": [
       "<Figure size 640x480 with 1 Axes>"
      ]
     },
     "metadata": {},
     "output_type": "display_data"
    }
   ],
   "source": [
    "T_np = T.numpy()\n",
    "t_y_np = t_y.numpy()\n",
    "plt.plot(T_np, t_y_np)\n",
    "plt.xlabel('t')\n",
    "plt.ylabel('y')\n",
    "plt.title('Function Plot of y(t)')\n",
    "plt.grid(True)\n",
    "plt.show()"
   ]
  },
  {
   "cell_type": "code",
   "execution_count": 25,
   "id": "d9ff61b8-0087-41d7-a1a6-e6d5fdc7b891",
   "metadata": {},
   "outputs": [],
   "source": [
    "def normalize(X, y):\n",
    "    X_min = X.min()\n",
    "    X_max = X.max()\n",
    "    X_norm = (X - X_min) / (X_max - X_min)\n",
    "\n",
    "    y_min = y.min()\n",
    "    y_max = y.max()\n",
    "    y_norm = (y - y_min) / (y_max - y_min)\n",
    "\n",
    "    return X_norm, y_norm"
   ]
  },
  {
   "cell_type": "code",
   "execution_count": 26,
   "id": "f98b0b7d-40c9-45ce-b67a-e987ebdc1d4a",
   "metadata": {},
   "outputs": [],
   "source": [
    "T, t_y = normalize(T, t_y)"
   ]
  },
  {
   "cell_type": "code",
   "execution_count": 27,
   "id": "7d25a42f-85f6-4f76-9397-ef9ee4c5e003",
   "metadata": {},
   "outputs": [
    {
     "data": {
      "image/png": "[encoded data removed]",
      "text/plain": [
       "<Figure size 640x480 with 1 Axes>"
      ]
     },
     "metadata": {},
     "output_type": "display_data"
    }
   ],
   "source": [
    "T_np = T.numpy()\n",
    "t_y_np = t_y.numpy()\n",
    "plt.plot(T_np, t_y_np)\n",
    "plt.xlabel('t')\n",
    "plt.ylabel('y')\n",
    "plt.title('Function Plot of y(t)')\n",
    "plt.grid(True)\n",
    "plt.show()"
   ]
  },
  {
   "cell_type": "markdown",
   "id": "21a23af5-a83f-4569-967c-5da49e4dad16",
   "metadata": {},
   "source": [
    "## Train-test datasets split"
   ]
  },
  {
   "cell_type": "code",
   "execution_count": 28,
   "id": "f24d37bb-318a-40f5-889d-47c16bfd7440",
   "metadata": {},
   "outputs": [],
   "source": [
    "alpha_train, alpha_test, ya_train, ya_test = train_test_split(Alpha, alpha_y, test_size=0.1) # 10% from Lloyd's at all. \"Using...\"\n",
    "t_train, t_test, yt_train, yt_test = train_test_split(T, t_y, test_size=0.1)"
   ]
  },
  {
   "cell_type": "code",
   "execution_count": 29,
   "id": "238a79d7-f720-49ac-afc3-4ef6fa2eaf25",
   "metadata": {},
   "outputs": [
    {
     "data": {
      "text/plain": [
       "(torch.Size([900, 1]),\n",
       " torch.Size([100, 1]),\n",
       " torch.Size([900, 1]),\n",
       " torch.Size([100, 1]))"
      ]
     },
     "execution_count": 29,
     "metadata": {},
     "output_type": "execute_result"
    }
   ],
   "source": [
    "alpha_train.shape, alpha_test.shape, ya_train.shape, ya_test.shape"
   ]
  },
  {
   "cell_type": "code",
   "execution_count": 30,
   "id": "605bc068-6d5b-412b-a091-4cecf1449aa2",
   "metadata": {},
   "outputs": [
    {
     "data": {
      "text/plain": [
       "(torch.Size([1800, 1]),\n",
       " torch.Size([200, 1]),\n",
       " torch.Size([1800, 1]),\n",
       " torch.Size([200, 1]))"
      ]
     },
     "execution_count": 30,
     "metadata": {},
     "output_type": "execute_result"
    }
   ],
   "source": [
    "t_train.shape, t_test.shape, yt_train.shape, yt_test.shape"
   ]
  },
  {
   "cell_type": "markdown",
   "id": "bd927ea4-3541-414f-9b9a-ab252490fa87",
   "metadata": {},
   "source": [
    "## Model 1 (alpha_model)"
   ]
  },
  {
   "cell_type": "markdown",
   "id": "89fb08b5-32fb-4ebd-82a9-d7984afff4f2",
   "metadata": {},
   "source": [
    "### Hyperparams for the NN alpha_model (for function 1.1)"
   ]
  },
  {
   "cell_type": "code",
   "execution_count": 31,
   "id": "e6b94e85-f553-45cd-9067-e7f489277efd",
   "metadata": {},
   "outputs": [],
   "source": [
    "hidden_size = 10\n",
    "learning_rate = 0.001\n",
    "num_epochs = 10000"
   ]
  },
  {
   "cell_type": "markdown",
   "id": "2d45bb1f-5543-49d1-9740-904f8ac13574",
   "metadata": {},
   "source": [
    "### alpha_model definition, compilation and training"
   ]
  },
  {
   "cell_type": "code",
   "execution_count": 32,
   "id": "19a894d1-7f6d-483f-9e9c-10cd39546b19",
   "metadata": {
    "scrolled": true
   },
   "outputs": [
    {
     "name": "stdout",
     "output_type": "stream",
     "text": [
      "Epoch [100/10000], Loss: 0.1024353132\n",
      "Epoch [200/10000], Loss: 0.0821162760\n",
      "Epoch [300/10000], Loss: 0.0742852837\n",
      "Epoch [400/10000], Loss: 0.0668001547\n",
      "Epoch [500/10000], Loss: 0.0593824424\n",
      "Epoch [600/10000], Loss: 0.0519228391\n",
      "Epoch [700/10000], Loss: 0.0443988629\n",
      "Epoch [800/10000], Loss: 0.0368751921\n",
      "Epoch [900/10000], Loss: 0.0295092575\n",
      "Epoch [1000/10000], Loss: 0.0225449242\n",
      "Epoch [1100/10000], Loss: 0.0162813850\n",
      "Epoch [1200/10000], Loss: 0.0110082859\n",
      "Epoch [1300/10000], Loss: 0.0069181072\n",
      "Epoch [1400/10000], Loss: 0.0040350398\n",
      "Epoch [1500/10000], Loss: 0.0022064657\n",
      "Epoch [1600/10000], Loss: 0.0011677514\n",
      "Epoch [1700/10000], Loss: 0.0006386983\n",
      "Epoch [1800/10000], Loss: 0.0003952732\n",
      "Epoch [1900/10000], Loss: 0.0002923721\n",
      "Epoch [2000/10000], Loss: 0.0002508275\n",
      "Epoch [2100/10000], Loss: 0.0002332641\n",
      "Epoch [2200/10000], Loss: 0.0002241113\n",
      "Epoch [2300/10000], Loss: 0.0002175697\n",
      "Epoch [2400/10000], Loss: 0.0002116957\n",
      "Epoch [2500/10000], Loss: 0.0002059038\n",
      "Epoch [2600/10000], Loss: 0.0002000414\n",
      "Epoch [2700/10000], Loss: 0.0001940794\n",
      "Epoch [2800/10000], Loss: 0.0001880200\n",
      "Epoch [2900/10000], Loss: 0.0001818749\n",
      "Epoch [3000/10000], Loss: 0.0001756568\n",
      "Epoch [3100/10000], Loss: 0.0001693795\n",
      "Epoch [3200/10000], Loss: 0.0001630573\n",
      "Epoch [3300/10000], Loss: 0.0001567050\n",
      "Epoch [3400/10000], Loss: 0.0001503387\n",
      "Epoch [3500/10000], Loss: 0.0001439737\n",
      "Epoch [3600/10000], Loss: 0.0001376263\n",
      "Epoch [3700/10000], Loss: 0.0001313132\n",
      "Epoch [3800/10000], Loss: 0.0001250503\n",
      "Epoch [3900/10000], Loss: 0.0001188537\n",
      "Epoch [4000/10000], Loss: 0.0001127399\n",
      "Epoch [4100/10000], Loss: 0.0001067241\n",
      "Epoch [4200/10000], Loss: 0.0001008218\n",
      "Epoch [4300/10000], Loss: 0.0000950471\n",
      "Epoch [4400/10000], Loss: 0.0000894137\n",
      "Epoch [4500/10000], Loss: 0.0000839343\n",
      "Epoch [4600/10000], Loss: 0.0000786211\n",
      "Epoch [4700/10000], Loss: 0.0000734846\n",
      "Epoch [4800/10000], Loss: 0.0000685341\n",
      "Epoch [4900/10000], Loss: 0.0000637776\n",
      "Epoch [5000/10000], Loss: 0.0000592228\n",
      "Epoch [5100/10000], Loss: 0.0000548744\n",
      "Epoch [5200/10000], Loss: 0.0000507377\n",
      "Epoch [5300/10000], Loss: 0.0000468157\n",
      "Epoch [5400/10000], Loss: 0.0000431099\n",
      "Epoch [5500/10000], Loss: 0.0000396212\n",
      "Epoch [5600/10000], Loss: 0.0000363485\n",
      "Epoch [5700/10000], Loss: 0.0000332902\n",
      "Epoch [5800/10000], Loss: 0.0000304432\n",
      "Epoch [5900/10000], Loss: 0.0000278036\n",
      "Epoch [6000/10000], Loss: 0.0000253666\n",
      "Epoch [6100/10000], Loss: 0.0000231262\n",
      "Epoch [6200/10000], Loss: 0.0000210757\n",
      "Epoch [6300/10000], Loss: 0.0000192079\n",
      "Epoch [6400/10000], Loss: 0.0000175147\n",
      "Epoch [6500/10000], Loss: 0.0000159876\n",
      "Epoch [6600/10000], Loss: 0.0000146176\n",
      "Epoch [6700/10000], Loss: 0.0000133951\n",
      "Epoch [6800/10000], Loss: 0.0000123107\n",
      "Epoch [6900/10000], Loss: 0.0000113543\n",
      "Epoch [7000/10000], Loss: 0.0000105160\n",
      "Epoch [7100/10000], Loss: 0.0000097858\n",
      "Epoch [7200/10000], Loss: 0.0000091538\n",
      "Epoch [7300/10000], Loss: 0.0000086103\n",
      "Epoch [7400/10000], Loss: 0.0000081459\n",
      "Epoch [7500/10000], Loss: 0.0000077514\n",
      "Epoch [7600/10000], Loss: 0.0000074183\n",
      "Epoch [7700/10000], Loss: 0.0000071384\n",
      "Epoch [7800/10000], Loss: 0.0000069040\n",
      "Epoch [7900/10000], Loss: 0.0000067083\n",
      "Epoch [8000/10000], Loss: 0.0000065448\n",
      "Epoch [8100/10000], Loss: 0.0000064078\n",
      "Epoch [8200/10000], Loss: 0.0000062922\n",
      "Epoch [8300/10000], Loss: 0.0000061936\n",
      "Epoch [8400/10000], Loss: 0.0000061083\n",
      "Epoch [8500/10000], Loss: 0.0000060329\n",
      "Epoch [8600/10000], Loss: 0.0000059648\n",
      "Epoch [8700/10000], Loss: 0.0000059019\n",
      "Epoch [8800/10000], Loss: 0.0000058422\n",
      "Epoch [8900/10000], Loss: 0.0000057845\n",
      "Epoch [9000/10000], Loss: 0.0000057276\n",
      "Epoch [9100/10000], Loss: 0.0000056708\n",
      "Epoch [9200/10000], Loss: 0.0000056134\n",
      "Epoch [9300/10000], Loss: 0.0000055551\n",
      "Epoch [9400/10000], Loss: 0.0000054955\n",
      "Epoch [9500/10000], Loss: 0.0000054345\n",
      "Epoch [9600/10000], Loss: 0.0000053718\n",
      "Epoch [9700/10000], Loss: 0.0000053076\n",
      "Epoch [9800/10000], Loss: 0.0000052416\n",
      "Epoch [9900/10000], Loss: 0.0000051740\n",
      "Epoch [10000/10000], Loss: 0.0000051047\n",
      "----------------------------------------------------------------\n",
      "        Layer (type)               Output Shape         Param #\n",
      "================================================================\n",
      "            Linear-1                   [-1, 10]              20\n",
      "           Sigmoid-2                   [-1, 10]               0\n",
      "            Linear-3                    [-1, 1]              11\n",
      "================================================================\n",
      "Total params: 31\n",
      "Trainable params: 31\n",
      "Non-trainable params: 0\n",
      "----------------------------------------------------------------\n",
      "Input size (MB): 0.00\n",
      "Forward/backward pass size (MB): 0.00\n",
      "Params size (MB): 0.00\n",
      "Estimated Total Size (MB): 0.00\n",
      "----------------------------------------------------------------\n"
     ]
    }
   ],
   "source": [
    "alpha_model = MLP(hidden_size)\n",
    "\n",
    "criterion = nn.MSELoss()\n",
    "alpha_optimizer = optim.Adam(alpha_model.parameters(), lr=learning_rate)\n",
    "\n",
    "alpha_train_history = train_model(alpha_model, criterion, alpha_optimizer, alpha_train, ya_train, num_epochs)\n",
    "\n",
    "summary(alpha_model, (1,)) # (1, ) - input shape"
   ]
  },
  {
   "cell_type": "code",
   "execution_count": 33,
   "id": "57d64832-5103-4432-a415-6fe9635f7f4e",
   "metadata": {},
   "outputs": [
    {
     "data": {
      "image/png": "[encoded data removed]",
      "text/plain": [
       "<Figure size 1000x600 with 1 Axes>"
      ]
     },
     "metadata": {},
     "output_type": "display_data"
    }
   ],
   "source": [
    "plt.figure(figsize=(10, 6))\n",
    "plt.plot(alpha_train_history, label='MSE', color='b')\n",
    "plt.xlabel('Epochs')\n",
    "plt.ylabel('MSE')\n",
    "plt.title('Learning curve for y(α)')\n",
    "plt.legend()\n",
    "plt.grid(False)\n",
    "plt.show()"
   ]
  },
  {
   "cell_type": "markdown",
   "id": "af6089dd-6192-40b7-ba2d-890d15a31f13",
   "metadata": {},
   "source": [
    "### alpha_model testing"
   ]
  },
  {
   "cell_type": "code",
   "execution_count": 34,
   "id": "d7edbc3d-33a1-4130-9c8b-6e2ee373dc53",
   "metadata": {},
   "outputs": [
    {
     "name": "stdout",
     "output_type": "stream",
     "text": [
      "Test Loss: 0.0000064555\n"
     ]
    }
   ],
   "source": [
    "alpha_test_loss = test_model(alpha_model, criterion, alpha_test, ya_test)\n",
    "print(f\"Test Loss: {alpha_test_loss:.10f}\")"
   ]
  },
  {
   "cell_type": "markdown",
   "id": "fd817e94-9675-499b-90cc-b28cbfd0ac85",
   "metadata": {},
   "source": [
    "## alpha_model usage"
   ]
  },
  {
   "cell_type": "code",
   "execution_count": 35,
   "id": "f7ffa4b4-c3b4-4091-97de-9a0039b3726d",
   "metadata": {},
   "outputs": [
    {
     "data": {
      "text/plain": [
       "((10,), (10,), (1,), (10,))"
      ]
     },
     "execution_count": 35,
     "metadata": {},
     "output_type": "execute_result"
    }
   ],
   "source": [
    "bs1, we1, bs2, we2 = extract_model_params(alpha_model)\n",
    "bs1.shape, we1.shape, bs2.shape, we2.shape"
   ]
  },
  {
   "cell_type": "code",
   "execution_count": 36,
   "id": "f6878af8-837a-4d49-a8c0-af3d3ea67db4",
   "metadata": {},
   "outputs": [
    {
     "data": {
      "text/plain": [
       "array([mpf('0.49999130812495807')], dtype=object)"
      ]
     },
     "execution_count": 36,
     "metadata": {},
     "output_type": "execute_result"
    }
   ],
   "source": [
    "nn_alpha = get_NN_integral(a1, b1, bs1, we1, bs2, we2)\n",
    "\n",
    "nn_alpha"
   ]
  },
  {
   "cell_type": "markdown",
   "id": "56923e55-a517-4b13-afd0-0578dbbd5144",
   "metadata": {},
   "source": [
    "It's easy to get this integral analytically $\\int d\\alpha \\{1 - \\alpha\\} = \\alpha - \\frac{\\alpha^2}{2}$, so the actual definite integral value is:"
   ]
  },
  {
   "cell_type": "code",
   "execution_count": 37,
   "id": "85e0671f-d7aa-43d5-9427-72b4bdcca324",
   "metadata": {},
   "outputs": [
    {
     "data": {
      "text/plain": [
       "0.5"
      ]
     },
     "execution_count": 37,
     "metadata": {},
     "output_type": "execute_result"
    }
   ],
   "source": [
    "def int_alpha(a, b):\n",
    "    return b - b**2/2 - (a - a**2/2)\n",
    "\n",
    "alpha_actual = int_alpha(0, 1)\n",
    "\n",
    "alpha_actual"
   ]
  },
  {
   "cell_type": "markdown",
   "id": "8dfa3b6a-3492-46c5-83c4-0e8ae67bcc45",
   "metadata": {},
   "source": [
    "And the error is:"
   ]
  },
  {
   "cell_type": "code",
   "execution_count": 38,
   "id": "c4fa4561-78f6-4b57-967c-9eca68c795dd",
   "metadata": {},
   "outputs": [
    {
     "data": {
      "text/plain": [
       "8.691875041932917e-06"
      ]
     },
     "execution_count": 38,
     "metadata": {},
     "output_type": "execute_result"
    }
   ],
   "source": [
    "nn_alpha = float(nn_alpha[0]) # since there should be one value of the definite integral\n",
    "\n",
    "abs(nn_alpha - alpha_actual)"
   ]
  },
  {
   "cell_type": "markdown",
   "id": "4c5bcc94-e328-40b0-8ee6-4f73daa14212",
   "metadata": {},
   "source": [
    "## Model 2 (t_model)"
   ]
  },
  {
   "cell_type": "markdown",
   "id": "be667e7a-eb3a-456d-91d6-48f18f8e3e74",
   "metadata": {},
   "source": [
    "### Hyperparams for the NN t_model (for function 1.2)"
   ]
  },
  {
   "cell_type": "code",
   "execution_count": 39,
   "id": "b1df7661-13fc-4ae7-a295-0de2ba81c73b",
   "metadata": {},
   "outputs": [],
   "source": [
    "hidden_size = 100\n",
    "learning_rate = 0.005\n",
    "num_epochs = 40000"
   ]
  },
  {
   "cell_type": "markdown",
   "id": "a0ca5635-0bcc-497b-83be-61186b524956",
   "metadata": {},
   "source": [
    "### t_model definition, compilation and training"
   ]
  },
  {
   "cell_type": "code",
   "execution_count": 40,
   "id": "4d46882b-8344-42f1-84d9-ae97c3738ed9",
   "metadata": {
    "scrolled": true
   },
   "outputs": [
    {
     "name": "stdout",
     "output_type": "stream",
     "text": [
      "Epoch [100/40000], Loss: 0.0574515201\n",
      "Epoch [200/40000], Loss: 0.0574278384\n",
      "Epoch [300/40000], Loss: 0.0573996492\n",
      "Epoch [400/40000], Loss: 0.0573625080\n",
      "Epoch [500/40000], Loss: 0.0573143587\n",
      "Epoch [600/40000], Loss: 0.0572510064\n",
      "Epoch [700/40000], Loss: 0.0571617261\n",
      "Epoch [800/40000], Loss: 0.0570047460\n",
      "Epoch [900/40000], Loss: 0.0565311573\n",
      "Epoch [1000/40000], Loss: 0.0546200834\n",
      "Epoch [1100/40000], Loss: 0.0501447544\n",
      "Epoch [1200/40000], Loss: 0.0448646285\n",
      "Epoch [1300/40000], Loss: 0.0406410396\n",
      "Epoch [1400/40000], Loss: 0.0347812660\n",
      "Epoch [1500/40000], Loss: 0.0262911674\n",
      "Epoch [1600/40000], Loss: 0.0181768350\n",
      "Epoch [1700/40000], Loss: 0.0126213944\n",
      "Epoch [1800/40000], Loss: 0.0095396498\n",
      "Epoch [1900/40000], Loss: 0.0079962136\n",
      "Epoch [2000/40000], Loss: 0.0071991305\n",
      "Epoch [2100/40000], Loss: 0.0067049661\n",
      "Epoch [2200/40000], Loss: 0.0063289534\n",
      "Epoch [2300/40000], Loss: 0.0060214838\n",
      "Epoch [2400/40000], Loss: 0.0057655885\n",
      "Epoch [2500/40000], Loss: 0.0055600498\n",
      "Epoch [2600/40000], Loss: 0.0053561702\n",
      "Epoch [2700/40000], Loss: 0.0057615931\n",
      "Epoch [2800/40000], Loss: 0.0050284760\n",
      "Epoch [2900/40000], Loss: 0.0048816968\n",
      "Epoch [3000/40000], Loss: 0.0047478201\n",
      "Epoch [3100/40000], Loss: 0.0046244296\n",
      "Epoch [3200/40000], Loss: 0.0045013740\n",
      "Epoch [3300/40000], Loss: 0.0043911277\n",
      "Epoch [3400/40000], Loss: 0.0042836140\n",
      "Epoch [3500/40000], Loss: 0.0041766902\n",
      "Epoch [3600/40000], Loss: 0.0040883413\n",
      "Epoch [3700/40000], Loss: 0.0039823097\n",
      "Epoch [3800/40000], Loss: 0.0038882243\n",
      "Epoch [3900/40000], Loss: 0.0037924903\n",
      "Epoch [4000/40000], Loss: 0.0037060750\n",
      "Epoch [4100/40000], Loss: 0.0036211559\n",
      "Epoch [4200/40000], Loss: 0.0035344861\n",
      "Epoch [4300/40000], Loss: 0.0034509108\n",
      "Epoch [4400/40000], Loss: 0.0033721940\n",
      "Epoch [4500/40000], Loss: 0.0032919364\n",
      "Epoch [4600/40000], Loss: 0.0032162794\n",
      "Epoch [4700/40000], Loss: 0.0031424402\n",
      "Epoch [4800/40000], Loss: 0.0030684103\n",
      "Epoch [4900/40000], Loss: 0.0029979092\n",
      "Epoch [5000/40000], Loss: 0.0029302449\n",
      "Epoch [5100/40000], Loss: 0.0028614725\n",
      "Epoch [5200/40000], Loss: 0.0027968364\n",
      "Epoch [5300/40000], Loss: 0.0027344443\n",
      "Epoch [5400/40000], Loss: 0.0026709873\n",
      "Epoch [5500/40000], Loss: 0.0026701675\n",
      "Epoch [5600/40000], Loss: 0.0025475600\n",
      "Epoch [5700/40000], Loss: 0.0024866650\n",
      "Epoch [5800/40000], Loss: 0.0024754407\n",
      "Epoch [5900/40000], Loss: 0.0023637009\n",
      "Epoch [6000/40000], Loss: 0.0023022238\n",
      "Epoch [6100/40000], Loss: 0.0037457331\n",
      "Epoch [6200/40000], Loss: 0.0021778243\n",
      "Epoch [6300/40000], Loss: 0.0021150021\n",
      "Epoch [6400/40000], Loss: 0.0020515844\n",
      "Epoch [6500/40000], Loss: 0.0019851485\n",
      "Epoch [6600/40000], Loss: 0.0019193713\n",
      "Epoch [6700/40000], Loss: 0.0018551040\n",
      "Epoch [6800/40000], Loss: 0.0017846281\n",
      "Epoch [6900/40000], Loss: 0.0017171600\n",
      "Epoch [7000/40000], Loss: 0.0016460684\n",
      "Epoch [7100/40000], Loss: 0.0015779977\n",
      "Epoch [7200/40000], Loss: 0.0015103038\n",
      "Epoch [7300/40000], Loss: 0.0014395040\n",
      "Epoch [7400/40000], Loss: 0.0013727315\n",
      "Epoch [7500/40000], Loss: 0.0013042452\n",
      "Epoch [7600/40000], Loss: 0.0012360589\n",
      "Epoch [7700/40000], Loss: 0.0011947437\n",
      "Epoch [7800/40000], Loss: 0.0011054719\n",
      "Epoch [7900/40000], Loss: 0.0010418908\n",
      "Epoch [8000/40000], Loss: 0.0010514113\n",
      "Epoch [8100/40000], Loss: 0.0009207965\n",
      "Epoch [8200/40000], Loss: 0.0008630138\n",
      "Epoch [8300/40000], Loss: 0.0008811242\n",
      "Epoch [8400/40000], Loss: 0.0007575789\n",
      "Epoch [8500/40000], Loss: 0.0007084008\n",
      "Epoch [8600/40000], Loss: 0.0006681559\n",
      "Epoch [8700/40000], Loss: 0.0006177920\n",
      "Epoch [8800/40000], Loss: 0.0005773432\n",
      "Epoch [8900/40000], Loss: 0.0005379501\n",
      "Epoch [9000/40000], Loss: 0.0005050375\n",
      "Epoch [9100/40000], Loss: 0.0004703757\n",
      "Epoch [9200/40000], Loss: 0.0004392937\n",
      "Epoch [9300/40000], Loss: 0.0004411174\n",
      "Epoch [9400/40000], Loss: 0.0003859846\n",
      "Epoch [9500/40000], Loss: 0.0003623462\n",
      "Epoch [9600/40000], Loss: 0.0003397835\n",
      "Epoch [9700/40000], Loss: 0.0003209674\n",
      "Epoch [9800/40000], Loss: 0.0003028914\n",
      "Epoch [9900/40000], Loss: 0.0002860881\n",
      "Epoch [10000/40000], Loss: 0.0003130220\n",
      "Epoch [10100/40000], Loss: 0.0002573781\n",
      "Epoch [10200/40000], Loss: 0.0002447603\n",
      "Epoch [10300/40000], Loss: 0.0002610465\n",
      "Epoch [10400/40000], Loss: 0.0002231559\n",
      "Epoch [10500/40000], Loss: 0.0002138613\n",
      "Epoch [10600/40000], Loss: 0.0002049952\n",
      "Epoch [10700/40000], Loss: 0.0001991430\n",
      "Epoch [10800/40000], Loss: 0.0001900265\n",
      "Epoch [10900/40000], Loss: 0.0001832288\n",
      "Epoch [11000/40000], Loss: 0.0001782351\n",
      "Epoch [11100/40000], Loss: 0.0001718143\n",
      "Epoch [11200/40000], Loss: 0.0001665618\n",
      "Epoch [11300/40000], Loss: 0.0001618949\n",
      "Epoch [11400/40000], Loss: 0.0001576685\n",
      "Epoch [11500/40000], Loss: 0.0001535750\n",
      "Epoch [11600/40000], Loss: 0.0002193816\n",
      "Epoch [11700/40000], Loss: 0.0001464604\n",
      "Epoch [11800/40000], Loss: 0.0001432753\n",
      "Epoch [11900/40000], Loss: 0.0001401585\n",
      "Epoch [12000/40000], Loss: 0.0001391609\n",
      "Epoch [12100/40000], Loss: 0.0001347194\n",
      "Epoch [12200/40000], Loss: 0.0001321728\n",
      "Epoch [12300/40000], Loss: 0.0001434293\n",
      "Epoch [12400/40000], Loss: 0.0001276023\n",
      "Epoch [12500/40000], Loss: 0.0001254753\n",
      "Epoch [12600/40000], Loss: 0.0001247199\n",
      "Epoch [12700/40000], Loss: 0.0001215894\n",
      "Epoch [12800/40000], Loss: 0.0001197618\n",
      "Epoch [12900/40000], Loss: 0.0004237615\n",
      "Epoch [13000/40000], Loss: 0.0001164225\n",
      "Epoch [13100/40000], Loss: 0.0001148386\n",
      "Epoch [13200/40000], Loss: 0.0002264646\n",
      "Epoch [13300/40000], Loss: 0.0001119557\n",
      "Epoch [13400/40000], Loss: 0.0001105978\n",
      "Epoch [13500/40000], Loss: 0.0001202129\n",
      "Epoch [13600/40000], Loss: 0.0001081176\n",
      "Epoch [13700/40000], Loss: 0.0001068592\n",
      "Epoch [13800/40000], Loss: 0.0001059137\n",
      "Epoch [13900/40000], Loss: 0.0001046997\n",
      "Epoch [14000/40000], Loss: 0.0001035391\n",
      "Epoch [14100/40000], Loss: 0.0003612741\n",
      "Epoch [14200/40000], Loss: 0.0001015850\n",
      "Epoch [14300/40000], Loss: 0.0001006089\n",
      "Epoch [14400/40000], Loss: 0.0001252101\n",
      "Epoch [14500/40000], Loss: 0.0000989141\n",
      "Epoch [14600/40000], Loss: 0.0000980157\n",
      "Epoch [14700/40000], Loss: 0.0000972492\n",
      "Epoch [14800/40000], Loss: 0.0000964407\n",
      "Epoch [14900/40000], Loss: 0.0000956751\n",
      "Epoch [15000/40000], Loss: 0.0001919477\n",
      "Epoch [15100/40000], Loss: 0.0000942627\n",
      "Epoch [15200/40000], Loss: 0.0000935807\n",
      "Epoch [15300/40000], Loss: 0.0000931998\n",
      "Epoch [15400/40000], Loss: 0.0000923407\n",
      "Epoch [15500/40000], Loss: 0.0000917341\n",
      "Epoch [15600/40000], Loss: 0.0001977687\n",
      "Epoch [15700/40000], Loss: 0.0000906116\n",
      "Epoch [15800/40000], Loss: 0.0000900675\n",
      "Epoch [15900/40000], Loss: 0.0002302124\n",
      "Epoch [16000/40000], Loss: 0.0000890488\n",
      "Epoch [16100/40000], Loss: 0.0000885491\n",
      "Epoch [16200/40000], Loss: 0.0000931553\n",
      "Epoch [16300/40000], Loss: 0.0000876296\n",
      "Epoch [16400/40000], Loss: 0.0000871752\n",
      "Epoch [16500/40000], Loss: 0.0000871762\n",
      "Epoch [16600/40000], Loss: 0.0000863379\n",
      "Epoch [16700/40000], Loss: 0.0000859194\n",
      "Epoch [16800/40000], Loss: 0.0000875291\n",
      "Epoch [16900/40000], Loss: 0.0000851509\n",
      "Epoch [17000/40000], Loss: 0.0000847646\n",
      "Epoch [17100/40000], Loss: 0.0000844053\n",
      "Epoch [17200/40000], Loss: 0.0000840560\n",
      "Epoch [17300/40000], Loss: 0.0000837005\n",
      "Epoch [17400/40000], Loss: 0.0000845026\n",
      "Epoch [17500/40000], Loss: 0.0000830355\n",
      "Epoch [17600/40000], Loss: 0.0000827035\n",
      "Epoch [17700/40000], Loss: 0.0001410566\n",
      "Epoch [17800/40000], Loss: 0.0000820624\n",
      "Epoch [17900/40000], Loss: 0.0000817461\n",
      "Epoch [18000/40000], Loss: 0.0000851832\n",
      "Epoch [18100/40000], Loss: 0.0000811432\n",
      "Epoch [18200/40000], Loss: 0.0000808388\n",
      "Epoch [18300/40000], Loss: 0.0000838661\n",
      "Epoch [18400/40000], Loss: 0.0000802673\n",
      "Epoch [18500/40000], Loss: 0.0000799753\n",
      "Epoch [18600/40000], Loss: 0.0000802710\n",
      "Epoch [18700/40000], Loss: 0.0000794236\n",
      "Epoch [18800/40000], Loss: 0.0000792594\n",
      "Epoch [18900/40000], Loss: 0.0000788913\n",
      "Epoch [19000/40000], Loss: 0.0000786098\n",
      "Epoch [19100/40000], Loss: 0.0006563846\n",
      "Epoch [19200/40000], Loss: 0.0000780843\n",
      "Epoch [19300/40000], Loss: 0.0000778225\n",
      "Epoch [19400/40000], Loss: 0.0000860985\n",
      "Epoch [19500/40000], Loss: 0.0000773865\n",
      "Epoch [19600/40000], Loss: 0.0000770789\n",
      "Epoch [19700/40000], Loss: 0.0000768299\n",
      "Epoch [19800/40000], Loss: 0.0003736245\n",
      "Epoch [19900/40000], Loss: 0.0000763679\n",
      "Epoch [20000/40000], Loss: 0.0000760846\n",
      "Epoch [20100/40000], Loss: 0.0000928993\n",
      "Epoch [20200/40000], Loss: 0.0000756031\n",
      "Epoch [20300/40000], Loss: 0.0000753572\n",
      "Epoch [20400/40000], Loss: 0.0000776059\n",
      "Epoch [20500/40000], Loss: 0.0000748946\n",
      "Epoch [20600/40000], Loss: 0.0000746582\n",
      "Epoch [20700/40000], Loss: 0.0000886695\n",
      "Epoch [20800/40000], Loss: 0.0000741940\n",
      "Epoch [20900/40000], Loss: 0.0000739616\n",
      "Epoch [21000/40000], Loss: 0.0000738792\n",
      "Epoch [21100/40000], Loss: 0.0000735094\n",
      "Epoch [21200/40000], Loss: 0.0000748327\n",
      "Epoch [21300/40000], Loss: 0.0000731584\n",
      "Epoch [21400/40000], Loss: 0.0000728350\n",
      "Epoch [21500/40000], Loss: 0.0003664389\n",
      "Epoch [21600/40000], Loss: 0.0000724001\n",
      "Epoch [21700/40000], Loss: 0.0000721769\n",
      "Epoch [21800/40000], Loss: 0.0010188033\n",
      "Epoch [21900/40000], Loss: 0.0000717482\n",
      "Epoch [22000/40000], Loss: 0.0000715282\n",
      "Epoch [22100/40000], Loss: 0.0001896961\n",
      "Epoch [22200/40000], Loss: 0.0000711021\n",
      "Epoch [22300/40000], Loss: 0.0000708854\n",
      "Epoch [22400/40000], Loss: 0.0000781769\n",
      "Epoch [22500/40000], Loss: 0.0000704690\n",
      "Epoch [22600/40000], Loss: 0.0000702553\n",
      "Epoch [22700/40000], Loss: 0.0000706711\n",
      "Epoch [22800/40000], Loss: 0.0000698483\n",
      "Epoch [22900/40000], Loss: 0.0000696386\n",
      "Epoch [23000/40000], Loss: 0.0000701190\n",
      "Epoch [23100/40000], Loss: 0.0000692349\n",
      "Epoch [23200/40000], Loss: 0.0000690299\n",
      "Epoch [23300/40000], Loss: 0.0000688910\n",
      "Epoch [23400/40000], Loss: 0.0000686334\n",
      "Epoch [23500/40000], Loss: 0.0000684363\n",
      "Epoch [23600/40000], Loss: 0.0000683215\n",
      "Epoch [23700/40000], Loss: 0.0000680387\n",
      "Epoch [23800/40000], Loss: 0.0000711077\n",
      "Epoch [23900/40000], Loss: 0.0000676470\n",
      "Epoch [24000/40000], Loss: 0.0000674506\n",
      "Epoch [24100/40000], Loss: 0.0001552687\n",
      "Epoch [24200/40000], Loss: 0.0000670721\n",
      "Epoch [24300/40000], Loss: 0.0000668700\n",
      "Epoch [24400/40000], Loss: 0.0000667188\n",
      "Epoch [24500/40000], Loss: 0.0000664922\n",
      "Epoch [24600/40000], Loss: 0.0000663000\n",
      "Epoch [24700/40000], Loss: 0.0000685751\n",
      "Epoch [24800/40000], Loss: 0.0000659257\n",
      "Epoch [24900/40000], Loss: 0.0000657939\n",
      "Epoch [25000/40000], Loss: 0.0000657485\n",
      "Epoch [25100/40000], Loss: 0.0000653669\n",
      "Epoch [25200/40000], Loss: 0.0000651764\n",
      "Epoch [25300/40000], Loss: 0.0000654376\n",
      "Epoch [25400/40000], Loss: 0.0000648322\n",
      "Epoch [25500/40000], Loss: 0.0000646541\n",
      "Epoch [25600/40000], Loss: 0.0000644714\n",
      "Epoch [25700/40000], Loss: 0.0000644730\n",
      "Epoch [25800/40000], Loss: 0.0000641099\n",
      "Epoch [25900/40000], Loss: 0.0004584889\n",
      "Epoch [26000/40000], Loss: 0.0000637598\n",
      "Epoch [26100/40000], Loss: 0.0000635767\n",
      "Epoch [26200/40000], Loss: 0.0010630856\n",
      "Epoch [26300/40000], Loss: 0.0000632553\n",
      "Epoch [26400/40000], Loss: 0.0000630553\n",
      "Epoch [26500/40000], Loss: 0.0000628785\n",
      "Epoch [26600/40000], Loss: 0.0000628845\n",
      "Epoch [26700/40000], Loss: 0.0000625314\n",
      "Epoch [26800/40000], Loss: 0.0002429577\n",
      "Epoch [26900/40000], Loss: 0.0000621920\n",
      "Epoch [27000/40000], Loss: 0.0000620153\n",
      "Epoch [27100/40000], Loss: 0.0000880400\n",
      "Epoch [27200/40000], Loss: 0.0000616759\n",
      "Epoch [27300/40000], Loss: 0.0000615040\n",
      "Epoch [27400/40000], Loss: 0.0000618412\n",
      "Epoch [27500/40000], Loss: 0.0000611680\n",
      "Epoch [27600/40000], Loss: 0.0000619584\n",
      "Epoch [27700/40000], Loss: 0.0000608568\n",
      "Epoch [27800/40000], Loss: 0.0000606737\n",
      "Epoch [27900/40000], Loss: 0.0000605051\n",
      "Epoch [28000/40000], Loss: 0.0000603660\n",
      "Epoch [28100/40000], Loss: 0.0000601804\n",
      "Epoch [28200/40000], Loss: 0.0000600186\n",
      "Epoch [28300/40000], Loss: 0.0000598874\n",
      "Epoch [28400/40000], Loss: 0.0000596896\n",
      "Epoch [28500/40000], Loss: 0.0004216929\n",
      "Epoch [28600/40000], Loss: 0.0000593763\n",
      "Epoch [28700/40000], Loss: 0.0000592066\n",
      "Epoch [28800/40000], Loss: 0.0001104504\n",
      "Epoch [28900/40000], Loss: 0.0000588929\n",
      "Epoch [29000/40000], Loss: 0.0000587294\n",
      "Epoch [29100/40000], Loss: 0.0000868719\n",
      "Epoch [29200/40000], Loss: 0.0000584182\n",
      "Epoch [29300/40000], Loss: 0.0000582589\n",
      "Epoch [29400/40000], Loss: 0.0000964705\n",
      "Epoch [29500/40000], Loss: 0.0000579476\n",
      "Epoch [29600/40000], Loss: 0.0000577879\n",
      "Epoch [29700/40000], Loss: 0.0000585608\n",
      "Epoch [29800/40000], Loss: 0.0000574810\n",
      "Epoch [29900/40000], Loss: 0.0000573720\n",
      "Epoch [30000/40000], Loss: 0.0000573604\n",
      "Epoch [30100/40000], Loss: 0.0000570208\n",
      "Epoch [30200/40000], Loss: 0.0004897739\n",
      "Epoch [30300/40000], Loss: 0.0000567456\n",
      "Epoch [30400/40000], Loss: 0.0000565667\n",
      "Epoch [30500/40000], Loss: 0.0003096738\n",
      "Epoch [30600/40000], Loss: 0.0000562656\n",
      "Epoch [30700/40000], Loss: 0.0000561130\n",
      "Epoch [30800/40000], Loss: 0.0000613536\n",
      "Epoch [30900/40000], Loss: 0.0000558197\n",
      "Epoch [31000/40000], Loss: 0.0000556697\n",
      "Epoch [31100/40000], Loss: 0.0000746742\n",
      "Epoch [31200/40000], Loss: 0.0000553772\n",
      "Epoch [31300/40000], Loss: 0.0000552273\n",
      "Epoch [31400/40000], Loss: 0.0000590311\n",
      "Epoch [31500/40000], Loss: 0.0000549387\n",
      "Epoch [31600/40000], Loss: 0.0000547902\n",
      "Epoch [31700/40000], Loss: 0.0000547216\n",
      "Epoch [31800/40000], Loss: 0.0000545024\n",
      "Epoch [31900/40000], Loss: 0.0007639434\n",
      "Epoch [32000/40000], Loss: 0.0000542172\n",
      "Epoch [32100/40000], Loss: 0.0000540713\n",
      "Epoch [32200/40000], Loss: 0.0002386941\n",
      "Epoch [32300/40000], Loss: 0.0000537942\n",
      "Epoch [32400/40000], Loss: 0.0000536511\n",
      "Epoch [32500/40000], Loss: 0.0000535057\n",
      "Epoch [32600/40000], Loss: 0.0000535269\n",
      "Epoch [32700/40000], Loss: 0.0000532312\n",
      "Epoch [32800/40000], Loss: 0.0000530882\n",
      "Epoch [32900/40000], Loss: 0.0000531959\n",
      "Epoch [33000/40000], Loss: 0.0000528120\n",
      "Epoch [33100/40000], Loss: 0.0000530103\n",
      "Epoch [33200/40000], Loss: 0.0000525937\n",
      "Epoch [33300/40000], Loss: 0.0000523953\n",
      "Epoch [33400/40000], Loss: 0.0001484677\n",
      "Epoch [33500/40000], Loss: 0.0000521241\n",
      "Epoch [33600/40000], Loss: 0.0000519891\n",
      "Epoch [33700/40000], Loss: 0.0000518485\n",
      "Epoch [33800/40000], Loss: 0.0000517707\n",
      "Epoch [33900/40000], Loss: 0.0000515864\n",
      "Epoch [34000/40000], Loss: 0.0000514496\n",
      "Epoch [34100/40000], Loss: 0.0000530887\n",
      "Epoch [34200/40000], Loss: 0.0000511884\n",
      "Epoch [34300/40000], Loss: 0.0000510543\n",
      "Epoch [34400/40000], Loss: 0.0000509192\n",
      "Epoch [34500/40000], Loss: 0.0000510897\n",
      "Epoch [34600/40000], Loss: 0.0000506565\n",
      "Epoch [34700/40000], Loss: 0.0000505229\n",
      "Epoch [34800/40000], Loss: 0.0000505044\n",
      "Epoch [34900/40000], Loss: 0.0000502599\n",
      "Epoch [35000/40000], Loss: 0.0000548203\n",
      "Epoch [35100/40000], Loss: 0.0000499987\n",
      "Epoch [35200/40000], Loss: 0.0000498700\n",
      "Epoch [35300/40000], Loss: 0.0000497382\n",
      "Epoch [35400/40000], Loss: 0.0000498123\n",
      "Epoch [35500/40000], Loss: 0.0000494810\n",
      "Epoch [35600/40000], Loss: 0.0000508536\n",
      "Epoch [35700/40000], Loss: 0.0000492750\n",
      "Epoch [35800/40000], Loss: 0.0000490936\n",
      "Epoch [35900/40000], Loss: 0.0001706299\n",
      "Epoch [36000/40000], Loss: 0.0000488410\n",
      "Epoch [36100/40000], Loss: 0.0000487145\n",
      "Epoch [36200/40000], Loss: 0.0000485865\n",
      "Epoch [36300/40000], Loss: 0.0000487220\n",
      "Epoch [36400/40000], Loss: 0.0000483379\n",
      "Epoch [36500/40000], Loss: 0.0000482091\n",
      "Epoch [36600/40000], Loss: 0.0000491797\n",
      "Epoch [36700/40000], Loss: 0.0000479590\n",
      "Epoch [36800/40000], Loss: 0.0002948258\n",
      "Epoch [36900/40000], Loss: 0.0000477212\n",
      "Epoch [37000/40000], Loss: 0.0000475823\n",
      "Epoch [37100/40000], Loss: 0.0000493110\n",
      "Epoch [37200/40000], Loss: 0.0000473357\n",
      "Epoch [37300/40000], Loss: 0.0000472095\n",
      "Epoch [37400/40000], Loss: 0.0000472910\n",
      "Epoch [37500/40000], Loss: 0.0000469675\n",
      "Epoch [37600/40000], Loss: 0.0000468440\n",
      "Epoch [37700/40000], Loss: 0.0000469816\n",
      "Epoch [37800/40000], Loss: 0.0000466022\n",
      "Epoch [37900/40000], Loss: 0.0000464766\n",
      "Epoch [38000/40000], Loss: 0.0000463894\n",
      "Epoch [38100/40000], Loss: 0.0000462423\n",
      "Epoch [38200/40000], Loss: 0.0000461199\n",
      "Epoch [38300/40000], Loss: 0.0000520911\n",
      "Epoch [38400/40000], Loss: 0.0000458804\n",
      "Epoch [38500/40000], Loss: 0.0000462778\n",
      "Epoch [38600/40000], Loss: 0.0000457176\n",
      "Epoch [38700/40000], Loss: 0.0000455193\n",
      "Epoch [38800/40000], Loss: 0.0000653526\n",
      "Epoch [38900/40000], Loss: 0.0000452833\n",
      "Epoch [39000/40000], Loss: 0.0000451611\n",
      "Epoch [39100/40000], Loss: 0.0000461554\n",
      "Epoch [39200/40000], Loss: 0.0000449299\n",
      "Epoch [39300/40000], Loss: 0.0000448091\n",
      "Epoch [39400/40000], Loss: 0.0000455754\n",
      "Epoch [39500/40000], Loss: 0.0000445797\n",
      "Epoch [39600/40000], Loss: 0.0000444596\n",
      "Epoch [39700/40000], Loss: 0.0000444045\n",
      "Epoch [39800/40000], Loss: 0.0000442328\n",
      "Epoch [39900/40000], Loss: 0.0000441142\n",
      "Epoch [40000/40000], Loss: 0.0000469273\n",
      "----------------------------------------------------------------\n",
      "        Layer (type)               Output Shape         Param #\n",
      "================================================================\n",
      "            Linear-1                  [-1, 100]             200\n",
      "           Sigmoid-2                  [-1, 100]               0\n",
      "            Linear-3                    [-1, 1]             101\n",
      "================================================================\n",
      "Total params: 301\n",
      "Trainable params: 301\n",
      "Non-trainable params: 0\n",
      "----------------------------------------------------------------\n",
      "Input size (MB): 0.00\n",
      "Forward/backward pass size (MB): 0.00\n",
      "Params size (MB): 0.00\n",
      "Estimated Total Size (MB): 0.00\n",
      "----------------------------------------------------------------\n"
     ]
    }
   ],
   "source": [
    "t_model = MLP(hidden_size)\n",
    "\n",
    "criterion = nn.MSELoss()\n",
    "t_optimizer = optim.Adam(t_model.parameters(), lr=learning_rate)\n",
    "\n",
    "t_train_history = train_model(t_model, criterion, t_optimizer, t_train, yt_train, num_epochs)\n",
    "\n",
    "summary(t_model, (1,)) # (1, ) - input shape"
   ]
  },
  {
   "cell_type": "code",
   "execution_count": 41,
   "id": "48caf0d8-0d56-440e-92ab-f32aa83d4298",
   "metadata": {},
   "outputs": [
    {
     "data": {
      "image/png": "[encoded data removed]",
      "text/plain": [
       "<Figure size 1000x600 with 1 Axes>"
      ]
     },
     "metadata": {},
     "output_type": "display_data"
    }
   ],
   "source": [
    "plt.figure(figsize=(10, 6))\n",
    "plt.plot(t_train_history, label='MSE', color='b')\n",
    "plt.xlabel('Epochs')\n",
    "plt.ylabel('MSE')\n",
    "plt.title('Learning curve for t_model')\n",
    "plt.legend()\n",
    "plt.grid(False)\n",
    "plt.show()"
   ]
  },
  {
   "cell_type": "markdown",
   "id": "f608c52d-04e1-43fc-9199-6ac99ee3e9c4",
   "metadata": {},
   "source": [
    "### t_model testing"
   ]
  },
  {
   "cell_type": "code",
   "execution_count": 42,
   "id": "0440b446-a5f4-49e5-9144-85a9c993bf2a",
   "metadata": {},
   "outputs": [
    {
     "name": "stdout",
     "output_type": "stream",
     "text": [
      "Test Loss: 0.0000404574\n"
     ]
    }
   ],
   "source": [
    "t_test_loss = test_model(t_model, criterion, t_test, yt_test)\n",
    "print(f\"Test Loss: {t_test_loss:.10f}\")"
   ]
  },
  {
   "cell_type": "markdown",
   "id": "48e3ff8d-02ca-49b2-9614-5a5a50a8a084",
   "metadata": {},
   "source": [
    "## t_model usage"
   ]
  },
  {
   "cell_type": "code",
   "execution_count": 43,
   "id": "5f88092c-aca4-48d6-b73e-a7c5af439648",
   "metadata": {},
   "outputs": [
    {
     "data": {
      "text/plain": [
       "((100,), (100,), (1,), (100,))"
      ]
     },
     "execution_count": 43,
     "metadata": {},
     "output_type": "execute_result"
    }
   ],
   "source": [
    "bs1, we1, bs2, we2 = extract_model_params(t_model)\n",
    "bs1.shape, we1.shape, bs2.shape, we2.shape"
   ]
  },
  {
   "cell_type": "code",
   "execution_count": 45,
   "id": "5c5d135c-0c84-42fb-a06d-38e81e99a1ee",
   "metadata": {},
   "outputs": [
    {
     "data": {
      "text/plain": [
       "array([mpf('0.16319461015358533')], dtype=object)"
      ]
     },
     "execution_count": 45,
     "metadata": {},
     "output_type": "execute_result"
    }
   ],
   "source": [
    "nn_t = get_NN_integral(a2, 1.0, bs1, we1, bs2, we2)\n",
    "\n",
    "nn_t"
   ]
  },
  {
   "cell_type": "code",
   "execution_count": 48,
   "id": "cc3e61d9-f140-46af-946a-6d4569d5866d",
   "metadata": {},
   "outputs": [],
   "source": [
    "nn_t = float(nn_t[0])"
   ]
  },
  {
   "cell_type": "markdown",
   "id": "23e67d69-9513-415e-bc91-bb333ee48c72",
   "metadata": {},
   "source": [
    "## Result 1"
   ]
  },
  {
   "cell_type": "code",
   "execution_count": 50,
   "id": "78341871-7451-4137-ad1c-8e9aba212e80",
   "metadata": {},
   "outputs": [
    {
     "data": {
      "text/plain": [
       "0.0815958866096337"
      ]
     },
     "execution_count": 50,
     "metadata": {},
     "output_type": "execute_result"
    }
   ],
   "source": [
    "result1 = nn_alpha * nn_t\n",
    "\n",
    "result1"
   ]
  },
  {
   "cell_type": "code",
   "execution_count": null,
   "id": "661dbaff-2fe8-4111-b936-de075dc80db1",
   "metadata": {},
   "outputs": [],
   "source": []
  }
 ],
 "metadata": {
  "kernelspec": {
   "display_name": "Python 3 (ipykernel)",
   "language": "python",
   "name": "python3"
  },
  "language_info": {
   "codemirror_mode": {
    "name": "ipython",
    "version": 3
   },
   "file_extension": ".py",
   "mimetype": "text/x-python",
   "name": "python",
   "nbconvert_exporter": "python",
   "pygments_lexer": "ipython3",
   "version": "3.11.5"
  }
 },
 "nbformat": 4,
 "nbformat_minor": 5
}
