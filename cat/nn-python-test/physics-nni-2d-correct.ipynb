{
 "cells": [
  {
   "cell_type": "code",
   "execution_count": 85,
   "id": "aaf1aa73-52ba-4046-8c4b-f8e97779c57c",
   "metadata": {},
   "outputs": [],
   "source": [
    "import torch\n",
    "import torch.nn as nn\n",
    "import torch.optim as optim\n",
    "from torchsummary import summary\n",
    "\n",
    "import numpy as np\n",
    "\n",
    "import matplotlib.pyplot as plt\n",
    "\n",
    "from mpmath import polylog\n",
    "\n",
    "from sklearn.model_selection import train_test_split\n",
    "\n",
    "import time\n"
   ]
  },
  {
   "cell_type": "code",
   "execution_count": 2,
   "id": "e1464279-6150-4c6b-ad05-cec42ce3ad80",
   "metadata": {},
   "outputs": [],
   "source": [
    "def generate_data(func, lower, upper, n_samples=100, n_dim=1):\n",
    "    \"\"\"\n",
    "    Generates data in the form of a 2D (1D in case the function \n",
    "    is single-variable) tensor of variables for the function and neural network input\n",
    "    as well as the function values for the generated tensor of variables.\n",
    "\n",
    "    @param func      function to provide values for the variables\n",
    "    @param lower     lower bounds of variables (list, tensor or scalar)\n",
    "    @param upper     upper bounds of variables (list, tensor or scalar)\n",
    "    @param n_samples number of points of data to generate\n",
    "                     (default value is 100)\n",
    "    @param n_dim     number of dimensions of the function func\n",
    "                     (default value is 1)\n",
    "\n",
    "    @returns         variables x and function values y\n",
    "    \"\"\"\n",
    "    X_list = [torch.linspace(lower[n], upper[n], n_samples).view(n_samples, 1) for n in range(n_dim)]\n",
    "    X = torch.cat(X_list, dim=1)\n",
    "    \n",
    "    y = func(X).view(n_samples, 1)\n",
    "    \n",
    "    return X, y"
   ]
  },
  {
   "cell_type": "code",
   "execution_count": 3,
   "id": "554dc961-c101-49cf-9f3d-3e3a44c3e459",
   "metadata": {},
   "outputs": [],
   "source": [
    "def find_upper_bound(X, y, epsilon, points_limit=1, lower_index=0):\n",
    "    \"\"\"\n",
    "        Finds the upper bound of integration. In this case a point, \n",
    "        where the next function value is greater/lesser than the previous\n",
    "        less than a given threshold.\n",
    "\n",
    "        @param X            variable values\n",
    "        @param y            function values\n",
    "        @param epsilon      threshold\n",
    "        @param points_limit limit of bound points number \n",
    "        @param lower_index  starting X value for the search\n",
    "        \n",
    "        @returns       the required variable values (can be many) \n",
    "                       or empty list if none found\n",
    "    \"\"\"\n",
    "    X_points = []\n",
    "    \n",
    "    if len(X) != len(y):\n",
    "        raise ValueError(\"There numbers of variable and function values are inequal!\")\n",
    "    \n",
    "    for i in range(lower_index, len(y) - 1):\n",
    "        diff = torch.abs(y[i] - y[i + 1])\n",
    "        if diff < epsilon:\n",
    "            X_points.append(X[i])\n",
    "        if len(X_points) == points_limit:\n",
    "            break\n",
    "            \n",
    "    return X_points"
   ]
  },
  {
   "cell_type": "code",
   "execution_count": 86,
   "id": "0d4589fd-5817-4926-99b9-56cf4df56bea",
   "metadata": {},
   "outputs": [],
   "source": [
    "class MLP(nn.Module):\n",
    "    \"\"\"\n",
    "        Нейросеть, которая будет обучаться приближать функцию одной переменной.\n",
    "        \n",
    "        Нейросеть имеет архитектуру:\n",
    "\n",
    "        Входной слой (1 нейрон для переменной функции + смещение, линейная функция активации)\n",
    "        Скрытый слой (произвольное количество нейронов + смещение, функция активации - сигмоида)\n",
    "        Выходной слой (1 нейрон для приближенного значения функции, линейная функция активации)\n",
    "    \"\"\"\n",
    "    def __init__(self, input_size, hidden_size):\n",
    "        \"\"\"\n",
    "            Конструктор для нейросети.\n",
    "            @param self        нейросеть (необходим для включения в класс)\n",
    "            @param hidden_size размер скрытого слоя (размеры входного и выходного слоёв равны одному\n",
    "                               в рамках данной задачи, так как у функции одна переменная и \n",
    "                               задача сводится к описанию функции, то есть числа, скаляра).\n",
    "        \"\"\"\n",
    "        super(MLP, self).__init__()\n",
    "        self.input_hidden_layer = nn.Linear(input_size, hidden_size) # инициализация входного и скрытого слоя, \n",
    "                                                     # размеры: 1 --> размер скрытого слоя\n",
    "        self.sigmoid_activation = nn.Sigmoid() # инициализация функции активации скрытого слоя\n",
    "        self.output_layer = nn.Linear(hidden_size, 1) # инициализация выходного слоя, \n",
    "                                                      # размеры: размер скрытого слоя --> 1\n",
    "    \n",
    "    def forward(self, x):\n",
    "        \"\"\"\n",
    "            Функция распространения данных через нейросеть вперёд.\n",
    "           \n",
    "            @param self   нейросеть (необходим для включения в класс)\n",
    "            @param x      данные\n",
    "           \n",
    "            @returns выход в выходном нейроне\n",
    "        \"\"\"\n",
    "        x = self.input_hidden_layer(x) # данные прошли входной слой и аккумулирвоаны в скрытом слое\n",
    "        x = self.sigmoid_activation(x) # данные прошли функцию активации скрытого слоя\n",
    "        x = self.output_layer(x) # данные прошли выходной слой\n",
    "        \n",
    "        return x\n",
    "\n",
    "\n",
    "def train_model(model, criterion, optimizer, x_train, y_train, epochs):\n",
    "    \"\"\"\n",
    "        Trains the model.\n",
    "        \n",
    "        @param model        The model to be trained\n",
    "        @param criterion    Loss function\n",
    "        @param optimizer    Optimization algorithm\n",
    "        @param x_train      Training inputs\n",
    "        @param y_train      True labels\n",
    "        @param epochs       Number of training epochs\n",
    "    \"\"\"\n",
    "    loss_history = [] # история обучения (изменения функции потерь)\n",
    "    start_time = time.time()\n",
    "    for epoch in range(epochs):\n",
    "        predictions = model(x_train) # все переменные проводятся через нейросеть \n",
    "                                     # и формируются предскзания значений функции\n",
    "        loss = criterion(predictions, y_train) # вычисляется функция потерь на данной эпохе\n",
    "\n",
    "        optimizer.zero_grad() # обнуляются градиенты перед обратным распространением ошибки\n",
    "        loss.backward() # обратное распространение ошибки\n",
    "        optimizer.step() # шаг оптимизации - обновление параметров модели \n",
    "\n",
    "        loss_history.append(loss.item()) # запись текущей функции потерь\n",
    "\n",
    "        if (epoch + 1) % 100 == 0:\n",
    "            print(f'Epoch [{epoch + 1}/{epochs}], Loss: {loss.item():.10f}') # вывод информации об обучении\n",
    "    total_time = time.time() - start_time  # Общее время обучения\n",
    "    print(f'Time elapsed: {total_time:.2f} seconds')\n",
    "    return loss_history # возвращается история обучения\n",
    "\n",
    "\n",
    "def test_model(model, criterion, x_test, y_test):\n",
    "    \"\"\"\n",
    "        Tests the model.\n",
    "        \n",
    "        @param model        The trained model\n",
    "        @param criterion    Loss function\n",
    "        @param x_test       Test inputs\n",
    "        @param y_test       True labels\n",
    "    \"\"\"\n",
    "    with torch.no_grad():  # отключение расчета градиентов \n",
    "                           # (расчет градиентов может происходить по умолчанию \n",
    "                           # даже без использования их потом, что излишне нагружает память)\n",
    "        predictions = model(x_test)  # тестовые переменные проводятся через обученную модель\n",
    "        loss = criterion(predictions, y_test)  # вычисляется функция потерь для тестового набора\n",
    "\n",
    "    # Возвращаем вычисленную функцию потерь\n",
    "    return loss.item()  # Возвращаем скалярное значение ошибки\n",
    "\n",
    "\n",
    "def predict_with_model(model, x_test):\n",
    "    \"\"\"\n",
    "        Uses the model to predict values based on x_test arguments.\n",
    "    \n",
    "        @param model        The trained model\n",
    "        @param x_test       Test inputs\n",
    "    \"\"\"\n",
    "    with torch.no_grad():\n",
    "        predictions = model(x_test)\n",
    "\n",
    "    return predictions\n",
    "\n",
    "\n",
    "def extract_model_params(model):\n",
    "    \"\"\"\n",
    "        Функция извлечения параметров нейросети.\n",
    "        @param model модель, из которой необходимо извлеч параметры\n",
    "        @returns 4 объекта типа numpy.array: смещения 1-го слоя, веса 1-го слоя,\n",
    "                 смещения 2-го слоя, веса 2-го слоя\n",
    "    \"\"\"\n",
    "    # detach() - возвращает выбранный параметр, numpy() конвертирует в формат numpy.array,\n",
    "    # flatten() для весов преобразует векторы-столбцы в векторы-строки.\n",
    "    b1 = model.input_hidden_layer.bias.detach().numpy() \n",
    "    w1 = model.input_hidden_layer.weight.detach().numpy()\n",
    "    b2 = model.output_layer.bias.detach().numpy() \n",
    "    w2 = model.output_layer.weight.detach().numpy().flatten()\n",
    "    \n",
    "    return b1, w1, b2, w2"
   ]
  },
  {
   "cell_type": "markdown",
   "id": "445f7e14-50bc-43d4-a533-f2e243fd373d",
   "metadata": {},
   "source": [
    "# Integration function"
   ]
  },
  {
   "cell_type": "code",
   "execution_count": 55,
   "id": "1c6c33b0-a2c0-485b-ba2d-609f980fb818",
   "metadata": {},
   "outputs": [],
   "source": [
    "def get_NN_integral(alpha1, beta1, alpha2, beta2, b1, w1, b2, w2):\n",
    "    \"\"\"\n",
    "        Функция, реализующая метод численного интегрирования функции одной переменной\n",
    "        на основе параметров нейросети. Реализует формулы (6.1) и (6.2).\n",
    "\n",
    "        @param alpha нижняя граница интегрирования\n",
    "        @param beta  верхняя граница интегрирования\n",
    "        @param b1    смещения между входным и скрытым слоями\n",
    "        @param w1    веса между входным и скрытым слоями\n",
    "        @param b2    смещения между скрытым и выходным слоями\n",
    "        @param w2    веса между скрытым и выходным слоями\n",
    "\n",
    "        @returns численный интеграл на основе параметров нейросети.\n",
    "    \"\"\"\n",
    "    def Phi_j(alpha1, beta1, alpha2, beta2, b1_j, w1_1j, w1_2j):\n",
    "        \"\"\"\n",
    "            Вложенная функция, реализующая разность полилогарифмов (6.2).\n",
    "\n",
    "            @param alpha нижняя граница интегрирования\n",
    "            @param beta  верхняя граница интегрирования\n",
    "            @param b1_j  j-е смещение между входным и скрытым слоями\n",
    "            @param w1_j  j-тый вес между входным и скрытым слоями\n",
    "\n",
    "            @returns разность полилогарифмов (6.2)\n",
    "        \"\"\"\n",
    "        term_1 = polylog(2, -np.exp(-b1_j - w1_1j * alpha1 - w1_2j * alpha2))\n",
    "        term_2 = polylog(2, -np.exp(-b1_j - w1_1j * alpha1 - w1_2j * beta2))\n",
    "        term_3 = polylog(2, -np.exp(-b1_j - w1_1j * beta1 - w1_2j * alpha2))\n",
    "        term_4 = polylog(2, -np.exp(-b1_j - w1_1j * beta1 - w1_2j * beta2))\n",
    "        \n",
    "        return term_1 - term_2 - term_3 + term_4\n",
    "\n",
    "    bounds_factor = (beta2 - alpha2) * (beta1 - alpha1)\n",
    "    \n",
    "    integral_sum = 0 \n",
    "    \n",
    "    for w2_j, w1_1j, w1_2j, b1_j in zip(w2, w1[0], w1[1], b1):\n",
    "        phi_j = Phi_j(alpha1, beta1, alpha2, beta2, b1_j, w1_1j, w1_2j) \n",
    "        integral_sum += w2_j * (bounds_factor + phi_j / w1_1j * w1_2j)\n",
    "    \n",
    "    return b2 * integral_sum + integral_sum "
   ]
  },
  {
   "cell_type": "markdown",
   "id": "1b4b110d-a9fc-4b17-92e9-235735d9a07b",
   "metadata": {},
   "source": [
    "# Physics task: Definition\n",
    "\n",
    "\\begin{equation}\n",
    "    \\int_{0}^{1}d\\alpha\\{\\alpha^{a}(1 - \\alpha)^b\\}\\int_{0}^{\\infty}dt\\{\\frac{t^m}{(1+t)^n}F[z_{0}]\\} \\equiv I(a, b, m, n; F[z_{0}])  \\tag{1}\n",
    "\\end{equation}\n",
    "\\begin{equation}   \n",
    "    F[z_0] = \\exp[-2z_0]  \\tag{2}\n",
    "\\end{equation}\n",
    "\\begin{equation} \n",
    "    z_0 = tD + \\frac{t}{1 + t}R^2  \\tag{3}\n",
    "\\end{equation}\n",
    "\\begin{equation}     \n",
    "    D = \\alpha_1(b_1^{2}P^2 + m_1^2) + \\alpha_2(b_2^{2}P^2 + m_2^2)  \\tag{4}\n",
    "\\end{equation}\n",
    "\\begin{equation} \n",
    "        R^2 = (\\alpha_1^{2}b_1^2 + \\alpha_2^{2}b_2^2 + 2\\alpha_{1}\\alpha_{2}b_{1}b_2)P^2  \\tag{5}\n",
    "\\end{equation}\n",
    "\\begin{equation} \n",
    "    b_1 = -\\frac{m_1}{m_1 + m_2}  \\tag{6}\n",
    "\\end{equation}\n",
    "\\begin{equation} \n",
    "    b_2 = \\frac{m_2}{m_1 + m_2}  \\tag{7}\n",
    "\\end{equation}\n",
    "\\begin{equation} \n",
    "    m_1 = m_2 = 0.7083333, P^2 = -1.665046  \\tag{8}\n",
    "\\end{equation}"
   ]
  },
  {
   "cell_type": "markdown",
   "id": "940e82ea-bc0b-4ee2-8925-12fa809ededc",
   "metadata": {},
   "source": [
    "## Constants: general\n",
    "\n",
    "These constants will be used for all of the calculations."
   ]
  },
  {
   "cell_type": "code",
   "execution_count": 6,
   "id": "02d1cfca-8e4d-4732-b848-0cbb8a590c48",
   "metadata": {},
   "outputs": [],
   "source": [
    "m1 = 0.7083333\n",
    "m2 = 0.7083333\n",
    "PP = -1.665046"
   ]
  },
  {
   "cell_type": "markdown",
   "id": "26100893-5592-4805-8bfe-c5282b037e0a",
   "metadata": {},
   "source": [
    "## Alpha function\n",
    "\n",
    "\\begin{equation}\n",
    "    \\alpha^{a}(1 - \\alpha)^b\\ \\tag{1.1}\n",
    "\\end{equation}"
   ]
  },
  {
   "cell_type": "code",
   "execution_count": 7,
   "id": "45c91dc5-249a-4ea1-9952-3ce613412b13",
   "metadata": {},
   "outputs": [],
   "source": [
    "def alpha_func(alpha):\n",
    "    return alpha ** a * (1 - alpha) ** b"
   ]
  },
  {
   "cell_type": "markdown",
   "id": "f4817854-ef15-4073-a5fb-04a3cd498ec7",
   "metadata": {},
   "source": [
    "## Second factor function\n",
    "\n",
    "\\begin{equation}\n",
    "   \\frac{t^m}{(1+t)^n}F[z_{0}]  \\tag{1.2}\n",
    "\\end{equation}\n",
    "\n",
    "As far as the integral function converges quickly the infinite upper bound of integration will be replaced with a constant. Later we will decide which constant to choose."
   ]
  },
  {
   "cell_type": "code",
   "execution_count": 8,
   "id": "9da3f653-b81d-406b-9bed-d7b2b67fb37f",
   "metadata": {},
   "outputs": [],
   "source": [
    "def b1_func():\n",
    "    return - m1 / (m1 + m2)\n",
    "\n",
    "def b2_func():\n",
    "    return m2 / (m1 + m2)\n",
    "\n",
    "def D_func(alpha):\n",
    "    b1b1 = b1_func() ** 2\n",
    "    b2b2 = b2_func() ** 2\n",
    "    alpha1 = alpha\n",
    "    alpha2 = 1 - alpha1\n",
    "    \n",
    "    return alpha1 * (b1b1 * PP + m1**2) + alpha2 * (b2b2 * PP + m2**2)\n",
    "\n",
    "def RR_func(alpha):\n",
    "    b1 = b1_func()\n",
    "    b2 = b2_func()\n",
    "    b1b1 = b1 ** 2\n",
    "    b2b2 = b2 ** 2\n",
    "    alpha1 = alpha\n",
    "    alpha2 = 1 - alpha1\n",
    "    \n",
    "    return (alpha1**2 * b1b1 + alpha2**2 * b2b2 + 2 * alpha1 * alpha2 * b1 * b2) * PP\n",
    "\n",
    "def z0_func(t, alpha):\n",
    "    D = D_func(alpha)\n",
    "    RR = RR_func(alpha)\n",
    "    return t * D + t / (1 + t) * RR\n",
    "\n",
    "def F_func(t, alpha):\n",
    "    z_0 = z0_func(t, alpha)\n",
    "    return np.exp(-2*z_0)"
   ]
  },
  {
   "cell_type": "markdown",
   "id": "fe2cca69-abbb-4c99-a268-53d18d0244a5",
   "metadata": {},
   "source": [
    "Для того, чтобы определить подынтегральную функцию и на её основе создать обучающую и тестовую выборки необходимо преобразовать выражение (1):\n",
    "\n",
    "\\begin{equation}\n",
    " \\int_{0}^{1} \\alpha^{a}(1 - \\alpha)^bd\\alpha \\int_{0}^{\\infty}\\frac{t^m}{(1+t)^n}F[z_{0}]dt = \n",
    " \\int_{0}^{1} \\int_{0}^{\\infty}\\frac{t^m}{(1+t)^n}F[z_{0}]\\alpha^{a}(1 - \\alpha)^bdtd\\alpha \n",
    "\\end{equation}"
   ]
  },
  {
   "cell_type": "code",
   "execution_count": 9,
   "id": "a78367e0-98e0-4294-877f-9f4333138543",
   "metadata": {},
   "outputs": [],
   "source": [
    "def t_alpha_func(t, alpha):\n",
    "    return (t ** m) / ((1 + t) ** n) * F_func(t, alpha) * alpha_func(alpha)\n",
    "\n",
    "def main_function(X):\n",
    "    t = X[:, 0]\n",
    "    alpha = X[:, 1]\n",
    "\n",
    "    return t_alpha_func(t, alpha)"
   ]
  },
  {
   "cell_type": "markdown",
   "id": "e39a6a8a-e666-46ef-8f92-b2e817ac37b7",
   "metadata": {},
   "source": [
    "## $F[z_o]$: addition\n",
    "\n",
    "The further computation will require a derivative of the (2) function, so it should be declared here. The derivative is equal to\n",
    "\n",
    "\\begin{equation}\n",
    "    F'[z_0] = -2\\exp[-2z_0] \\tag{9}\n",
    "\\end{equation}"
   ]
  },
  {
   "cell_type": "code",
   "execution_count": 10,
   "id": "57cd3825-b06d-4fe9-8c74-ad0a23b2f26f",
   "metadata": {},
   "outputs": [],
   "source": [
    "def F_derivative(t):\n",
    "    return -2 * F_func(t)\n",
    "\n",
    "def t_func_with_F_der(t):\n",
    "    return t ** m / (1 + t) ** n * F_derivative(t)    "
   ]
  },
  {
   "cell_type": "markdown",
   "id": "7aa957bb-0543-4dba-bab5-d2a06d15a6b3",
   "metadata": {},
   "source": [
    "# NN Integration: first run\n",
    "\n",
    "The constants are:"
   ]
  },
  {
   "cell_type": "code",
   "execution_count": 11,
   "id": "e88b5e98-a361-4edd-bf8e-89ec2651ac4d",
   "metadata": {},
   "outputs": [],
   "source": [
    "a = 0\n",
    "b = 1\n",
    "m = 2\n",
    "n = 2"
   ]
  },
  {
   "cell_type": "markdown",
   "id": "4020fff8-8d1a-4d2d-b737-413b7bfd9e2b",
   "metadata": {},
   "source": [
    "## Dataset"
   ]
  },
  {
   "cell_type": "code",
   "execution_count": 12,
   "id": "570dfb11-959e-4371-a644-e094715a2f77",
   "metadata": {},
   "outputs": [],
   "source": [
    "X, y = generate_data(func=main_function, lower=[0, 0], upper=[100, 1], n_samples=10000, n_dim=2)"
   ]
  },
  {
   "cell_type": "code",
   "execution_count": 13,
   "id": "730a1c53-a302-4d43-aa64-7e6df7d492fb",
   "metadata": {},
   "outputs": [
    {
     "data": {
      "image/png": "[encoded data removed]",
      "text/plain": [
       "<Figure size 640x480 with 1 Axes>"
      ]
     },
     "metadata": {},
     "output_type": "display_data"
    }
   ],
   "source": [
    "t = X[:, 0].numpy()\n",
    "y_np = y.numpy()\n",
    "plt.plot(t, y)\n",
    "plt.xlabel('t')\n",
    "plt.ylabel('y')\n",
    "plt.title('Function Plot of y(t, α)')\n",
    "plt.grid(True)\n",
    "plt.show()"
   ]
  },
  {
   "cell_type": "code",
   "execution_count": 14,
   "id": "27730b4c-85eb-46bb-8f93-eb636ecc2617",
   "metadata": {},
   "outputs": [
    {
     "data": {
      "image/png": "[encoded data removed]",
      "text/plain": [
       "<Figure size 640x480 with 1 Axes>"
      ]
     },
     "metadata": {},
     "output_type": "display_data"
    }
   ],
   "source": [
    "alpha = X[:, 1].numpy()\n",
    "y_np = y.numpy()\n",
    "plt.plot(alpha, y_np)\n",
    "plt.xlabel('α')\n",
    "plt.ylabel('y')\n",
    "plt.title('Function Plot of y(t, α)')\n",
    "plt.grid(True)\n",
    "plt.show()"
   ]
  },
  {
   "cell_type": "markdown",
   "id": "0bdd495f-105f-47b2-b000-6ee407cd87b9",
   "metadata": {},
   "source": [
    "As far as the t variable has its upper bound equal to $\\infty$ let's find the point at which the $y(t)$ stops to change rapidly $|y(t_i) - y(t_{i+1})| < \\epsilon)$. This $t_i$ is going to be the upper bound of the integration."
   ]
  },
  {
   "cell_type": "code",
   "execution_count": 15,
   "id": "2cba1334-62e7-4af1-9fe7-7fc725bc2d74",
   "metadata": {},
   "outputs": [
    {
     "data": {
      "text/plain": [
       "[tensor(53.0053)]"
      ]
     },
     "execution_count": 15,
     "metadata": {},
     "output_type": "execute_result"
    }
   ],
   "source": [
    "upper_bound_t = find_upper_bound(X=X[:, 0], y=y, epsilon=0.0000001, points_limit=1, lower_index=2000) # the 2000 value should be around t=20 based on graph\n",
    "upper_bound_t"
   ]
  },
  {
   "cell_type": "markdown",
   "id": "d7f7b32e-9347-4f17-939d-b57669c45018",
   "metadata": {},
   "source": [
    "We see that function $y(t)$ should be integrated within bounds $[0, $ upper_bound_t$]$"
   ]
  },
  {
   "cell_type": "markdown",
   "id": "130e4634-454a-4d60-b91a-3b26cee3a879",
   "metadata": {},
   "source": [
    "## Integration bounds\n",
    "\n",
    "$a_1, b_1$ for (1.1), $a_2, b_2$ for (1.2)."
   ]
  },
  {
   "cell_type": "code",
   "execution_count": 18,
   "id": "ae7ff608-418c-4e2b-a326-ac75b8743414",
   "metadata": {},
   "outputs": [
    {
     "data": {
      "text/plain": [
       "(0.0, 0.0, 1.0, 53.00530242919922)"
      ]
     },
     "execution_count": 18,
     "metadata": {},
     "output_type": "execute_result"
    }
   ],
   "source": [
    "a1 = 0.0000000 # α lower\n",
    "b1 = 1.0000000 # α upper\n",
    "a2 = 0.0000000 # t lower\n",
    "b2 = upper_bound_t[0].item() # t upper\n",
    "\n",
    "a1, a2, b1, b2"
   ]
  },
  {
   "cell_type": "markdown",
   "id": "4d815de3-7191-441f-9f83-a21f5d937744",
   "metadata": {},
   "source": [
    "## Datasets based on bounds"
   ]
  },
  {
   "cell_type": "code",
   "execution_count": 19,
   "id": "92047595-3666-491f-be8d-81afbfb79bf2",
   "metadata": {},
   "outputs": [],
   "source": [
    "X, y = generate_data(func=main_function, lower=[a2, a1], upper=[b2, b1], n_samples=10000, n_dim=2)"
   ]
  },
  {
   "cell_type": "code",
   "execution_count": 20,
   "id": "9907bab6-73ed-4eeb-b98c-0d89b77dae6c",
   "metadata": {},
   "outputs": [
    {
     "data": {
      "image/png": "[encoded data removed]",
      "text/plain": [
       "<Figure size 640x480 with 1 Axes>"
      ]
     },
     "metadata": {},
     "output_type": "display_data"
    }
   ],
   "source": [
    "t = X[:, 0].numpy()\n",
    "y_np = y.numpy()\n",
    "plt.plot(t, y)\n",
    "plt.xlabel('t')\n",
    "plt.ylabel('y')\n",
    "plt.title('Function Plot of y(t, α)')\n",
    "plt.grid(True)\n",
    "plt.show()"
   ]
  },
  {
   "cell_type": "code",
   "execution_count": 21,
   "id": "d5fcf712-5994-4ff6-baa2-d190263d95f1",
   "metadata": {},
   "outputs": [
    {
     "data": {
      "image/png": "[encoded data removed]",
      "text/plain": [
       "<Figure size 640x480 with 1 Axes>"
      ]
     },
     "metadata": {},
     "output_type": "display_data"
    }
   ],
   "source": [
    "alpha = X[:, 1].numpy()\n",
    "y_np = y.numpy()\n",
    "plt.plot(alpha, y_np)\n",
    "plt.xlabel('α')\n",
    "plt.ylabel('y')\n",
    "plt.title('Function Plot of y(t, α)')\n",
    "plt.grid(True)\n",
    "plt.show()"
   ]
  },
  {
   "cell_type": "markdown",
   "id": "21a23af5-a83f-4569-967c-5da49e4dad16",
   "metadata": {},
   "source": [
    "## Train-test datasets split"
   ]
  },
  {
   "cell_type": "code",
   "execution_count": 22,
   "id": "f24d37bb-318a-40f5-889d-47c16bfd7440",
   "metadata": {},
   "outputs": [],
   "source": [
    "x_train, x_test, y_train, y_test = train_test_split(X, y, test_size=0.1) # 10% from Lloyd's at all. \"Using...\""
   ]
  },
  {
   "cell_type": "code",
   "execution_count": 23,
   "id": "238a79d7-f720-49ac-afc3-4ef6fa2eaf25",
   "metadata": {},
   "outputs": [
    {
     "data": {
      "text/plain": [
       "(torch.Size([9000, 2]),\n",
       " torch.Size([1000, 2]),\n",
       " torch.Size([9000, 1]),\n",
       " torch.Size([1000, 1]))"
      ]
     },
     "execution_count": 23,
     "metadata": {},
     "output_type": "execute_result"
    }
   ],
   "source": [
    "x_train.shape, x_test.shape, y_train.shape, y_test.shape"
   ]
  },
  {
   "cell_type": "markdown",
   "id": "bd927ea4-3541-414f-9b9a-ab252490fa87",
   "metadata": {},
   "source": [
    "## Model"
   ]
  },
  {
   "cell_type": "markdown",
   "id": "89fb08b5-32fb-4ebd-82a9-d7984afff4f2",
   "metadata": {},
   "source": [
    "### Hyperparams for the NN model"
   ]
  },
  {
   "cell_type": "code",
   "execution_count": 108,
   "id": "e6b94e85-f553-45cd-9067-e7f489277efd",
   "metadata": {},
   "outputs": [],
   "source": [
    "input_size = 2\n",
    "hidden_size = 200\n",
    "learning_rate = 0.0001\n",
    "num_epochs = 30000"
   ]
  },
  {
   "cell_type": "markdown",
   "id": "2d45bb1f-5543-49d1-9740-904f8ac13574",
   "metadata": {},
   "source": [
    "### Model definition, compilation and training"
   ]
  },
  {
   "cell_type": "code",
   "execution_count": 109,
   "id": "19a894d1-7f6d-483f-9e9c-10cd39546b19",
   "metadata": {},
   "outputs": [
    {
     "name": "stdout",
     "output_type": "stream",
     "text": [
      "Epoch [100/30000], Loss: 0.0163260922\n",
      "Epoch [200/30000], Loss: 0.0076025086\n",
      "Epoch [300/30000], Loss: 0.0053747073\n",
      "Epoch [400/30000], Loss: 0.0042260140\n",
      "Epoch [500/30000], Loss: 0.0034442695\n",
      "Epoch [600/30000], Loss: 0.0028602669\n",
      "Epoch [700/30000], Loss: 0.0024007161\n",
      "Epoch [800/30000], Loss: 0.0020316429\n",
      "Epoch [900/30000], Loss: 0.0017334981\n",
      "Epoch [1000/30000], Loss: 0.0014919768\n",
      "Epoch [1100/30000], Loss: 0.0012954008\n",
      "Epoch [1200/30000], Loss: 0.0011340525\n",
      "Epoch [1300/30000], Loss: 0.0009999584\n",
      "Epoch [1400/30000], Loss: 0.0008867341\n",
      "Epoch [1500/30000], Loss: 0.0007894266\n",
      "Epoch [1600/30000], Loss: 0.0007043378\n",
      "Epoch [1700/30000], Loss: 0.0006288305\n",
      "Epoch [1800/30000], Loss: 0.0005611095\n",
      "Epoch [1900/30000], Loss: 0.0004999992\n",
      "Epoch [2000/30000], Loss: 0.0004447374\n",
      "Epoch [2100/30000], Loss: 0.0003948095\n",
      "Epoch [2200/30000], Loss: 0.0003498322\n",
      "Epoch [2300/30000], Loss: 0.0003094815\n",
      "Epoch [2400/30000], Loss: 0.0002734551\n",
      "Epoch [2500/30000], Loss: 0.0002414543\n",
      "Epoch [2600/30000], Loss: 0.0002131792\n",
      "Epoch [2700/30000], Loss: 0.0001883261\n",
      "Epoch [2800/30000], Loss: 0.0001665905\n",
      "Epoch [2900/30000], Loss: 0.0001476693\n",
      "Epoch [3000/30000], Loss: 0.0001312636\n",
      "Epoch [3100/30000], Loss: 0.0001170829\n",
      "Epoch [3200/30000], Loss: 0.0001048485\n",
      "Epoch [3300/30000], Loss: 0.0000942966\n",
      "Epoch [3400/30000], Loss: 0.0000851819\n",
      "Epoch [3500/30000], Loss: 0.0000772802\n",
      "Epoch [3600/30000], Loss: 0.0000703907\n",
      "Epoch [3700/30000], Loss: 0.0000643372\n",
      "Epoch [3800/30000], Loss: 0.0000589690\n",
      "Epoch [3900/30000], Loss: 0.0000541599\n",
      "Epoch [4000/30000], Loss: 0.0000498074\n",
      "Epoch [4100/30000], Loss: 0.0000458309\n",
      "Epoch [4200/30000], Loss: 0.0000421688\n",
      "Epoch [4300/30000], Loss: 0.0000387756\n",
      "Epoch [4400/30000], Loss: 0.0000356195\n",
      "Epoch [4500/30000], Loss: 0.0000326788\n",
      "Epoch [4600/30000], Loss: 0.0000299393\n",
      "Epoch [4700/30000], Loss: 0.0000273924\n",
      "Epoch [4800/30000], Loss: 0.0000250325\n",
      "Epoch [4900/30000], Loss: 0.0000228555\n",
      "Epoch [5000/30000], Loss: 0.0000208580\n",
      "Epoch [5100/30000], Loss: 0.0000190359\n",
      "Epoch [5200/30000], Loss: 0.0000173843\n",
      "Epoch [5300/30000], Loss: 0.0000158971\n",
      "Epoch [5400/30000], Loss: 0.0000145668\n",
      "Epoch [5500/30000], Loss: 0.0000133847\n",
      "Epoch [5600/30000], Loss: 0.0000123409\n",
      "Epoch [5700/30000], Loss: 0.0000114245\n",
      "Epoch [5800/30000], Loss: 0.0000106244\n",
      "Epoch [5900/30000], Loss: 0.0000099286\n",
      "Epoch [6000/30000], Loss: 0.0000093256\n",
      "Epoch [6100/30000], Loss: 0.0000088038\n",
      "Epoch [6200/30000], Loss: 0.0000083522\n",
      "Epoch [6300/30000], Loss: 0.0000079605\n",
      "Epoch [6400/30000], Loss: 0.0000076193\n",
      "Epoch [6500/30000], Loss: 0.0000073203\n",
      "Epoch [6600/30000], Loss: 0.0000070562\n",
      "Epoch [6700/30000], Loss: 0.0000068207\n",
      "Epoch [6800/30000], Loss: 0.0000066086\n",
      "Epoch [6900/30000], Loss: 0.0000064158\n",
      "Epoch [7000/30000], Loss: 0.0000062390\n",
      "Epoch [7100/30000], Loss: 0.0000060779\n",
      "Epoch [7200/30000], Loss: 0.0000059259\n",
      "Epoch [7300/30000], Loss: 0.0000057963\n",
      "Epoch [7400/30000], Loss: 0.0000056552\n",
      "Epoch [7500/30000], Loss: 0.0000055329\n",
      "Epoch [7600/30000], Loss: 0.0000054342\n",
      "Epoch [7700/30000], Loss: 0.0000053129\n",
      "Epoch [7800/30000], Loss: 0.0000064972\n",
      "Epoch [7900/30000], Loss: 0.0000051219\n",
      "Epoch [8000/30000], Loss: 0.0000050364\n",
      "Epoch [8100/30000], Loss: 0.0000049573\n",
      "Epoch [8200/30000], Loss: 0.0000048839\n",
      "Epoch [8300/30000], Loss: 0.0000048518\n",
      "Epoch [8400/30000], Loss: 0.0000047536\n",
      "Epoch [8500/30000], Loss: 0.0000047325\n",
      "Epoch [8600/30000], Loss: 0.0000046421\n",
      "Epoch [8700/30000], Loss: 0.0000065290\n",
      "Epoch [8800/30000], Loss: 0.0000045462\n",
      "Epoch [8900/30000], Loss: 0.0000045042\n",
      "Epoch [9000/30000], Loss: 0.0000044631\n",
      "Epoch [9100/30000], Loss: 0.0000044246\n",
      "Epoch [9200/30000], Loss: 0.0000043919\n",
      "Epoch [9300/30000], Loss: 0.0000043544\n",
      "Epoch [9400/30000], Loss: 0.0000043982\n",
      "Epoch [9500/30000], Loss: 0.0000042901\n",
      "Epoch [9600/30000], Loss: 0.0000042969\n",
      "Epoch [9700/30000], Loss: 0.0000042298\n",
      "Epoch [9800/30000], Loss: 0.0000042004\n",
      "Epoch [9900/30000], Loss: 0.0000041717\n",
      "Epoch [10000/30000], Loss: 0.0000041433\n",
      "Epoch [10100/30000], Loss: 0.0000050906\n",
      "Epoch [10200/30000], Loss: 0.0000040872\n",
      "Epoch [10300/30000], Loss: 0.0000040592\n",
      "Epoch [10400/30000], Loss: 0.0000040325\n",
      "Epoch [10500/30000], Loss: 0.0000040038\n",
      "Epoch [10600/30000], Loss: 0.0000040856\n",
      "Epoch [10700/30000], Loss: 0.0000039483\n",
      "Epoch [10800/30000], Loss: 0.0000040843\n",
      "Epoch [10900/30000], Loss: 0.0000038926\n",
      "Epoch [11000/30000], Loss: 0.0000038644\n",
      "Epoch [11100/30000], Loss: 0.0000039413\n",
      "Epoch [11200/30000], Loss: 0.0000038093\n",
      "Epoch [11300/30000], Loss: 0.0000037814\n",
      "Epoch [11400/30000], Loss: 0.0000037637\n",
      "Epoch [11500/30000], Loss: 0.0000037247\n",
      "Epoch [11600/30000], Loss: 0.0000036961\n",
      "Epoch [11700/30000], Loss: 0.0000036750\n",
      "Epoch [11800/30000], Loss: 0.0000036392\n",
      "Epoch [11900/30000], Loss: 0.0000037225\n",
      "Epoch [12000/30000], Loss: 0.0000035821\n",
      "Epoch [12100/30000], Loss: 0.0000035531\n",
      "Epoch [12200/30000], Loss: 0.0000035284\n",
      "Epoch [12300/30000], Loss: 0.0000034959\n",
      "Epoch [12400/30000], Loss: 0.0000036504\n",
      "Epoch [12500/30000], Loss: 0.0000034384\n",
      "Epoch [12600/30000], Loss: 0.0000034092\n",
      "Epoch [12700/30000], Loss: 0.0000033826\n",
      "Epoch [12800/30000], Loss: 0.0000033519\n",
      "Epoch [12900/30000], Loss: 0.0000042687\n",
      "Epoch [13000/30000], Loss: 0.0000032946\n",
      "Epoch [13100/30000], Loss: 0.0000032657\n",
      "Epoch [13200/30000], Loss: 0.0000032372\n",
      "Epoch [13300/30000], Loss: 0.0000032086\n",
      "Epoch [13400/30000], Loss: 0.0000031798\n",
      "Epoch [13500/30000], Loss: 0.0000031518\n",
      "Epoch [13600/30000], Loss: 0.0000031228\n",
      "Epoch [13700/30000], Loss: 0.0000031195\n",
      "Epoch [13800/30000], Loss: 0.0000030659\n",
      "Epoch [13900/30000], Loss: 0.0000036707\n",
      "Epoch [14000/30000], Loss: 0.0000030101\n",
      "Epoch [14100/30000], Loss: 0.0000029822\n",
      "Epoch [14200/30000], Loss: 0.0000030491\n",
      "Epoch [14300/30000], Loss: 0.0000029264\n",
      "Epoch [14400/30000], Loss: 0.0000031668\n",
      "Epoch [14500/30000], Loss: 0.0000028715\n",
      "Epoch [14600/30000], Loss: 0.0000028441\n",
      "Epoch [14700/30000], Loss: 0.0000028224\n",
      "Epoch [14800/30000], Loss: 0.0000027903\n",
      "Epoch [14900/30000], Loss: 0.0000027838\n",
      "Epoch [15000/30000], Loss: 0.0000027371\n",
      "Epoch [15100/30000], Loss: 0.0000027103\n",
      "Epoch [15200/30000], Loss: 0.0000027330\n",
      "Epoch [15300/30000], Loss: 0.0000026582\n",
      "Epoch [15400/30000], Loss: 0.0000026319\n",
      "Epoch [15500/30000], Loss: 0.0000026065\n",
      "Epoch [15600/30000], Loss: 0.0000025809\n",
      "Epoch [15700/30000], Loss: 0.0000025894\n",
      "Epoch [15800/30000], Loss: 0.0000025308\n",
      "Epoch [15900/30000], Loss: 0.0000025054\n",
      "Epoch [16000/30000], Loss: 0.0000024835\n",
      "Epoch [16100/30000], Loss: 0.0000024570\n",
      "Epoch [16200/30000], Loss: 0.0000048530\n",
      "Epoch [16300/30000], Loss: 0.0000024087\n",
      "Epoch [16400/30000], Loss: 0.0000023847\n",
      "Epoch [16500/30000], Loss: 0.0000024681\n",
      "Epoch [16600/30000], Loss: 0.0000023390\n",
      "Epoch [16700/30000], Loss: 0.0000023162\n",
      "Epoch [16800/30000], Loss: 0.0000024525\n",
      "Epoch [16900/30000], Loss: 0.0000022708\n",
      "Epoch [17000/30000], Loss: 0.0000022481\n",
      "Epoch [17100/30000], Loss: 0.0000022279\n",
      "Epoch [17200/30000], Loss: 0.0000022039\n",
      "Epoch [17300/30000], Loss: 0.0000021849\n",
      "Epoch [17400/30000], Loss: 0.0000021606\n",
      "Epoch [17500/30000], Loss: 0.0000032424\n",
      "Epoch [17600/30000], Loss: 0.0000021181\n",
      "Epoch [17700/30000], Loss: 0.0000021016\n",
      "Epoch [17800/30000], Loss: 0.0000020772\n",
      "Epoch [17900/30000], Loss: 0.0000020565\n",
      "Epoch [18000/30000], Loss: 0.0000022310\n",
      "Epoch [18100/30000], Loss: 0.0000020174\n",
      "Epoch [18200/30000], Loss: 0.0000019982\n",
      "Epoch [18300/30000], Loss: 0.0000020069\n",
      "Epoch [18400/30000], Loss: 0.0000019597\n",
      "Epoch [18500/30000], Loss: 0.0000019406\n",
      "Epoch [18600/30000], Loss: 0.0000019235\n",
      "Epoch [18700/30000], Loss: 0.0000019039\n",
      "Epoch [18800/30000], Loss: 0.0000019593\n",
      "Epoch [18900/30000], Loss: 0.0000018680\n",
      "Epoch [19000/30000], Loss: 0.0000018631\n",
      "Epoch [19100/30000], Loss: 0.0000018332\n",
      "Epoch [19200/30000], Loss: 0.0000018157\n",
      "Epoch [19300/30000], Loss: 0.0000017991\n",
      "Epoch [19400/30000], Loss: 0.0000017822\n",
      "Epoch [19500/30000], Loss: 0.0000022052\n",
      "Epoch [19600/30000], Loss: 0.0000017498\n",
      "Epoch [19700/30000], Loss: 0.0000017337\n",
      "Epoch [19800/30000], Loss: 0.0000017523\n",
      "Epoch [19900/30000], Loss: 0.0000017028\n",
      "Epoch [20000/30000], Loss: 0.0000016874\n",
      "Epoch [20100/30000], Loss: 0.0000017141\n",
      "Epoch [20200/30000], Loss: 0.0000016578\n",
      "Epoch [20300/30000], Loss: 0.0000016429\n",
      "Epoch [20400/30000], Loss: 0.0000016286\n",
      "Epoch [20500/30000], Loss: 0.0000016143\n",
      "Epoch [20600/30000], Loss: 0.0000016159\n",
      "Epoch [20700/30000], Loss: 0.0000015864\n",
      "Epoch [20800/30000], Loss: 0.0000020353\n",
      "Epoch [20900/30000], Loss: 0.0000015593\n",
      "Epoch [21000/30000], Loss: 0.0000015458\n",
      "Epoch [21100/30000], Loss: 0.0000015363\n",
      "Epoch [21200/30000], Loss: 0.0000015207\n",
      "Epoch [21300/30000], Loss: 0.0000015079\n",
      "Epoch [21400/30000], Loss: 0.0000015052\n",
      "Epoch [21500/30000], Loss: 0.0000014832\n",
      "Epoch [21600/30000], Loss: 0.0000015518\n",
      "Epoch [21700/30000], Loss: 0.0000014592\n",
      "Epoch [21800/30000], Loss: 0.0000014472\n",
      "Epoch [21900/30000], Loss: 0.0000014362\n",
      "Epoch [22000/30000], Loss: 0.0000014242\n",
      "Epoch [22100/30000], Loss: 0.0000014365\n",
      "Epoch [22200/30000], Loss: 0.0000014018\n",
      "Epoch [22300/30000], Loss: 0.0000031167\n",
      "Epoch [22400/30000], Loss: 0.0000013802\n",
      "Epoch [22500/30000], Loss: 0.0000013694\n",
      "Epoch [22600/30000], Loss: 0.0000013633\n",
      "Epoch [22700/30000], Loss: 0.0000013485\n",
      "Epoch [22800/30000], Loss: 0.0000019089\n",
      "Epoch [22900/30000], Loss: 0.0000013283\n",
      "Epoch [23000/30000], Loss: 0.0000013183\n",
      "Epoch [23100/30000], Loss: 0.0000013144\n",
      "Epoch [23200/30000], Loss: 0.0000012990\n",
      "Epoch [23300/30000], Loss: 0.0000013146\n",
      "Epoch [23400/30000], Loss: 0.0000012800\n",
      "Epoch [23500/30000], Loss: 0.0000012706\n",
      "Epoch [23600/30000], Loss: 0.0000013970\n",
      "Epoch [23700/30000], Loss: 0.0000012529\n",
      "Epoch [23800/30000], Loss: 0.0000012443\n",
      "Epoch [23900/30000], Loss: 0.0000012353\n",
      "Epoch [24000/30000], Loss: 0.0000012271\n",
      "Epoch [24100/30000], Loss: 0.0000012180\n",
      "Epoch [24200/30000], Loss: 0.0000012119\n",
      "Epoch [24300/30000], Loss: 0.0000012012\n",
      "Epoch [24400/30000], Loss: 0.0000011927\n",
      "Epoch [24500/30000], Loss: 0.0000011851\n",
      "Epoch [24600/30000], Loss: 0.0000011767\n",
      "Epoch [24700/30000], Loss: 0.0000013464\n",
      "Epoch [24800/30000], Loss: 0.0000011610\n",
      "Epoch [24900/30000], Loss: 0.0000011529\n",
      "Epoch [25000/30000], Loss: 0.0000011535\n",
      "Epoch [25100/30000], Loss: 0.0000011375\n",
      "Epoch [25200/30000], Loss: 0.0000011550\n",
      "Epoch [25300/30000], Loss: 0.0000011225\n",
      "Epoch [25400/30000], Loss: 0.0000011171\n",
      "Epoch [25500/30000], Loss: 0.0000011081\n",
      "Epoch [25600/30000], Loss: 0.0000011005\n",
      "Epoch [25700/30000], Loss: 0.0000011640\n",
      "Epoch [25800/30000], Loss: 0.0000010866\n",
      "Epoch [25900/30000], Loss: 0.0000010797\n",
      "Epoch [26000/30000], Loss: 0.0000012658\n",
      "Epoch [26100/30000], Loss: 0.0000010660\n",
      "Epoch [26200/30000], Loss: 0.0000010591\n",
      "Epoch [26300/30000], Loss: 0.0000010531\n",
      "Epoch [26400/30000], Loss: 0.0000010459\n",
      "Epoch [26500/30000], Loss: 0.0000014604\n",
      "Epoch [26600/30000], Loss: 0.0000010328\n",
      "Epoch [26700/30000], Loss: 0.0000010262\n",
      "Epoch [26800/30000], Loss: 0.0000010305\n",
      "Epoch [26900/30000], Loss: 0.0000010138\n",
      "Epoch [27000/30000], Loss: 0.0000010074\n",
      "Epoch [27100/30000], Loss: 0.0000010050\n",
      "Epoch [27200/30000], Loss: 0.0000009954\n",
      "Epoch [27300/30000], Loss: 0.0000009892\n",
      "Epoch [27400/30000], Loss: 0.0000009953\n",
      "Epoch [27500/30000], Loss: 0.0000009773\n",
      "Epoch [27600/30000], Loss: 0.0000009767\n",
      "Epoch [27700/30000], Loss: 0.0000009656\n",
      "Epoch [27800/30000], Loss: 0.0000009598\n",
      "Epoch [27900/30000], Loss: 0.0000009831\n",
      "Epoch [28000/30000], Loss: 0.0000009484\n",
      "Epoch [28100/30000], Loss: 0.0000009426\n",
      "Epoch [28200/30000], Loss: 0.0000009522\n",
      "Epoch [28300/30000], Loss: 0.0000009317\n",
      "Epoch [28400/30000], Loss: 0.0000009262\n",
      "Epoch [28500/30000], Loss: 0.0000010996\n",
      "Epoch [28600/30000], Loss: 0.0000009154\n",
      "Epoch [28700/30000], Loss: 0.0000009099\n",
      "Epoch [28800/30000], Loss: 0.0000009063\n",
      "Epoch [28900/30000], Loss: 0.0000008995\n",
      "Epoch [29000/30000], Loss: 0.0000013488\n",
      "Epoch [29100/30000], Loss: 0.0000008890\n",
      "Epoch [29200/30000], Loss: 0.0000009911\n",
      "Epoch [29300/30000], Loss: 0.0000008787\n",
      "Epoch [29400/30000], Loss: 0.0000008736\n",
      "Epoch [29500/30000], Loss: 0.0000011417\n",
      "Epoch [29600/30000], Loss: 0.0000008638\n",
      "Epoch [29700/30000], Loss: 0.0000008589\n",
      "Epoch [29800/30000], Loss: 0.0000010041\n",
      "Epoch [29900/30000], Loss: 0.0000008491\n",
      "Epoch [30000/30000], Loss: 0.0000008442\n",
      "Time elapsed: 280.25 seconds\n"
     ]
    }
   ],
   "source": [
    "model = MLP(input_size, hidden_size)\n",
    "\n",
    "criterion = nn.MSELoss()\n",
    "optimizer = optim.Adam(model.parameters(), lr=learning_rate)\n",
    "\n",
    "train_history = train_model(model, criterion, optimizer, x_train, y_train, num_epochs)"
   ]
  },
  {
   "cell_type": "code",
   "execution_count": 110,
   "id": "22365b89-3fbf-48c2-9096-f03ceada4617",
   "metadata": {},
   "outputs": [
    {
     "name": "stdout",
     "output_type": "stream",
     "text": [
      "----------------------------------------------------------------\n",
      "        Layer (type)               Output Shape         Param #\n",
      "================================================================\n",
      "            Linear-1                  [-1, 200]             600\n",
      "           Sigmoid-2                  [-1, 200]               0\n",
      "            Linear-3                    [-1, 1]             201\n",
      "================================================================\n",
      "Total params: 801\n",
      "Trainable params: 801\n",
      "Non-trainable params: 0\n",
      "----------------------------------------------------------------\n",
      "Input size (MB): 0.00\n",
      "Forward/backward pass size (MB): 0.00\n",
      "Params size (MB): 0.00\n",
      "Estimated Total Size (MB): 0.01\n",
      "----------------------------------------------------------------\n"
     ]
    }
   ],
   "source": [
    "summary(model, (input_size,)) # (input_size, ) - input shape"
   ]
  },
  {
   "cell_type": "code",
   "execution_count": 111,
   "id": "57d64832-5103-4432-a415-6fe9635f7f4e",
   "metadata": {},
   "outputs": [
    {
     "data": {
      "image/png": "[encoded data removed]",
      "text/plain": [
       "<Figure size 1000x600 with 1 Axes>"
      ]
     },
     "metadata": {},
     "output_type": "display_data"
    }
   ],
   "source": [
    "plt.figure(figsize=(10, 6))\n",
    "plt.plot(train_history, label='MSE', color='b')\n",
    "plt.xlabel('Epochs')\n",
    "plt.ylabel('MSE')\n",
    "plt.title('Learning curve for y(t, α)')\n",
    "plt.legend()\n",
    "plt.grid(False)\n",
    "plt.show()"
   ]
  },
  {
   "cell_type": "markdown",
   "id": "af6089dd-6192-40b7-ba2d-890d15a31f13",
   "metadata": {},
   "source": [
    "### Model testing"
   ]
  },
  {
   "cell_type": "code",
   "execution_count": 112,
   "id": "d7edbc3d-33a1-4130-9c8b-6e2ee373dc53",
   "metadata": {},
   "outputs": [
    {
     "name": "stdout",
     "output_type": "stream",
     "text": [
      "Test Loss: 0.0000004167\n"
     ]
    }
   ],
   "source": [
    "test_loss = test_model(model, criterion, x_test, y_test)\n",
    "print(f\"Test Loss: {test_loss:.10f}\")"
   ]
  },
  {
   "cell_type": "markdown",
   "id": "fd817e94-9675-499b-90cc-b28cbfd0ac85",
   "metadata": {},
   "source": [
    "## Model usage"
   ]
  },
  {
   "cell_type": "code",
   "execution_count": 113,
   "id": "f7ffa4b4-c3b4-4091-97de-9a0039b3726d",
   "metadata": {},
   "outputs": [
    {
     "data": {
      "text/plain": [
       "((200,), (200, 2), (1,), (200,))"
      ]
     },
     "execution_count": 113,
     "metadata": {},
     "output_type": "execute_result"
    }
   ],
   "source": [
    "bs1, we1, bs2, we2 = extract_model_params(model)\n",
    "bs1.shape, we1.shape, bs2.shape, we2.shape"
   ]
  },
  {
   "cell_type": "code",
   "execution_count": 114,
   "id": "f6878af8-837a-4d49-a8c0-af3d3ea67db4",
   "metadata": {},
   "outputs": [
    {
     "data": {
      "text/plain": [
       "array([mpf('-1.7120634825296162')], dtype=object)"
      ]
     },
     "execution_count": 114,
     "metadata": {},
     "output_type": "execute_result"
    }
   ],
   "source": [
    "nni = get_NN_integral(a1, b1, a2, b2, bs1, we1, bs2, we2)\n",
    "\n",
    "nni"
   ]
  },
  {
   "cell_type": "code",
   "execution_count": null,
   "id": "8ce02571-cdc8-4e3e-8152-f9713d14c3e5",
   "metadata": {},
   "outputs": [],
   "source": []
  }
 ],
 "metadata": {
  "kernelspec": {
   "display_name": "Python 3 (ipykernel)",
   "language": "python",
   "name": "python3"
  },
  "language_info": {
   "codemirror_mode": {
    "name": "ipython",
    "version": 3
   },
   "file_extension": ".py",
   "mimetype": "text/x-python",
   "name": "python",
   "nbconvert_exporter": "python",
   "pygments_lexer": "ipython3",
   "version": "3.11.5"
  }
 },
 "nbformat": 4,
 "nbformat_minor": 5
}
