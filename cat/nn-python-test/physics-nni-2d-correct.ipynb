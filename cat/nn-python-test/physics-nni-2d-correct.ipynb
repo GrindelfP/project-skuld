{
 "cells": [
  {
   "cell_type": "code",
   "execution_count": 85,
   "id": "aaf1aa73-52ba-4046-8c4b-f8e97779c57c",
   "metadata": {},
   "outputs": [],
   "source": [
    "import torch\n",
    "import torch.nn as nn\n",
    "import torch.optim as optim\n",
    "from torchsummary import summary\n",
    "\n",
    "import numpy as np\n",
    "\n",
    "import matplotlib.pyplot as plt\n",
    "\n",
    "from mpmath import polylog\n",
    "\n",
    "from sklearn.model_selection import train_test_split\n",
    "\n",
    "import time\n"
   ]
  },
  {
   "cell_type": "code",
   "execution_count": 2,
   "id": "e1464279-6150-4c6b-ad05-cec42ce3ad80",
   "metadata": {},
   "outputs": [],
   "source": [
    "def generate_data(func, lower, upper, n_samples=100, n_dim=1):\n",
    "    \"\"\"\n",
    "    Generates data in the form of a 2D (1D in case the function \n",
    "    is single-variable) tensor of variables for the function and neural network input\n",
    "    as well as the function values for the generated tensor of variables.\n",
    "\n",
    "    @param func      function to provide values for the variables\n",
    "    @param lower     lower bounds of variables (list, tensor or scalar)\n",
    "    @param upper     upper bounds of variables (list, tensor or scalar)\n",
    "    @param n_samples number of points of data to generate\n",
    "                     (default value is 100)\n",
    "    @param n_dim     number of dimensions of the function func\n",
    "                     (default value is 1)\n",
    "\n",
    "    @returns         variables x and function values y\n",
    "    \"\"\"\n",
    "    X_list = [torch.linspace(lower[n], upper[n], n_samples).view(n_samples, 1) for n in range(n_dim)]\n",
    "    X = torch.cat(X_list, dim=1)\n",
    "    \n",
    "    y = func(X).view(n_samples, 1)\n",
    "    \n",
    "    return X, y"
   ]
  },
  {
   "cell_type": "code",
   "execution_count": 3,
   "id": "554dc961-c101-49cf-9f3d-3e3a44c3e459",
   "metadata": {},
   "outputs": [],
   "source": [
    "def find_upper_bound(X, y, epsilon, points_limit=1, lower_index=0):\n",
    "    \"\"\"\n",
    "        Finds the upper bound of integration. In this case a point, \n",
    "        where the next function value is greater/lesser than the previous\n",
    "        less than a given threshold.\n",
    "\n",
    "        @param X            variable values\n",
    "        @param y            function values\n",
    "        @param epsilon      threshold\n",
    "        @param points_limit limit of bound points number \n",
    "        @param lower_index  starting X value for the search\n",
    "        \n",
    "        @returns       the required variable values (can be many) \n",
    "                       or empty list if none found\n",
    "    \"\"\"\n",
    "    X_points = []\n",
    "    \n",
    "    if len(X) != len(y):\n",
    "        raise ValueError(\"There numbers of variable and function values are inequal!\")\n",
    "    \n",
    "    for i in range(lower_index, len(y) - 1):\n",
    "        diff = torch.abs(y[i] - y[i + 1])\n",
    "        if diff < epsilon:\n",
    "            X_points.append(X[i])\n",
    "        if len(X_points) == points_limit:\n",
    "            break\n",
    "            \n",
    "    return X_points"
   ]
  },
  {
   "cell_type": "code",
   "execution_count": 86,
   "id": "0d4589fd-5817-4926-99b9-56cf4df56bea",
   "metadata": {},
   "outputs": [],
   "source": [
    "class MLP(nn.Module):\n",
    "    \"\"\"\n",
    "        Нейросеть, которая будет обучаться приближать функцию одной переменной.\n",
    "        \n",
    "        Нейросеть имеет архитектуру:\n",
    "\n",
    "        Входной слой (1 нейрон для переменной функции + смещение, линейная функция активации)\n",
    "        Скрытый слой (произвольное количество нейронов + смещение, функция активации - сигмоида)\n",
    "        Выходной слой (1 нейрон для приближенного значения функции, линейная функция активации)\n",
    "    \"\"\"\n",
    "    def __init__(self, input_size, hidden_size):\n",
    "        \"\"\"\n",
    "            Конструктор для нейросети.\n",
    "            @param self        нейросеть (необходим для включения в класс)\n",
    "            @param hidden_size размер скрытого слоя (размеры входного и выходного слоёв равны одному\n",
    "                               в рамках данной задачи, так как у функции одна переменная и \n",
    "                               задача сводится к описанию функции, то есть числа, скаляра).\n",
    "        \"\"\"\n",
    "        super(MLP, self).__init__()\n",
    "        self.input_hidden_layer = nn.Linear(input_size, hidden_size) # инициализация входного и скрытого слоя, \n",
    "                                                     # размеры: 1 --> размер скрытого слоя\n",
    "        self.sigmoid_activation = nn.Sigmoid() # инициализация функции активации скрытого слоя\n",
    "        self.output_layer = nn.Linear(hidden_size, 1) # инициализация выходного слоя, \n",
    "                                                      # размеры: размер скрытого слоя --> 1\n",
    "    \n",
    "    def forward(self, x):\n",
    "        \"\"\"\n",
    "            Функция распространения данных через нейросеть вперёд.\n",
    "           \n",
    "            @param self   нейросеть (необходим для включения в класс)\n",
    "            @param x      данные\n",
    "           \n",
    "            @returns выход в выходном нейроне\n",
    "        \"\"\"\n",
    "        x = self.input_hidden_layer(x) # данные прошли входной слой и аккумулирвоаны в скрытом слое\n",
    "        x = self.sigmoid_activation(x) # данные прошли функцию активации скрытого слоя\n",
    "        x = self.output_layer(x) # данные прошли выходной слой\n",
    "        \n",
    "        return x\n",
    "\n",
    "\n",
    "def train_model(model, criterion, optimizer, x_train, y_train, epochs):\n",
    "    \"\"\"\n",
    "        Trains the model.\n",
    "        \n",
    "        @param model        The model to be trained\n",
    "        @param criterion    Loss function\n",
    "        @param optimizer    Optimization algorithm\n",
    "        @param x_train      Training inputs\n",
    "        @param y_train      True labels\n",
    "        @param epochs       Number of training epochs\n",
    "    \"\"\"\n",
    "    loss_history = [] # история обучения (изменения функции потерь)\n",
    "    start_time = time.time()\n",
    "    for epoch in range(epochs):\n",
    "        predictions = model(x_train) # все переменные проводятся через нейросеть \n",
    "                                     # и формируются предскзания значений функции\n",
    "        loss = criterion(predictions, y_train) # вычисляется функция потерь на данной эпохе\n",
    "\n",
    "        optimizer.zero_grad() # обнуляются градиенты перед обратным распространением ошибки\n",
    "        loss.backward() # обратное распространение ошибки\n",
    "        optimizer.step() # шаг оптимизации - обновление параметров модели \n",
    "\n",
    "        loss_history.append(loss.item()) # запись текущей функции потерь\n",
    "\n",
    "        if (epoch + 1) % 100 == 0:\n",
    "            print(f'Epoch [{epoch + 1}/{epochs}], Loss: {loss.item():.10f}') # вывод информации об обучении\n",
    "    total_time = time.time() - start_time  # Общее время обучения\n",
    "    print(f'Time elapsed: {total_time:.2f} seconds')\n",
    "    return loss_history # возвращается история обучения\n",
    "\n",
    "\n",
    "def test_model(model, criterion, x_test, y_test):\n",
    "    \"\"\"\n",
    "        Tests the model.\n",
    "        \n",
    "        @param model        The trained model\n",
    "        @param criterion    Loss function\n",
    "        @param x_test       Test inputs\n",
    "        @param y_test       True labels\n",
    "    \"\"\"\n",
    "    with torch.no_grad():  # отключение расчета градиентов \n",
    "                           # (расчет градиентов может происходить по умолчанию \n",
    "                           # даже без использования их потом, что излишне нагружает память)\n",
    "        predictions = model(x_test)  # тестовые переменные проводятся через обученную модель\n",
    "        loss = criterion(predictions, y_test)  # вычисляется функция потерь для тестового набора\n",
    "\n",
    "    # Возвращаем вычисленную функцию потерь\n",
    "    return loss.item()  # Возвращаем скалярное значение ошибки\n",
    "\n",
    "\n",
    "def predict_with_model(model, x_test):\n",
    "    \"\"\"\n",
    "        Uses the model to predict values based on x_test arguments.\n",
    "    \n",
    "        @param model        The trained model\n",
    "        @param x_test       Test inputs\n",
    "    \"\"\"\n",
    "    with torch.no_grad():\n",
    "        predictions = model(x_test)\n",
    "\n",
    "    return predictions\n",
    "\n",
    "\n",
    "def extract_model_params(model):\n",
    "    \"\"\"\n",
    "        Функция извлечения параметров нейросети.\n",
    "        @param model модель, из которой необходимо извлеч параметры\n",
    "        @returns 4 объекта типа numpy.array: смещения 1-го слоя, веса 1-го слоя,\n",
    "                 смещения 2-го слоя, веса 2-го слоя\n",
    "    \"\"\"\n",
    "    # detach() - возвращает выбранный параметр, numpy() конвертирует в формат numpy.array,\n",
    "    # flatten() для весов преобразует векторы-столбцы в векторы-строки.\n",
    "    b1 = model.input_hidden_layer.bias.detach().numpy() \n",
    "    w1 = model.input_hidden_layer.weight.detach().numpy()\n",
    "    b2 = model.output_layer.bias.detach().numpy() \n",
    "    w2 = model.output_layer.weight.detach().numpy().flatten()\n",
    "    \n",
    "    return b1, w1, b2, w2"
   ]
  },
  {
   "cell_type": "markdown",
   "id": "445f7e14-50bc-43d4-a533-f2e243fd373d",
   "metadata": {},
   "source": [
    "# Integration function"
   ]
  },
  {
   "cell_type": "code",
   "execution_count": 140,
   "id": "1c6c33b0-a2c0-485b-ba2d-609f980fb818",
   "metadata": {},
   "outputs": [],
   "source": [
    "def get_NN_integral(alpha1, beta1, alpha2, beta2, b1, w1, b2, w2):\n",
    "    \"\"\"\n",
    "        Функция, реализующая метод численного интегрирования функции одной переменной\n",
    "        на основе параметров нейросети. Реализует формулы (6.1) и (6.2).\n",
    "\n",
    "        @param alpha нижняя граница интегрирования\n",
    "        @param beta  верхняя граница интегрирования\n",
    "        @param b1    смещения между входным и скрытым слоями\n",
    "        @param w1    веса между входным и скрытым слоями\n",
    "        @param b2    смещения между скрытым и выходным слоями\n",
    "        @param w2    веса между скрытым и выходным слоями\n",
    "\n",
    "        @returns численный интеграл на основе параметров нейросети.\n",
    "    \"\"\"\n",
    "    def Phi_j(alpha1, beta1, alpha2, beta2, b1_j, w1_1j, w1_2j):\n",
    "        \"\"\"\n",
    "            Вложенная функция, реализующая разность полилогарифмов (6.2).\n",
    "\n",
    "            @param alpha нижняя граница интегрирования\n",
    "            @param beta  верхняя граница интегрирования\n",
    "            @param b1_j  j-е смещение между входным и скрытым слоями\n",
    "            @param w1_j  j-тый вес между входным и скрытым слоями\n",
    "\n",
    "            @returns разность полилогарифмов (6.2)\n",
    "        \"\"\"\n",
    "        term_1 = polylog(2, -np.exp(-b1_j - w1_1j * alpha1 - w1_2j * alpha2))\n",
    "        term_2 = polylog(2, -np.exp(-b1_j - w1_1j * alpha1 - w1_2j * beta2))\n",
    "        term_3 = polylog(2, -np.exp(-b1_j - w1_1j * beta1 - w1_2j * alpha2))\n",
    "        term_4 = polylog(2, -np.exp(-b1_j - w1_1j * beta1 - w1_2j * beta2))\n",
    "        \n",
    "        return term_1 - term_2 - term_3 + term_4\n",
    "\n",
    "    bounds_factor = (beta2 - alpha2) * (beta1 - alpha1)\n",
    "    \n",
    "    integral_sum = 0 \n",
    "    \n",
    "    for w2_j, w1_1j, w1_2j, b1_j in zip(w2, w1[0], w1[1], b1):\n",
    "        phi_j = Phi_j(alpha1, beta1, alpha2, beta2, b1_j, w1_1j, w1_2j) \n",
    "        integral_sum += w2_j * (bounds_factor + phi_j / (w1_1j * w1_2j))\n",
    "    \n",
    "    return b2 * bounds_factor + integral_sum "
   ]
  },
  {
   "cell_type": "markdown",
   "id": "1b4b110d-a9fc-4b17-92e9-235735d9a07b",
   "metadata": {},
   "source": [
    "# Physics task: Definition\n",
    "\n",
    "\\begin{equation}\n",
    "    \\int_{0}^{1}d\\alpha\\{\\alpha^{a}(1 - \\alpha)^b\\}\\int_{0}^{\\infty}dt\\{\\frac{t^m}{(1+t)^n}F[z_{0}]\\} \\equiv I(a, b, m, n; F[z_{0}])  \\tag{1}\n",
    "\\end{equation}\n",
    "\\begin{equation}   \n",
    "    F[z_0] = \\exp[-2z_0]  \\tag{2}\n",
    "\\end{equation}\n",
    "\\begin{equation} \n",
    "    z_0 = tD + \\frac{t}{1 + t}R^2  \\tag{3}\n",
    "\\end{equation}\n",
    "\\begin{equation}     \n",
    "    D = \\alpha_1(b_1^{2}P^2 + m_1^2) + \\alpha_2(b_2^{2}P^2 + m_2^2)  \\tag{4}\n",
    "\\end{equation}\n",
    "\\begin{equation} \n",
    "        R^2 = (\\alpha_1^{2}b_1^2 + \\alpha_2^{2}b_2^2 + 2\\alpha_{1}\\alpha_{2}b_{1}b_2)P^2  \\tag{5}\n",
    "\\end{equation}\n",
    "\\begin{equation} \n",
    "    b_1 = -\\frac{m_1}{m_1 + m_2}  \\tag{6}\n",
    "\\end{equation}\n",
    "\\begin{equation} \n",
    "    b_2 = \\frac{m_2}{m_1 + m_2}  \\tag{7}\n",
    "\\end{equation}\n",
    "\\begin{equation} \n",
    "    m_1 = m_2 = 0.7083333, P^2 = -1.665046  \\tag{8}\n",
    "\\end{equation}"
   ]
  },
  {
   "cell_type": "markdown",
   "id": "940e82ea-bc0b-4ee2-8925-12fa809ededc",
   "metadata": {},
   "source": [
    "## Constants: general\n",
    "\n",
    "These constants will be used for all of the calculations."
   ]
  },
  {
   "cell_type": "code",
   "execution_count": 6,
   "id": "02d1cfca-8e4d-4732-b848-0cbb8a590c48",
   "metadata": {},
   "outputs": [],
   "source": [
    "m1 = 0.7083333\n",
    "m2 = 0.7083333\n",
    "PP = -1.665046"
   ]
  },
  {
   "cell_type": "markdown",
   "id": "26100893-5592-4805-8bfe-c5282b037e0a",
   "metadata": {},
   "source": [
    "## Alpha function\n",
    "\n",
    "\\begin{equation}\n",
    "    \\alpha^{a}(1 - \\alpha)^b\\ \\tag{1.1}\n",
    "\\end{equation}"
   ]
  },
  {
   "cell_type": "code",
   "execution_count": 7,
   "id": "45c91dc5-249a-4ea1-9952-3ce613412b13",
   "metadata": {},
   "outputs": [],
   "source": [
    "def alpha_func(alpha):\n",
    "    return alpha ** a * (1 - alpha) ** b"
   ]
  },
  {
   "cell_type": "markdown",
   "id": "f4817854-ef15-4073-a5fb-04a3cd498ec7",
   "metadata": {},
   "source": [
    "## Second factor function\n",
    "\n",
    "\\begin{equation}\n",
    "   \\frac{t^m}{(1+t)^n}F[z_{0}]  \\tag{1.2}\n",
    "\\end{equation}\n",
    "\n",
    "As far as the integral function converges quickly the infinite upper bound of integration will be replaced with a constant. Later we will decide which constant to choose."
   ]
  },
  {
   "cell_type": "code",
   "execution_count": 8,
   "id": "9da3f653-b81d-406b-9bed-d7b2b67fb37f",
   "metadata": {},
   "outputs": [],
   "source": [
    "def b1_func():\n",
    "    return - m1 / (m1 + m2)\n",
    "\n",
    "def b2_func():\n",
    "    return m2 / (m1 + m2)\n",
    "\n",
    "def D_func(alpha):\n",
    "    b1b1 = b1_func() ** 2\n",
    "    b2b2 = b2_func() ** 2\n",
    "    alpha1 = alpha\n",
    "    alpha2 = 1 - alpha1\n",
    "    \n",
    "    return alpha1 * (b1b1 * PP + m1**2) + alpha2 * (b2b2 * PP + m2**2)\n",
    "\n",
    "def RR_func(alpha):\n",
    "    b1 = b1_func()\n",
    "    b2 = b2_func()\n",
    "    b1b1 = b1 ** 2\n",
    "    b2b2 = b2 ** 2\n",
    "    alpha1 = alpha\n",
    "    alpha2 = 1 - alpha1\n",
    "    \n",
    "    return (alpha1**2 * b1b1 + alpha2**2 * b2b2 + 2 * alpha1 * alpha2 * b1 * b2) * PP\n",
    "\n",
    "def z0_func(t, alpha):\n",
    "    D = D_func(alpha)\n",
    "    RR = RR_func(alpha)\n",
    "    return t * D + t / (1 + t) * RR\n",
    "\n",
    "def F_func(t, alpha):\n",
    "    z_0 = z0_func(t, alpha)\n",
    "    return np.exp(-2*z_0)"
   ]
  },
  {
   "cell_type": "markdown",
   "id": "fe2cca69-abbb-4c99-a268-53d18d0244a5",
   "metadata": {},
   "source": [
    "Для того, чтобы определить подынтегральную функцию и на её основе создать обучающую и тестовую выборки необходимо преобразовать выражение (1):\n",
    "\n",
    "\\begin{equation}\n",
    " \\int_{0}^{1} \\alpha^{a}(1 - \\alpha)^bd\\alpha \\int_{0}^{\\infty}\\frac{t^m}{(1+t)^n}F[z_{0}]dt = \n",
    " \\int_{0}^{1} \\int_{0}^{\\infty}\\frac{t^m}{(1+t)^n}F[z_{0}]\\alpha^{a}(1 - \\alpha)^bdtd\\alpha \n",
    "\\end{equation}"
   ]
  },
  {
   "cell_type": "code",
   "execution_count": 9,
   "id": "a78367e0-98e0-4294-877f-9f4333138543",
   "metadata": {},
   "outputs": [],
   "source": [
    "def t_alpha_func(t, alpha):\n",
    "    return (t ** m) / ((1 + t) ** n) * F_func(t, alpha) * alpha_func(alpha)\n",
    "\n",
    "def main_function(X):\n",
    "    t = X[:, 0]\n",
    "    alpha = X[:, 1]\n",
    "\n",
    "    return t_alpha_func(t, alpha)"
   ]
  },
  {
   "cell_type": "markdown",
   "id": "e39a6a8a-e666-46ef-8f92-b2e817ac37b7",
   "metadata": {},
   "source": [
    "## $F[z_o]$: addition\n",
    "\n",
    "The further computation will require a derivative of the (2) function, so it should be declared here. The derivative is equal to\n",
    "\n",
    "\\begin{equation}\n",
    "    F'[z_0] = -2\\exp[-2z_0] \\tag{9}\n",
    "\\end{equation}"
   ]
  },
  {
   "cell_type": "code",
   "execution_count": 10,
   "id": "57cd3825-b06d-4fe9-8c74-ad0a23b2f26f",
   "metadata": {},
   "outputs": [],
   "source": [
    "def F_derivative(t):\n",
    "    return -2 * F_func(t)\n",
    "\n",
    "def t_func_with_F_der(t):\n",
    "    return t ** m / (1 + t) ** n * F_derivative(t)    "
   ]
  },
  {
   "cell_type": "markdown",
   "id": "7aa957bb-0543-4dba-bab5-d2a06d15a6b3",
   "metadata": {},
   "source": [
    "# NN Integration: first run\n",
    "\n",
    "The constants are:"
   ]
  },
  {
   "cell_type": "code",
   "execution_count": 11,
   "id": "e88b5e98-a361-4edd-bf8e-89ec2651ac4d",
   "metadata": {},
   "outputs": [],
   "source": [
    "a = 0\n",
    "b = 1\n",
    "m = 2\n",
    "n = 2"
   ]
  },
  {
   "cell_type": "markdown",
   "id": "4020fff8-8d1a-4d2d-b737-413b7bfd9e2b",
   "metadata": {},
   "source": [
    "## Dataset"
   ]
  },
  {
   "cell_type": "code",
   "execution_count": 12,
   "id": "570dfb11-959e-4371-a644-e094715a2f77",
   "metadata": {},
   "outputs": [],
   "source": [
    "X, y = generate_data(func=main_function, lower=[0, 0], upper=[100, 1], n_samples=10000, n_dim=2)"
   ]
  },
  {
   "cell_type": "code",
   "execution_count": 13,
   "id": "730a1c53-a302-4d43-aa64-7e6df7d492fb",
   "metadata": {},
   "outputs": [
    {
     "data": {
      "image/png": "[encoded data removed]",
      "text/plain": [
       "<Figure size 640x480 with 1 Axes>"
      ]
     },
     "metadata": {},
     "output_type": "display_data"
    }
   ],
   "source": [
    "t = X[:, 0].numpy()\n",
    "y_np = y.numpy()\n",
    "plt.plot(t, y)\n",
    "plt.xlabel('t')\n",
    "plt.ylabel('y')\n",
    "plt.title('Function Plot of y(t, α)')\n",
    "plt.grid(True)\n",
    "plt.show()"
   ]
  },
  {
   "cell_type": "code",
   "execution_count": 14,
   "id": "27730b4c-85eb-46bb-8f93-eb636ecc2617",
   "metadata": {},
   "outputs": [
    {
     "data": {
      "image/png": "[encoded data removed]",
      "text/plain": [
       "<Figure size 640x480 with 1 Axes>"
      ]
     },
     "metadata": {},
     "output_type": "display_data"
    }
   ],
   "source": [
    "alpha = X[:, 1].numpy()\n",
    "y_np = y.numpy()\n",
    "plt.plot(alpha, y_np)\n",
    "plt.xlabel('α')\n",
    "plt.ylabel('y')\n",
    "plt.title('Function Plot of y(t, α)')\n",
    "plt.grid(True)\n",
    "plt.show()"
   ]
  },
  {
   "cell_type": "markdown",
   "id": "0bdd495f-105f-47b2-b000-6ee407cd87b9",
   "metadata": {},
   "source": [
    "As far as the t variable has its upper bound equal to $\\infty$ let's find the point at which the $y(t)$ stops to change rapidly $|y(t_i) - y(t_{i+1})| < \\epsilon)$. This $t_i$ is going to be the upper bound of the integration."
   ]
  },
  {
   "cell_type": "code",
   "execution_count": 15,
   "id": "2cba1334-62e7-4af1-9fe7-7fc725bc2d74",
   "metadata": {},
   "outputs": [
    {
     "data": {
      "text/plain": [
       "[tensor(53.0053)]"
      ]
     },
     "execution_count": 15,
     "metadata": {},
     "output_type": "execute_result"
    }
   ],
   "source": [
    "upper_bound_t = find_upper_bound(X=X[:, 0], y=y, epsilon=0.0000001, points_limit=1, lower_index=2000) # the 2000 value should be around t=20 based on graph\n",
    "upper_bound_t"
   ]
  },
  {
   "cell_type": "markdown",
   "id": "d7f7b32e-9347-4f17-939d-b57669c45018",
   "metadata": {},
   "source": [
    "We see that function $y(t)$ should be integrated within bounds $[0, $ upper_bound_t$]$"
   ]
  },
  {
   "cell_type": "markdown",
   "id": "130e4634-454a-4d60-b91a-3b26cee3a879",
   "metadata": {},
   "source": [
    "## Integration bounds\n",
    "\n",
    "$a_1, b_1$ for (1.1), $a_2, b_2$ for (1.2)."
   ]
  },
  {
   "cell_type": "code",
   "execution_count": 18,
   "id": "ae7ff608-418c-4e2b-a326-ac75b8743414",
   "metadata": {},
   "outputs": [
    {
     "data": {
      "text/plain": [
       "(0.0, 0.0, 1.0, 53.00530242919922)"
      ]
     },
     "execution_count": 18,
     "metadata": {},
     "output_type": "execute_result"
    }
   ],
   "source": [
    "a1 = 0.0000000 # α lower\n",
    "b1 = 1.0000000 # α upper\n",
    "a2 = 0.0000000 # t lower\n",
    "b2 = upper_bound_t[0].item() # t upper\n",
    "\n",
    "a1, a2, b1, b2"
   ]
  },
  {
   "cell_type": "markdown",
   "id": "4d815de3-7191-441f-9f83-a21f5d937744",
   "metadata": {},
   "source": [
    "## Datasets based on bounds"
   ]
  },
  {
   "cell_type": "code",
   "execution_count": 19,
   "id": "92047595-3666-491f-be8d-81afbfb79bf2",
   "metadata": {},
   "outputs": [],
   "source": [
    "X, y = generate_data(func=main_function, lower=[a2, a1], upper=[b2, b1], n_samples=10000, n_dim=2)"
   ]
  },
  {
   "cell_type": "code",
   "execution_count": 20,
   "id": "9907bab6-73ed-4eeb-b98c-0d89b77dae6c",
   "metadata": {},
   "outputs": [
    {
     "data": {
      "image/png": "[encoded data removed]",
      "text/plain": [
       "<Figure size 640x480 with 1 Axes>"
      ]
     },
     "metadata": {},
     "output_type": "display_data"
    }
   ],
   "source": [
    "t = X[:, 0].numpy()\n",
    "y_np = y.numpy()\n",
    "plt.plot(t, y)\n",
    "plt.xlabel('t')\n",
    "plt.ylabel('y')\n",
    "plt.title('Function Plot of y(t, α)')\n",
    "plt.grid(True)\n",
    "plt.show()"
   ]
  },
  {
   "cell_type": "code",
   "execution_count": 21,
   "id": "d5fcf712-5994-4ff6-baa2-d190263d95f1",
   "metadata": {},
   "outputs": [
    {
     "data": {
      "image/png": "[encoded data removed]",
      "text/plain": [
       "<Figure size 640x480 with 1 Axes>"
      ]
     },
     "metadata": {},
     "output_type": "display_data"
    }
   ],
   "source": [
    "alpha = X[:, 1].numpy()\n",
    "y_np = y.numpy()\n",
    "plt.plot(alpha, y_np)\n",
    "plt.xlabel('α')\n",
    "plt.ylabel('y')\n",
    "plt.title('Function Plot of y(t, α)')\n",
    "plt.grid(True)\n",
    "plt.show()"
   ]
  },
  {
   "cell_type": "markdown",
   "id": "21a23af5-a83f-4569-967c-5da49e4dad16",
   "metadata": {},
   "source": [
    "## Train-test datasets split"
   ]
  },
  {
   "cell_type": "code",
   "execution_count": 22,
   "id": "f24d37bb-318a-40f5-889d-47c16bfd7440",
   "metadata": {},
   "outputs": [],
   "source": [
    "x_train, x_test, y_train, y_test = train_test_split(X, y, test_size=0.1) # 10% from Lloyd's at all. \"Using...\""
   ]
  },
  {
   "cell_type": "code",
   "execution_count": 23,
   "id": "238a79d7-f720-49ac-afc3-4ef6fa2eaf25",
   "metadata": {},
   "outputs": [
    {
     "data": {
      "text/plain": [
       "(torch.Size([9000, 2]),\n",
       " torch.Size([1000, 2]),\n",
       " torch.Size([9000, 1]),\n",
       " torch.Size([1000, 1]))"
      ]
     },
     "execution_count": 23,
     "metadata": {},
     "output_type": "execute_result"
    }
   ],
   "source": [
    "x_train.shape, x_test.shape, y_train.shape, y_test.shape"
   ]
  },
  {
   "cell_type": "markdown",
   "id": "bd927ea4-3541-414f-9b9a-ab252490fa87",
   "metadata": {},
   "source": [
    "## Model"
   ]
  },
  {
   "cell_type": "markdown",
   "id": "89fb08b5-32fb-4ebd-82a9-d7984afff4f2",
   "metadata": {},
   "source": [
    "### Hyperparams for the NN model"
   ]
  },
  {
   "cell_type": "code",
   "execution_count": 158,
   "id": "e6b94e85-f553-45cd-9067-e7f489277efd",
   "metadata": {},
   "outputs": [],
   "source": [
    "input_size = 2\n",
    "hidden_size = 400\n",
    "learning_rate = 0.0001\n",
    "num_epochs = 50000"
   ]
  },
  {
   "cell_type": "markdown",
   "id": "2d45bb1f-5543-49d1-9740-904f8ac13574",
   "metadata": {},
   "source": [
    "### Model definition, compilation and training"
   ]
  },
  {
   "cell_type": "code",
   "execution_count": 159,
   "id": "19a894d1-7f6d-483f-9e9c-10cd39546b19",
   "metadata": {
    "scrolled": true
   },
   "outputs": [
    {
     "name": "stdout",
     "output_type": "stream",
     "text": [
      "Epoch [100/50000], Loss: 0.0062751444\n",
      "Epoch [200/50000], Loss: 0.0045377994\n",
      "Epoch [300/50000], Loss: 0.0035345166\n",
      "Epoch [400/50000], Loss: 0.0027405943\n",
      "Epoch [500/50000], Loss: 0.0021443053\n",
      "Epoch [600/50000], Loss: 0.0017199981\n",
      "Epoch [700/50000], Loss: 0.0014228516\n",
      "Epoch [800/50000], Loss: 0.0012094185\n",
      "Epoch [900/50000], Loss: 0.0010471763\n",
      "Epoch [1000/50000], Loss: 0.0009157571\n",
      "Epoch [1100/50000], Loss: 0.0008041211\n",
      "Epoch [1200/50000], Loss: 0.0007069315\n",
      "Epoch [1300/50000], Loss: 0.0006217309\n",
      "Epoch [1400/50000], Loss: 0.0005472468\n",
      "Epoch [1500/50000], Loss: 0.0004825653\n",
      "Epoch [1600/50000], Loss: 0.0004268003\n",
      "Epoch [1700/50000], Loss: 0.0003790079\n",
      "Epoch [1800/50000], Loss: 0.0003381985\n",
      "Epoch [1900/50000], Loss: 0.0003033777\n",
      "Epoch [2000/50000], Loss: 0.0002735907\n",
      "Epoch [2100/50000], Loss: 0.0002479590\n",
      "Epoch [2200/50000], Loss: 0.0002257055\n",
      "Epoch [2300/50000], Loss: 0.0002061696\n",
      "Epoch [2400/50000], Loss: 0.0001888100\n",
      "Epoch [2500/50000], Loss: 0.0001731999\n",
      "Epoch [2600/50000], Loss: 0.0001590149\n",
      "Epoch [2700/50000], Loss: 0.0001460181\n",
      "Epoch [2800/50000], Loss: 0.0001340429\n",
      "Epoch [2900/50000], Loss: 0.0001229759\n",
      "Epoch [3000/50000], Loss: 0.0001127409\n",
      "Epoch [3100/50000], Loss: 0.0001032875\n",
      "Epoch [3200/50000], Loss: 0.0000945790\n",
      "Epoch [3300/50000], Loss: 0.0000865861\n",
      "Epoch [3400/50000], Loss: 0.0000792807\n",
      "Epoch [3500/50000], Loss: 0.0000726339\n",
      "Epoch [3600/50000], Loss: 0.0000666127\n",
      "Epoch [3700/50000], Loss: 0.0000611808\n",
      "Epoch [3800/50000], Loss: 0.0000562980\n",
      "Epoch [3900/50000], Loss: 0.0000519211\n",
      "Epoch [4000/50000], Loss: 0.0000480049\n",
      "Epoch [4100/50000], Loss: 0.0000445032\n",
      "Epoch [4200/50000], Loss: 0.0000413701\n",
      "Epoch [4300/50000], Loss: 0.0000385613\n",
      "Epoch [4400/50000], Loss: 0.0000360347\n",
      "Epoch [4500/50000], Loss: 0.0000337513\n",
      "Epoch [4600/50000], Loss: 0.0000316762\n",
      "Epoch [4700/50000], Loss: 0.0000297783\n",
      "Epoch [4800/50000], Loss: 0.0000280314\n",
      "Epoch [4900/50000], Loss: 0.0000264133\n",
      "Epoch [5000/50000], Loss: 0.0000249062\n",
      "Epoch [5100/50000], Loss: 0.0000234961\n",
      "Epoch [5200/50000], Loss: 0.0000221721\n",
      "Epoch [5300/50000], Loss: 0.0000209264\n",
      "Epoch [5400/50000], Loss: 0.0000197533\n",
      "Epoch [5500/50000], Loss: 0.0000186490\n",
      "Epoch [5600/50000], Loss: 0.0000176107\n",
      "Epoch [5700/50000], Loss: 0.0000166365\n",
      "Epoch [5800/50000], Loss: 0.0000157250\n",
      "Epoch [5900/50000], Loss: 0.0000148748\n",
      "Epoch [6000/50000], Loss: 0.0000140844\n",
      "Epoch [6100/50000], Loss: 0.0000133520\n",
      "Epoch [6200/50000], Loss: 0.0000126757\n",
      "Epoch [6300/50000], Loss: 0.0000120530\n",
      "Epoch [6400/50000], Loss: 0.0000114813\n",
      "Epoch [6500/50000], Loss: 0.0000109573\n",
      "Epoch [6600/50000], Loss: 0.0000104779\n",
      "Epoch [6700/50000], Loss: 0.0000100394\n",
      "Epoch [6800/50000], Loss: 0.0000096383\n",
      "Epoch [6900/50000], Loss: 0.0000092710\n",
      "Epoch [7000/50000], Loss: 0.0000089338\n",
      "Epoch [7100/50000], Loss: 0.0000086235\n",
      "Epoch [7200/50000], Loss: 0.0000083368\n",
      "Epoch [7300/50000], Loss: 0.0000080709\n",
      "Epoch [7400/50000], Loss: 0.0000078233\n",
      "Epoch [7500/50000], Loss: 0.0000075915\n",
      "Epoch [7600/50000], Loss: 0.0000073739\n",
      "Epoch [7700/50000], Loss: 0.0000071688\n",
      "Epoch [7800/50000], Loss: 0.0000069750\n",
      "Epoch [7900/50000], Loss: 0.0000067917\n",
      "Epoch [8000/50000], Loss: 0.0000066181\n",
      "Epoch [8100/50000], Loss: 0.0000064537\n",
      "Epoch [8200/50000], Loss: 0.0000062982\n",
      "Epoch [8300/50000], Loss: 0.0000061515\n",
      "Epoch [8400/50000], Loss: 0.0000060133\n",
      "Epoch [8500/50000], Loss: 0.0000058835\n",
      "Epoch [8600/50000], Loss: 0.0000057621\n",
      "Epoch [8700/50000], Loss: 0.0000056488\n",
      "Epoch [8800/50000], Loss: 0.0000055436\n",
      "Epoch [8900/50000], Loss: 0.0000054462\n",
      "Epoch [9000/50000], Loss: 0.0000053563\n",
      "Epoch [9100/50000], Loss: 0.0000052735\n",
      "Epoch [9200/50000], Loss: 0.0000051975\n",
      "Epoch [9300/50000], Loss: 0.0000051278\n",
      "Epoch [9400/50000], Loss: 0.0000050639\n",
      "Epoch [9500/50000], Loss: 0.0000050054\n",
      "Epoch [9600/50000], Loss: 0.0000049515\n",
      "Epoch [9700/50000], Loss: 0.0000049019\n",
      "Epoch [9800/50000], Loss: 0.0000048559\n",
      "Epoch [9900/50000], Loss: 0.0000048131\n",
      "Epoch [10000/50000], Loss: 0.0000047728\n",
      "Epoch [10100/50000], Loss: 0.0000047348\n",
      "Epoch [10200/50000], Loss: 0.0000046984\n",
      "Epoch [10300/50000], Loss: 0.0000046634\n",
      "Epoch [10400/50000], Loss: 0.0000046294\n",
      "Epoch [10500/50000], Loss: 0.0000045961\n",
      "Epoch [10600/50000], Loss: 0.0000045632\n",
      "Epoch [10700/50000], Loss: 0.0000045304\n",
      "Epoch [10800/50000], Loss: 0.0000044977\n",
      "Epoch [10900/50000], Loss: 0.0000044738\n",
      "Epoch [11000/50000], Loss: 0.0000044373\n",
      "Epoch [11100/50000], Loss: 0.0000044104\n",
      "Epoch [11200/50000], Loss: 0.0000043850\n",
      "Epoch [11300/50000], Loss: 0.0000043607\n",
      "Epoch [11400/50000], Loss: 0.0000043362\n",
      "Epoch [11500/50000], Loss: 0.0000043131\n",
      "Epoch [11600/50000], Loss: 0.0000042905\n",
      "Epoch [11700/50000], Loss: 0.0000117230\n",
      "Epoch [11800/50000], Loss: 0.0000042456\n",
      "Epoch [11900/50000], Loss: 0.0000042234\n",
      "Epoch [12000/50000], Loss: 0.0000042044\n",
      "Epoch [12100/50000], Loss: 0.0000041796\n",
      "Epoch [12200/50000], Loss: 0.0000042310\n",
      "Epoch [12300/50000], Loss: 0.0000041368\n",
      "Epoch [12400/50000], Loss: 0.0000046195\n",
      "Epoch [12500/50000], Loss: 0.0000040949\n",
      "Epoch [12600/50000], Loss: 0.0000042204\n",
      "Epoch [12700/50000], Loss: 0.0000040536\n",
      "Epoch [12800/50000], Loss: 0.0000040325\n",
      "Epoch [12900/50000], Loss: 0.0000040196\n",
      "Epoch [13000/50000], Loss: 0.0000039918\n",
      "Epoch [13100/50000], Loss: 0.0000039747\n",
      "Epoch [13200/50000], Loss: 0.0000039516\n",
      "Epoch [13300/50000], Loss: 0.0000086813\n",
      "Epoch [13400/50000], Loss: 0.0000039122\n",
      "Epoch [13500/50000], Loss: 0.0000038923\n",
      "Epoch [13600/50000], Loss: 0.0000039157\n",
      "Epoch [13700/50000], Loss: 0.0000038534\n",
      "Epoch [13800/50000], Loss: 0.0000115635\n",
      "Epoch [13900/50000], Loss: 0.0000038147\n",
      "Epoch [14000/50000], Loss: 0.0000038809\n",
      "Epoch [14100/50000], Loss: 0.0000037770\n",
      "Epoch [14200/50000], Loss: 0.0000037572\n",
      "Epoch [14300/50000], Loss: 0.0000037386\n",
      "Epoch [14400/50000], Loss: 0.0000037200\n",
      "Epoch [14500/50000], Loss: 0.0000048740\n",
      "Epoch [14600/50000], Loss: 0.0000036833\n",
      "Epoch [14700/50000], Loss: 0.0000036647\n",
      "Epoch [14800/50000], Loss: 0.0000036562\n",
      "Epoch [14900/50000], Loss: 0.0000036284\n",
      "Epoch [15000/50000], Loss: 0.0000038640\n",
      "Epoch [15100/50000], Loss: 0.0000035922\n",
      "Epoch [15200/50000], Loss: 0.0000035740\n",
      "Epoch [15300/50000], Loss: 0.0000035568\n",
      "Epoch [15400/50000], Loss: 0.0000035396\n",
      "Epoch [15500/50000], Loss: 0.0000035218\n",
      "Epoch [15600/50000], Loss: 0.0000035212\n",
      "Epoch [15700/50000], Loss: 0.0000034873\n",
      "Epoch [15800/50000], Loss: 0.0000034740\n",
      "Epoch [15900/50000], Loss: 0.0000034537\n",
      "Epoch [16000/50000], Loss: 0.0000034361\n",
      "Epoch [16100/50000], Loss: 0.0000129877\n",
      "Epoch [16200/50000], Loss: 0.0000034022\n",
      "Epoch [16300/50000], Loss: 0.0000033851\n",
      "Epoch [16400/50000], Loss: 0.0000033918\n",
      "Epoch [16500/50000], Loss: 0.0000033521\n",
      "Epoch [16600/50000], Loss: 0.0000112482\n",
      "Epoch [16700/50000], Loss: 0.0000033190\n",
      "Epoch [16800/50000], Loss: 0.0000033474\n",
      "Epoch [16900/50000], Loss: 0.0000032868\n",
      "Epoch [17000/50000], Loss: 0.0000032736\n",
      "Epoch [17100/50000], Loss: 0.0000032557\n",
      "Epoch [17200/50000], Loss: 0.0000032373\n",
      "Epoch [17300/50000], Loss: 0.0000032364\n",
      "Epoch [17400/50000], Loss: 0.0000032055\n",
      "Epoch [17500/50000], Loss: 0.0000040181\n",
      "Epoch [17600/50000], Loss: 0.0000031743\n",
      "Epoch [17700/50000], Loss: 0.0000031584\n",
      "Epoch [17800/50000], Loss: 0.0000031463\n",
      "Epoch [17900/50000], Loss: 0.0000031275\n",
      "Epoch [18000/50000], Loss: 0.0000032617\n",
      "Epoch [18100/50000], Loss: 0.0000030968\n",
      "Epoch [18200/50000], Loss: 0.0000030837\n",
      "Epoch [18300/50000], Loss: 0.0000030664\n",
      "Epoch [18400/50000], Loss: 0.0000030511\n",
      "Epoch [18500/50000], Loss: 0.0000030696\n",
      "Epoch [18600/50000], Loss: 0.0000030217\n",
      "Epoch [18700/50000], Loss: 0.0000030066\n",
      "Epoch [18800/50000], Loss: 0.0000029931\n",
      "Epoch [18900/50000], Loss: 0.0000029777\n",
      "Epoch [19000/50000], Loss: 0.0000139476\n",
      "Epoch [19100/50000], Loss: 0.0000029487\n",
      "Epoch [19200/50000], Loss: 0.0000029340\n",
      "Epoch [19300/50000], Loss: 0.0000030051\n",
      "Epoch [19400/50000], Loss: 0.0000029056\n",
      "Epoch [19500/50000], Loss: 0.0000029302\n",
      "Epoch [19600/50000], Loss: 0.0000028781\n",
      "Epoch [19700/50000], Loss: 0.0000028630\n",
      "Epoch [19800/50000], Loss: 0.0000029048\n",
      "Epoch [19900/50000], Loss: 0.0000028353\n",
      "Epoch [20000/50000], Loss: 0.0000028216\n",
      "Epoch [20100/50000], Loss: 0.0000028097\n",
      "Epoch [20200/50000], Loss: 0.0000027936\n",
      "Epoch [20300/50000], Loss: 0.0000027929\n",
      "Epoch [20400/50000], Loss: 0.0000027664\n",
      "Epoch [20500/50000], Loss: 0.0000050913\n",
      "Epoch [20600/50000], Loss: 0.0000027395\n",
      "Epoch [20700/50000], Loss: 0.0000027260\n",
      "Epoch [20800/50000], Loss: 0.0000027535\n",
      "Epoch [20900/50000], Loss: 0.0000026996\n",
      "Epoch [21000/50000], Loss: 0.0000109952\n",
      "Epoch [21100/50000], Loss: 0.0000026733\n",
      "Epoch [21200/50000], Loss: 0.0000026600\n",
      "Epoch [21300/50000], Loss: 0.0000026498\n",
      "Epoch [21400/50000], Loss: 0.0000026347\n",
      "Epoch [21500/50000], Loss: 0.0000026218\n",
      "Epoch [21600/50000], Loss: 0.0000026874\n",
      "Epoch [21700/50000], Loss: 0.0000025967\n",
      "Epoch [21800/50000], Loss: 0.0000025838\n",
      "Epoch [21900/50000], Loss: 0.0000025983\n",
      "Epoch [22000/50000], Loss: 0.0000025591\n",
      "Epoch [22100/50000], Loss: 0.0000025567\n",
      "Epoch [22200/50000], Loss: 0.0000025349\n",
      "Epoch [22300/50000], Loss: 0.0000025216\n",
      "Epoch [22400/50000], Loss: 0.0000025490\n",
      "Epoch [22500/50000], Loss: 0.0000024974\n",
      "Epoch [22600/50000], Loss: 0.0000026930\n",
      "Epoch [22700/50000], Loss: 0.0000024735\n",
      "Epoch [22800/50000], Loss: 0.0000024610\n",
      "Epoch [22900/50000], Loss: 0.0000024726\n",
      "Epoch [23000/50000], Loss: 0.0000024372\n",
      "Epoch [23100/50000], Loss: 0.0000024458\n",
      "Epoch [23200/50000], Loss: 0.0000024135\n",
      "Epoch [23300/50000], Loss: 0.0000029145\n",
      "Epoch [23400/50000], Loss: 0.0000023901\n",
      "Epoch [23500/50000], Loss: 0.0000023784\n",
      "Epoch [23600/50000], Loss: 0.0000023737\n",
      "Epoch [23700/50000], Loss: 0.0000023554\n",
      "Epoch [23800/50000], Loss: 0.0000023886\n",
      "Epoch [23900/50000], Loss: 0.0000023327\n",
      "Epoch [24000/50000], Loss: 0.0000039593\n",
      "Epoch [24100/50000], Loss: 0.0000023102\n",
      "Epoch [24200/50000], Loss: 0.0000022990\n",
      "Epoch [24300/50000], Loss: 0.0000023216\n",
      "Epoch [24400/50000], Loss: 0.0000022768\n",
      "Epoch [24500/50000], Loss: 0.0000024353\n",
      "Epoch [24600/50000], Loss: 0.0000022549\n",
      "Epoch [24700/50000], Loss: 0.0000117910\n",
      "Epoch [24800/50000], Loss: 0.0000022332\n",
      "Epoch [24900/50000], Loss: 0.0000022223\n",
      "Epoch [25000/50000], Loss: 0.0000022230\n",
      "Epoch [25100/50000], Loss: 0.0000022012\n",
      "Epoch [25200/50000], Loss: 0.0000060714\n",
      "Epoch [25300/50000], Loss: 0.0000021804\n",
      "Epoch [25400/50000], Loss: 0.0000021695\n",
      "Epoch [25500/50000], Loss: 0.0000021593\n",
      "Epoch [25600/50000], Loss: 0.0000021489\n",
      "Epoch [25700/50000], Loss: 0.0000032628\n",
      "Epoch [25800/50000], Loss: 0.0000021287\n",
      "Epoch [25900/50000], Loss: 0.0000021187\n",
      "Epoch [26000/50000], Loss: 0.0000048387\n",
      "Epoch [26100/50000], Loss: 0.0000020987\n",
      "Epoch [26200/50000], Loss: 0.0000021159\n",
      "Epoch [26300/50000], Loss: 0.0000020786\n",
      "Epoch [26400/50000], Loss: 0.0000020686\n",
      "Epoch [26500/50000], Loss: 0.0000020614\n",
      "Epoch [26600/50000], Loss: 0.0000020487\n",
      "Epoch [26700/50000], Loss: 0.0000020558\n",
      "Epoch [26800/50000], Loss: 0.0000020293\n",
      "Epoch [26900/50000], Loss: 0.0000027145\n",
      "Epoch [27000/50000], Loss: 0.0000020101\n",
      "Epoch [27100/50000], Loss: 0.0000020295\n",
      "Epoch [27200/50000], Loss: 0.0000019912\n",
      "Epoch [27300/50000], Loss: 0.0000019816\n",
      "Epoch [27400/50000], Loss: 0.0000019745\n",
      "Epoch [27500/50000], Loss: 0.0000019631\n",
      "Epoch [27600/50000], Loss: 0.0000023260\n",
      "Epoch [27700/50000], Loss: 0.0000019452\n",
      "Epoch [27800/50000], Loss: 0.0000019354\n",
      "Epoch [27900/50000], Loss: 0.0000019307\n",
      "Epoch [28000/50000], Loss: 0.0000019173\n",
      "Epoch [28100/50000], Loss: 0.0000022956\n",
      "Epoch [28200/50000], Loss: 0.0000018994\n",
      "Epoch [28300/50000], Loss: 0.0000018905\n",
      "Epoch [28400/50000], Loss: 0.0000018861\n",
      "Epoch [28500/50000], Loss: 0.0000018728\n",
      "Epoch [28600/50000], Loss: 0.0000022887\n",
      "Epoch [28700/50000], Loss: 0.0000018554\n",
      "Epoch [28800/50000], Loss: 0.0000019545\n",
      "Epoch [28900/50000], Loss: 0.0000018385\n",
      "Epoch [29000/50000], Loss: 0.0000018295\n",
      "Epoch [29100/50000], Loss: 0.0000018241\n",
      "Epoch [29200/50000], Loss: 0.0000018126\n",
      "Epoch [29300/50000], Loss: 0.0000110566\n",
      "Epoch [29400/50000], Loss: 0.0000017959\n",
      "Epoch [29500/50000], Loss: 0.0000017875\n",
      "Epoch [29600/50000], Loss: 0.0000018325\n",
      "Epoch [29700/50000], Loss: 0.0000017714\n",
      "Epoch [29800/50000], Loss: 0.0000017632\n",
      "Epoch [29900/50000], Loss: 0.0000017838\n",
      "Epoch [30000/50000], Loss: 0.0000017470\n",
      "Epoch [30100/50000], Loss: 0.0000099971\n",
      "Epoch [30200/50000], Loss: 0.0000017312\n",
      "Epoch [30300/50000], Loss: 0.0000017229\n",
      "Epoch [30400/50000], Loss: 0.0000017284\n",
      "Epoch [30500/50000], Loss: 0.0000017072\n",
      "Epoch [30600/50000], Loss: 0.0000052585\n",
      "Epoch [30700/50000], Loss: 0.0000016917\n",
      "Epoch [30800/50000], Loss: 0.0000016839\n",
      "Epoch [30900/50000], Loss: 0.0000017751\n",
      "Epoch [31000/50000], Loss: 0.0000016686\n",
      "Epoch [31100/50000], Loss: 0.0000050543\n",
      "Epoch [31200/50000], Loss: 0.0000016536\n",
      "Epoch [31300/50000], Loss: 0.0000016458\n",
      "Epoch [31400/50000], Loss: 0.0000016411\n",
      "Epoch [31500/50000], Loss: 0.0000016311\n",
      "Epoch [31600/50000], Loss: 0.0000016556\n",
      "Epoch [31700/50000], Loss: 0.0000016164\n",
      "Epoch [31800/50000], Loss: 0.0000016091\n",
      "Epoch [31900/50000], Loss: 0.0000016680\n",
      "Epoch [32000/50000], Loss: 0.0000015946\n",
      "Epoch [32100/50000], Loss: 0.0000018787\n",
      "Epoch [32200/50000], Loss: 0.0000015804\n",
      "Epoch [32300/50000], Loss: 0.0000015731\n",
      "Epoch [32400/50000], Loss: 0.0000016007\n",
      "Epoch [32500/50000], Loss: 0.0000015590\n",
      "Epoch [32600/50000], Loss: 0.0000144111\n",
      "Epoch [32700/50000], Loss: 0.0000015455\n",
      "Epoch [32800/50000], Loss: 0.0000015383\n",
      "Epoch [32900/50000], Loss: 0.0000031470\n",
      "Epoch [33000/50000], Loss: 0.0000015246\n",
      "Epoch [33100/50000], Loss: 0.0000015177\n",
      "Epoch [33200/50000], Loss: 0.0000015229\n",
      "Epoch [33300/50000], Loss: 0.0000015044\n",
      "Epoch [33400/50000], Loss: 0.0000019997\n",
      "Epoch [33500/50000], Loss: 0.0000014910\n",
      "Epoch [33600/50000], Loss: 0.0000014859\n",
      "Epoch [33700/50000], Loss: 0.0000014805\n",
      "Epoch [33800/50000], Loss: 0.0000014711\n",
      "Epoch [33900/50000], Loss: 0.0000014926\n",
      "Epoch [34000/50000], Loss: 0.0000014582\n",
      "Epoch [34100/50000], Loss: 0.0000055257\n",
      "Epoch [34200/50000], Loss: 0.0000014455\n",
      "Epoch [34300/50000], Loss: 0.0000014391\n",
      "Epoch [34400/50000], Loss: 0.0000025438\n",
      "Epoch [34500/50000], Loss: 0.0000014266\n",
      "Epoch [34600/50000], Loss: 0.0000014363\n",
      "Epoch [34700/50000], Loss: 0.0000014140\n",
      "Epoch [34800/50000], Loss: 0.0000014077\n",
      "Epoch [34900/50000], Loss: 0.0000014016\n",
      "Epoch [35000/50000], Loss: 0.0000013955\n",
      "Epoch [35100/50000], Loss: 0.0000034141\n",
      "Epoch [35200/50000], Loss: 0.0000013834\n",
      "Epoch [35300/50000], Loss: 0.0000013774\n",
      "Epoch [35400/50000], Loss: 0.0000013754\n",
      "Epoch [35500/50000], Loss: 0.0000013654\n",
      "Epoch [35600/50000], Loss: 0.0000035190\n",
      "Epoch [35700/50000], Loss: 0.0000013537\n",
      "Epoch [35800/50000], Loss: 0.0000013477\n",
      "Epoch [35900/50000], Loss: 0.0000013677\n",
      "Epoch [36000/50000], Loss: 0.0000013361\n",
      "Epoch [36100/50000], Loss: 0.0000019504\n",
      "Epoch [36200/50000], Loss: 0.0000013246\n",
      "Epoch [36300/50000], Loss: 0.0000013205\n",
      "Epoch [36400/50000], Loss: 0.0000013145\n",
      "Epoch [36500/50000], Loss: 0.0000013075\n",
      "Epoch [36600/50000], Loss: 0.0000013040\n",
      "Epoch [36700/50000], Loss: 0.0000012964\n",
      "Epoch [36800/50000], Loss: 0.0000013785\n",
      "Epoch [36900/50000], Loss: 0.0000012853\n",
      "Epoch [37000/50000], Loss: 0.0000012797\n",
      "Epoch [37100/50000], Loss: 0.0000012951\n",
      "Epoch [37200/50000], Loss: 0.0000012689\n",
      "Epoch [37300/50000], Loss: 0.0000014283\n",
      "Epoch [37400/50000], Loss: 0.0000012582\n",
      "Epoch [37500/50000], Loss: 0.0000012528\n",
      "Epoch [37600/50000], Loss: 0.0000016454\n",
      "Epoch [37700/50000], Loss: 0.0000012423\n",
      "Epoch [37800/50000], Loss: 0.0000012370\n",
      "Epoch [37900/50000], Loss: 0.0000012385\n",
      "Epoch [38000/50000], Loss: 0.0000012265\n",
      "Epoch [38100/50000], Loss: 0.0000012773\n",
      "Epoch [38200/50000], Loss: 0.0000012162\n",
      "Epoch [38300/50000], Loss: 0.0000019316\n",
      "Epoch [38400/50000], Loss: 0.0000012061\n",
      "Epoch [38500/50000], Loss: 0.0000012009\n",
      "Epoch [38600/50000], Loss: 0.0000012145\n",
      "Epoch [38700/50000], Loss: 0.0000011908\n",
      "Epoch [38800/50000], Loss: 0.0000060179\n",
      "Epoch [38900/50000], Loss: 0.0000011809\n",
      "Epoch [39000/50000], Loss: 0.0000011759\n",
      "Epoch [39100/50000], Loss: 0.0000011877\n",
      "Epoch [39200/50000], Loss: 0.0000011661\n",
      "Epoch [39300/50000], Loss: 0.0000016648\n",
      "Epoch [39400/50000], Loss: 0.0000011564\n",
      "Epoch [39500/50000], Loss: 0.0000122760\n",
      "Epoch [39600/50000], Loss: 0.0000011468\n",
      "Epoch [39700/50000], Loss: 0.0000011420\n",
      "Epoch [39800/50000], Loss: 0.0000011820\n",
      "Epoch [39900/50000], Loss: 0.0000011326\n",
      "Epoch [40000/50000], Loss: 0.0000013543\n",
      "Epoch [40100/50000], Loss: 0.0000011232\n",
      "Epoch [40200/50000], Loss: 0.0000107225\n",
      "Epoch [40300/50000], Loss: 0.0000011141\n",
      "Epoch [40400/50000], Loss: 0.0000011094\n",
      "Epoch [40500/50000], Loss: 0.0000015182\n",
      "Epoch [40600/50000], Loss: 0.0000011004\n",
      "Epoch [40700/50000], Loss: 0.0000010981\n",
      "Epoch [40800/50000], Loss: 0.0000010936\n",
      "Epoch [40900/50000], Loss: 0.0000010868\n",
      "Epoch [41000/50000], Loss: 0.0000011043\n",
      "Epoch [41100/50000], Loss: 0.0000010779\n",
      "Epoch [41200/50000], Loss: 0.0000015863\n",
      "Epoch [41300/50000], Loss: 0.0000010692\n",
      "Epoch [41400/50000], Loss: 0.0000010648\n",
      "Epoch [41500/50000], Loss: 0.0000010613\n",
      "Epoch [41600/50000], Loss: 0.0000010561\n",
      "Epoch [41700/50000], Loss: 0.0000010526\n",
      "Epoch [41800/50000], Loss: 0.0000010476\n",
      "Epoch [41900/50000], Loss: 0.0000010473\n",
      "Epoch [42000/50000], Loss: 0.0000010395\n",
      "Epoch [42100/50000], Loss: 0.0000010350\n",
      "Epoch [42200/50000], Loss: 0.0000025501\n",
      "Epoch [42300/50000], Loss: 0.0000010271\n",
      "Epoch [42400/50000], Loss: 0.0000010224\n",
      "Epoch [42500/50000], Loss: 0.0000010185\n",
      "Epoch [42600/50000], Loss: 0.0000010143\n",
      "Epoch [42700/50000], Loss: 0.0000047535\n",
      "Epoch [42800/50000], Loss: 0.0000010062\n",
      "Epoch [42900/50000], Loss: 0.0000010021\n",
      "Epoch [43000/50000], Loss: 0.0000009983\n",
      "Epoch [43100/50000], Loss: 0.0000009941\n",
      "Epoch [43200/50000], Loss: 0.0000066754\n",
      "Epoch [43300/50000], Loss: 0.0000009863\n",
      "Epoch [43400/50000], Loss: 0.0000009823\n",
      "Epoch [43500/50000], Loss: 0.0000020255\n",
      "Epoch [43600/50000], Loss: 0.0000009745\n",
      "Epoch [43700/50000], Loss: 0.0000010096\n",
      "Epoch [43800/50000], Loss: 0.0000009677\n",
      "Epoch [43900/50000], Loss: 0.0000009629\n",
      "Epoch [44000/50000], Loss: 0.0000009592\n",
      "Epoch [44100/50000], Loss: 0.0000009552\n",
      "Epoch [44200/50000], Loss: 0.0000009685\n",
      "Epoch [44300/50000], Loss: 0.0000009476\n",
      "Epoch [44400/50000], Loss: 0.0000011333\n",
      "Epoch [44500/50000], Loss: 0.0000009402\n",
      "Epoch [44600/50000], Loss: 0.0000011597\n",
      "Epoch [44700/50000], Loss: 0.0000009336\n",
      "Epoch [44800/50000], Loss: 0.0000009291\n",
      "Epoch [44900/50000], Loss: 0.0000009879\n",
      "Epoch [45000/50000], Loss: 0.0000009219\n",
      "Epoch [45100/50000], Loss: 0.0000093500\n",
      "Epoch [45200/50000], Loss: 0.0000009149\n",
      "Epoch [45300/50000], Loss: 0.0000009111\n",
      "Epoch [45400/50000], Loss: 0.0000011250\n",
      "Epoch [45500/50000], Loss: 0.0000009041\n",
      "Epoch [45600/50000], Loss: 0.0000009005\n",
      "Epoch [45700/50000], Loss: 0.0000008984\n",
      "Epoch [45800/50000], Loss: 0.0000008936\n",
      "Epoch [45900/50000], Loss: 0.0000008902\n",
      "Epoch [46000/50000], Loss: 0.0000008908\n",
      "Epoch [46100/50000], Loss: 0.0000008832\n",
      "Epoch [46200/50000], Loss: 0.0000031281\n",
      "Epoch [46300/50000], Loss: 0.0000008764\n",
      "Epoch [46400/50000], Loss: 0.0000008730\n",
      "Epoch [46500/50000], Loss: 0.0000008701\n",
      "Epoch [46600/50000], Loss: 0.0000008663\n",
      "Epoch [46700/50000], Loss: 0.0000010541\n",
      "Epoch [46800/50000], Loss: 0.0000008596\n",
      "Epoch [46900/50000], Loss: 0.0000010326\n",
      "Epoch [47000/50000], Loss: 0.0000008530\n",
      "Epoch [47100/50000], Loss: 0.0000008497\n",
      "Epoch [47200/50000], Loss: 0.0000008944\n",
      "Epoch [47300/50000], Loss: 0.0000008432\n",
      "Epoch [47400/50000], Loss: 0.0000009957\n",
      "Epoch [47500/50000], Loss: 0.0000008370\n",
      "Epoch [47600/50000], Loss: 0.0000008336\n",
      "Epoch [47700/50000], Loss: 0.0000008373\n",
      "Epoch [47800/50000], Loss: 0.0000008273\n",
      "Epoch [47900/50000], Loss: 0.0000008272\n",
      "Epoch [48000/50000], Loss: 0.0000008229\n",
      "Epoch [48100/50000], Loss: 0.0000008178\n",
      "Epoch [48200/50000], Loss: 0.0000009655\n",
      "Epoch [48300/50000], Loss: 0.0000008117\n",
      "Epoch [48400/50000], Loss: 0.0000008098\n",
      "Epoch [48500/50000], Loss: 0.0000008075\n",
      "Epoch [48600/50000], Loss: 0.0000008025\n",
      "Epoch [48700/50000], Loss: 0.0000018380\n",
      "Epoch [48800/50000], Loss: 0.0000007965\n",
      "Epoch [48900/50000], Loss: 0.0000007958\n",
      "Epoch [49000/50000], Loss: 0.0000007911\n",
      "Epoch [49100/50000], Loss: 0.0000007875\n",
      "Epoch [49200/50000], Loss: 0.0000007916\n",
      "Epoch [49300/50000], Loss: 0.0000007817\n",
      "Epoch [49400/50000], Loss: 0.0000007787\n",
      "Epoch [49500/50000], Loss: 0.0000007879\n",
      "Epoch [49600/50000], Loss: 0.0000007728\n",
      "Epoch [49700/50000], Loss: 0.0000010397\n",
      "Epoch [49800/50000], Loss: 0.0000007671\n",
      "Epoch [49900/50000], Loss: 0.0000007642\n",
      "Epoch [50000/50000], Loss: 0.0000007702\n",
      "Time elapsed: 959.46 seconds\n"
     ]
    }
   ],
   "source": [
    "model = MLP(input_size, hidden_size)\n",
    "\n",
    "criterion = nn.MSELoss()\n",
    "optimizer = optim.Adam(model.parameters(), lr=learning_rate)\n",
    "\n",
    "train_history = train_model(model, criterion, optimizer, x_train, y_train, num_epochs)"
   ]
  },
  {
   "cell_type": "code",
   "execution_count": 160,
   "id": "22365b89-3fbf-48c2-9096-f03ceada4617",
   "metadata": {},
   "outputs": [
    {
     "name": "stdout",
     "output_type": "stream",
     "text": [
      "----------------------------------------------------------------\n",
      "        Layer (type)               Output Shape         Param #\n",
      "================================================================\n",
      "            Linear-1                  [-1, 400]           1,200\n",
      "           Sigmoid-2                  [-1, 400]               0\n",
      "            Linear-3                    [-1, 1]             401\n",
      "================================================================\n",
      "Total params: 1,601\n",
      "Trainable params: 1,601\n",
      "Non-trainable params: 0\n",
      "----------------------------------------------------------------\n",
      "Input size (MB): 0.00\n",
      "Forward/backward pass size (MB): 0.01\n",
      "Params size (MB): 0.01\n",
      "Estimated Total Size (MB): 0.01\n",
      "----------------------------------------------------------------\n"
     ]
    }
   ],
   "source": [
    "summary(model, (input_size,)) # (input_size, ) - input shape"
   ]
  },
  {
   "cell_type": "code",
   "execution_count": 161,
   "id": "57d64832-5103-4432-a415-6fe9635f7f4e",
   "metadata": {},
   "outputs": [
    {
     "data": {
      "image/png": "[encoded data removed]",
      "text/plain": [
       "<Figure size 1000x600 with 1 Axes>"
      ]
     },
     "metadata": {},
     "output_type": "display_data"
    }
   ],
   "source": [
    "plt.figure(figsize=(10, 6))\n",
    "plt.plot(train_history, label='MSE', color='b')\n",
    "plt.xlabel('Epochs')\n",
    "plt.ylabel('MSE')\n",
    "plt.title('Learning curve for y(t, α)')\n",
    "plt.legend()\n",
    "plt.grid(False)\n",
    "plt.show()"
   ]
  },
  {
   "cell_type": "markdown",
   "id": "af6089dd-6192-40b7-ba2d-890d15a31f13",
   "metadata": {},
   "source": [
    "### Model testing"
   ]
  },
  {
   "cell_type": "code",
   "execution_count": 162,
   "id": "d7edbc3d-33a1-4130-9c8b-6e2ee373dc53",
   "metadata": {},
   "outputs": [
    {
     "name": "stdout",
     "output_type": "stream",
     "text": [
      "Test Loss: 0.0000003823\n"
     ]
    }
   ],
   "source": [
    "test_loss = test_model(model, criterion, x_test, y_test)\n",
    "print(f\"Test Loss: {test_loss:.10f}\")"
   ]
  },
  {
   "cell_type": "markdown",
   "id": "fd817e94-9675-499b-90cc-b28cbfd0ac85",
   "metadata": {},
   "source": [
    "## Model usage"
   ]
  },
  {
   "cell_type": "code",
   "execution_count": 163,
   "id": "f7ffa4b4-c3b4-4091-97de-9a0039b3726d",
   "metadata": {},
   "outputs": [
    {
     "data": {
      "text/plain": [
       "((400,), (400, 2), (1,), (400,))"
      ]
     },
     "execution_count": 163,
     "metadata": {},
     "output_type": "execute_result"
    }
   ],
   "source": [
    "bs1, we1, bs2, we2 = extract_model_params(model)\n",
    "bs1.shape, we1.shape, bs2.shape, we2.shape"
   ]
  },
  {
   "cell_type": "code",
   "execution_count": 164,
   "id": "f6878af8-837a-4d49-a8c0-af3d3ea67db4",
   "metadata": {},
   "outputs": [
    {
     "data": {
      "text/plain": [
       "array([mpf('2.4309468545191351')], dtype=object)"
      ]
     },
     "execution_count": 164,
     "metadata": {},
     "output_type": "execute_result"
    }
   ],
   "source": [
    "nni = get_NN_integral(a1, b1, a2, b2, bs1, we1, bs2, we2)\n",
    "\n",
    "nni"
   ]
  },
  {
   "cell_type": "code",
   "execution_count": null,
   "id": "8ce02571-cdc8-4e3e-8152-f9713d14c3e5",
   "metadata": {},
   "outputs": [],
   "source": []
  }
 ],
 "metadata": {
  "kernelspec": {
   "display_name": "Python 3 (ipykernel)",
   "language": "python",
   "name": "python3"
  },
  "language_info": {
   "codemirror_mode": {
    "name": "ipython",
    "version": 3
   },
   "file_extension": ".py",
   "mimetype": "text/x-python",
   "name": "python",
   "nbconvert_exporter": "python",
   "pygments_lexer": "ipython3",
   "version": "3.11.5"
  }
 },
 "nbformat": 4,
 "nbformat_minor": 5
}
