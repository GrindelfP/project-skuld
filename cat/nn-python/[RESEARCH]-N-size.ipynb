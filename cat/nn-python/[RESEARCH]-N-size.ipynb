{
 "cells": [
  {
   "cell_type": "markdown",
   "id": "9af3c9b6-99da-4802-9fe1-40814bc20e53",
   "metadata": {},
   "source": [
    "# Testing neural networks approach to numerical integration on Genz numerical integration testing package \n",
    "\n",
    "These tests are dedicated to research of dependency of N size of dataset which is iused to train neural network. Also the tests will be done with both \n",
    "\n",
    "The tests will be done on 2D functions"
   ]
  },
  {
   "cell_type": "markdown",
   "id": "f6c4aea9-2abd-4cbd-81f8-bfda2ae8ec53",
   "metadata": {},
   "source": [
    "## Library import"
   ]
  },
  {
   "cell_type": "code",
   "execution_count": 1,
   "id": "a49f4cae-343f-406c-9e5a-9c97602ba6fb",
   "metadata": {},
   "outputs": [],
   "source": [
    "%run ../skuld/skuld.py      # skuld NNI library\n",
    "%run ../utils/plots.py      # plotting functions\n",
    "%run ../utils/integrate.py  # 'classic' numerical integration function\n",
    "\n",
    "import pickle"
   ]
  },
  {
   "cell_type": "markdown",
   "id": "01861360-0643-45db-a17a-137a1ba789e1",
   "metadata": {},
   "source": [
    "# Part 1: N-size tests with Uniform Grid"
   ]
  },
  {
   "cell_type": "markdown",
   "id": "b18f607d-dfd6-4de7-85a1-d9f2859f6d5f",
   "metadata": {},
   "source": [
    "## 2D testing function"
   ]
  },
  {
   "cell_type": "code",
   "execution_count": 2,
   "id": "6d8634b7-f4e1-4bed-a524-ac23caed2b02",
   "metadata": {},
   "outputs": [],
   "source": [
    "def test_2d_integration(h, ej, func, func_float, a, b, func_name, logplot=False):\n",
    "    global input_size, hidden_size, u, c, n_samples\n",
    "  \n",
    "    X_init, y_init = generate_data(func, a, b, n_samples, input_size, u, c)\n",
    "    if logplot:\n",
    "        plot_2d_function_heatmap_with_log(X_init, y_init, func_name)\n",
    "    else:\n",
    "        plot_2d_function_heatmap(X_init, y_init, func_name)\n",
    "    X, y = scale_data(X_init, y_init, n_dim=2)\n",
    "    \n",
    "    x_train, x_test, y_train, y_test = train_test_split(X, y, test_size=0.1)  \n",
    "    model = MLP(input_size, hidden_size)\n",
    "    model.compile(criterion=nn.MSELoss(), optimizer=optim.Adam(model.parameters(), lr=learning_rate))\n",
    "    train_history = model.fit(x_train, y_train, num_epochs, verbose=False)\n",
    "    test_loss = model.test(x_test, y_test)\n",
    "    print(f\"Test Loss: {test_loss:.10f}\")\n",
    "    \n",
    "    nni_scaled = NeuralNumericalIntegration.integrate(model, a, b, n_dims=2)\n",
    "    nni_result = descale_result(float(nni_scaled[0]), X_init, y_init, frange=(0, 1), n_dim=2)\n",
    "    result_quad = integrate_2d_nquad(func_float, a, b, u, c)\n",
    "    result_trapz = integrate_2d_trapz(func, a, b, 100, u, c)\n",
    "   \n",
    "    return nni_result, result_quad, result_trapz"
   ]
  },
  {
   "cell_type": "markdown",
   "id": "33fb139c-e9e6-42db-9aba-10a4e4622627",
   "metadata": {},
   "source": [
    "## Data operations functions"
   ]
  },
  {
   "cell_type": "code",
   "execution_count": 3,
   "id": "41fc5c97-624b-4259-87b3-134fbd9b950b",
   "metadata": {},
   "outputs": [],
   "source": [
    "def save_data(data, filename=\"data.pkl\"):\n",
    "    with open(filename, 'wb') as f:\n",
    "        pickle.dump(data, f)\n",
    "    print(f\"Data saved to {filename}\")\n",
    "\n",
    "def load_data(filename=\"data.pkl\"):\n",
    "    with open(filename, 'rb') as f:\n",
    "        loaded_data = pickle.load(f)\n",
    "    print(f\"Data loaded from {filename}\")\n",
    "    \n",
    "    return loaded_data\n",
    "\n",
    "def calculate_mae(results):\n",
    "    absolute_errors = [abs(a - b) for a, b, _ in results]\n",
    "    mae = sum(absolute_errors) / len(absolute_errors)\n",
    "    \n",
    "    return mae"
   ]
  },
  {
   "cell_type": "markdown",
   "id": "fdbcfc94-d536-4a5e-9b19-495dd18adc34",
   "metadata": {},
   "source": [
    "## Hyperparams for 2D"
   ]
  },
  {
   "cell_type": "code",
   "execution_count": 4,
   "id": "079e233f-66a7-4417-921e-3f7c8e2bffba",
   "metadata": {},
   "outputs": [],
   "source": [
    "input_size = 2\n",
    "hidden_size = 25\n",
    "learning_rate = 0.001\n",
    "num_epochs = 5000\n",
    "\n",
    "init_n_samles = 10\n",
    "n_samples = init_n_samles\n",
    "\n",
    "tests_num = 20\n",
    "\n",
    "a_ = [0.0, 0.0]\n",
    "b_ = [1.0, 1.0]\n",
    "\n",
    "all_results = []"
   ]
  },
  {
   "cell_type": "markdown",
   "id": "b66c05c0-53ae-48ed-8442-ad48468e7eea",
   "metadata": {},
   "source": [
    "## 1. Oscillatory 2D"
   ]
  },
  {
   "cell_type": "code",
   "execution_count": null,
   "id": "21d6a546-a181-4f78-ba56-9a3195e438b1",
   "metadata": {
    "scrolled": true
   },
   "outputs": [],
   "source": [
    "func_name = 'Oscillatory 2D'\n",
    "h = 100\n",
    "ej = 1\n",
    "results = []\n",
    "\n",
    "u_1 = [random.uniform(0, 1) for _ in range(input_size)]\n",
    "cs = [random.uniform(0, 1) for _ in range(input_size)]\n",
    "fraction = h / (input_size ** ej * sum(cs))\n",
    "c_1 = [fraction * value for value in cs]\n",
    "\n",
    "def osc_2d(X, u, c):\n",
    "    sum_ = 0\n",
    "    for i in range(input_size):\n",
    "        sum_ += c[i] * X[:, i]\n",
    "\n",
    "    return torch.cos(2 * math.pi * u[0] + sum_)\n",
    "    \n",
    "def osc_2d_float(X, u, c):\n",
    "    sum_ = 0\n",
    "    for i in range(input_size):\n",
    "        sum_ += c[i] * X[i]\n",
    "    return math.cos(2 * math.pi * u[0] + sum_)\n",
    "\n",
    "for i in range(tests_num):\n",
    "    n_samples = init_n_samles * (i + 1)\n",
    "    print(f\"\\n\\033[1mIteration {i+1} is running! N = {n_samples**2}\\033[0m\")\n",
    "    u = u_1\n",
    "    c = c_1\n",
    "    results.append(test_2d_integration(h, ej, osc_2d, osc_2d_float, a_, b_, func_name))\n",
    "    results.append(test_2d_integration(h, ej, osc_2d, osc_2d_float, a_, b_, func_name))\n",
    "    results.append(test_2d_integration(h, ej, osc_2d, osc_2d_float, a_, b_, func_name))\n",
    "\n",
    "print(h, ej, u_1, c_1)\n",
    "\n",
    "plot_test_results(results)\n",
    "\n",
    "all_results.append(results)"
   ]
  },
  {
   "cell_type": "markdown",
   "id": "09fd87d5-07c4-46bd-adf5-3a76b766ef9e",
   "metadata": {},
   "source": [
    "## 2. Product Peak 2D"
   ]
  },
  {
   "cell_type": "code",
   "execution_count": null,
   "id": "bbfb47e1-592a-4666-8875-707851484a08",
   "metadata": {
    "scrolled": true
   },
   "outputs": [],
   "source": [
    "func_name = 'Product Peak 2D'\n",
    "h = 150\n",
    "ej = 1\n",
    "results = []\n",
    "\n",
    "u_2 = [random.uniform(0, 1) for _ in range(input_size)]\n",
    "cs = [random.uniform(0, 1) for _ in range(input_size)]\n",
    "fraction = h / (input_size ** ej * sum(cs))\n",
    "c_2 = [fraction * value for value in cs]\n",
    "\n",
    "def prod_peek_2d(X, u, c):\n",
    "    prod_ = 1\n",
    "    for i in range(2):\n",
    "        prod_ *= (c[i] ** (-2) + (X[:, i] - u[i])**2) ** (-1)\n",
    "    return prod_\n",
    "\n",
    "def prod_peek_2d_float(X, u, c):\n",
    "    prod_ = 1\n",
    "    for i in range(2):\n",
    "        prod_ *= (c[i] ** (-2) + (X[i] - u[i])**2) ** (-1)\n",
    "    return prod_\n",
    "\n",
    "for i in range(tests_num):\n",
    "    n_samples = init_n_samles * (i + 1)\n",
    "    print(f\"\\n\\033[1mIteration {i+1} is running! N = {n_samples**2}\\033[0m\")\n",
    "    u = u_2\n",
    "    c = c_2\n",
    "    results.append(test_2d_integration(h, ej, prod_peek_2d, prod_peek_2d_float, a_, b_, func_name, logplot=False))\n",
    "    results.append(test_2d_integration(h, ej, prod_peek_2d, prod_peek_2d_float, a_, b_, func_name, logplot=False))\n",
    "    results.append(test_2d_integration(h, ej, prod_peek_2d, prod_peek_2d_float, a_, b_, func_name, logplot=False))\n",
    "\n",
    "print(h, ej, u_2, c_2)\n",
    "\n",
    "plot_test_results(results)\n",
    "\n",
    "all_results.append(results)"
   ]
  },
  {
   "cell_type": "markdown",
   "id": "02773621-36d5-408e-9707-5eb2fcd6153c",
   "metadata": {},
   "source": [
    "## 3. Corner Peak 2D"
   ]
  },
  {
   "cell_type": "code",
   "execution_count": null,
   "id": "a6bc99c0-dad3-4815-a9e3-4d2e7adf58d6",
   "metadata": {
    "scrolled": true
   },
   "outputs": [],
   "source": [
    "func_name = 'Corner Peak 2D'\n",
    "h = 600\n",
    "ej = 1\n",
    "results = []\n",
    "\n",
    "u_3 = [random.uniform(0, 1) for _ in range(input_size)]\n",
    "cs = [random.uniform(0, 1) for _ in range(input_size)]\n",
    "fraction = h / (input_size ** ej * sum(cs))\n",
    "c_3 = [fraction * value for value in cs]\n",
    "\n",
    "def corn_peek_2d(X, u, c):\n",
    "    sum_ = 0\n",
    "    for i in range(2):\n",
    "        sum_ += c[i] * X[:, i]\n",
    "    return (1 + sum_) ** (-3)\n",
    "\n",
    "def corn_peek_2d_float(X, u, c):\n",
    "    sum_ = 0\n",
    "    for i in range(2):\n",
    "        sum_ += c[i] * X[i]\n",
    "    return (1 + sum_) ** (-3)\n",
    "\n",
    "for i in range(tests_num):\n",
    "    n_samples = init_n_samles * (i + 1)\n",
    "    print(f\"\\n\\033[1mIteration {i+1} is running! N = {n_samples**2}\\033[0m\")\n",
    "    u = u_3\n",
    "    c = c_3\n",
    "    results.append(test_2d_integration(h, ej, corn_peek_2d, corn_peek_2d_float, a_, b_, func_name, logplot=True))\n",
    "    results.append(test_2d_integration(h, ej, corn_peek_2d, corn_peek_2d_float, a_, b_, func_name, logplot=True))\n",
    "    results.append(test_2d_integration(h, ej, corn_peek_2d, corn_peek_2d_float, a_, b_, func_name, logplot=True))\n",
    "\n",
    "print(h, ej, u_3, c_3)\n",
    "\n",
    "plot_test_results(results)\n",
    "\n",
    "all_results.append(results)"
   ]
  },
  {
   "cell_type": "markdown",
   "id": "6a14c380-a3f2-4de2-8ef4-8bfc122adc02",
   "metadata": {},
   "source": [
    "## 4. Gaussian 2D"
   ]
  },
  {
   "cell_type": "code",
   "execution_count": null,
   "id": "020f20a0-f908-4e78-886d-2ab40ebfec7c",
   "metadata": {
    "scrolled": true
   },
   "outputs": [],
   "source": [
    "func_name = 'Gaussian 2D'\n",
    "h = 150\n",
    "ej = 1\n",
    "results = []\n",
    "\n",
    "u_4 = [random.uniform(0, 1) for _ in range(input_size)]\n",
    "cs = [random.uniform(0, 1) for _ in range(input_size)]\n",
    "fraction = h / (input_size ** ej * sum(cs))\n",
    "c_4 = [fraction * value for value in cs] \n",
    "\n",
    "def gauss_2d(X, u, c):\n",
    "    sum_ = 0\n",
    "    for i in range(2):\n",
    "        sum_ += (c[i] ** 2) * ((X[:, i] - u[i]) ** 2)\n",
    "    return torch.exp(-sum_)\n",
    "\n",
    "def gauss_2d_float(X, u, c):\n",
    "    sum_ = 0\n",
    "    for i in range(2):\n",
    "        sum_ += (c[i] ** 2) * ((X[i] - u[i]) ** 2)\n",
    "    return np.exp(-sum_)\n",
    "\n",
    "for i in range(tests_num):\n",
    "    n_samples = init_n_samles * (i + 1)\n",
    "    print(f\"\\n\\033[1mIteration {i+1} is running! N = {n_samples**2}\\033[0m\")\n",
    "    u = u_4\n",
    "    c = c_4\n",
    "    results.append(test_2d_integration(h, ej, gauss_2d, gauss_2d_float, a_, b_, func_name, logplot=True))\n",
    "    results.append(test_2d_integration(h, ej, gauss_2d, gauss_2d_float, a_, b_, func_name, logplot=True))\n",
    "    results.append(test_2d_integration(h, ej, gauss_2d, gauss_2d_float, a_, b_, func_name, logplot=True))\n",
    "\n",
    "print(h, ej, u_4, c_4)\n",
    "\n",
    "plot_test_results(results)\n",
    "\n",
    "all_results.append(results)"
   ]
  },
  {
   "cell_type": "markdown",
   "id": "63a4d5a1-e553-4001-b8da-905345868db5",
   "metadata": {},
   "source": [
    "## 5. Continuous 2D"
   ]
  },
  {
   "cell_type": "code",
   "execution_count": null,
   "id": "7f1fad4f-b1e9-43f2-88d7-1e3694959726",
   "metadata": {
    "scrolled": true
   },
   "outputs": [],
   "source": [
    "func_name = 'Continuous 2D'\n",
    "h = 100\n",
    "ej = 1\n",
    "results = []\n",
    "\n",
    "u_5 = [random.uniform(0, 1) for _ in range(input_size)]\n",
    "cs = [random.uniform(0, 1) for _ in range(input_size)]\n",
    "fraction = h / (input_size ** ej * sum(cs))\n",
    "c_5 = [fraction * value for value in cs] \n",
    "\n",
    "def cont_2d(X, u, c):\n",
    "    sum_ = 0\n",
    "    for i in range(2):\n",
    "        sum_ += c[i]  * abs(X[:, i] - u[i])\n",
    "    return torch.exp(-sum_)\n",
    "\n",
    "def cont_2d_float(X, u, c):\n",
    "    sum_ = 0\n",
    "    for i in range(2):\n",
    "        sum_ += c[i] ** 2 * abs(X[i] - u[i]) ** 2\n",
    "    return np.exp(-sum_)\n",
    "\n",
    "for i in range(tests_num):\n",
    "    n_samples = init_n_samles * (i + 1)\n",
    "    print(f\"\\n\\033[1mIteration {i+1} is running! N = {n_samples**2}\\033[0m\")\n",
    "    u = u_5\n",
    "    c = c_5\n",
    "    results.append(test_2d_integration(h, ej, cont_2d, cont_2d_float, a_, b_, func_name, logplot=False))\n",
    "    results.append(test_2d_integration(h, ej, cont_2d, cont_2d_float, a_, b_, func_name, logplot=False))\n",
    "    results.append(test_2d_integration(h, ej, cont_2d, cont_2d_float, a_, b_, func_name, logplot=False))\n",
    "\n",
    "print(h, ej, u_5, c_5)\n",
    "\n",
    "plot_test_results(results)\n",
    "\n",
    "all_results.append(results)"
   ]
  },
  {
   "cell_type": "markdown",
   "id": "539cd8db-9151-4eb0-8927-be625b8c8326",
   "metadata": {},
   "source": [
    "## 6. Discontinuous 2D"
   ]
  },
  {
   "cell_type": "code",
   "execution_count": null,
   "id": "3ec4ea75-ac59-4261-bc64-d19085e967df",
   "metadata": {
    "scrolled": true
   },
   "outputs": [],
   "source": [
    "func_name = 'Discontinuous 2D'\n",
    "h = 16\n",
    "ej = 1\n",
    "results = []\n",
    "\n",
    "u_6 = [random.uniform(0, 1) for _ in range(input_size)]\n",
    "cs = [random.uniform(0, 1) for _ in range(input_size)]\n",
    "fraction = h / (input_size ** ej * sum(cs))\n",
    "c_6 = [fraction * value for value in cs]\n",
    "\n",
    "def disco_2d(X, u, c):\n",
    "    result = torch.zeros(X.shape[0])\n",
    "    for i in range(X.shape[0]):\n",
    "        x = X[i, 0].item()\n",
    "        \n",
    "        if x > u[0]:\n",
    "            result[i] = 0.0\n",
    "        else:\n",
    "            result[i] = math.exp(c[0] * x)\n",
    "\n",
    "    return result\n",
    "\n",
    "def disco_1d_float(X, u, c):\n",
    "    x1, x2 = X\n",
    "\n",
    "    if x1 > u[0] or x2 > u[1]:\n",
    "        return 0.0\n",
    "    else:\n",
    "        return math.exp(c[0] * x1 + c[1] * x2)\n",
    "\n",
    "for i in range(tests_num):\n",
    "    n_samples = init_n_samles * (i + 1)\n",
    "    print(f\"\\n\\033[1mIteration {i+1} is running! N = {n_samples**2}\\033[0m\")\n",
    "    u = u_6\n",
    "    c = c_6\n",
    "    results.append(test_2d_integration(h, ej, disco_2d, disco_1d_float, a_, b_, func_name, logplot=False))\n",
    "    results.append(test_2d_integration(h, ej, disco_2d, disco_1d_float, a_, b_, func_name, logplot=False))\n",
    "    results.append(test_2d_integration(h, ej, disco_2d, disco_1d_float, a_, b_, func_name, logplot=False))\n",
    "\n",
    "print(h, ej, u_6, c_6)\n",
    "\n",
    "plot_test_results(results)\n",
    "\n",
    "all_results.append(results)"
   ]
  },
  {
   "cell_type": "markdown",
   "id": "b136d52a-dfa3-4897-b71c-8f47153c20f0",
   "metadata": {},
   "source": [
    "# Calculation of MAEs for the research"
   ]
  },
  {
   "cell_type": "code",
   "execution_count": 11,
   "id": "49812229-011e-41cf-b032-14289cee04fb",
   "metadata": {},
   "outputs": [],
   "source": [
    "ug_all_maes = []\n",
    "\n",
    "for results in all_results:\n",
    "    results_list = []\n",
    "    chunk_size = 3\n",
    "    for i in range(0, len(results), chunk_size):\n",
    "        results_list.append(results[i:i + chunk_size])\n",
    "    maes = [calculate_mae(results) for results in results_list]\n",
    "    ug_all_maes.append(maes)"
   ]
  },
  {
   "cell_type": "code",
   "execution_count": 12,
   "id": "4c9e3e95-50ae-4ddf-ad54-b4bc482a163d",
   "metadata": {
    "scrolled": true
   },
   "outputs": [
    {
     "name": "stdout",
     "output_type": "stream",
     "text": [
      "0.02905872\n",
      "0.01246002\n",
      "0.00189221\n",
      "0.00737003\n",
      "0.00114893\n",
      "0.00197969\n",
      "0.00423909\n",
      "0.00103979\n",
      "0.00289963\n",
      "0.00227505\n",
      "0.00110572\n",
      "0.00135106\n",
      "0.00072779\n",
      "0.00207903\n",
      "0.00146991\n",
      "0.00071857\n",
      "0.00124436\n",
      "0.00104918\n",
      "0.00112905\n",
      "0.00090732\n",
      "\n",
      "\n",
      "5282.18550111\n",
      "1118.33595276\n",
      "1002.50988262\n",
      "362.14988709\n",
      "823.37937928\n",
      "396.66124980\n",
      "110.25701395\n",
      "586.43468730\n",
      "160.04634095\n",
      "322.47573344\n",
      "151.68341573\n",
      "57.11209616\n",
      "138.13588969\n",
      "112.94347637\n",
      "120.76736960\n",
      "112.10463969\n",
      "372.63657125\n",
      "125.96398418\n",
      "100.21821595\n",
      "119.21987407\n",
      "\n",
      "\n",
      "0.00429416\n",
      "0.00250011\n",
      "0.00112430\n",
      "0.00077601\n",
      "0.00058959\n",
      "0.00041422\n",
      "0.00038569\n",
      "0.00025224\n",
      "0.00087508\n",
      "0.00016347\n",
      "0.00024836\n",
      "0.00022419\n",
      "0.00016974\n",
      "0.00019842\n",
      "0.00011835\n",
      "0.00012485\n",
      "0.00011983\n",
      "0.00008081\n",
      "0.00009640\n",
      "0.00008944\n",
      "\n",
      "\n",
      "0.00331808\n",
      "0.00119746\n",
      "0.00053944\n",
      "0.00001226\n",
      "0.00013458\n",
      "0.00021851\n",
      "0.00016649\n",
      "0.00009660\n",
      "0.00006493\n",
      "0.00014356\n",
      "0.00007783\n",
      "0.00035081\n",
      "0.00010476\n",
      "0.00007217\n",
      "0.00007771\n",
      "0.00007356\n",
      "0.00005962\n",
      "0.00002750\n",
      "0.00006866\n",
      "0.00009260\n",
      "\n",
      "\n",
      "0.01122312\n",
      "0.00576096\n",
      "0.00572122\n",
      "0.00484996\n",
      "0.00305541\n",
      "0.00152298\n",
      "0.00208541\n",
      "0.00221001\n",
      "0.00241144\n",
      "0.00230810\n",
      "0.00184855\n",
      "0.00160220\n",
      "0.00210634\n",
      "0.00185362\n",
      "0.00205330\n",
      "0.00163990\n",
      "0.00164978\n",
      "0.00161682\n",
      "0.00121391\n",
      "0.00170057\n",
      "\n",
      "\n",
      "0.61554606\n",
      "0.50681767\n",
      "0.47576430\n",
      "0.52689311\n",
      "0.50120255\n",
      "0.48902596\n",
      "0.51495150\n",
      "0.50353457\n",
      "0.52107885\n",
      "0.50996007\n",
      "0.50292767\n",
      "0.51490916\n",
      "0.50849512\n",
      "0.50259434\n",
      "0.51436254\n",
      "0.50725256\n",
      "0.51645981\n",
      "0.51210051\n",
      "0.50612031\n",
      "0.51542241\n",
      "\n",
      "\n"
     ]
    }
   ],
   "source": [
    "for maes in ug_all_maes:\n",
    "    for i, mae in enumerate(maes, start=1):\n",
    "        print(f\"{mae:.8f}\")\n",
    "    print('\\n')"
   ]
  },
  {
   "cell_type": "code",
   "execution_count": 13,
   "id": "f4f85e2b-0461-4954-b8d6-0d0c8c7018ec",
   "metadata": {},
   "outputs": [
    {
     "name": "stdout",
     "output_type": "stream",
     "text": [
      "Data saved to NG-all-rests.pkl\n",
      "Data loaded from NG-all-rests.pkl\n"
     ]
    },
    {
     "data": {
      "text/plain": [
       "True"
      ]
     },
     "execution_count": 13,
     "metadata": {},
     "output_type": "execute_result"
    }
   ],
   "source": [
    "save_data(all_results, filename=\"cucumbers/NG-all-rests.pkl\")\n",
    "loaded_data = load_data(filename=\"cucumbers/NG-all-rests.pkl\")\n",
    "\n",
    "loaded_data == all_results"
   ]
  },
  {
   "cell_type": "code",
   "execution_count": 14,
   "id": "548fe5c7-54f6-4c0f-9f43-4a9d4e63dd40",
   "metadata": {},
   "outputs": [
    {
     "name": "stdout",
     "output_type": "stream",
     "text": [
      "Data saved to NG-all-maes.pkl\n",
      "Data loaded from NG-all-maes.pkl\n"
     ]
    },
    {
     "data": {
      "text/plain": [
       "True"
      ]
     },
     "execution_count": 14,
     "metadata": {},
     "output_type": "execute_result"
    }
   ],
   "source": [
    "save_data(ug_all_maes, filename=\"cucumbers/NG-all-maes.pkl\")\n",
    "loaded_data = load_data(filename=\"cucumbers/NG-all-maes.pkl\")\n",
    "\n",
    "loaded_data == ug_all_maes"
   ]
  },
  {
   "cell_type": "markdown",
   "id": "001fe9f6-0a74-431d-88ae-19a30eb74041",
   "metadata": {},
   "source": [
    "# Part 2: N-size tests with Standard Uniform Distribution"
   ]
  },
  {
   "cell_type": "markdown",
   "id": "2d12c0ee-4877-4d39-bdc5-2af3e7e9201f",
   "metadata": {},
   "source": [
    "## 2D testing function"
   ]
  },
  {
   "cell_type": "code",
   "execution_count": 15,
   "id": "42f86045-ae14-4c17-a62e-5e5b2f12d402",
   "metadata": {},
   "outputs": [],
   "source": [
    "def test_2d_integration(h, ej, func, func_float, a, b, func_name, logplot=False):\n",
    "    global input_size, hidden_size, u, c, n_samples\n",
    "  \n",
    "    X_init, y_init = generate_data_uniform(func, a, b, n_samples, input_size, u, c)\n",
    "    if logplot:\n",
    "        plot_2d_function_heatmap_with_log(X_init, y_init, func_name)\n",
    "    else:\n",
    "        plot_2d_function_heatmap(X_init, y_init, func_name)\n",
    "    X, y = scale_data(X_init, y_init, n_dim=2)\n",
    "    \n",
    "    x_train, x_test, y_train, y_test = train_test_split(X, y, test_size=0.1)  \n",
    "    model = MLP(input_size, hidden_size)\n",
    "    model.compile(criterion=nn.MSELoss(), optimizer=optim.Adam(model.parameters(), lr=learning_rate))\n",
    "    train_history = model.fit(x_train, y_train, num_epochs, verbose=False)\n",
    "    test_loss = model.test(x_test, y_test)\n",
    "    print(f\"Test Loss: {test_loss:.10f}\")\n",
    "    \n",
    "    nni_scaled = NeuralNumericalIntegration.integrate(model, a, b, n_dims=2)\n",
    "    nni_result = descale_result(float(nni_scaled[0]), X_init, y_init, frange=(0, 1), n_dim=2)\n",
    "    result_quad = integrate_2d_nquad(func_float, a, b, u, c)\n",
    "    result_trapz = integrate_2d_trapz(func, a, b, 100, u, c)\n",
    "   \n",
    "    return nni_result, result_quad, result_trapz"
   ]
  },
  {
   "cell_type": "markdown",
   "id": "07423923-a48a-471d-aec8-42cc44c3fb30",
   "metadata": {},
   "source": [
    "## Hyperparams for 2D"
   ]
  },
  {
   "cell_type": "code",
   "execution_count": 16,
   "id": "028746b9-3e27-4a04-b8ff-15284e3c2ab7",
   "metadata": {},
   "outputs": [],
   "source": [
    "input_size = 2\n",
    "hidden_size = 25\n",
    "learning_rate = 0.001\n",
    "num_epochs = 5000\n",
    "\n",
    "init_n_samles = 10\n",
    "n_samples = init_n_samles\n",
    "\n",
    "tests_num = 20\n",
    "\n",
    "a_ = [0.0, 0.0]\n",
    "b_ = [1.0, 1.0]\n",
    "\n",
    "all_results = []"
   ]
  },
  {
   "cell_type": "markdown",
   "id": "9a9ddb34-612d-409b-bdf5-3ce39929abc2",
   "metadata": {},
   "source": [
    "## 1. Oscillatory 2D"
   ]
  },
  {
   "cell_type": "code",
   "execution_count": null,
   "id": "fd7485b0-d3ed-4b62-a4bc-af8847ac3c70",
   "metadata": {
    "scrolled": true
   },
   "outputs": [],
   "source": [
    "func_name = 'Oscillatory 2D'\n",
    "h = 100\n",
    "ej = 1\n",
    "results = []\n",
    "\n",
    "def osc_2d(X, u, c):\n",
    "    sum_ = 0\n",
    "    for i in range(input_size):\n",
    "        sum_ += c[i] * X[:, i]\n",
    "\n",
    "    return torch.cos(2 * math.pi * u[0] + sum_)\n",
    "    \n",
    "def osc_2d_float(X, u, c):\n",
    "    sum_ = 0\n",
    "    for i in range(input_size):\n",
    "        sum_ += c[i] * X[i]\n",
    "    return math.cos(2 * math.pi * u[0] + sum_)\n",
    "\n",
    "for i in range(tests_num):\n",
    "    n_samples = (init_n_samles * (i + 1)) ** 2\n",
    "    print(f\"\\n\\033[1mIteration {i+1} is running! N = {n_samples}\\033[0m\")\n",
    "    u = u_1\n",
    "    c = c_1\n",
    "    results.append(test_2d_integration(h, ej, osc_2d, osc_2d_float, a_, b_, func_name))\n",
    "    results.append(test_2d_integration(h, ej, osc_2d, osc_2d_float, a_, b_, func_name))\n",
    "    results.append(test_2d_integration(h, ej, osc_2d, osc_2d_float, a_, b_, func_name))\n",
    "\n",
    "print(h, ej, u_1, c_1)\n",
    "\n",
    "plot_test_results(results)\n",
    "\n",
    "all_results.append(results)"
   ]
  },
  {
   "cell_type": "markdown",
   "id": "61d037a3-c7af-4822-a19a-3f515539f2a0",
   "metadata": {},
   "source": [
    "## 2. Product Peak 2D"
   ]
  },
  {
   "cell_type": "code",
   "execution_count": null,
   "id": "21640bd0-2860-4459-b8a1-46145391b38b",
   "metadata": {
    "scrolled": true
   },
   "outputs": [],
   "source": [
    "func_name = 'Product Peak 2D'\n",
    "h = 150\n",
    "ej = 1\n",
    "results = []\n",
    "\n",
    "def prod_peek_2d(X, u, c):\n",
    "    prod_ = 1\n",
    "    for i in range(2):\n",
    "        prod_ *= (c[i] ** (-2) + (X[:, i] - u[i])**2) ** (-1)\n",
    "    return prod_\n",
    "\n",
    "def prod_peek_2d_float(X, u, c):\n",
    "    prod_ = 1\n",
    "    for i in range(2):\n",
    "        prod_ *= (c[i] ** (-2) + (X[i] - u[i])**2) ** (-1)\n",
    "    return prod_\n",
    "\n",
    "for i in range(tests_num):\n",
    "    n_samples = (init_n_samles * (i + 1)) ** 2\n",
    "    print(f\"\\n\\033[1mIteration {i+1} is running! N = {n_samples}\\033[0m\")\n",
    "    u = u_2\n",
    "    c = c_2\n",
    "    results.append(test_2d_integration(h, ej, prod_peek_2d, prod_peek_2d_float, a_, b_, func_name, logplot=False))\n",
    "    results.append(test_2d_integration(h, ej, prod_peek_2d, prod_peek_2d_float, a_, b_, func_name, logplot=False))\n",
    "    results.append(test_2d_integration(h, ej, prod_peek_2d, prod_peek_2d_float, a_, b_, func_name, logplot=False))\n",
    "\n",
    "print(h, ej, u_2, c_2)\n",
    "\n",
    "plot_test_results(results)\n",
    "\n",
    "all_results.append(results)"
   ]
  },
  {
   "cell_type": "markdown",
   "id": "d47f89ab-4098-4889-b7bd-ff1bf73855a6",
   "metadata": {},
   "source": [
    "## 3. Corner Peak 2D"
   ]
  },
  {
   "cell_type": "code",
   "execution_count": null,
   "id": "cc336cf8-df1d-4b0c-8bd2-1a18bcf1c67f",
   "metadata": {
    "scrolled": true
   },
   "outputs": [],
   "source": [
    "func_name = 'Corner Peak 2D'\n",
    "h = 600\n",
    "ej = 1\n",
    "results = []\n",
    "\n",
    "def corn_peek_2d(X, u, c):\n",
    "    sum_ = 0\n",
    "    for i in range(2):\n",
    "        sum_ += c[i] * X[:, i]\n",
    "    return (1 + sum_) ** (-3)\n",
    "\n",
    "def corn_peek_2d_float(X, u, c):\n",
    "    sum_ = 0\n",
    "    for i in range(2):\n",
    "        sum_ += c[i] * X[i]\n",
    "    return (1 + sum_) ** (-3)\n",
    "\n",
    "for i in range(tests_num):\n",
    "    n_samples = (init_n_samles * (i + 1)) ** 2\n",
    "    print(f\"\\n\\033[1mIteration {i+1} is running! N = {n_samples}\\033[0m\")\n",
    "    u = u_3\n",
    "    c = c_3\n",
    "    results.append(test_2d_integration(h, ej, corn_peek_2d, corn_peek_2d_float, a_, b_, func_name, logplot=True))\n",
    "    results.append(test_2d_integration(h, ej, corn_peek_2d, corn_peek_2d_float, a_, b_, func_name, logplot=True))\n",
    "    results.append(test_2d_integration(h, ej, corn_peek_2d, corn_peek_2d_float, a_, b_, func_name, logplot=True))\n",
    "\n",
    "print(h, ej, u_3, c_3)\n",
    "\n",
    "plot_test_results(results)\n",
    "\n",
    "all_results.append(results)"
   ]
  },
  {
   "cell_type": "markdown",
   "id": "87fe51fa-86f8-4013-9db1-4c7f07dd9c0e",
   "metadata": {},
   "source": [
    "## 4. Gaussian 2D"
   ]
  },
  {
   "cell_type": "code",
   "execution_count": null,
   "id": "116a67bf-b84e-45ea-836f-9fbc532cb57e",
   "metadata": {
    "scrolled": true
   },
   "outputs": [],
   "source": [
    "func_name = 'Gaussian 2D'\n",
    "h = 150\n",
    "ej = 1\n",
    "results = []\n",
    "\n",
    "def gauss_2d(X, u, c):\n",
    "    sum_ = 0\n",
    "    for i in range(2):\n",
    "        sum_ += (c[i] ** 2) * ((X[:, i] - u[i]) ** 2)\n",
    "    return torch.exp(-sum_)\n",
    "\n",
    "def gauss_2d_float(X, u, c):\n",
    "    sum_ = 0\n",
    "    for i in range(2):\n",
    "        sum_ += (c[i] ** 2) * ((X[i] - u[i]) ** 2)\n",
    "    return np.exp(-sum_)\n",
    "\n",
    "for i in range(tests_num):\n",
    "    n_samples = (init_n_samles * (i + 1)) ** 2\n",
    "    print(f\"\\n\\033[1mIteration {i+1} is running! N = {n_samples}\\033[0m\")\n",
    "    u = u_4\n",
    "    c = c_4\n",
    "    results.append(test_2d_integration(h, ej, gauss_2d, gauss_2d_float, a_, b_, func_name, logplot=True))\n",
    "    results.append(test_2d_integration(h, ej, gauss_2d, gauss_2d_float, a_, b_, func_name, logplot=True))\n",
    "    results.append(test_2d_integration(h, ej, gauss_2d, gauss_2d_float, a_, b_, func_name, logplot=True))\n",
    "\n",
    "print(h, ej, u_4, c_4)\n",
    "\n",
    "plot_test_results(results)\n",
    "\n",
    "all_results.append(results)"
   ]
  },
  {
   "cell_type": "markdown",
   "id": "7716a028-db6d-46c3-97fe-0d182d9af5b9",
   "metadata": {},
   "source": [
    "## 5. Continuous 2D"
   ]
  },
  {
   "cell_type": "code",
   "execution_count": null,
   "id": "5dc39532-7d04-4b57-ae61-e0d5551421d1",
   "metadata": {
    "scrolled": true
   },
   "outputs": [],
   "source": [
    "func_name = 'Continuous 2D'\n",
    "h = 100\n",
    "ej = 1\n",
    "results = []\n",
    "\n",
    "def cont_2d(X, u, c):\n",
    "    sum_ = 0\n",
    "    for i in range(2):\n",
    "        sum_ += c[i]  * abs(X[:, i] - u[i])\n",
    "    return torch.exp(-sum_)\n",
    "\n",
    "def cont_2d_float(X, u, c):\n",
    "    sum_ = 0\n",
    "    for i in range(2):\n",
    "        sum_ += c[i] ** 2 * abs(X[i] - u[i]) ** 2\n",
    "    return np.exp(-sum_)\n",
    "\n",
    "for i in range(tests_num):\n",
    "    n_samples = (init_n_samles * (i + 1)) ** 2\n",
    "    print(f\"\\n\\033[1mIteration {i+1} is running! N = {n_samples}\\033[0m\")\n",
    "    u = u_5\n",
    "    c = c_5\n",
    "    results.append(test_2d_integration(h, ej, cont_2d, cont_2d_float, a_, b_, func_name, logplot=False))\n",
    "    results.append(test_2d_integration(h, ej, cont_2d, cont_2d_float, a_, b_, func_name, logplot=False))\n",
    "    results.append(test_2d_integration(h, ej, cont_2d, cont_2d_float, a_, b_, func_name, logplot=False))\n",
    "\n",
    "print(h, ej, u_5, c_5)\n",
    "\n",
    "plot_test_results(results)\n",
    "\n",
    "all_results.append(results)"
   ]
  },
  {
   "cell_type": "markdown",
   "id": "13519981-00ca-4f8c-a5a9-1f9578ea6d2a",
   "metadata": {},
   "source": [
    "## 6. Discontinuous 2D"
   ]
  },
  {
   "cell_type": "code",
   "execution_count": null,
   "id": "08b5f9ca-cb53-44b9-892e-1673dd97c80d",
   "metadata": {
    "scrolled": true
   },
   "outputs": [],
   "source": [
    "func_name = 'Discontinuous 2D'\n",
    "h = 16\n",
    "ej = 1\n",
    "results = []\n",
    "\n",
    "def disco_2d(X, u, c):\n",
    "    result = torch.zeros(X.shape[0])\n",
    "    for i in range(X.shape[0]):\n",
    "        x = X[i, 0].item()\n",
    "        \n",
    "        if x > u[0]:\n",
    "            result[i] = 0.0\n",
    "        else:\n",
    "            result[i] = math.exp(c[0] * x)\n",
    "\n",
    "    return result\n",
    "\n",
    "def disco_1d_float(X, u, c):\n",
    "    x1, x2 = X\n",
    "\n",
    "    if x1 > u[0] or x2 > u[1]:\n",
    "        return 0.0\n",
    "    else:\n",
    "        return math.exp(c[0] * x1 + c[1] * x2)\n",
    "\n",
    "for i in range(tests_num):\n",
    "    n_samples = (init_n_samles * (i + 1)) ** 2\n",
    "    print(f\"\\n\\033[1mIteration {i+1} is running! N = {n_samples}\\033[0m\")\n",
    "    u = u_6\n",
    "    c = c_6\n",
    "    results.append(test_2d_integration(h, ej, disco_2d, disco_1d_float, a_, b_, func_name, logplot=False))\n",
    "    results.append(test_2d_integration(h, ej, disco_2d, disco_1d_float, a_, b_, func_name, logplot=False))\n",
    "    results.append(test_2d_integration(h, ej, disco_2d, disco_1d_float, a_, b_, func_name, logplot=False))\n",
    "\n",
    "print(h, ej, u_6, c_6)\n",
    "\n",
    "plot_test_results(results)\n",
    "\n",
    "all_results.append(results)"
   ]
  },
  {
   "cell_type": "markdown",
   "id": "c04696ad-bee0-4563-ae4c-0ec61933b350",
   "metadata": {},
   "source": [
    "# Calculation of MAEs for the research"
   ]
  },
  {
   "cell_type": "code",
   "execution_count": 23,
   "id": "d8ce9ad0-1b3a-4319-ac5e-b00bb83f8f63",
   "metadata": {},
   "outputs": [],
   "source": [
    "sud_all_maes = []\n",
    "\n",
    "for results in all_results:\n",
    "    results_list = []\n",
    "    chunk_size = 3\n",
    "    for i in range(0, len(results), chunk_size):\n",
    "        results_list.append(results[i:i + chunk_size])\n",
    "    maes = [calculate_mae(results) for results in results_list]\n",
    "    sud_all_maes.append(maes)"
   ]
  },
  {
   "cell_type": "code",
   "execution_count": 24,
   "id": "ceb2b4a4-78a0-4e4c-97c7-d7cbcaa852c9",
   "metadata": {},
   "outputs": [
    {
     "name": "stdout",
     "output_type": "stream",
     "text": [
      "0.02864941\n",
      "0.01681226\n",
      "0.04003308\n",
      "0.01261231\n",
      "0.00538154\n",
      "0.00365728\n",
      "0.00888137\n",
      "0.00602912\n",
      "0.00306726\n",
      "0.00533309\n",
      "0.00307636\n",
      "0.00302148\n",
      "0.00555016\n",
      "0.00438010\n",
      "0.00133525\n",
      "0.00485473\n",
      "0.00372891\n",
      "0.00216722\n",
      "0.00454841\n",
      "0.00578191\n",
      "\n",
      "\n",
      "6049.95693461\n",
      "4303.86931864\n",
      "995.83462016\n",
      "1307.51463318\n",
      "680.27407329\n",
      "814.28562928\n",
      "1198.73289490\n",
      "469.53207906\n",
      "1135.90740458\n",
      "368.95691426\n",
      "329.22589620\n",
      "313.86118062\n",
      "355.85255432\n",
      "522.76398214\n",
      "289.50375875\n",
      "245.73484803\n",
      "350.29767355\n",
      "94.42625428\n",
      "250.98650614\n",
      "129.52332051\n",
      "\n",
      "\n",
      "0.00006646\n",
      "0.00004483\n",
      "0.00008672\n",
      "0.00003302\n",
      "0.00006534\n",
      "0.00002935\n",
      "0.00003172\n",
      "0.00002290\n",
      "0.00001646\n",
      "0.00003397\n",
      "0.00001837\n",
      "0.00002346\n",
      "0.00002601\n",
      "0.00003260\n",
      "0.00001782\n",
      "0.00000398\n",
      "0.00001049\n",
      "0.00001225\n",
      "0.00001037\n",
      "0.00002798\n",
      "\n",
      "\n",
      "0.00255228\n",
      "0.00238211\n",
      "0.00148250\n",
      "0.00079782\n",
      "0.00083486\n",
      "0.00043834\n",
      "0.00010016\n",
      "0.00067836\n",
      "0.00025422\n",
      "0.00047908\n",
      "0.00034066\n",
      "0.00020877\n",
      "0.00039998\n",
      "0.00019528\n",
      "0.00018979\n",
      "0.00020490\n",
      "0.00026298\n",
      "0.00005977\n",
      "0.00016693\n",
      "0.00019052\n",
      "\n",
      "\n",
      "0.00679688\n",
      "0.00291698\n",
      "0.00502197\n",
      "0.00072248\n",
      "0.00164660\n",
      "0.00205485\n",
      "0.00145336\n",
      "0.00163340\n",
      "0.00066396\n",
      "0.00195234\n",
      "0.00127289\n",
      "0.00102284\n",
      "0.00099096\n",
      "0.00058435\n",
      "0.00163351\n",
      "0.00106752\n",
      "0.00161002\n",
      "0.00168558\n",
      "0.00165324\n",
      "0.00071077\n",
      "\n",
      "\n",
      "0.53340327\n",
      "0.52019086\n",
      "0.50959521\n",
      "0.50237208\n",
      "0.51023745\n",
      "0.50551358\n",
      "0.50547865\n",
      "0.50931997\n",
      "0.51122203\n",
      "0.50784521\n",
      "0.51220462\n",
      "0.51384782\n",
      "0.51562122\n",
      "0.50898164\n",
      "0.51377224\n",
      "0.51021297\n",
      "0.51056499\n",
      "0.51365488\n",
      "0.51307228\n",
      "0.50986756\n",
      "\n",
      "\n"
     ]
    }
   ],
   "source": [
    "for maes in sud_all_maes:\n",
    "    for i, mae in enumerate(maes, start=1):\n",
    "        print(f\"{mae:.8f}\")\n",
    "    print('\\n')"
   ]
  },
  {
   "cell_type": "code",
   "execution_count": 25,
   "id": "6c9703c2-f4f0-475c-a53b-b24170bc66ab",
   "metadata": {},
   "outputs": [
    {
     "name": "stdout",
     "output_type": "stream",
     "text": [
      "Data saved to SUD-all-rests.pkl\n",
      "Data loaded from SUD-all-rests.pkl\n"
     ]
    },
    {
     "data": {
      "text/plain": [
       "True"
      ]
     },
     "execution_count": 25,
     "metadata": {},
     "output_type": "execute_result"
    }
   ],
   "source": [
    "save_data(all_results, filename=\"cucumbers/SUD-all-rests.pkl\")\n",
    "loaded_data = load_data(filename=\"cucumbers/SUD-all-rests.pkl\")\n",
    "\n",
    "loaded_data == all_results"
   ]
  },
  {
   "cell_type": "code",
   "execution_count": 26,
   "id": "a3d331de-6a27-4f4a-9a67-2c3c2d06fdfd",
   "metadata": {},
   "outputs": [
    {
     "name": "stdout",
     "output_type": "stream",
     "text": [
      "Data saved to SUD-all-maes.pkl\n",
      "Data loaded from SUD-all-maes.pkl\n"
     ]
    },
    {
     "data": {
      "text/plain": [
       "True"
      ]
     },
     "execution_count": 26,
     "metadata": {},
     "output_type": "execute_result"
    }
   ],
   "source": [
    "save_data(sud_all_maes, filename=\"cucumbers/SUD-all-maes.pkl\")\n",
    "loaded_data = load_data(filename=\"cucumbers/SUD-all-maes.pkl\")\n",
    "\n",
    "loaded_data == sud_all_maes"
   ]
  }
 ],
 "metadata": {
  "kernelspec": {
   "display_name": "Python 3 (ipykernel)",
   "language": "python",
   "name": "python3"
  },
  "language_info": {
   "codemirror_mode": {
    "name": "ipython",
    "version": 3
   },
   "file_extension": ".py",
   "mimetype": "text/x-python",
   "name": "python",
   "nbconvert_exporter": "python",
   "pygments_lexer": "ipython3",
   "version": "3.11.5"
  }
 },
 "nbformat": 4,
 "nbformat_minor": 5
}
