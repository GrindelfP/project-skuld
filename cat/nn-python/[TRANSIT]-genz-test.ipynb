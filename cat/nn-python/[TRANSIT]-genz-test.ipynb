{
 "cells": [
  {
   "cell_type": "markdown",
   "id": "9af3c9b6-99da-4802-9fe1-40814bc20e53",
   "metadata": {},
   "source": [
    "# Testing neural networks approach to numerical integration on Genz numerical integration testing package"
   ]
  },
  {
   "cell_type": "markdown",
   "id": "f6c4aea9-2abd-4cbd-81f8-bfda2ae8ec53",
   "metadata": {},
   "source": [
    "## Library import"
   ]
  },
  {
   "cell_type": "code",
   "id": "a49f4cae-343f-406c-9e5a-9c97602ba6fb",
   "metadata": {},
   "source": [
    "%run ../skuld/skuld.py      # skuld NNI library\n",
    "%run ../utils/plots.py      # plotting functions\n",
    "%run ../utils/integrate.py  # 'classic' numerical integration function"
   ],
   "outputs": [],
   "execution_count": null
  },
  {
   "cell_type": "markdown",
   "id": "dbf73583-ff89-408a-acc8-2a4a365e5636",
   "metadata": {},
   "source": [
    "# 1D testing"
   ]
  },
  {
   "cell_type": "markdown",
   "id": "ba1c3bf2-9225-416d-8c4b-0f6ba64c6b35",
   "metadata": {},
   "source": [
    "### 1D testing function"
   ]
  },
  {
   "cell_type": "code",
   "id": "df702db2-a436-4d0d-a2a5-007114634e4f",
   "metadata": {},
   "source": [
    "def test_1d_integration(h, func, func_float, a, b, func_name):\n",
    "    u: float = random.uniform(0, 1)\n",
    "    cs = random.uniform(0, 1)\n",
    "    c = h\n",
    "  \n",
    "    X_init, y_init = generate_data(func, a, b, 40000, 1, u, c)\n",
    "    plot_1d_function(X_init, y_init, func_name)\n",
    "    X, y = scale_data(X_init, y_init)   \n",
    "\n",
    "    x_train, x_test, y_train, y_test = train_test_split(X, y, test_size=0.1)  \n",
    "    model = MLP(input_size, hidden_size)\n",
    "    model.compile(criterion=nn.MSELoss(), optimizer=optim.Adam(model.parameters(), lr=learning_rate))\n",
    "    train_history = model.fit(x_train, y_train, num_epochs, verbose=False)\n",
    "    test_loss = model.test(x_test, y_test)\n",
    "    print(f\"Test Loss: {test_loss:.10f}\")\n",
    "    \n",
    "    nni_scaled = NeuralNumericalIntegration.integrate(model, a, b, n_dims=1)\n",
    "    nni_result = descale_result(float(nni_scaled[0]), X_init, y_init, frange=(0, 1), n_dim=1)\n",
    "    result_quad = integrate_1d_quad(func_float, a[0], b[0], u, c)\n",
    "    result_trapz = np.trapz(y_init.squeeze().numpy(), X_init.squeeze().numpy())\n",
    "\n",
    "    return nni_result, result_quad, result_trapz"
   ],
   "outputs": [],
   "execution_count": null
  },
  {
   "cell_type": "markdown",
   "id": "85bc310c-b894-4aef-8263-179c11636088",
   "metadata": {},
   "source": [
    "## Hyperparams for 1D"
   ]
  },
  {
   "cell_type": "code",
   "id": "d0a35c33-c5e8-4390-82d1-d5351222427f",
   "metadata": {},
   "source": [
    "input_size = 1\n",
    "hidden_size = 25\n",
    "learning_rate = 0.001\n",
    "num_epochs = 5000\n",
    "\n",
    "tests_num = 20\n",
    "\n",
    "a_ = [0.0]\n",
    "b_ = [1.0]"
   ],
   "outputs": [],
   "execution_count": null
  },
  {
   "cell_type": "markdown",
   "id": "9a4fd3cc-c3ed-4973-b83f-e075b8c0d14e",
   "metadata": {},
   "source": [
    "## 1. Oscillatory 1D"
   ]
  },
  {
   "cell_type": "code",
   "id": "87427e55-e02c-4379-a2b5-439f71e51417",
   "metadata": {
    "scrolled": true
   },
   "source": [
    "func_name = 'Oscillatory 1D'\n",
    "h = 100\n",
    "results = []\n",
    "\n",
    "def osc_1d(X, u, c):\n",
    "    return torch.cos(2 * math.pi * u + X * c)\n",
    "\n",
    "def osc_1d_float(X, u, c):\n",
    "    return math.cos(2 * math.pi * u + X * c)\n",
    "\n",
    "for i in range(tests_num):\n",
    "    print(f\"\\033[1mIteration {i+1} is running!\\033[0m\")\n",
    "    results.append(test_1d_integration(h, osc_1d, osc_1d_float, a_, b_, func_name))\n",
    "\n",
    "plot_test_results(results)"
   ],
   "outputs": [],
   "execution_count": null
  },
  {
   "cell_type": "markdown",
   "id": "a2728c58-1dfe-48cb-b67e-d1e2ddffadb0",
   "metadata": {},
   "source": [
    "## 2. Product peak 1D"
   ]
  },
  {
   "cell_type": "code",
   "id": "fde048f7-cce0-4f7e-8032-0dad75350475",
   "metadata": {
    "scrolled": true
   },
   "source": [
    "func_name = 'Product peak 1D'\n",
    "h = 150\n",
    "results2 = []\n",
    "\n",
    "def prod_peak_1d(X, u, c):\n",
    "    return 1 / (c**(-2) + (X - u)**2)\n",
    "\n",
    "def prod_peak_1d_float(X, u, c):\n",
    "    return 1 / (c**(-2) + (X - u)**2)\n",
    "\n",
    "for i in range(tests_num):\n",
    "    print(f\"\\033[1mIteration {i+1} is running!\\033[0m\")\n",
    "    results2.append(test_1d_integration(h, prod_peak_1d, prod_peak_1d_float, a_, b_, func_name))\n",
    "\n",
    "plot_test_results(results2)"
   ],
   "outputs": [],
   "execution_count": null
  },
  {
   "cell_type": "markdown",
   "id": "c3ec4289-75eb-4194-abba-d0ad46f4c193",
   "metadata": {},
   "source": [
    "**NOTE** Absolute error is bad because the values are scaled upwards approximately 100 times."
   ]
  },
  {
   "cell_type": "markdown",
   "id": "e3d12351-4973-47da-9889-8bd76fe69916",
   "metadata": {},
   "source": [
    "## 3. Corner peak 1D"
   ]
  },
  {
   "cell_type": "code",
   "id": "838a713e-6436-4d52-bdc2-fc4fd8d08b15",
   "metadata": {
    "scrolled": true
   },
   "source": [
    "func_name = 'Corner peak 1D'\n",
    "h = 600\n",
    "results3 = []\n",
    "\n",
    "def corn_peek_1d(X, u, c):\n",
    "        return (1 + c * X) ** (-2)\n",
    "\n",
    "def corn_peek_float(X, u, c):\n",
    "        return (1 + c * X) ** (-2)\n",
    "\n",
    "for i in range(tests_num):\n",
    "    print(f\"\\033[1mIteration {i+1} is running!\\033[0m\")\n",
    "    results3.append(test_1d_integration(h, corn_peek_1d, corn_peek_float, a_, b_, func_name))\n",
    "\n",
    "plot_test_results(results3)"
   ],
   "outputs": [],
   "execution_count": null
  },
  {
   "cell_type": "markdown",
   "id": "b7870b2f-5dae-4bc0-9414-9fbcd41dfd91",
   "metadata": {},
   "source": [
    "## 4. Gaussian 1D"
   ]
  },
  {
   "cell_type": "code",
   "id": "cf95d327-e0fc-4b6c-b303-81cdb77f5c22",
   "metadata": {
    "scrolled": true
   },
   "source": [
    "func_name = 'Gaussian 1D'\n",
    "h = 150\n",
    "results4 = []\n",
    "\n",
    "def gauss_1d(X, u, c):\n",
    "    return torch.exp(- c**2 * (X - u)**2)\n",
    "\n",
    "def gauss_1d_float(X, u, c):\n",
    "    return np.exp(- c**2 * (X - u)**2)\n",
    "\n",
    "for i in range(tests_num):\n",
    "    print(f\"\\033[1mIteration {i+1} is running!\\033[0m\")\n",
    "    results4.append(test_1d_integration(h, gauss_1d, gauss_1d_float, a_, b_, func_name))\n",
    "\n",
    "plot_test_results(results4)"
   ],
   "outputs": [],
   "execution_count": null
  },
  {
   "cell_type": "markdown",
   "id": "0cb90bbb-dfb3-439b-82a6-c698a09bec34",
   "metadata": {},
   "source": [
    "## 5. Continuous 1D"
   ]
  },
  {
   "cell_type": "code",
   "id": "393fda3d-2067-407e-b7ac-87aa49643104",
   "metadata": {
    "scrolled": true
   },
   "source": [
    "func_name = 'Continuous 1D'\n",
    "h = 100\n",
    "results5 = []\n",
    "\n",
    "def cont_1d(X, u, c):\n",
    "    return torch.exp(- c * abs(X - u))\n",
    "\n",
    "def cont_1d_float(X, u, c):\n",
    "    return np.exp(- c * abs(X - u))\n",
    "\n",
    "for i in range(tests_num):\n",
    "    print(f\"\\033[1mIteration {i+1} is running!\\033[0m\")\n",
    "    results5.append(test_1d_integration(h, cont_1d, cont_1d_float, a_, b_, func_name))\n",
    "\n",
    "plot_test_results(results5)"
   ],
   "outputs": [],
   "execution_count": null
  },
  {
   "cell_type": "markdown",
   "id": "7cbfcfb8-e222-4e34-80ff-7b29f34277a3",
   "metadata": {},
   "source": [
    "## 6. Discontinuous 1D"
   ]
  },
  {
   "cell_type": "code",
   "id": "d218b943-4a60-46a3-8aab-1a0f52760a16",
   "metadata": {
    "scrolled": true
   },
   "source": [
    "func_name = 'Discontinuos 1D'\n",
    "h = 16\n",
    "results6 = []\n",
    "\n",
    "def disk_1d(X, u, c):\n",
    "    y_list = []\n",
    "\n",
    "    for x in X:\n",
    "        if x > u:\n",
    "            y_list.append(0)\n",
    "        else:\n",
    "            y_list.append(math.exp(c * x))\n",
    "        \n",
    "    return torch.tensor(y_list)\n",
    "\n",
    "def disk_1d_float(X, u, c):\n",
    "    if X > u:\n",
    "        return 0\n",
    "    else:\n",
    "        return math.exp(c * X)\n",
    "\n",
    "for i in range(tests_num):\n",
    "    print(f\"\\033[1mIteration {i+1} is running!\\033[0m\")\n",
    "    results6.append(test_1d_integration(h, disk_1d, disk_1d_float, a_, b_, func_name))\n",
    "\n",
    "plot_test_results(results6)"
   ],
   "outputs": [],
   "execution_count": null
  },
  {
   "cell_type": "markdown",
   "id": "01861360-0643-45db-a17a-137a1ba789e1",
   "metadata": {},
   "source": [
    "# 2D Testing"
   ]
  },
  {
   "cell_type": "markdown",
   "id": "b18f607d-dfd6-4de7-85a1-d9f2859f6d5f",
   "metadata": {},
   "source": [
    "## 2D testing function"
   ]
  },
  {
   "cell_type": "code",
   "id": "6d8634b7-f4e1-4bed-a524-ac23caed2b02",
   "metadata": {},
   "source": [
    "def test_2d_integration(h, ej, func, func_float, a, b, func_name, logplot=False):\n",
    "    u = [random.uniform(0, 1) for _ in range(input_size)]\n",
    "    cs = [random.uniform(0, 1) for _ in range(input_size)]\n",
    "    fraction = h / (input_size ** ej * sum(cs))\n",
    "    c = [fraction * value for value in cs]\n",
    "  \n",
    "    X_init, y_init = generate_data(func, a, b, 200, input_size, u, c)\n",
    "    if logplot:\n",
    "        plot_2d_function_heatmap_with_log(X_init, y_init, func_name)\n",
    "    else:\n",
    "        plot_2d_function_heatmap(X_init, y_init, func_name)\n",
    "    X, y = scale_data(X_init, y_init, n_dim=2)\n",
    "    \n",
    "    x_train, x_test, y_train, y_test = train_test_split(X, y, test_size=0.1)  \n",
    "    model = MLP(input_size, hidden_size)\n",
    "    model.compile(criterion=nn.MSELoss(), optimizer=optim.Adam(model.parameters(), lr=learning_rate))\n",
    "    train_history = model.fit(x_train, y_train, num_epochs, verbose=False)\n",
    "    test_loss = model.test(x_test, y_test)\n",
    "    print(f\"Test Loss: {test_loss:.10f}\")\n",
    "    \n",
    "    nni_scaled = NeuralNumericalIntegration.integrate(model, a, b, n_dims=2)\n",
    "    nni_result = descale_result(float(nni_scaled[0]), X_init, y_init, frange=(0, 1), n_dim=2)\n",
    "    result_quad = integrate_2d_nquad(func_float, a, b, u, c)\n",
    "    result_trapz = integrate_2d_trapz(func, a, b, 100, u, c)\n",
    "   \n",
    "    return nni_result, result_quad, result_trapz"
   ],
   "outputs": [],
   "execution_count": null
  },
  {
   "cell_type": "markdown",
   "id": "fdbcfc94-d536-4a5e-9b19-495dd18adc34",
   "metadata": {},
   "source": [
    "## Hyperparams for 2D"
   ]
  },
  {
   "cell_type": "code",
   "id": "079e233f-66a7-4417-921e-3f7c8e2bffba",
   "metadata": {},
   "source": [
    "input_size = 2\n",
    "hidden_size = 25\n",
    "learning_rate = 0.001\n",
    "num_epochs = 5000\n",
    "\n",
    "tests_num = 20\n",
    "\n",
    "a_ = [0.0, 0.0]\n",
    "b_ = [1.0, 1.0]"
   ],
   "outputs": [],
   "execution_count": null
  },
  {
   "cell_type": "markdown",
   "id": "b66c05c0-53ae-48ed-8442-ad48468e7eea",
   "metadata": {},
   "source": [
    "## 7. Oscillatory 2D"
   ]
  },
  {
   "cell_type": "code",
   "id": "21d6a546-a181-4f78-ba56-9a3195e438b1",
   "metadata": {
    "scrolled": true
   },
   "source": [
    "func_name = 'Oscillatory 2D'\n",
    "h = 100\n",
    "ej = 1\n",
    "results7 = []\n",
    "\n",
    "def osc_2d(X, u, c):\n",
    "    sum_ = 0\n",
    "    for i in range(input_size):\n",
    "        sum_ += c[i] * X[:, i]\n",
    "\n",
    "    return torch.cos(2 * math.pi * u[0] + sum_)\n",
    "    \n",
    "def osc_2d_float(X, u, c):\n",
    "    sum_ = 0\n",
    "    for i in range(input_size):\n",
    "        sum_ += c[i] * X[i]\n",
    "    return math.cos(2 * math.pi * u[0] + sum_)\n",
    "\n",
    "for i in range(tests_num):\n",
    "    print(f\"\\033[1mIteration {i+1} is running!\\033[0m\")\n",
    "    results7.append(test_2d_integration(h, ej, osc_2d, osc_2d_float, a_, b_, func_name))\n",
    "\n",
    "plot_test_results(results7)"
   ],
   "outputs": [],
   "execution_count": null
  },
  {
   "cell_type": "markdown",
   "id": "09fd87d5-07c4-46bd-adf5-3a76b766ef9e",
   "metadata": {},
   "source": [
    "## 8. Product Peak 2D"
   ]
  },
  {
   "cell_type": "code",
   "id": "bbfb47e1-592a-4666-8875-707851484a08",
   "metadata": {
    "scrolled": true
   },
   "source": [
    "func_name = 'Product Peak 2D'\n",
    "h = 150\n",
    "ej = 1\n",
    "results8 = []\n",
    "\n",
    "def prod_peek_2d(X, u, c):\n",
    "    prod_ = 1\n",
    "    for i in range(2):\n",
    "        prod_ *= (c[i] ** (-2) + (X[:, i] - u[i])**2) ** (-1)\n",
    "    return prod_\n",
    "\n",
    "def prod_peek_2d_float(X, u, c):\n",
    "    prod_ = 1\n",
    "    for i in range(2):\n",
    "        prod_ *= (c[i] ** (-2) + (X[i] - u[i])**2) ** (-1)\n",
    "    return prod_\n",
    "\n",
    "for i in range(tests_num):\n",
    "    print(f\"\\033[1mIteration {i+1} is running!\\033[0m\")\n",
    "    results8.append(test_2d_integration(h, ej, prod_peek_2d, prod_peek_2d_float, a_, b_, func_name, logplot=False))\n",
    "\n",
    "plot_test_results(results8)"
   ],
   "outputs": [],
   "execution_count": null
  },
  {
   "cell_type": "markdown",
   "id": "02773621-36d5-408e-9707-5eb2fcd6153c",
   "metadata": {},
   "source": [
    "## 9. Corner Peak 2D"
   ]
  },
  {
   "cell_type": "code",
   "id": "a6bc99c0-dad3-4815-a9e3-4d2e7adf58d6",
   "metadata": {
    "scrolled": true
   },
   "source": [
    "func_name = 'Corner Peak 2D'\n",
    "h = 600\n",
    "ej = 1\n",
    "results9 = []\n",
    "\n",
    "def corn_peek_2d(X, u, c):\n",
    "    sum_ = 0\n",
    "    for i in range(2):\n",
    "        sum_ += c[i] * X[:, i]\n",
    "    return (1 + sum_) ** (-3)\n",
    "\n",
    "def corn_peek_2d_float(X, u, c):\n",
    "    sum_ = 0\n",
    "    for i in range(2):\n",
    "        sum_ += c[i] * X[i]\n",
    "    return (1 + sum_) ** (-3)\n",
    "\n",
    "for i in range(tests_num):\n",
    "    print(f\"\\033[1mIteration {i+1} is running!\\033[0m\")\n",
    "    results9.append(test_2d_integration(h, ej, corn_peek_2d, corn_peek_2d_float, a_, b_, func_name, logplot=True))\n",
    "\n",
    "plot_test_results(results9)"
   ],
   "outputs": [],
   "execution_count": null
  },
  {
   "cell_type": "markdown",
   "id": "6a14c380-a3f2-4de2-8ef4-8bfc122adc02",
   "metadata": {},
   "source": [
    "## 10. Gaussian 2D"
   ]
  },
  {
   "cell_type": "code",
   "id": "020f20a0-f908-4e78-886d-2ab40ebfec7c",
   "metadata": {
    "scrolled": true
   },
   "source": [
    "func_name = 'Gaussian 2D'\n",
    "h = 150\n",
    "ej = 1\n",
    "results10 = []\n",
    "\n",
    "def gauss_2d(X, u, c):\n",
    "    sum_ = 0\n",
    "    for i in range(2):\n",
    "        sum_ += (c[i] ** 2) * ((X[:, i] - u[i]) ** 2)\n",
    "    return torch.exp(-sum_)\n",
    "\n",
    "def gauss_2d_float(X, u, c):\n",
    "    sum_ = 0\n",
    "    for i in range(2):\n",
    "        sum_ += (c[i] ** 2) * ((X[i] - u[i]) ** 2)\n",
    "    return np.exp(-sum_)\n",
    "\n",
    "for i in range(tests_num):\n",
    "    print(f\"\\033[1mIteration {i+1} is running!\\033[0m\")\n",
    "    results10.append(test_2d_integration(h, ej, gauss_2d, gauss_2d_float, a_, b_, func_name, logplot=True))\n",
    "\n",
    "plot_test_results(results10)"
   ],
   "outputs": [],
   "execution_count": null
  },
  {
   "cell_type": "markdown",
   "id": "63a4d5a1-e553-4001-b8da-905345868db5",
   "metadata": {},
   "source": [
    "## 11. Continuous 2D"
   ]
  },
  {
   "cell_type": "code",
   "id": "7f1fad4f-b1e9-43f2-88d7-1e3694959726",
   "metadata": {
    "scrolled": true
   },
   "source": [
    "func_name = 'Continuous 2D'\n",
    "h = 100\n",
    "ej = 1\n",
    "results11 = []\n",
    "\n",
    "def cont_2d(X, u, c):\n",
    "    sum_ = 0\n",
    "    for i in range(2):\n",
    "        sum_ += c[i]  * abs(X[:, i] - u[i])\n",
    "    return torch.exp(-sum_)\n",
    "\n",
    "def cont_2d_float(X, u, c):\n",
    "    sum_ = 0\n",
    "    for i in range(2):\n",
    "        sum_ += c[i] ** 2 * abs(X[i] - u[i]) ** 2\n",
    "    return np.exp(-sum_)\n",
    "\n",
    "for i in range(tests_num):\n",
    "    print(f\"\\033[1mIteration {i+1} is running!\\033[0m\")\n",
    "    results11.append(test_2d_integration(h, ej, cont_2d, cont_2d_float, a_, b_, func_name, logplot=False))\n",
    "\n",
    "plot_test_results(results11)"
   ],
   "outputs": [],
   "execution_count": null
  },
  {
   "cell_type": "markdown",
   "id": "539cd8db-9151-4eb0-8927-be625b8c8326",
   "metadata": {},
   "source": [
    "## 12. Discontinuous 2D"
   ]
  },
  {
   "cell_type": "code",
   "id": "3ec4ea75-ac59-4261-bc64-d19085e967df",
   "metadata": {
    "scrolled": true
   },
   "source": [
    "func_name = 'Discontinuous 2D'\n",
    "h = 16\n",
    "ej = 1\n",
    "results12 = []\n",
    "\n",
    "def disco_2d(X, u, c):\n",
    "    result = torch.zeros(X.shape[0])\n",
    "    for i in range(X.shape[0]):\n",
    "        x = X[i, 0].item()\n",
    "        \n",
    "        if x > u[0]:\n",
    "            result[i] = 0.0\n",
    "        else:\n",
    "            result[i] = math.exp(c[0] * x)\n",
    "\n",
    "    return result\n",
    "\n",
    "def disco_1d_float(X, u, c):\n",
    "    x1, x2 = X\n",
    "\n",
    "    if x1 > u[0] or x2 > u[1]:\n",
    "        return 0.0\n",
    "    else:\n",
    "        return math.exp(c[0] * x1 + c[1] * x2)\n",
    "\n",
    "for i in range(tests_num):\n",
    "    print(f\"\\033[1mIteration {i+1} is running!\\033[0m\")\n",
    "    results12.append(test_2d_integration(h, ej, disco_2d, disco_1d_float, a_, b_, func_name, logplot=False))\n",
    "\n",
    "plot_test_results(results12)"
   ],
   "outputs": [],
   "execution_count": null
  },
  {
   "cell_type": "markdown",
   "id": "b136d52a-dfa3-4897-b71c-8f47153c20f0",
   "metadata": {},
   "source": [
    "# Calculation of MAEs for the research"
   ]
  },
  {
   "cell_type": "code",
   "id": "6e0c6f6f-6969-49dd-887f-240ce8f40233",
   "metadata": {},
   "source": [
    "def calculate_mae(results):\n",
    "    absolute_errors = [abs(a - b) for a, b, _ in results]\n",
    "    mae = sum(absolute_errors) / len(absolute_errors)\n",
    "    \n",
    "    return mae"
   ],
   "outputs": [],
   "execution_count": null
  },
  {
   "cell_type": "code",
   "id": "ad01a6b8-a3af-44a5-b026-8770b1b116c1",
   "metadata": {},
   "source": [
    "results_list = [results, results2, results3, results4, results5, results6, results7, results8, results9, results10, results11, results12]\n",
    "maes = [calculate_mae(results) for results in results_list]"
   ],
   "outputs": [],
   "execution_count": null
  },
  {
   "cell_type": "code",
   "id": "4c9e3e95-50ae-4ddf-ad54-b4bc482a163d",
   "metadata": {},
   "source": [
    "for i, mae in enumerate(maes, start=1):\n",
    "    print(f\"{mae:.8f}\")"
   ],
   "outputs": [],
   "execution_count": null
  }
 ],
 "metadata": {
  "kernelspec": {
   "display_name": "Python 3 (ipykernel)",
   "language": "python",
   "name": "python3"
  },
  "language_info": {
   "codemirror_mode": {
    "name": "ipython",
    "version": 3
   },
   "file_extension": ".py",
   "mimetype": "text/x-python",
   "name": "python",
   "nbconvert_exporter": "python",
   "pygments_lexer": "ipython3",
   "version": "3.11.5"
  }
 },
 "nbformat": 4,
 "nbformat_minor": 5
}
