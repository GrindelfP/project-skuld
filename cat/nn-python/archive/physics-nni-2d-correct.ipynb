{
 "cells": [
  {
   "cell_type": "code",
   "execution_count": 1,
   "id": "aaf1aa73-52ba-4046-8c4b-f8e97779c57c",
   "metadata": {},
   "outputs": [],
   "source": [
    "import torch\n",
    "import torch.nn as nn\n",
    "import torch.optim as optim\n",
    "from torchsummary import summary\n",
    "\n",
    "import numpy as np\n",
    "\n",
    "import matplotlib.pyplot as plt\n",
    "\n",
    "from mpmath import polylog\n",
    "\n",
    "from sklearn.model_selection import train_test_split\n",
    "\n",
    "import time"
   ]
  },
  {
   "cell_type": "code",
   "execution_count": 2,
   "id": "e1464279-6150-4c6b-ad05-cec42ce3ad80",
   "metadata": {},
   "outputs": [],
   "source": [
    "def generate_data(func, lower, upper, n_samples=100, n_dim=1):\n",
    "    \"\"\"\n",
    "    Generates data in the form of a 2D (1D in case the function \n",
    "    is single-variable) tensor of variables for the function and neural network input\n",
    "    as well as the function values for the generated tensor of variables.\n",
    "\n",
    "    @param func      function to provide values for the variables\n",
    "    @param lower     lower bounds of variables (list, tensor or scalar)\n",
    "    @param upper     upper bounds of variables (list, tensor or scalar)\n",
    "    @param n_samples number of points of data to generate\n",
    "                     (default value is 100)\n",
    "    @param n_dim     number of dimensions of the function func\n",
    "                     (default value is 1)\n",
    "\n",
    "    @returns         variables x and function values y\n",
    "    \"\"\"\n",
    "    X_list = [torch.linspace(lower[n], upper[n], n_samples).view(n_samples, 1) for n in range(n_dim)]\n",
    "    X = torch.cat(X_list, dim=1)\n",
    "    \n",
    "    y = func(X).view(n_samples, 1)\n",
    "    \n",
    "    return X, y"
   ]
  },
  {
   "cell_type": "code",
   "execution_count": 3,
   "id": "554dc961-c101-49cf-9f3d-3e3a44c3e459",
   "metadata": {},
   "outputs": [],
   "source": [
    "def find_upper_bound(X, y, epsilon, points_limit=1, lower_index=0):\n",
    "    \"\"\"\n",
    "        Finds the upper bound of integration. In this case a point, \n",
    "        where the next function value is greater/lesser than the previous\n",
    "        less than a given threshold.\n",
    "\n",
    "        @param X            variable values\n",
    "        @param y            function values\n",
    "        @param epsilon      threshold\n",
    "        @param points_limit limit of bound points number \n",
    "        @param lower_index  starting X value for the search\n",
    "        \n",
    "        @returns       the required variable values (can be many) \n",
    "                       or empty list if none found\n",
    "    \"\"\"\n",
    "    X_points = []\n",
    "    \n",
    "    if len(X) != len(y):\n",
    "        raise ValueError(\"There numbers of variable and function values are inequal!\")\n",
    "    \n",
    "    for i in range(lower_index, len(y) - 1):\n",
    "        diff = torch.abs(y[i] - y[i + 1])\n",
    "        if diff < epsilon:\n",
    "            X_points.append(X[i])\n",
    "        if len(X_points) == points_limit:\n",
    "            break\n",
    "            \n",
    "    return X_points"
   ]
  },
  {
   "cell_type": "code",
   "execution_count": 4,
   "id": "0d4589fd-5817-4926-99b9-56cf4df56bea",
   "metadata": {},
   "outputs": [],
   "source": [
    "class MLP(nn.Module):\n",
    "    \"\"\"\n",
    "        Нейросеть, которая будет обучаться приближать функцию одной переменной.\n",
    "        \n",
    "        Нейросеть имеет архитектуру:\n",
    "\n",
    "        Входной слой (1 нейрон для переменной функции + смещение, линейная функция активации)\n",
    "        Скрытый слой (произвольное количество нейронов + смещение, функция активации - сигмоида)\n",
    "        Выходной слой (1 нейрон для приближенного значения функции, линейная функция активации)\n",
    "    \"\"\"\n",
    "    def __init__(self, input_size, hidden_size):\n",
    "        \"\"\"\n",
    "            Конструктор для нейросети.\n",
    "            @param self        нейросеть (необходим для включения в класс)\n",
    "            @param hidden_size размер скрытого слоя (размеры входного и выходного слоёв равны одному\n",
    "                               в рамках данной задачи, так как у функции одна переменная и \n",
    "                               задача сводится к описанию функции, то есть числа, скаляра).\n",
    "        \"\"\"\n",
    "        super(MLP, self).__init__()\n",
    "        self.input_hidden_layer = nn.Linear(input_size, hidden_size) # инициализация входного и скрытого слоя, \n",
    "                                                     # размеры: 1 --> размер скрытого слоя\n",
    "        self.sigmoid_activation = nn.Sigmoid() # инициализация функции активации скрытого слоя\n",
    "        self.output_layer = nn.Linear(hidden_size, 1) # инициализация выходного слоя, \n",
    "                                                      # размеры: размер скрытого слоя --> 1\n",
    "    \n",
    "    def forward(self, x):\n",
    "        \"\"\"\n",
    "            Функция распространения данных через нейросеть вперёд.\n",
    "           \n",
    "            @param self   нейросеть (необходим для включения в класс)\n",
    "            @param x      данные\n",
    "           \n",
    "            @returns выход в выходном нейроне\n",
    "        \"\"\"\n",
    "        x = self.input_hidden_layer(x) # данные прошли входной слой и аккумулирвоаны в скрытом слое\n",
    "        x = self.sigmoid_activation(x) # данные прошли функцию активации скрытого слоя\n",
    "        x = self.output_layer(x) # данные прошли выходной слой\n",
    "        \n",
    "        return x\n",
    "\n",
    "\n",
    "def train_model(model, criterion, optimizer, x_train, y_train, epochs):\n",
    "    \"\"\"\n",
    "        Trains the model.\n",
    "        \n",
    "        @param model        The model to be trained\n",
    "        @param criterion    Loss function\n",
    "        @param optimizer    Optimization algorithm\n",
    "        @param x_train      Training inputs\n",
    "        @param y_train      True labels\n",
    "        @param epochs       Number of training epochs\n",
    "    \"\"\"\n",
    "    loss_history = [] # история обучения (изменения функции потерь)\n",
    "    start_time = time.time()\n",
    "    for epoch in range(epochs):\n",
    "        predictions = model(x_train) # все переменные проводятся через нейросеть \n",
    "                                     # и формируются предскзания значений функции\n",
    "        loss = criterion(predictions, y_train) # вычисляется функция потерь на данной эпохе\n",
    "\n",
    "        optimizer.zero_grad() # обнуляются градиенты перед обратным распространением ошибки\n",
    "        loss.backward() # обратное распространение ошибки\n",
    "        optimizer.step() # шаг оптимизации - обновление параметров модели \n",
    "\n",
    "        loss_history.append(loss.item()) # запись текущей функции потерь\n",
    "\n",
    "        if (epoch + 1) % 100 == 0:\n",
    "            print(f'Epoch [{epoch + 1}/{epochs}], Loss: {loss.item():.10f}') # вывод информации об обучении\n",
    "    total_time = time.time() - start_time  # Общее время обучения\n",
    "    print(f'Time elapsed: {total_time:.2f} seconds')\n",
    "    return loss_history # возвращается история обучения\n",
    "\n",
    "\n",
    "def test_model(model, criterion, x_test, y_test):\n",
    "    \"\"\"\n",
    "        Tests the model.\n",
    "        \n",
    "        @param model        The trained model\n",
    "        @param criterion    Loss function\n",
    "        @param x_test       Test inputs\n",
    "        @param y_test       True labels\n",
    "    \"\"\"\n",
    "    with torch.no_grad():  # отключение расчета градиентов \n",
    "                           # (расчет градиентов может происходить по умолчанию \n",
    "                           # даже без использования их потом, что излишне нагружает память)\n",
    "        predictions = model(x_test)  # тестовые переменные проводятся через обученную модель\n",
    "        loss = criterion(predictions, y_test)  # вычисляется функция потерь для тестового набора\n",
    "\n",
    "    # Возвращаем вычисленную функцию потерь\n",
    "    return loss.item()  # Возвращаем скалярное значение ошибки\n",
    "\n",
    "\n",
    "def predict_with_model(model, x_test):\n",
    "    \"\"\"\n",
    "        Uses the model to predict values based on x_test arguments.\n",
    "    \n",
    "        @param model        The trained model\n",
    "        @param x_test       Test inputs\n",
    "    \"\"\"\n",
    "    with torch.no_grad():\n",
    "        predictions = model(x_test)\n",
    "\n",
    "    return predictions\n",
    "\n",
    "\n",
    "def extract_model_params(model):\n",
    "    \"\"\"\n",
    "        Функция извлечения параметров нейросети.\n",
    "        @param model модель, из которой необходимо извлеч параметры\n",
    "        @returns 4 объекта типа numpy.array: смещения 1-го слоя, веса 1-го слоя,\n",
    "                 смещения 2-го слоя, веса 2-го слоя\n",
    "    \"\"\"\n",
    "    # detach() - возвращает выбранный параметр, numpy() конвертирует в формат numpy.array,\n",
    "    # flatten() для весов преобразует векторы-столбцы в векторы-строки.\n",
    "    b1 = model.input_hidden_layer.bias.detach().numpy() \n",
    "    w1 = model.input_hidden_layer.weight.detach().numpy()\n",
    "    b2 = model.output_layer.bias.detach().numpy() \n",
    "    w2 = model.output_layer.weight.detach().numpy().flatten()\n",
    "    \n",
    "    return b1, w1, b2, w2"
   ]
  },
  {
   "cell_type": "markdown",
   "id": "445f7e14-50bc-43d4-a533-f2e243fd373d",
   "metadata": {},
   "source": [
    "# Integration function"
   ]
  },
  {
   "cell_type": "code",
   "execution_count": 5,
   "id": "1c6c33b0-a2c0-485b-ba2d-609f980fb818",
   "metadata": {},
   "outputs": [],
   "source": [
    "def get_NN_integral(alpha1, beta1, alpha2, beta2, b1, w1, b2, w2):\n",
    "    \"\"\"\n",
    "        Функция, реализующая метод численного интегрирования функции одной переменной\n",
    "        на основе параметров нейросети. Реализует формулы (6.1) и (6.2).\n",
    "\n",
    "        @param alpha нижняя граница интегрирования\n",
    "        @param beta  верхняя граница интегрирования\n",
    "        @param b1    смещения между входным и скрытым слоями\n",
    "        @param w1    веса между входным и скрытым слоями\n",
    "        @param b2    смещения между скрытым и выходным слоями\n",
    "        @param w2    веса между скрытым и выходным слоями\n",
    "\n",
    "        @returns численный интеграл на основе параметров нейросети.\n",
    "    \"\"\"\n",
    "    def Phi_j(alpha1, beta1, alpha2, beta2, b1_j, w1_1j, w1_2j):\n",
    "        \"\"\"\n",
    "            Вложенная функция, реализующая разность полилогарифмов (6.2).\n",
    "\n",
    "            @param alpha нижняя граница интегрирования\n",
    "            @param beta  верхняя граница интегрирования\n",
    "            @param b1_j  j-е смещение между входным и скрытым слоями\n",
    "            @param w1_j  j-тый вес между входным и скрытым слоями\n",
    "\n",
    "            @returns разность полилогарифмов (6.2)\n",
    "        \"\"\"\n",
    "        term_1 = polylog(2, -np.exp(-b1_j - w1_1j * alpha1 - w1_2j * alpha2))\n",
    "        term_2 = polylog(2, -np.exp(-b1_j - w1_1j * alpha1 - w1_2j * beta2))\n",
    "        term_3 = polylog(2, -np.exp(-b1_j - w1_1j * beta1 - w1_2j * alpha2))\n",
    "        term_4 = polylog(2, -np.exp(-b1_j - w1_1j * beta1 - w1_2j * beta2))\n",
    "        \n",
    "        return term_1 - term_2 - term_3 + term_4\n",
    "   \n",
    "    integral_sum = 0 \n",
    "        \n",
    "    for w2_j, w1_1j, w1_2j, b1_j in zip(w2, w1[:, 0], w1[:, 1], b1):\n",
    "        phi_j = Phi_j(alpha1, beta1, alpha2, beta2, b1_j, w1_1j, w1_2j) \n",
    "        summ = w2_j * ((beta1 - alpha1) * (beta2 - alpha2) + phi_j / (w1_1j * w1_2j))\n",
    "        integral_sum += summ\n",
    "    \n",
    "    return b2 * (beta1 - alpha1) * (beta2 - alpha2) + integral_sum "
   ]
  },
  {
   "cell_type": "markdown",
   "id": "1b4b110d-a9fc-4b17-92e9-235735d9a07b",
   "metadata": {},
   "source": [
    "# Physics task: Definition\n",
    "\n",
    "\\begin{equation}\n",
    "    \\int_{0}^{1}d\\alpha\\{\\alpha^{a}(1 - \\alpha)^b\\}\\int_{0}^{\\infty}dt\\{\\frac{t^m}{(1+t)^n}F[z_{0}]\\} \\equiv I(a, b, m, n; F[z_{0}])  \\tag{1}\n",
    "\\end{equation}\n",
    "\\begin{equation}   \n",
    "    F[z_0] = \\exp[-2z_0]  \\tag{2}\n",
    "\\end{equation}\n",
    "\\begin{equation} \n",
    "    z_0 = tD + \\frac{t}{1 + t}R^2  \\tag{3}\n",
    "\\end{equation}\n",
    "\\begin{equation}     \n",
    "    D = \\alpha_1(b_1^{2}P^2 + m_1^2) + \\alpha_2(b_2^{2}P^2 + m_2^2)  \\tag{4}\n",
    "\\end{equation}\n",
    "\\begin{equation} \n",
    "        R^2 = (\\alpha_1^{2}b_1^2 + \\alpha_2^{2}b_2^2 + 2\\alpha_{1}\\alpha_{2}b_{1}b_2)P^2  \\tag{5}\n",
    "\\end{equation}\n",
    "\\begin{equation} \n",
    "    b_1 = -\\frac{m_1}{m_1 + m_2}  \\tag{6}\n",
    "\\end{equation}\n",
    "\\begin{equation} \n",
    "    b_2 = \\frac{m_2}{m_1 + m_2}  \\tag{7}\n",
    "\\end{equation}\n",
    "\\begin{equation} \n",
    "    m_1 = m_2 = 0.7083333, P^2 = -1.665046  \\tag{8}\n",
    "\\end{equation}"
   ]
  },
  {
   "cell_type": "markdown",
   "id": "940e82ea-bc0b-4ee2-8925-12fa809ededc",
   "metadata": {},
   "source": [
    "## Constants: general\n",
    "\n",
    "These constants will be used for all of the calculations."
   ]
  },
  {
   "cell_type": "code",
   "execution_count": 6,
   "id": "02d1cfca-8e4d-4732-b848-0cbb8a590c48",
   "metadata": {},
   "outputs": [],
   "source": [
    "m1 = 0.7083333\n",
    "m2 = 0.7083333\n",
    "PP = -1.665046"
   ]
  },
  {
   "cell_type": "markdown",
   "id": "26100893-5592-4805-8bfe-c5282b037e0a",
   "metadata": {},
   "source": [
    "## Alpha function\n",
    "\n",
    "\\begin{equation}\n",
    "    \\alpha^{a}(1 - \\alpha)^b\\ \\tag{1.1}\n",
    "\\end{equation}"
   ]
  },
  {
   "cell_type": "code",
   "execution_count": 7,
   "id": "45c91dc5-249a-4ea1-9952-3ce613412b13",
   "metadata": {},
   "outputs": [],
   "source": [
    "def alpha_func(alpha):\n",
    "    return alpha ** a * (1 - alpha) ** b"
   ]
  },
  {
   "cell_type": "markdown",
   "id": "f4817854-ef15-4073-a5fb-04a3cd498ec7",
   "metadata": {},
   "source": [
    "## Second factor function\n",
    "\n",
    "\\begin{equation}\n",
    "   \\frac{t^m}{(1+t)^n}F[z_{0}]  \\tag{1.2}\n",
    "\\end{equation}\n",
    "\n",
    "As far as the integral function converges quickly the infinite upper bound of integration will be replaced with a constant. Later we will decide which constant to choose."
   ]
  },
  {
   "cell_type": "code",
   "execution_count": 8,
   "id": "9da3f653-b81d-406b-9bed-d7b2b67fb37f",
   "metadata": {},
   "outputs": [],
   "source": [
    "def b1_func():\n",
    "    return - m1 / (m1 + m2)\n",
    "\n",
    "def b2_func():\n",
    "    return m2 / (m1 + m2)\n",
    "\n",
    "def D_func(alpha):\n",
    "    b1b1 = b1_func() ** 2\n",
    "    b2b2 = b2_func() ** 2\n",
    "    alpha1 = alpha\n",
    "    alpha2 = 1 - alpha1\n",
    "    \n",
    "    return alpha1 * (b1b1 * PP + m1**2) + alpha2 * (b2b2 * PP + m2**2)\n",
    "\n",
    "def RR_func(alpha):\n",
    "    b1 = b1_func()\n",
    "    b2 = b2_func()\n",
    "    b1b1 = b1 ** 2\n",
    "    b2b2 = b2 ** 2\n",
    "    alpha1 = alpha\n",
    "    alpha2 = 1 - alpha1\n",
    "    \n",
    "    return (alpha1**2 * b1b1 + alpha2**2 * b2b2 + 2 * alpha1 * alpha2 * b1 * b2) * PP\n",
    "\n",
    "def z0_func(t, alpha):\n",
    "    D = D_func(alpha)\n",
    "    RR = RR_func(alpha)\n",
    "    return t * D + t / (1 + t) * RR\n",
    "\n",
    "def F_func(t, alpha):\n",
    "    z_0 = z0_func(t, alpha)\n",
    "    return np.exp(-2*z_0)"
   ]
  },
  {
   "cell_type": "markdown",
   "id": "fe2cca69-abbb-4c99-a268-53d18d0244a5",
   "metadata": {},
   "source": [
    "Для того, чтобы определить подынтегральную функцию и на её основе создать обучающую и тестовую выборки необходимо преобразовать выражение (1):\n",
    "\n",
    "\\begin{equation}\n",
    " \\int_{0}^{1} \\alpha^{a}(1 - \\alpha)^bd\\alpha \\int_{0}^{\\infty}\\frac{t^m}{(1+t)^n}F[z_{0}]dt = \n",
    " \\int_{0}^{1} \\int_{0}^{\\infty}\\frac{t^m}{(1+t)^n}F[z_{0}]\\alpha^{a}(1 - \\alpha)^bdtd\\alpha \n",
    "\\end{equation}"
   ]
  },
  {
   "cell_type": "code",
   "execution_count": 9,
   "id": "a78367e0-98e0-4294-877f-9f4333138543",
   "metadata": {},
   "outputs": [],
   "source": [
    "def t_alpha_func(t, alpha):\n",
    "    return (t ** m) / ((1 + t) ** n) * F_func(t, alpha) * alpha_func(alpha)\n",
    "\n",
    "def main_function(X):\n",
    "    t = X[:, 0]\n",
    "    alpha = X[:, 1]\n",
    "\n",
    "    return t_alpha_func(t, alpha)"
   ]
  },
  {
   "cell_type": "markdown",
   "id": "e39a6a8a-e666-46ef-8f92-b2e817ac37b7",
   "metadata": {},
   "source": [
    "## $F[z_o]$: addition\n",
    "\n",
    "The further computation will require a derivative of the (2) function, so it should be declared here. The derivative is equal to\n",
    "\n",
    "\\begin{equation}\n",
    "    F'[z_0] = -2\\exp[-2z_0] \\tag{9}\n",
    "\\end{equation}"
   ]
  },
  {
   "cell_type": "code",
   "execution_count": 10,
   "id": "57cd3825-b06d-4fe9-8c74-ad0a23b2f26f",
   "metadata": {},
   "outputs": [],
   "source": [
    "def F_derivative(t):\n",
    "    return -2 * F_func(t)\n",
    "\n",
    "def t_func_with_F_der(t):\n",
    "    return t ** m / (1 + t) ** n * F_derivative(t)    "
   ]
  },
  {
   "cell_type": "markdown",
   "id": "7aa957bb-0543-4dba-bab5-d2a06d15a6b3",
   "metadata": {},
   "source": [
    "# NN Integration: first run\n",
    "\n",
    "The constants are:"
   ]
  },
  {
   "cell_type": "code",
   "execution_count": 11,
   "id": "e88b5e98-a361-4edd-bf8e-89ec2651ac4d",
   "metadata": {},
   "outputs": [],
   "source": [
    "a = 0\n",
    "b = 1\n",
    "m = 2\n",
    "n = 2"
   ]
  },
  {
   "cell_type": "markdown",
   "id": "4020fff8-8d1a-4d2d-b737-413b7bfd9e2b",
   "metadata": {},
   "source": [
    "## Dataset"
   ]
  },
  {
   "cell_type": "code",
   "execution_count": 12,
   "id": "570dfb11-959e-4371-a644-e094715a2f77",
   "metadata": {},
   "outputs": [],
   "source": [
    "X, y = generate_data(func=main_function, lower=[0, 0], upper=[100, 1], n_samples=10000, n_dim=2)"
   ]
  },
  {
   "cell_type": "code",
   "execution_count": 13,
   "id": "730a1c53-a302-4d43-aa64-7e6df7d492fb",
   "metadata": {},
   "outputs": [
    {
     "data": {
      "image/png": "[encoded data removed]",
      "text/plain": [
       "<Figure size 640x480 with 1 Axes>"
      ]
     },
     "metadata": {},
     "output_type": "display_data"
    }
   ],
   "source": [
    "t = X[:, 0].numpy()\n",
    "y_np = y.numpy()\n",
    "plt.plot(t, y)\n",
    "plt.xlabel('t')\n",
    "plt.ylabel('y')\n",
    "plt.title('Function Plot of y(t, α)')\n",
    "plt.grid(True)\n",
    "plt.show()"
   ]
  },
  {
   "cell_type": "code",
   "execution_count": 14,
   "id": "27730b4c-85eb-46bb-8f93-eb636ecc2617",
   "metadata": {},
   "outputs": [
    {
     "data": {
      "image/png": "[encoded data removed]",
      "text/plain": [
       "<Figure size 640x480 with 1 Axes>"
      ]
     },
     "metadata": {},
     "output_type": "display_data"
    }
   ],
   "source": [
    "alpha = X[:, 1].numpy()\n",
    "y_np = y.numpy()\n",
    "plt.plot(alpha, y_np)\n",
    "plt.xlabel('α')\n",
    "plt.ylabel('y')\n",
    "plt.title('Function Plot of y(t, α)')\n",
    "plt.grid(True)\n",
    "plt.show()"
   ]
  },
  {
   "cell_type": "markdown",
   "id": "0bdd495f-105f-47b2-b000-6ee407cd87b9",
   "metadata": {},
   "source": [
    "As far as the t variable has its upper bound equal to $\\infty$ let's find the point at which the $y(t)$ stops to change rapidly $|y(t_i) - y(t_{i+1})| < \\epsilon)$. This $t_i$ is going to be the upper bound of the integration."
   ]
  },
  {
   "cell_type": "code",
   "execution_count": 15,
   "id": "2cba1334-62e7-4af1-9fe7-7fc725bc2d74",
   "metadata": {},
   "outputs": [
    {
     "data": {
      "text/plain": [
       "[tensor(53.0053)]"
      ]
     },
     "execution_count": 15,
     "metadata": {},
     "output_type": "execute_result"
    }
   ],
   "source": [
    "upper_bound_t = find_upper_bound(X=X[:, 0], y=y, epsilon=0.0000001, points_limit=1, lower_index=2000) # the 2000 value should be around t=20 based on graph\n",
    "upper_bound_t"
   ]
  },
  {
   "cell_type": "markdown",
   "id": "d7f7b32e-9347-4f17-939d-b57669c45018",
   "metadata": {},
   "source": [
    "We see that function $y(t)$ should be integrated within bounds $[0, $ upper_bound_t$]$"
   ]
  },
  {
   "cell_type": "markdown",
   "id": "130e4634-454a-4d60-b91a-3b26cee3a879",
   "metadata": {},
   "source": [
    "## Integration bounds\n",
    "\n",
    "$a_1, b_1$ for (1.1), $a_2, b_2$ for (1.2)."
   ]
  },
  {
   "cell_type": "code",
   "execution_count": 16,
   "id": "ae7ff608-418c-4e2b-a326-ac75b8743414",
   "metadata": {},
   "outputs": [
    {
     "data": {
      "text/plain": [
       "(0.0, 0.0, 1.0, 53.00530242919922)"
      ]
     },
     "execution_count": 16,
     "metadata": {},
     "output_type": "execute_result"
    }
   ],
   "source": [
    "a1 = 0.0000000 # α lower\n",
    "b1 = 1.0000000 # α upper\n",
    "a2 = 0.0000000 # t lower\n",
    "b2 = upper_bound_t[0].item() # t upper\n",
    "\n",
    "a1, a2, b1, b2"
   ]
  },
  {
   "cell_type": "markdown",
   "id": "4d815de3-7191-441f-9f83-a21f5d937744",
   "metadata": {},
   "source": [
    "## Datasets based on bounds"
   ]
  },
  {
   "cell_type": "code",
   "execution_count": 17,
   "id": "92047595-3666-491f-be8d-81afbfb79bf2",
   "metadata": {},
   "outputs": [],
   "source": [
    "X, y = generate_data(func=main_function, lower=[a2, a1], upper=[b2, b1], n_samples=10000, n_dim=2)"
   ]
  },
  {
   "cell_type": "code",
   "execution_count": 18,
   "id": "9907bab6-73ed-4eeb-b98c-0d89b77dae6c",
   "metadata": {},
   "outputs": [
    {
     "data": {
      "image/png": "[encoded data removed]",
      "text/plain": [
       "<Figure size 640x480 with 1 Axes>"
      ]
     },
     "metadata": {},
     "output_type": "display_data"
    }
   ],
   "source": [
    "t = X[:, 0].numpy()\n",
    "y_np = y.numpy()\n",
    "plt.plot(t, y)\n",
    "plt.xlabel('t')\n",
    "plt.ylabel('y')\n",
    "plt.title('Function Plot of y(t, α)')\n",
    "plt.grid(True)\n",
    "plt.show()"
   ]
  },
  {
   "cell_type": "code",
   "execution_count": 19,
   "id": "d5fcf712-5994-4ff6-baa2-d190263d95f1",
   "metadata": {},
   "outputs": [
    {
     "data": {
      "image/png": "[encoded data removed]",
      "text/plain": [
       "<Figure size 640x480 with 1 Axes>"
      ]
     },
     "metadata": {},
     "output_type": "display_data"
    }
   ],
   "source": [
    "alpha = X[:, 1].numpy()\n",
    "y_np = y.numpy()\n",
    "plt.plot(alpha, y_np)\n",
    "plt.xlabel('α')\n",
    "plt.ylabel('y')\n",
    "plt.title('Function Plot of y(t, α)')\n",
    "plt.grid(True)\n",
    "plt.show()"
   ]
  },
  {
   "cell_type": "markdown",
   "id": "21a23af5-a83f-4569-967c-5da49e4dad16",
   "metadata": {},
   "source": [
    "## Train-test datasets split"
   ]
  },
  {
   "cell_type": "code",
   "execution_count": 20,
   "id": "f24d37bb-318a-40f5-889d-47c16bfd7440",
   "metadata": {},
   "outputs": [],
   "source": [
    "x_train, x_test, y_train, y_test = train_test_split(X, y, test_size=0.1) # 10% from Lloyd's at all. \"Using...\""
   ]
  },
  {
   "cell_type": "code",
   "execution_count": 21,
   "id": "238a79d7-f720-49ac-afc3-4ef6fa2eaf25",
   "metadata": {},
   "outputs": [
    {
     "data": {
      "text/plain": [
       "(torch.Size([9000, 2]),\n",
       " torch.Size([1000, 2]),\n",
       " torch.Size([9000, 1]),\n",
       " torch.Size([1000, 1]))"
      ]
     },
     "execution_count": 21,
     "metadata": {},
     "output_type": "execute_result"
    }
   ],
   "source": [
    "x_train.shape, x_test.shape, y_train.shape, y_test.shape"
   ]
  },
  {
   "cell_type": "markdown",
   "id": "bd927ea4-3541-414f-9b9a-ab252490fa87",
   "metadata": {},
   "source": [
    "## Model"
   ]
  },
  {
   "cell_type": "markdown",
   "id": "89fb08b5-32fb-4ebd-82a9-d7984afff4f2",
   "metadata": {},
   "source": [
    "### Hyperparams for the NN model"
   ]
  },
  {
   "cell_type": "code",
   "execution_count": 22,
   "id": "e6b94e85-f553-45cd-9067-e7f489277efd",
   "metadata": {},
   "outputs": [],
   "source": [
    "input_size = 2\n",
    "hidden_size = 10\n",
    "learning_rate = 0.001\n",
    "num_epochs = 1000"
   ]
  },
  {
   "cell_type": "markdown",
   "id": "2d45bb1f-5543-49d1-9740-904f8ac13574",
   "metadata": {},
   "source": [
    "### Model definition, compilation and training"
   ]
  },
  {
   "cell_type": "code",
   "execution_count": 23,
   "id": "19a894d1-7f6d-483f-9e9c-10cd39546b19",
   "metadata": {
    "scrolled": true
   },
   "outputs": [
    {
     "name": "stdout",
     "output_type": "stream",
     "text": [
      "Epoch [100/1000], Loss: 0.0045551020\n",
      "Epoch [200/1000], Loss: 0.0035420561\n",
      "Epoch [300/1000], Loss: 0.0027343358\n",
      "Epoch [400/1000], Loss: 0.0019425031\n",
      "Epoch [500/1000], Loss: 0.0012595609\n",
      "Epoch [600/1000], Loss: 0.0007413082\n",
      "Epoch [700/1000], Loss: 0.0004018924\n",
      "Epoch [800/1000], Loss: 0.0002050568\n",
      "Epoch [900/1000], Loss: 0.0001000984\n",
      "Epoch [1000/1000], Loss: 0.0000474019\n",
      "Time elapsed: 1.23 seconds\n"
     ]
    }
   ],
   "source": [
    "model = MLP(input_size, hidden_size)\n",
    "\n",
    "criterion = nn.MSELoss()\n",
    "optimizer = optim.Adam(model.parameters(), lr=learning_rate)\n",
    "\n",
    "train_history = train_model(model, criterion, optimizer, x_train, y_train, num_epochs)"
   ]
  },
  {
   "cell_type": "code",
   "execution_count": 24,
   "id": "22365b89-3fbf-48c2-9096-f03ceada4617",
   "metadata": {},
   "outputs": [
    {
     "name": "stdout",
     "output_type": "stream",
     "text": [
      "----------------------------------------------------------------\n",
      "        Layer (type)               Output Shape         Param #\n",
      "================================================================\n",
      "            Linear-1                   [-1, 10]              30\n",
      "           Sigmoid-2                   [-1, 10]               0\n",
      "            Linear-3                    [-1, 1]              11\n",
      "================================================================\n",
      "Total params: 41\n",
      "Trainable params: 41\n",
      "Non-trainable params: 0\n",
      "----------------------------------------------------------------\n",
      "Input size (MB): 0.00\n",
      "Forward/backward pass size (MB): 0.00\n",
      "Params size (MB): 0.00\n",
      "Estimated Total Size (MB): 0.00\n",
      "----------------------------------------------------------------\n"
     ]
    }
   ],
   "source": [
    "summary(model, (input_size,)) # (input_size, ) - input shape"
   ]
  },
  {
   "cell_type": "code",
   "execution_count": 25,
   "id": "57d64832-5103-4432-a415-6fe9635f7f4e",
   "metadata": {},
   "outputs": [
    {
     "data": {
      "image/png": "[encoded data removed]",
      "text/plain": [
       "<Figure size 1000x600 with 1 Axes>"
      ]
     },
     "metadata": {},
     "output_type": "display_data"
    }
   ],
   "source": [
    "plt.figure(figsize=(10, 6))\n",
    "plt.plot(train_history, label='MSE', color='b')\n",
    "plt.xlabel('Epochs')\n",
    "plt.ylabel('MSE')\n",
    "plt.title('Learning curve for y(t, α)')\n",
    "plt.legend()\n",
    "plt.grid(False)\n",
    "plt.show()"
   ]
  },
  {
   "cell_type": "markdown",
   "id": "af6089dd-6192-40b7-ba2d-890d15a31f13",
   "metadata": {},
   "source": [
    "### Model testing"
   ]
  },
  {
   "cell_type": "code",
   "execution_count": 26,
   "id": "d7edbc3d-33a1-4130-9c8b-6e2ee373dc53",
   "metadata": {},
   "outputs": [
    {
     "name": "stdout",
     "output_type": "stream",
     "text": [
      "Test Loss: 0.0000462152\n"
     ]
    }
   ],
   "source": [
    "test_loss = test_model(model, criterion, x_test, y_test)\n",
    "print(f\"Test Loss: {test_loss:.10f}\")"
   ]
  },
  {
   "cell_type": "markdown",
   "id": "fd817e94-9675-499b-90cc-b28cbfd0ac85",
   "metadata": {},
   "source": [
    "## Model usage"
   ]
  },
  {
   "cell_type": "code",
   "execution_count": 27,
   "id": "f7ffa4b4-c3b4-4091-97de-9a0039b3726d",
   "metadata": {},
   "outputs": [
    {
     "data": {
      "text/plain": [
       "((10,), (10, 2), (1,), (10,))"
      ]
     },
     "execution_count": 27,
     "metadata": {},
     "output_type": "execute_result"
    }
   ],
   "source": [
    "bs1, we1, bs2, we2 = extract_model_params(model)\n",
    "bs1.shape, we1.shape, bs2.shape, we2.shape"
   ]
  },
  {
   "cell_type": "code",
   "execution_count": 28,
   "id": "0b15ede3-0eff-4e83-81fc-f8bef49ef328",
   "metadata": {},
   "outputs": [
    {
     "data": {
      "text/plain": [
       "(array([ 0.01881911,  0.53084457,  0.31967887,  0.6864367 ,  0.5868786 ,\n",
       "        -0.04200107, -0.04637356,  0.12944928, -0.34108153, -0.7082344 ],\n",
       "       dtype=float32),\n",
       " array([ 1.0354434e-04, -1.2873191e+00, -2.0238198e-01, -2.3114666e-01,\n",
       "         9.5351748e-02, -2.2668417e-01, -5.9265184e-01, -1.1045114e+00,\n",
       "         2.3534717e-01,  2.5989112e-01], dtype=float32),\n",
       " array([-0.30550602, -0.5153509 ,  0.44670013, -0.06900083, -0.7190679 ,\n",
       "         0.39254433, -0.38376772, -0.8914462 , -0.11641008,  0.50157714],\n",
       "       dtype=float32),\n",
       " array([0.08505379], dtype=float32),\n",
       " array([-0.14831313, -0.69047374,  0.39417893,  0.45832768,  0.11096592,\n",
       "         0.45219946, -0.15519209, -0.5052696 , -0.08286084, -0.0436173 ],\n",
       "       dtype=float32))"
      ]
     },
     "execution_count": 28,
     "metadata": {},
     "output_type": "execute_result"
    }
   ],
   "source": [
    "bs1, we1[:, 0], we1[:, 1], bs2, we2"
   ]
  },
  {
   "cell_type": "code",
   "execution_count": 29,
   "id": "f6878af8-837a-4d49-a8c0-af3d3ea67db4",
   "metadata": {},
   "outputs": [
    {
     "data": {
      "text/plain": [
       "array([mpf('50.224385449815756')], dtype=object)"
      ]
     },
     "execution_count": 29,
     "metadata": {},
     "output_type": "execute_result"
    }
   ],
   "source": [
    "nni = get_NN_integral(a1, b1, a2, b2, bs1, we1, bs2, we2)\n",
    "\n",
    "nni"
   ]
  },
  {
   "cell_type": "code",
   "execution_count": null,
   "id": "4d531a3e-dbc5-4733-96a6-086e06e1cbef",
   "metadata": {},
   "outputs": [],
   "source": []
  },
  {
   "cell_type": "code",
   "execution_count": null,
   "id": "725f62b7-3aca-48d2-9e0e-cd7498e8d022",
   "metadata": {},
   "outputs": [],
   "source": []
  },
  {
   "cell_type": "code",
   "execution_count": null,
   "id": "ad37f423-4421-45ca-8691-1893fa260326",
   "metadata": {},
   "outputs": [],
   "source": []
  },
  {
   "cell_type": "code",
   "execution_count": null,
   "id": "b75676aa-92ba-419e-9a34-5934c2ba513d",
   "metadata": {},
   "outputs": [],
   "source": []
  },
  {
   "cell_type": "code",
   "execution_count": null,
   "id": "c79a558b-0fb6-4844-9a7f-6fe109c370e1",
   "metadata": {},
   "outputs": [],
   "source": []
  },
  {
   "cell_type": "code",
   "execution_count": 30,
   "id": "8ce02571-cdc8-4e3e-8152-f9713d14c3e5",
   "metadata": {},
   "outputs": [],
   "source": [
    "def test_NNI_2d(repeat = 10):\n",
    "\n",
    "    test_losses = []\n",
    "    nnis = []\n",
    "\n",
    "    for _ in range(repeat):\n",
    "        model = MLP(input_size, hidden_size)\n",
    "        criterion = nn.MSELoss()\n",
    "        optimizer = optim.Adam(model.parameters(), lr=learning_rate)\n",
    "        train_history = train_model(model, criterion, optimizer, x_train, y_train, num_epochs)\n",
    "        \n",
    "        test_losses.append(test_model(model, criterion, x_test, y_test))\n",
    "    \n",
    "        bs1, we1, bs2, we2 = extract_model_params(model)\n",
    "        nnis.append(get_NN_integral(a1, b1, a2, b2, bs1, we1, bs2, we2))\n",
    "\n",
    "    return test_losses, nnis"
   ]
  },
  {
   "cell_type": "code",
   "execution_count": 31,
   "id": "dd385dd4-f0e6-4aad-834d-5141d3fc9251",
   "metadata": {
    "scrolled": true
   },
   "outputs": [
    {
     "name": "stdout",
     "output_type": "stream",
     "text": [
      "Epoch [100/1000], Loss: 0.0158719495\n",
      "Epoch [200/1000], Loss: 0.0061327796\n",
      "Epoch [300/1000], Loss: 0.0033783924\n",
      "Epoch [400/1000], Loss: 0.0026388464\n",
      "Epoch [500/1000], Loss: 0.0023133308\n",
      "Epoch [600/1000], Loss: 0.0021098501\n",
      "Epoch [700/1000], Loss: 0.0019500016\n",
      "Epoch [800/1000], Loss: 0.0018057983\n",
      "Epoch [900/1000], Loss: 0.0016667381\n",
      "Epoch [1000/1000], Loss: 0.0015291574\n",
      "Time elapsed: 1.11 seconds\n",
      "Epoch [100/1000], Loss: 0.3380717039\n",
      "Epoch [200/1000], Loss: 0.0182310138\n",
      "Epoch [300/1000], Loss: 0.0073340479\n",
      "Epoch [400/1000], Loss: 0.0044365660\n",
      "Epoch [500/1000], Loss: 0.0037348070\n",
      "Epoch [600/1000], Loss: 0.0033877930\n",
      "Epoch [700/1000], Loss: 0.0031848298\n",
      "Epoch [800/1000], Loss: 0.0030413386\n",
      "Epoch [900/1000], Loss: 0.0029204555\n",
      "Epoch [1000/1000], Loss: 0.0028074461\n",
      "Time elapsed: 1.35 seconds\n",
      "Epoch [100/1000], Loss: 0.0284837950\n",
      "Epoch [200/1000], Loss: 0.0053798263\n",
      "Epoch [300/1000], Loss: 0.0039581386\n",
      "Epoch [400/1000], Loss: 0.0034548000\n",
      "Epoch [500/1000], Loss: 0.0032252546\n",
      "Epoch [600/1000], Loss: 0.0030367405\n",
      "Epoch [700/1000], Loss: 0.0028551228\n",
      "Epoch [800/1000], Loss: 0.0026738280\n",
      "Epoch [900/1000], Loss: 0.0024891789\n",
      "Epoch [1000/1000], Loss: 0.0022979164\n",
      "Time elapsed: 1.51 seconds\n",
      "Epoch [100/1000], Loss: 0.0111257974\n",
      "Epoch [200/1000], Loss: 0.0048442227\n",
      "Epoch [300/1000], Loss: 0.0030372392\n",
      "Epoch [400/1000], Loss: 0.0025733765\n",
      "Epoch [500/1000], Loss: 0.0023496628\n",
      "Epoch [600/1000], Loss: 0.0021491530\n",
      "Epoch [700/1000], Loss: 0.0019522866\n",
      "Epoch [800/1000], Loss: 0.0017561709\n",
      "Epoch [900/1000], Loss: 0.0015603569\n",
      "Epoch [1000/1000], Loss: 0.0013660145\n",
      "Time elapsed: 1.08 seconds\n",
      "Epoch [100/1000], Loss: 0.1002017558\n",
      "Epoch [200/1000], Loss: 0.0468487032\n",
      "Epoch [300/1000], Loss: 0.0206283461\n",
      "Epoch [400/1000], Loss: 0.0065512727\n",
      "Epoch [500/1000], Loss: 0.0036228620\n",
      "Epoch [600/1000], Loss: 0.0031400966\n",
      "Epoch [700/1000], Loss: 0.0029575322\n",
      "Epoch [800/1000], Loss: 0.0028034472\n",
      "Epoch [900/1000], Loss: 0.0026490805\n",
      "Epoch [1000/1000], Loss: 0.0024913636\n",
      "Time elapsed: 1.05 seconds\n",
      "Epoch [100/1000], Loss: 0.0072874739\n",
      "Epoch [200/1000], Loss: 0.0025077923\n",
      "Epoch [300/1000], Loss: 0.0017856174\n",
      "Epoch [400/1000], Loss: 0.0015465505\n",
      "Epoch [500/1000], Loss: 0.0013806913\n",
      "Epoch [600/1000], Loss: 0.0012382700\n",
      "Epoch [700/1000], Loss: 0.0011038465\n",
      "Epoch [800/1000], Loss: 0.0009724240\n",
      "Epoch [900/1000], Loss: 0.0008435262\n",
      "Epoch [1000/1000], Loss: 0.0007186654\n",
      "Time elapsed: 1.53 seconds\n",
      "Epoch [100/1000], Loss: 0.0066990890\n",
      "Epoch [200/1000], Loss: 0.0045546493\n",
      "Epoch [300/1000], Loss: 0.0035552375\n",
      "Epoch [400/1000], Loss: 0.0029170325\n",
      "Epoch [500/1000], Loss: 0.0024700421\n",
      "Epoch [600/1000], Loss: 0.0021185745\n",
      "Epoch [700/1000], Loss: 0.0018001703\n",
      "Epoch [800/1000], Loss: 0.0014964551\n",
      "Epoch [900/1000], Loss: 0.0012078396\n",
      "Epoch [1000/1000], Loss: 0.0009435675\n",
      "Time elapsed: 1.53 seconds\n",
      "Epoch [100/1000], Loss: 0.0125049129\n",
      "Epoch [200/1000], Loss: 0.0053262869\n",
      "Epoch [300/1000], Loss: 0.0029591003\n",
      "Epoch [400/1000], Loss: 0.0023983391\n",
      "Epoch [500/1000], Loss: 0.0021341681\n",
      "Epoch [600/1000], Loss: 0.0019247403\n",
      "Epoch [700/1000], Loss: 0.0017072033\n",
      "Epoch [800/1000], Loss: 0.0014745239\n",
      "Epoch [900/1000], Loss: 0.0012349403\n",
      "Epoch [1000/1000], Loss: 0.0010001573\n",
      "Time elapsed: 1.44 seconds\n",
      "Epoch [100/1000], Loss: 0.0122514945\n",
      "Epoch [200/1000], Loss: 0.0052253334\n",
      "Epoch [300/1000], Loss: 0.0032452620\n",
      "Epoch [400/1000], Loss: 0.0025197607\n",
      "Epoch [500/1000], Loss: 0.0022275986\n",
      "Epoch [600/1000], Loss: 0.0021049376\n",
      "Epoch [700/1000], Loss: 0.0020008299\n",
      "Epoch [800/1000], Loss: 0.0018901278\n",
      "Epoch [900/1000], Loss: 0.0017724868\n",
      "Epoch [1000/1000], Loss: 0.0016487988\n",
      "Time elapsed: 1.48 seconds\n",
      "Epoch [100/1000], Loss: 0.0120538948\n",
      "Epoch [200/1000], Loss: 0.0056572645\n",
      "Epoch [300/1000], Loss: 0.0035827840\n",
      "Epoch [400/1000], Loss: 0.0031474545\n",
      "Epoch [500/1000], Loss: 0.0029037930\n",
      "Epoch [600/1000], Loss: 0.0026690448\n",
      "Epoch [700/1000], Loss: 0.0024182305\n",
      "Epoch [800/1000], Loss: 0.0021460855\n",
      "Epoch [900/1000], Loss: 0.0018559765\n",
      "Epoch [1000/1000], Loss: 0.0015573851\n",
      "Time elapsed: 1.23 seconds\n"
     ]
    }
   ],
   "source": [
    "losses, integrals = test_NNI_2d()"
   ]
  },
  {
   "cell_type": "code",
   "execution_count": 32,
   "id": "06705309-ebaa-468f-8089-522e4ada28e1",
   "metadata": {},
   "outputs": [
    {
     "data": {
      "image/png": "[encoded data removed]",
      "text/plain": [
       "<Figure size 640x480 with 1 Axes>"
      ]
     },
     "metadata": {},
     "output_type": "display_data"
    }
   ],
   "source": [
    "plt.plot(losses, label='loss', color='blue', marker='o')\n",
    "plt.plot(integrals, label='integrals', color='red', marker='x')\n",
    "plt.legend()\n",
    "plt.grid(True)\n",
    "plt.show()"
   ]
  },
  {
   "cell_type": "code",
   "execution_count": 33,
   "id": "db915410-f885-4606-af3f-5ca70ce995f2",
   "metadata": {},
   "outputs": [
    {
     "data": {
      "text/plain": [
       "([0.001589213963598013,\n",
       "  0.0029713923577219248,\n",
       "  0.002435246016830206,\n",
       "  0.001419520820491016,\n",
       "  0.0026470194570720196,\n",
       "  0.0007605584105476737,\n",
       "  0.0009702392271719873,\n",
       "  0.0010501296492293477,\n",
       "  0.001742271357215941,\n",
       "  0.0016068076947703958],\n",
       " [array([mpf('-8.9794921840190227')], dtype=object),\n",
       "  array([mpf('39.465493767076822')], dtype=object),\n",
       "  array([mpf('18.365078243944868')], dtype=object),\n",
       "  array([mpf('26.071697839195259')], dtype=object),\n",
       "  array([mpf('19.409057726551701')], dtype=object),\n",
       "  array([mpf('42.94045543016815')], dtype=object),\n",
       "  array([mpf('50.718157600157618')], dtype=object),\n",
       "  array([mpf('37.354142333626427')], dtype=object),\n",
       "  array([mpf('39.063826457785886')], dtype=object),\n",
       "  array([mpf('26.351044066664755')], dtype=object)])"
      ]
     },
     "execution_count": 33,
     "metadata": {},
     "output_type": "execute_result"
    }
   ],
   "source": [
    "losses, integrals"
   ]
  },
  {
   "cell_type": "code",
   "execution_count": null,
   "id": "8c47bd98-5a6e-455e-b854-7df0bdbb31af",
   "metadata": {},
   "outputs": [],
   "source": []
  },
  {
   "cell_type": "code",
   "execution_count": null,
   "id": "2cb3e124-36d1-4ecb-83c5-b7dc81fa6db8",
   "metadata": {},
   "outputs": [],
   "source": []
  },
  {
   "cell_type": "code",
   "execution_count": null,
   "id": "b97c4470-e849-4174-a04b-2a959ab4dc9b",
   "metadata": {},
   "outputs": [],
   "source": []
  },
  {
   "cell_type": "code",
   "execution_count": 34,
   "id": "829e3efd-2b70-4e5c-87c8-4c23434ba2c9",
   "metadata": {},
   "outputs": [],
   "source": [
    "def z(xy):\n",
    "    x = xy[:, 0]\n",
    "    y = xy[:, 1]\n",
    "\n",
    "    return x*x + y*y"
   ]
  },
  {
   "cell_type": "code",
   "execution_count": 35,
   "id": "8f338019-da2d-4b6f-9105-66d4308d374f",
   "metadata": {},
   "outputs": [
    {
     "data": {
      "text/plain": [
       "(tensor([[-1.0000, -1.0000],\n",
       "         [-0.7778, -0.7778],\n",
       "         [-0.5556, -0.5556],\n",
       "         [-0.3333, -0.3333],\n",
       "         [-0.1111, -0.1111],\n",
       "         [ 0.1111,  0.1111],\n",
       "         [ 0.3333,  0.3333],\n",
       "         [ 0.5556,  0.5556],\n",
       "         [ 0.7778,  0.7778],\n",
       "         [ 1.0000,  1.0000]]),\n",
       " tensor([[2.0000],\n",
       "         [1.2099],\n",
       "         [0.6173],\n",
       "         [0.2222],\n",
       "         [0.0247],\n",
       "         [0.0247],\n",
       "         [0.2222],\n",
       "         [0.6173],\n",
       "         [1.2099],\n",
       "         [2.0000]]))"
      ]
     },
     "execution_count": 35,
     "metadata": {},
     "output_type": "execute_result"
    }
   ],
   "source": [
    "xy, zs = generate_data(z, lower=[-1, -1], upper=[1, 1], n_dim=2, n_samples=10)\n",
    "xy, zs"
   ]
  },
  {
   "cell_type": "code",
   "execution_count": 36,
   "id": "be290827-74e0-4e18-ba01-57cb33ad9a8d",
   "metadata": {},
   "outputs": [],
   "source": [
    "xy, zs = generate_data(z, lower=[-1, -1], upper=[1, 1], n_dim=2, n_samples=100000)"
   ]
  },
  {
   "cell_type": "code",
   "execution_count": 37,
   "id": "2ab1a2b0-f6e2-408b-8cf6-f6094a842df3",
   "metadata": {},
   "outputs": [],
   "source": [
    "input_size = 2\n",
    "hidden_size = 100\n",
    "learning_rate = 0.001\n",
    "num_epochs = 10000"
   ]
  },
  {
   "cell_type": "code",
   "execution_count": 38,
   "id": "7159bb66-e6f6-4754-8ab2-95c8b49c074e",
   "metadata": {
    "scrolled": true
   },
   "outputs": [
    {
     "name": "stdout",
     "output_type": "stream",
     "text": [
      "Epoch [100/10000], Loss: 0.3535645008\n",
      "Epoch [200/10000], Loss: 0.3468709290\n",
      "Epoch [300/10000], Loss: 0.3371406198\n",
      "Epoch [400/10000], Loss: 0.3210240602\n",
      "Epoch [500/10000], Loss: 0.2920791805\n",
      "Epoch [600/10000], Loss: 0.2413676977\n",
      "Epoch [700/10000], Loss: 0.1671063602\n",
      "Epoch [800/10000], Loss: 0.0900334790\n",
      "Epoch [900/10000], Loss: 0.0400827341\n",
      "Epoch [1000/10000], Loss: 0.0207330622\n",
      "Epoch [1100/10000], Loss: 0.0154622998\n",
      "Epoch [1200/10000], Loss: 0.0135828834\n",
      "Epoch [1300/10000], Loss: 0.0122843515\n",
      "Epoch [1400/10000], Loss: 0.0111529641\n",
      "Epoch [1500/10000], Loss: 0.0101422751\n",
      "Epoch [1600/10000], Loss: 0.0092392564\n",
      "Epoch [1700/10000], Loss: 0.0084325066\n",
      "Epoch [1800/10000], Loss: 0.0077111046\n",
      "Epoch [1900/10000], Loss: 0.0070649297\n",
      "Epoch [2000/10000], Loss: 0.0064848657\n",
      "Epoch [2100/10000], Loss: 0.0059628212\n",
      "Epoch [2200/10000], Loss: 0.0054916809\n",
      "Epoch [2300/10000], Loss: 0.0050652437\n",
      "Epoch [2400/10000], Loss: 0.0046781232\n",
      "Epoch [2500/10000], Loss: 0.0043256413\n",
      "Epoch [2600/10000], Loss: 0.0040037506\n",
      "Epoch [2700/10000], Loss: 0.0037089353\n",
      "Epoch [2800/10000], Loss: 0.0034381542\n",
      "Epoch [2900/10000], Loss: 0.0031887626\n",
      "Epoch [3000/10000], Loss: 0.0029584677\n",
      "Epoch [3100/10000], Loss: 0.0027452779\n",
      "Epoch [3200/10000], Loss: 0.0025474716\n",
      "Epoch [3300/10000], Loss: 0.0023635537\n",
      "Epoch [3400/10000], Loss: 0.0021922295\n",
      "Epoch [3500/10000], Loss: 0.0020323775\n",
      "Epoch [3600/10000], Loss: 0.0018830195\n",
      "Epoch [3700/10000], Loss: 0.0017432970\n",
      "Epoch [3800/10000], Loss: 0.0016124581\n",
      "Epoch [3900/10000], Loss: 0.0014898297\n",
      "Epoch [4000/10000], Loss: 0.0013748059\n",
      "Epoch [4100/10000], Loss: 0.0012668499\n",
      "Epoch [4200/10000], Loss: 0.0011654805\n",
      "Epoch [4300/10000], Loss: 0.0010702708\n",
      "Epoch [4400/10000], Loss: 0.0009808466\n",
      "Epoch [4500/10000], Loss: 0.0008968831\n",
      "Epoch [4600/10000], Loss: 0.0008180986\n",
      "Epoch [4700/10000], Loss: 0.0007442447\n",
      "Epoch [4800/10000], Loss: 0.0006750986\n",
      "Epoch [4900/10000], Loss: 0.0006104655\n",
      "Epoch [5000/10000], Loss: 0.0005501681\n",
      "Epoch [5100/10000], Loss: 0.0004940541\n",
      "Epoch [5200/10000], Loss: 0.0004419882\n",
      "Epoch [5300/10000], Loss: 0.0003938484\n",
      "Epoch [5400/10000], Loss: 0.0003495188\n",
      "Epoch [5500/10000], Loss: 0.0003088886\n",
      "Epoch [5600/10000], Loss: 0.0002718428\n",
      "Epoch [5700/10000], Loss: 0.0002382610\n",
      "Epoch [5800/10000], Loss: 0.0002080129\n",
      "Epoch [5900/10000], Loss: 0.0001809575\n",
      "Epoch [6000/10000], Loss: 0.0001569405\n",
      "Epoch [6100/10000], Loss: 0.0001357944\n",
      "Epoch [6200/10000], Loss: 0.0001173377\n",
      "Epoch [6300/10000], Loss: 0.0001013743\n",
      "Epoch [6400/10000], Loss: 0.0000876967\n",
      "Epoch [6500/10000], Loss: 0.0000760874\n",
      "Epoch [6600/10000], Loss: 0.0000663240\n",
      "Epoch [6700/10000], Loss: 0.0000581828\n",
      "Epoch [6800/10000], Loss: 0.0000514439\n",
      "Epoch [6900/10000], Loss: 0.0000458970\n",
      "Epoch [7000/10000], Loss: 0.0000413451\n",
      "Epoch [7100/10000], Loss: 0.0000376090\n",
      "Epoch [7200/10000], Loss: 0.0000345303\n",
      "Epoch [7300/10000], Loss: 0.0000319726\n",
      "Epoch [7400/10000], Loss: 0.0000298225\n",
      "Epoch [7500/10000], Loss: 0.0000279883\n",
      "Epoch [7600/10000], Loss: 0.0000263981\n",
      "Epoch [7700/10000], Loss: 0.0000249971\n",
      "Epoch [7800/10000], Loss: 0.0000237449\n",
      "Epoch [7900/10000], Loss: 0.0000226114\n",
      "Epoch [8000/10000], Loss: 0.0000215749\n",
      "Epoch [8100/10000], Loss: 0.0000206196\n",
      "Epoch [8200/10000], Loss: 0.0000197331\n",
      "Epoch [8300/10000], Loss: 0.0000192446\n",
      "Epoch [8400/10000], Loss: 0.0000182625\n",
      "Epoch [8500/10000], Loss: 0.0000176357\n",
      "Epoch [8600/10000], Loss: 0.0000170927\n",
      "Epoch [8700/10000], Loss: 0.0000165909\n",
      "Epoch [8800/10000], Loss: 0.0000163436\n",
      "Epoch [8900/10000], Loss: 0.0000156881\n",
      "Epoch [9000/10000], Loss: 0.0000152761\n",
      "Epoch [9100/10000], Loss: 0.0000151423\n",
      "Epoch [9200/10000], Loss: 0.0000145343\n",
      "Epoch [9300/10000], Loss: 0.0000141827\n",
      "Epoch [9400/10000], Loss: 0.0000139533\n",
      "Epoch [9500/10000], Loss: 0.0000135550\n",
      "Epoch [9600/10000], Loss: 0.0000132519\n",
      "Epoch [9700/10000], Loss: 0.0000136712\n",
      "Epoch [9800/10000], Loss: 0.0000126966\n",
      "Epoch [9900/10000], Loss: 0.0000124307\n",
      "Epoch [10000/10000], Loss: 0.0000124093\n",
      "Time elapsed: 687.98 seconds\n"
     ]
    }
   ],
   "source": [
    "model = MLP(input_size, hidden_size)\n",
    "\n",
    "criterion = nn.MSELoss()\n",
    "optimizer = optim.Adam(model.parameters(), lr=learning_rate)\n",
    "\n",
    "train_history = train_model(model, criterion, optimizer, xy, zs, num_epochs)"
   ]
  },
  {
   "cell_type": "code",
   "execution_count": 39,
   "id": "4a2e2dc5-ae80-486d-b929-645e9169dfe7",
   "metadata": {},
   "outputs": [],
   "source": [
    "bs1, we1, bs2, we2 = extract_model_params(model)\n"
   ]
  },
  {
   "cell_type": "code",
   "execution_count": 40,
   "id": "2312e34e-d48d-4e4e-b2a9-7053dac2a94b",
   "metadata": {},
   "outputs": [
    {
     "data": {
      "text/plain": [
       "array([mpf('258.00706514987496')], dtype=object)"
      ]
     },
     "execution_count": 40,
     "metadata": {},
     "output_type": "execute_result"
    }
   ],
   "source": [
    "nni = get_NN_integral(a1, b1, a2, b2, bs1, we1, bs2, we2)\n",
    "\n",
    "nni"
   ]
  },
  {
   "cell_type": "code",
   "execution_count": null,
   "id": "5ba43a64-b3dc-4136-bfff-f40bfdf63597",
   "metadata": {},
   "outputs": [],
   "source": []
  }
 ],
 "metadata": {
  "kernelspec": {
   "display_name": "Python 3 (ipykernel)",
   "language": "python",
   "name": "python3"
  },
  "language_info": {
   "codemirror_mode": {
    "name": "ipython",
    "version": 3
   },
   "file_extension": ".py",
   "mimetype": "text/x-python",
   "name": "python",
   "nbconvert_exporter": "python",
   "pygments_lexer": "ipython3",
   "version": "3.11.5"
  }
 },
 "nbformat": 4,
 "nbformat_minor": 5
}
