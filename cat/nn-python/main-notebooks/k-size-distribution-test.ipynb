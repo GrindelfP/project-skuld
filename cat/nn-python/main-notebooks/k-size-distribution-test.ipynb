{
 "cells": [
  {
   "cell_type": "markdown",
   "id": "9af3c9b6-99da-4802-9fe1-40814bc20e53",
   "metadata": {},
   "source": [
    "# Testing neural networks approach to numerical integration on Genz numerical integration testing package \n",
    "\n",
    "These tests are dedicated to research of dependency of k size of neural network (size of single hidden layer).\n",
    "\n",
    "The tests will be done on 2D functions"
   ]
  },
  {
   "cell_type": "markdown",
   "id": "f6c4aea9-2abd-4cbd-81f8-bfda2ae8ec53",
   "metadata": {},
   "source": [
    "## Library import"
   ]
  },
  {
   "cell_type": "code",
   "id": "a49f4cae-343f-406c-9e5a-9c97602ba6fb",
   "metadata": {},
   "source": [
    "%run ../skuld/skuld.py      # skuld NNI library\n",
    "%run ../utils/plots.py      # plotting functions\n",
    "%run ../utils/integrate.py  # 'classic' numerical integration function\n",
    "\n",
    "import pickle"
   ],
   "outputs": [],
   "execution_count": null
  },
  {
   "cell_type": "markdown",
   "id": "01861360-0643-45db-a17a-137a1ba789e1",
   "metadata": {},
   "source": [
    "# Part 1: k-size tests"
   ]
  },
  {
   "cell_type": "markdown",
   "id": "b18f607d-dfd6-4de7-85a1-d9f2859f6d5f",
   "metadata": {},
   "source": [
    "## 2D testing function"
   ]
  },
  {
   "cell_type": "code",
   "id": "6d8634b7-f4e1-4bed-a524-ac23caed2b02",
   "metadata": {},
   "source": [
    "def test_2d_integration(h, ej, func, func_float, a, b, func_name, logplot=False):\n",
    "    global input_size, hidden_size, u, c\n",
    "  \n",
    "    X_init, y_init = generate_data(func, a, b, 200, input_size, u, c)\n",
    "    if logplot:\n",
    "        plot_2d_function_heatmap_with_log(X_init, y_init, func_name)\n",
    "    else:\n",
    "        plot_2d_function_heatmap(X_init, y_init, func_name)\n",
    "    X, y = scale_data(X_init, y_init, n_dim=2)\n",
    "    \n",
    "    x_train, x_test, y_train, y_test = train_test_split(X, y, test_size=0.1)  \n",
    "    model = MLP(input_size, hidden_size)\n",
    "    model.compile(criterion=nn.MSELoss(), optimizer=optim.Adam(model.parameters(), lr=learning_rate))\n",
    "    train_history = model.train(x_train, y_train, num_epochs, verbose=False)\n",
    "    test_loss = model.test(x_test, y_test)\n",
    "    print(f\"Test Loss: {test_loss:.10f}\")\n",
    "    \n",
    "    nni_scaled = NeuralNumericalIntegration.integrate(model, a, b, n_dims=2)\n",
    "    nni_result = descale_result(float(nni_scaled[0]), X_init, y_init, frange=(0, 1), n_dim=2)\n",
    "    result_quad = integrate_2d_nquad(func_float, a, b, u, c)\n",
    "    result_trapz = integrate_2d_trapz(func, a, b, 100, u, c)\n",
    "   \n",
    "    return nni_result, result_quad, result_trapz"
   ],
   "outputs": [],
   "execution_count": null
  },
  {
   "cell_type": "markdown",
   "id": "33fb139c-e9e6-42db-9aba-10a4e4622627",
   "metadata": {},
   "source": [
    "## Data operations functions"
   ]
  },
  {
   "cell_type": "code",
   "id": "41fc5c97-624b-4259-87b3-134fbd9b950b",
   "metadata": {},
   "source": [
    "def save_data(data, filename=\"data.pkl\"):\n",
    "    with open(filename, 'wb') as f:\n",
    "        pickle.dump(data, f)\n",
    "    print(f\"Data saved to {filename}\")\n",
    "\n",
    "def load_data(filename=\"data.pkl\"):\n",
    "    with open(filename, 'rb') as f:\n",
    "        loaded_data = pickle.load(f)\n",
    "    print(f\"Data loaded from {filename}\")\n",
    "    \n",
    "    return loaded_data\n",
    "\n",
    "def calculate_mae(results):\n",
    "    absolute_errors = [abs(a - b) for a, b, _ in results]\n",
    "    mae = sum(absolute_errors) / len(absolute_errors)\n",
    "    \n",
    "    return mae"
   ],
   "outputs": [],
   "execution_count": null
  },
  {
   "cell_type": "markdown",
   "id": "fdbcfc94-d536-4a5e-9b19-495dd18adc34",
   "metadata": {},
   "source": [
    "## Hyperparams for 2D"
   ]
  },
  {
   "cell_type": "code",
   "id": "079e233f-66a7-4417-921e-3f7c8e2bffba",
   "metadata": {},
   "source": [
    "input_size = 2\n",
    "initial_hidden_size = 5\n",
    "hidden_size = initial_hidden_size         # initialy k = 10\n",
    "learning_rate = 0.001\n",
    "num_epochs = 5000\n",
    "\n",
    "tests_num = 20\n",
    "\n",
    "a_ = [0.0, 0.0]\n",
    "b_ = [1.0, 1.0]\n",
    "\n",
    "all_results = []"
   ],
   "outputs": [],
   "execution_count": null
  },
  {
   "cell_type": "markdown",
   "id": "b66c05c0-53ae-48ed-8442-ad48468e7eea",
   "metadata": {},
   "source": [
    "## 1. Oscillatory 2D"
   ]
  },
  {
   "cell_type": "code",
   "id": "21d6a546-a181-4f78-ba56-9a3195e438b1",
   "metadata": {
    "scrolled": true
   },
   "source": [
    "func_name = 'Oscillatory 2D'\n",
    "h = 100\n",
    "ej = 1\n",
    "results = []\n",
    "\n",
    "u = [random.uniform(0, 1) for _ in range(input_size)]\n",
    "cs = [random.uniform(0, 1) for _ in range(input_size)]\n",
    "fraction = h / (input_size ** ej * sum(cs))\n",
    "c = [fraction * value for value in cs]\n",
    "\n",
    "def osc_2d(X, u, c):\n",
    "    sum_ = 0\n",
    "    for i in range(input_size):\n",
    "        sum_ += c[i] * X[:, i]\n",
    "\n",
    "    return torch.cos(2 * math.pi * u[0] + sum_)\n",
    "    \n",
    "def osc_2d_float(X, u, c):\n",
    "    sum_ = 0\n",
    "    for i in range(input_size):\n",
    "        sum_ += c[i] * X[i]\n",
    "    return math.cos(2 * math.pi * u[0] + sum_)\n",
    "\n",
    "for i in range(tests_num):\n",
    "    hidden_size = initial_hidden_size * (i + 1) # k is updated each iteration k_new = k_old + 10\n",
    "    print(f\"\\n\\033[1mIteration {i+1} is running! k = {hidden_size}\\033[0m\")\n",
    "    results.append(test_2d_integration(h, ej, osc_2d, osc_2d_float, a_, b_, func_name))\n",
    "    results.append(test_2d_integration(h, ej, osc_2d, osc_2d_float, a_, b_, func_name))\n",
    "    results.append(test_2d_integration(h, ej, osc_2d, osc_2d_float, a_, b_, func_name))\n",
    "\n",
    "print(h, ej, u, c)\n",
    "\n",
    "plot_test_results(results)\n",
    "\n",
    "all_results.append(results)"
   ],
   "outputs": [],
   "execution_count": null
  },
  {
   "cell_type": "markdown",
   "id": "09fd87d5-07c4-46bd-adf5-3a76b766ef9e",
   "metadata": {},
   "source": [
    "## 2. Product Peak 2D"
   ]
  },
  {
   "cell_type": "code",
   "id": "bbfb47e1-592a-4666-8875-707851484a08",
   "metadata": {
    "scrolled": true
   },
   "source": [
    "func_name = 'Product Peak 2D'\n",
    "h = 150\n",
    "ej = 1\n",
    "results = []\n",
    "\n",
    "u = [random.uniform(0, 1) for _ in range(input_size)]\n",
    "cs = [random.uniform(0, 1) for _ in range(input_size)]\n",
    "fraction = h / (input_size ** ej * sum(cs))\n",
    "c = [fraction * value for value in cs]\n",
    "\n",
    "def prod_peek_2d(X, u, c):\n",
    "    prod_ = 1\n",
    "    for i in range(2):\n",
    "        prod_ *= (c[i] ** (-2) + (X[:, i] - u[i])**2) ** (-1)\n",
    "    return prod_\n",
    "\n",
    "def prod_peek_2d_float(X, u, c):\n",
    "    prod_ = 1\n",
    "    for i in range(2):\n",
    "        prod_ *= (c[i] ** (-2) + (X[i] - u[i])**2) ** (-1)\n",
    "    return prod_\n",
    "\n",
    "for i in range(tests_num):\n",
    "    hidden_size = initial_hidden_size * (i + 1) # k is updated each iteration k_new = k_old + 10\n",
    "    print(f\"\\n\\033[1mIteration {i+1} is running! k = {hidden_size}\\033[0m\")\n",
    "    results.append(test_2d_integration(h, ej, prod_peek_2d, prod_peek_2d_float, a_, b_, func_name, logplot=False))\n",
    "    results.append(test_2d_integration(h, ej, prod_peek_2d, prod_peek_2d_float, a_, b_, func_name, logplot=False))\n",
    "    results.append(test_2d_integration(h, ej, prod_peek_2d, prod_peek_2d_float, a_, b_, func_name, logplot=False))\n",
    "\n",
    "print(h, ej, u, c)\n",
    "\n",
    "plot_test_results(results)\n",
    "\n",
    "all_results.append(results)"
   ],
   "outputs": [],
   "execution_count": null
  },
  {
   "cell_type": "markdown",
   "id": "02773621-36d5-408e-9707-5eb2fcd6153c",
   "metadata": {},
   "source": [
    "## 3. Corner Peak 2D"
   ]
  },
  {
   "cell_type": "code",
   "id": "a6bc99c0-dad3-4815-a9e3-4d2e7adf58d6",
   "metadata": {
    "scrolled": true
   },
   "source": [
    "func_name = 'Corner Peak 2D'\n",
    "h = 600\n",
    "ej = 1\n",
    "results = []\n",
    "\n",
    "u = [random.uniform(0, 1) for _ in range(input_size)]\n",
    "cs = [random.uniform(0, 1) for _ in range(input_size)]\n",
    "fraction = h / (input_size ** ej * sum(cs))\n",
    "c = [fraction * value for value in cs]\n",
    "\n",
    "def corn_peek_2d(X, u, c):\n",
    "    sum_ = 0\n",
    "    for i in range(2):\n",
    "        sum_ += c[i] * X[:, i]\n",
    "    return (1 + sum_) ** (-3)\n",
    "\n",
    "def corn_peek_2d_float(X, u, c):\n",
    "    sum_ = 0\n",
    "    for i in range(2):\n",
    "        sum_ += c[i] * X[i]\n",
    "    return (1 + sum_) ** (-3)\n",
    "\n",
    "for i in range(tests_num):\n",
    "    hidden_size = initial_hidden_size * (i + 1) # k is updated each iteration k_new = k_old + 10\n",
    "    print(f\"\\n\\033[1mIteration {i+1} is running! k = {hidden_size}\\033[0m\")\n",
    "    results.append(test_2d_integration(h, ej, corn_peek_2d, corn_peek_2d_float, a_, b_, func_name, logplot=True))\n",
    "    results.append(test_2d_integration(h, ej, corn_peek_2d, corn_peek_2d_float, a_, b_, func_name, logplot=True))\n",
    "    results.append(test_2d_integration(h, ej, corn_peek_2d, corn_peek_2d_float, a_, b_, func_name, logplot=True))\n",
    "\n",
    "print(h, ej, u, c)\n",
    "\n",
    "plot_test_results(results)\n",
    "\n",
    "all_results.append(results)"
   ],
   "outputs": [],
   "execution_count": null
  },
  {
   "cell_type": "markdown",
   "id": "6a14c380-a3f2-4de2-8ef4-8bfc122adc02",
   "metadata": {},
   "source": [
    "## 4. Gaussian 2D"
   ]
  },
  {
   "cell_type": "code",
   "id": "020f20a0-f908-4e78-886d-2ab40ebfec7c",
   "metadata": {
    "scrolled": true
   },
   "source": [
    "func_name = 'Gaussian 2D'\n",
    "h = 150\n",
    "ej = 1\n",
    "results = []\n",
    "\n",
    "u = [random.uniform(0, 1) for _ in range(input_size)]\n",
    "cs = [random.uniform(0, 1) for _ in range(input_size)]\n",
    "fraction = h / (input_size ** ej * sum(cs))\n",
    "c = [fraction * value for value in cs] \n",
    "\n",
    "def gauss_2d(X, u, c):\n",
    "    sum_ = 0\n",
    "    for i in range(2):\n",
    "        sum_ += (c[i] ** 2) * ((X[:, i] - u[i]) ** 2)\n",
    "    return torch.exp(-sum_)\n",
    "\n",
    "def gauss_2d_float(X, u, c):\n",
    "    sum_ = 0\n",
    "    for i in range(2):\n",
    "        sum_ += (c[i] ** 2) * ((X[i] - u[i]) ** 2)\n",
    "    return np.exp(-sum_)\n",
    "\n",
    "for i in range(tests_num):\n",
    "    hidden_size = initial_hidden_size * (i + 1) # k is updated each iteration k_new = k_old + 10\n",
    "    print(f\"\\n\\033[1mIteration {i+1} is running! k = {hidden_size}\\033[0m\")\n",
    "    results.append(test_2d_integration(h, ej, gauss_2d, gauss_2d_float, a_, b_, func_name, logplot=True))\n",
    "    results.append(test_2d_integration(h, ej, gauss_2d, gauss_2d_float, a_, b_, func_name, logplot=True))\n",
    "    results.append(test_2d_integration(h, ej, gauss_2d, gauss_2d_float, a_, b_, func_name, logplot=True))\n",
    "\n",
    "print(h, ej, u, c)\n",
    "\n",
    "plot_test_results(results)\n",
    "\n",
    "all_results.append(results)"
   ],
   "outputs": [],
   "execution_count": null
  },
  {
   "cell_type": "markdown",
   "id": "63a4d5a1-e553-4001-b8da-905345868db5",
   "metadata": {},
   "source": [
    "## 5. Continuous 2D"
   ]
  },
  {
   "cell_type": "code",
   "id": "7f1fad4f-b1e9-43f2-88d7-1e3694959726",
   "metadata": {
    "scrolled": true
   },
   "source": [
    "func_name = 'Continuous 2D'\n",
    "h = 100\n",
    "ej = 1\n",
    "results = []\n",
    "\n",
    "u = [random.uniform(0, 1) for _ in range(input_size)]\n",
    "cs = [random.uniform(0, 1) for _ in range(input_size)]\n",
    "fraction = h / (input_size ** ej * sum(cs))\n",
    "c = [fraction * value for value in cs] \n",
    "\n",
    "def cont_2d(X, u, c):\n",
    "    sum_ = 0\n",
    "    for i in range(2):\n",
    "        sum_ += c[i]  * abs(X[:, i] - u[i])\n",
    "    return torch.exp(-sum_)\n",
    "\n",
    "def cont_2d_float(X, u, c):\n",
    "    sum_ = 0\n",
    "    for i in range(2):\n",
    "        sum_ += c[i] ** 2 * abs(X[i] - u[i]) ** 2\n",
    "    return np.exp(-sum_)\n",
    "\n",
    "for i in range(tests_num):\n",
    "    hidden_size = initial_hidden_size * (i + 1) # k is updated each iteration k_new = k_old + 10\n",
    "    print(f\"\\n\\033[1mIteration {i+1} is running! k = {hidden_size}\\033[0m\")\n",
    "    results.append(test_2d_integration(h, ej, cont_2d, cont_2d_float, a_, b_, func_name, logplot=False))\n",
    "    results.append(test_2d_integration(h, ej, cont_2d, cont_2d_float, a_, b_, func_name, logplot=False))\n",
    "    results.append(test_2d_integration(h, ej, cont_2d, cont_2d_float, a_, b_, func_name, logplot=False))\n",
    "\n",
    "print(h, ej, u, c)\n",
    "\n",
    "plot_test_results(results)\n",
    "\n",
    "all_results.append(results)"
   ],
   "outputs": [],
   "execution_count": null
  },
  {
   "cell_type": "markdown",
   "id": "539cd8db-9151-4eb0-8927-be625b8c8326",
   "metadata": {},
   "source": [
    "## 6. Discontinuous 2D"
   ]
  },
  {
   "cell_type": "code",
   "id": "3ec4ea75-ac59-4261-bc64-d19085e967df",
   "metadata": {
    "scrolled": true
   },
   "source": [
    "func_name = 'Discontinuous 2D'\n",
    "h = 16\n",
    "ej = 1\n",
    "results = []\n",
    "\n",
    "u = [random.uniform(0, 1) for _ in range(input_size)]\n",
    "cs = [random.uniform(0, 1) for _ in range(input_size)]\n",
    "fraction = h / (input_size ** ej * sum(cs))\n",
    "c = [fraction * value for value in cs]\n",
    "\n",
    "def disco_2d(X, u, c):\n",
    "    result = torch.zeros(X.shape[0])\n",
    "    for i in range(X.shape[0]):\n",
    "        x = X[i, 0].item()\n",
    "        \n",
    "        if x > u[0]:\n",
    "            result[i] = 0.0\n",
    "        else:\n",
    "            result[i] = math.exp(c[0] * x)\n",
    "\n",
    "    return result\n",
    "\n",
    "def disco_1d_float(X, u, c):\n",
    "    x1, x2 = X\n",
    "\n",
    "    if x1 > u[0] or x2 > u[1]:\n",
    "        return 0.0\n",
    "    else:\n",
    "        return math.exp(c[0] * x1 + c[1] * x2)\n",
    "\n",
    "for i in range(tests_num):\n",
    "    hidden_size = initial_hidden_size * (i + 1) # k is updated each iteration k_new = k_old + 10\n",
    "    print(f\"\\n\\033[1mIteration {i+1} is running! k = {hidden_size}\\033[0m\")\n",
    "    results.append(test_2d_integration(h, ej, disco_2d, disco_1d_float, a_, b_, func_name, logplot=False))\n",
    "    results.append(test_2d_integration(h, ej, disco_2d, disco_1d_float, a_, b_, func_name, logplot=False))\n",
    "    results.append(test_2d_integration(h, ej, disco_2d, disco_1d_float, a_, b_, func_name, logplot=False))\n",
    "\n",
    "print(h, ej, u, c)\n",
    "\n",
    "plot_test_results(results)\n",
    "\n",
    "all_results.append(results)"
   ],
   "outputs": [],
   "execution_count": null
  },
  {
   "cell_type": "markdown",
   "id": "b136d52a-dfa3-4897-b71c-8f47153c20f0",
   "metadata": {},
   "source": [
    "# Calculation of MAEs for the research"
   ]
  },
  {
   "cell_type": "code",
   "id": "49812229-011e-41cf-b032-14289cee04fb",
   "metadata": {},
   "source": [
    "all_maes = []\n",
    "\n",
    "for results in all_results:\n",
    "    results_list = []\n",
    "    chunk_size = 3\n",
    "    for i in range(0, len(results), chunk_size):\n",
    "        results_list.append(results[i:i + chunk_size])\n",
    "    maes = [calculate_mae(results) for results in results_list]\n",
    "    all_maes.append(maes)"
   ],
   "outputs": [],
   "execution_count": null
  },
  {
   "cell_type": "code",
   "id": "4c9e3e95-50ae-4ddf-ad54-b4bc482a163d",
   "metadata": {},
   "source": [
    "for maes in all_maes:\n",
    "    for i, mae in enumerate(maes, start=1):\n",
    "        print(f\"{mae:.8f}\")\n",
    "    print('\\n')"
   ],
   "outputs": [],
   "execution_count": null
  },
  {
   "cell_type": "code",
   "id": "f4f85e2b-0461-4954-b8d6-0d0c8c7018ec",
   "metadata": {},
   "source": [
    "save_data(all_results, filename=\"cucumbers/all-rests.pkl\")\n",
    "loaded_data = load_data(filename=\"cucumbers/all-rests.pkl\")\n",
    "\n",
    "loaded_data == all_results"
   ],
   "outputs": [],
   "execution_count": null
  },
  {
   "cell_type": "code",
   "id": "548fe5c7-54f6-4c0f-9f43-4a9d4e63dd40",
   "metadata": {},
   "source": [
    "save_data(all_maes, filename=\"cucumbers/all-maes.pkl\")\n",
    "loaded_data = load_data(filename=\"cucumbers/all-maes.pkl\")\n",
    "\n",
    "loaded_data == all_maes"
   ],
   "outputs": [],
   "execution_count": null
  }
 ],
 "metadata": {
  "kernelspec": {
   "display_name": "Python 3 (ipykernel)",
   "language": "python",
   "name": "python3"
  },
  "language_info": {
   "codemirror_mode": {
    "name": "ipython",
    "version": 3
   },
   "file_extension": ".py",
   "mimetype": "text/x-python",
   "name": "python",
   "nbconvert_exporter": "python",
   "pygments_lexer": "ipython3",
   "version": "3.11.5"
  }
 },
 "nbformat": 4,
 "nbformat_minor": 5
}
