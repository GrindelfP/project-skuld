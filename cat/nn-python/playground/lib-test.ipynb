{
 "cells": [
  {
   "cell_type": "code",
   "execution_count": 94,
   "id": "414abe70-b4ec-4aa4-9398-593c9264edf6",
   "metadata": {},
   "outputs": [],
   "source": [
    "import torch\n",
    "import torch.nn as nn\n",
    "import torch.optim as optim\n",
    "from torchsummary import summary\n",
    "import numpy as np\n",
    "from mpmath import polylog\n",
    "from sklearn.model_selection import train_test_split\n",
    "import scipy.integrate\n",
    "from mpl_toolkits.mplot3d import Axes3D\n",
    "from scipy.interpolate import griddata\n",
    "import matplotlib.pyplot as plt\n",
    "import math\n",
    "import random\n",
    "from sklearn.model_selection import train_test_split\n",
    "import time\n",
    "import itertools\n",
    "from sklearn.preprocessing import MinMaxScaler\n",
    "\n",
    "\n",
    "class MLP(nn.Module):\n",
    "    \"\"\"\n",
    "        Class defining neural network approximator for the integrand.\n",
    "    \"\"\"\n",
    "\n",
    "    def __init__(self, input_size, hidden_size):\n",
    "        \"\"\"\n",
    "            Main constructor.\n",
    "\n",
    "            :param input_size: input layer size (number of integrand dimensions)\n",
    "            :param hidden_size: hidden layer size (arbitrary value, which would be chosen when training the network)\n",
    "        \"\"\"\n",
    "        super(MLP, self).__init__()\n",
    "        self.input_size = input_size\n",
    "        self.input_hidden_layer = nn.Linear(input_size, hidden_size)  # initialisation of input->hidden layers structure\n",
    "        self.sigmoid_activation = nn.Sigmoid()  # hidden layer activation function\n",
    "        self.output_layer = nn.Linear(hidden_size, 1)  # output layer initialisation (always size 1)\n",
    "\n",
    "    def forward(self, x):\n",
    "        \"\"\"\n",
    "            Forward propagation of the data through the network.\n",
    "\n",
    "            :param x:    the data to be propagated\n",
    "\n",
    "            :returns: data after the forward propagation\n",
    "        \"\"\"\n",
    "        x = self.input_hidden_layer(x)  # input->hidden propagation\n",
    "        x = self.sigmoid_activation(x)  # sigmoid activation function applied\n",
    "        x = self.output_layer(x)  # hidden->output propagation\n",
    "\n",
    "        return x\n",
    "\n",
    "\n",
    "def train(model, criterion, optimizer, x_train, y_train, epochs, verbose=True):\n",
    "    \"\"\"\n",
    "        Trains the model.\n",
    "\n",
    "        :param model:      The model to be trained\n",
    "        :param criterion:  Loss function\n",
    "        :param optimizer:  Optimization algorithm\n",
    "        :param x_train:    Training inputs\n",
    "        :param y_train:    True labels\n",
    "        :param epochs:     Number of training epochs\n",
    "        :param verbose:    Boolean depicting whether should the network print each 100 epochs done message,\n",
    "                           or only the completion message.\n",
    "\n",
    "        :returns: loss functions history\n",
    "    \"\"\"\n",
    "    loss_history = []\n",
    "    start_time = time.time()\n",
    "    for epoch in range(epochs):\n",
    "        predictions = model(x_train)  # forward propagation of all the data\n",
    "        loss = criterion(predictions, y_train)  # loss function calculation\n",
    "\n",
    "        optimizer.zero_grad()  # gradients are being reset\n",
    "        loss.backward()  # backwards data propagation\n",
    "        optimizer.step()  # optimization step (network params are being updated)\n",
    "\n",
    "        loss_history.append(loss.item())  # current loss function added to history\n",
    "\n",
    "        # hereon the logs are being printed\n",
    "        if verbose:\n",
    "            if (epoch + 1) % 100 == 0:\n",
    "                print(f'Epoch [{epoch + 1}/{epochs}], Loss: {loss.item():.10f}')\n",
    "    total_time = time.time() - start_time\n",
    "    print(f'Training done! Time elapsed: {total_time:.2f} seconds')\n",
    "\n",
    "    return loss_history  # loss history is returned\n",
    "\n",
    "\n",
    "def test(model, criterion, x_test, y_test):\n",
    "    \"\"\"\n",
    "        Tests the model.\n",
    "\n",
    "        :param model:     The trained model\n",
    "        :param criterion: Loss function\n",
    "        :param x_test:    Test inputs\n",
    "        :param y_test:    True labels\n",
    "\n",
    "        :returns: test loss function value\n",
    "    \"\"\"\n",
    "    with torch.no_grad():  # no gradients will be calculated\n",
    "        predictions = model(x_test)  # forward data propagation\n",
    "        loss = criterion(predictions, y_test)  # loss function for the test data\n",
    "\n",
    "    return loss.item()  # loss function value (item() required to convert tensor to scalar)\n",
    "\n",
    "\n",
    "def predict_with(model, x_test):\n",
    "    \"\"\"\n",
    "        Uses the model to predict values based on x_test arguments.\n",
    "\n",
    "        :param model:  the trained model\n",
    "        :param x_test: test inputs\n",
    "\n",
    "        :returns: predicted function value\n",
    "    \"\"\"\n",
    "    with torch.no_grad():\n",
    "        prediction = model(x_test)  # forward data propagation\n",
    "\n",
    "    return prediction\n",
    "\n",
    "\n",
    "def extract_params(model):\n",
    "    \"\"\"\n",
    "        Extracts weights and biases from the network.\n",
    "\n",
    "        :param model: the trained model\n",
    "\n",
    "        :returns: tuple of 4 numpy.ndarray-s with biases1, weights1, biases2 and weights2\n",
    "                  (number represents 1 - input->hidden layers params, 2 - hidden->output layers params)\n",
    "    \"\"\"\n",
    "\n",
    "    b1 = model.input_hidden_layer.bias.detach().numpy()\n",
    "    w1 = model.input_hidden_layer.weight.detach().numpy()\n",
    "    b2 = model.output_layer.bias.detach().numpy()\n",
    "    w2 = model.output_layer.weight.detach().numpy().flatten()\n",
    "\n",
    "    return b1, w1, b2, w2\n",
    "\n",
    "\n",
    "class NeuralNumericalIntegration:\n",
    "\n",
    "    @staticmethod\n",
    "    def calculate(alphas, betas, network_params, n_dims=1):\n",
    "        \"\"\"\n",
    "            Calculates integrand value using neural network model params\n",
    "            across given boundaries.\n",
    "\n",
    "            :param alphas:         lower boundaries sequence (should be placed in integration order)\n",
    "            :param betas:          upper boundaries sequence (should be placed in integration order)\n",
    "            :param network_params: params for the trained neural network\n",
    "            :param n_dims:          number of integrand dimensions (default value is 1)\n",
    "\n",
    "            :returns: integrand value\n",
    "        \"\"\"\n",
    "\n",
    "        b1, w1, b2, w2 = network_params\n",
    "\n",
    "        def Phi_j(b1_j_, w1_j_):\n",
    "            def xi(r_):\n",
    "                prod_ = 1\n",
    "                for d in range(1, n_dims + 1):\n",
    "                    prod_ *= (-1) ** (r_ / (2 ** (n_dims - d)))\n",
    "\n",
    "                return prod_\n",
    "\n",
    "            def l(i_, r_):\n",
    "                if (r_ / (2 ** (n_dims - (i_ + 1)))) % 2 == 0:\n",
    "                    return alphas[i_]\n",
    "                else:\n",
    "                    return betas[i_]\n",
    "\n",
    "            Phi_sum = 0\n",
    "\n",
    "            for r in range(1, (2 ** n_dims) + 1):\n",
    "                sum_ = 0\n",
    "                for i in range(n_dims):\n",
    "                    sum_ += w1_j_[i] * l(i, r)\n",
    "                Phi_sum += xi(r) * polylog(n_dims, -np.exp(-b1_j_ - sum_))\n",
    "\n",
    "            return Phi_sum\n",
    "\n",
    "        integral_sum = 0\n",
    "\n",
    "        prod_bound = 1\n",
    "        for i in range(n_dims):\n",
    "            prod_bound *= betas[i] - alphas[i]\n",
    "\n",
    "        for w2_j, w1_j, b1_j in zip(w2, w1, b1):\n",
    "\n",
    "            Phi_j_ = Phi_j(b1_j, w1_j)\n",
    "            prod_w = 1\n",
    "            for i in range(n_dims):\n",
    "                prod_w *= w1_j[i]\n",
    "\n",
    "            integral_sum += w2_j * (prod_bound + Phi_j_ / prod_w)\n",
    "\n",
    "        return float((b2 * prod_bound + integral_sum)[0])\n",
    "\n",
    "    \n",
    "    @staticmethod\n",
    "    def integrate(model, alphas, betas, n_dims=1):\n",
    "        \"\"\"\n",
    "            Integrates function-approximator (model) of n-dim dimensions over given boundaries.\n",
    "\n",
    "            :param model: the trained model-approximator\n",
    "            :param alphas: lower boundaries sequence (should be placed in integration order)\n",
    "            :param betas:  upper boundaries sequence (should be placed in integration order)\n",
    "            :param n_dims: number of integrand dimensions (default value is 1)\n",
    "\n",
    "            :returns: neural numeric integration result\n",
    "        \"\"\"\n",
    "        network_params = extract_params(model)\n",
    "\n",
    "        return NeuralNumericalIntegration.calculate(alphas, betas, network_params, n_dims)\n",
    "\n",
    "\n",
    "def generate_data(func, lower, upper, n_samples=100, n_dim=1):\n",
    "    \"\"\"\n",
    "        Generates data in the form of a 2D tensor of variables for the function and neural network input\n",
    "        as well as the function values for the generated tensor of variables.\n",
    "\n",
    "        :param func:     function to provide values for the variables\n",
    "        :param lower:    lower bounds of variable values\n",
    "        :param upper:    upper bounds of variable values\n",
    "        :param n_samples: number of points of data to generate per dimension (default value is 100)\n",
    "        :param n_dim:     number of dimensions of the function func (default value is 1)\n",
    "\n",
    "        :returns: dataset of variables X and function values y\n",
    "    \"\"\"\n",
    "    X, y = None, None\n",
    "    if n_dim == 1:\n",
    "        X = torch.linspace(lower[0], upper[0], n_samples).view(n_samples, 1)\n",
    "        y = func(X).view(n_samples, 1)\n",
    "    else:\n",
    "        ranges = [torch.linspace(lower[n], upper[n], n_samples).tolist() for n in range(n_dim)]\n",
    "        combinations = list(itertools.product(*ranges))\n",
    "        X = torch.tensor(combinations, dtype=torch.float32)\n",
    "        y = func(X).view(-1, 1)\n",
    "\n",
    "    return X, y\n"
   ]
  },
  {
   "cell_type": "markdown",
   "id": "c055facd-ddf2-4b93-88cb-8708b4431624",
   "metadata": {},
   "source": [
    "# Hyperparams"
   ]
  },
  {
   "cell_type": "code",
   "execution_count": 95,
   "id": "cd931d66-32e9-43f6-8cfc-2a6e5106c3f0",
   "metadata": {},
   "outputs": [],
   "source": [
    "input_size = 1\n",
    "hidden_size = 100\n",
    "learning_rate = 0.001\n",
    "num_epochs = 5000\n",
    "\n",
    "a = [0.0]\n",
    "b = [1.0]"
   ]
  },
  {
   "cell_type": "markdown",
   "id": "c25ac61a-bdaf-4c88-acb4-e1b4a8a8e773",
   "metadata": {},
   "source": [
    "# Oscillatory 1D: Example"
   ]
  },
  {
   "cell_type": "code",
   "execution_count": 96,
   "id": "534dc688-8be3-4aa0-9f2c-7ffd9b99900f",
   "metadata": {},
   "outputs": [],
   "source": [
    "u = 1\n",
    "c = 1"
   ]
  },
  {
   "cell_type": "code",
   "execution_count": 97,
   "id": "1fec3dcc-c004-45a9-8e53-06b5c48284dc",
   "metadata": {},
   "outputs": [],
   "source": [
    "def osc_1d(X):\n",
    "    return torch.cos(2 * math.pi * u + X * c)\n",
    "\n",
    "def osc_1d_float(X):\n",
    "    return math.cos(2 * math.pi * u + X * c)"
   ]
  },
  {
   "cell_type": "code",
   "execution_count": 98,
   "id": "fbb8517a-89b8-4d76-a8d6-f9a00346ca28",
   "metadata": {},
   "outputs": [],
   "source": [
    "X, y = generate_data(osc_1d, lower=a, upper=b, n_samples=10000, n_dim=1)"
   ]
  },
  {
   "cell_type": "code",
   "execution_count": 99,
   "id": "bbdd9afb-8802-4a1d-8455-b9c940e7647d",
   "metadata": {},
   "outputs": [
    {
     "data": {
      "image/png": "[encoded data removed]",
      "text/plain": [
       "<Figure size 640x480 with 1 Axes>"
      ]
     },
     "metadata": {},
     "output_type": "display_data"
    }
   ],
   "source": [
    "x_np = X[:, 0].numpy()\n",
    "y_np = y.numpy()\n",
    "plt.plot(x_np, y_np)\n",
    "plt.xlabel('x')\n",
    "plt.ylabel('y')\n",
    "plt.title('Oscillatory 1D')\n",
    "plt.grid(True)\n",
    "plt.show()"
   ]
  },
  {
   "cell_type": "code",
   "execution_count": 100,
   "id": "0080b01c-34e5-4d4b-b526-6f78fd3b73d6",
   "metadata": {},
   "outputs": [],
   "source": [
    "x_train, x_test, y_train, y_test = train_test_split(X, y, test_size=0.1)"
   ]
  },
  {
   "cell_type": "markdown",
   "id": "b55d2524-8862-407f-a0d4-6d52a66be502",
   "metadata": {},
   "source": [
    "## Model"
   ]
  },
  {
   "cell_type": "markdown",
   "id": "b91b13b7-3681-4018-89c7-b83defc73992",
   "metadata": {},
   "source": [
    "### Hyperparams for the NN model"
   ]
  },
  {
   "cell_type": "code",
   "execution_count": 101,
   "id": "5845b4f7-b52d-443c-a1a3-a3a48819cda0",
   "metadata": {},
   "outputs": [],
   "source": [
    "input_size = 1\n",
    "hidden_size = 10\n",
    "learning_rate = 0.001\n",
    "num_epochs = 5000"
   ]
  },
  {
   "cell_type": "markdown",
   "id": "c45b23ff-be81-4e2c-97c5-bece7432f065",
   "metadata": {},
   "source": [
    "### Model definition, compilation and training"
   ]
  },
  {
   "cell_type": "code",
   "execution_count": 102,
   "id": "5fd6b410-85b2-4603-93f7-61be653334dc",
   "metadata": {
    "scrolled": true
   },
   "outputs": [
    {
     "name": "stdout",
     "output_type": "stream",
     "text": [
      "Epoch [100/5000], Loss: 0.0159546658\n",
      "Epoch [200/5000], Loss: 0.0121450350\n",
      "Epoch [300/5000], Loss: 0.0087474082\n",
      "Epoch [400/5000], Loss: 0.0059273774\n",
      "Epoch [500/5000], Loss: 0.0038177685\n",
      "Epoch [600/5000], Loss: 0.0024477276\n",
      "Epoch [700/5000], Loss: 0.0016991379\n",
      "Epoch [800/5000], Loss: 0.0013599657\n",
      "Epoch [900/5000], Loss: 0.0012302031\n",
      "Epoch [1000/5000], Loss: 0.0011841359\n",
      "Epoch [1100/5000], Loss: 0.0011645677\n",
      "Epoch [1200/5000], Loss: 0.0011516276\n",
      "Epoch [1300/5000], Loss: 0.0011398500\n",
      "Epoch [1400/5000], Loss: 0.0011280356\n",
      "Epoch [1500/5000], Loss: 0.0011159980\n",
      "Epoch [1600/5000], Loss: 0.0011037403\n",
      "Epoch [1700/5000], Loss: 0.0010912893\n",
      "Epoch [1800/5000], Loss: 0.0010786684\n",
      "Epoch [1900/5000], Loss: 0.0010658933\n",
      "Epoch [2000/5000], Loss: 0.0010529726\n",
      "Epoch [2100/5000], Loss: 0.0010399063\n",
      "Epoch [2200/5000], Loss: 0.0010266881\n",
      "Epoch [2300/5000], Loss: 0.0010133034\n",
      "Epoch [2400/5000], Loss: 0.0009997298\n",
      "Epoch [2500/5000], Loss: 0.0009859382\n",
      "Epoch [2600/5000], Loss: 0.0009718923\n",
      "Epoch [2700/5000], Loss: 0.0009575477\n",
      "Epoch [2800/5000], Loss: 0.0009428530\n",
      "Epoch [2900/5000], Loss: 0.0009277483\n",
      "Epoch [3000/5000], Loss: 0.0009121664\n",
      "Epoch [3100/5000], Loss: 0.0008960300\n",
      "Epoch [3200/5000], Loss: 0.0008792523\n",
      "Epoch [3300/5000], Loss: 0.0008617354\n",
      "Epoch [3400/5000], Loss: 0.0008433699\n",
      "Epoch [3500/5000], Loss: 0.0008240331\n",
      "Epoch [3600/5000], Loss: 0.0008035880\n",
      "Epoch [3700/5000], Loss: 0.0007818836\n",
      "Epoch [3800/5000], Loss: 0.0007587550\n",
      "Epoch [3900/5000], Loss: 0.0007340209\n",
      "Epoch [4000/5000], Loss: 0.0007074942\n",
      "Epoch [4100/5000], Loss: 0.0006789805\n",
      "Epoch [4200/5000], Loss: 0.0006482935\n",
      "Epoch [4300/5000], Loss: 0.0006152671\n",
      "Epoch [4400/5000], Loss: 0.0005797843\n",
      "Epoch [4500/5000], Loss: 0.0005417985\n",
      "Epoch [4600/5000], Loss: 0.0005013753\n",
      "Epoch [4700/5000], Loss: 0.0004587290\n",
      "Epoch [4800/5000], Loss: 0.0004142518\n",
      "Epoch [4900/5000], Loss: 0.0003685423\n",
      "Epoch [5000/5000], Loss: 0.0003223957\n",
      "Training done! Time elapsed: 5.86 seconds\n"
     ]
    }
   ],
   "source": [
    "model = MLP(input_size, hidden_size)\n",
    "criterion = nn.MSELoss()\n",
    "optimizer = optim.Adam(model.parameters(), lr=learning_rate)\n",
    "train_history = train(model, criterion, optimizer, x_train, y_train, num_epochs)"
   ]
  },
  {
   "cell_type": "code",
   "execution_count": 103,
   "id": "521668a0-1ced-4b3d-8d96-eec48a051c18",
   "metadata": {},
   "outputs": [
    {
     "name": "stdout",
     "output_type": "stream",
     "text": [
      "----------------------------------------------------------------\n",
      "        Layer (type)               Output Shape         Param #\n",
      "================================================================\n",
      "            Linear-1                   [-1, 10]              20\n",
      "           Sigmoid-2                   [-1, 10]               0\n",
      "            Linear-3                    [-1, 1]              11\n",
      "================================================================\n",
      "Total params: 31\n",
      "Trainable params: 31\n",
      "Non-trainable params: 0\n",
      "----------------------------------------------------------------\n",
      "Input size (MB): 0.00\n",
      "Forward/backward pass size (MB): 0.00\n",
      "Params size (MB): 0.00\n",
      "Estimated Total Size (MB): 0.00\n",
      "----------------------------------------------------------------\n"
     ]
    }
   ],
   "source": [
    "summary(model, (input_size,)) # (input_size, ) - input shape"
   ]
  },
  {
   "cell_type": "code",
   "execution_count": 104,
   "id": "bb54dc09-d01d-4198-a8ea-5f8e7b872a1d",
   "metadata": {},
   "outputs": [
    {
     "data": {
      "image/png": "[encoded data removed]",
      "text/plain": [
       "<Figure size 1000x600 with 1 Axes>"
      ]
     },
     "metadata": {},
     "output_type": "display_data"
    }
   ],
   "source": [
    "plt.figure(figsize=(10, 6))\n",
    "plt.plot(train_history, label='MSE', color='b')\n",
    "plt.xlabel('Epochs')\n",
    "plt.ylabel('MSE')\n",
    "plt.title('Learning curve for Oscillatory 1D')\n",
    "plt.legend()\n",
    "plt.grid(False)\n",
    "plt.show()"
   ]
  },
  {
   "cell_type": "markdown",
   "id": "52b5f72c-d592-4e5f-8ce8-35827518bd60",
   "metadata": {},
   "source": [
    "### Model testing"
   ]
  },
  {
   "cell_type": "code",
   "execution_count": 105,
   "id": "f7913411-fa0b-4624-a8c7-9aeda5a4a1ab",
   "metadata": {},
   "outputs": [
    {
     "name": "stdout",
     "output_type": "stream",
     "text": [
      "Test Loss: 0.0003188781\n"
     ]
    }
   ],
   "source": [
    "test_loss = test(model, criterion, x_test, y_test)\n",
    "print(f\"Test Loss: {test_loss:.10f}\")"
   ]
  },
  {
   "cell_type": "code",
   "execution_count": 106,
   "id": "1a7936ba-0706-4acb-a8d9-b4d1f76b41f6",
   "metadata": {},
   "outputs": [
    {
     "data": {
      "text/plain": [
       "0.841538791324585"
      ]
     },
     "execution_count": 106,
     "metadata": {},
     "output_type": "execute_result"
    }
   ],
   "source": [
    "nni = NeuralNumericalIntegration.integrate(model, a, b, n_dims=1)\n",
    "nni"
   ]
  },
  {
   "cell_type": "code",
   "execution_count": 107,
   "id": "319f6adf-3eb9-4db5-a5da-2e658e10c759",
   "metadata": {},
   "outputs": [
    {
     "name": "stdout",
     "output_type": "stream",
     "text": [
      "Integral: 0.8414709848078966\n",
      "Error: 9.342204618877322e-15\n"
     ]
    }
   ],
   "source": [
    "result, error = scipy.integrate.quad(osc_1d_float, a[0], b[0])\n",
    "\n",
    "print(\"Integral:\", result)\n",
    "print(\"Error:\", error)"
   ]
  },
  {
   "cell_type": "code",
   "execution_count": 108,
   "id": "82d9c2c1-1221-4f93-84e2-e426290c2dc1",
   "metadata": {},
   "outputs": [
    {
     "data": {
      "text/plain": [
       "6.780651668836235e-05"
      ]
     },
     "execution_count": 108,
     "metadata": {},
     "output_type": "execute_result"
    }
   ],
   "source": [
    "abs(nni - result)"
   ]
  },
  {
   "cell_type": "code",
   "execution_count": 156,
   "id": "7fce0e4c-52e7-485c-888e-698caae49a8d",
   "metadata": {},
   "outputs": [],
   "source": [
    "def scale_data(X_init, y_init, frange=(0, 1), n_dim=2):\n",
    "    X, y = [], []\n",
    "    for i in range(n_dim):\n",
    "        xi_list = []\n",
    "        for j in range(len(X_init[i])):\n",
    "            xi = (frange[1] - frange[0]) / (max(X_init[i]) - min(X_init[i])) * (X_init[i][j] - min(X_init[i])) + frange[0]\n",
    "            xi_list.append(xi)\n",
    "        X.append(xi_list)\n",
    "\n",
    "    for i in range(len(y_init)):\n",
    "        y_i = (frange[1] - frange[0]) / (max(y_init) - min(y_init)) * (y_init[i] - min(y_init)) + frange[0]\n",
    "        y.append(y_i)\n",
    "        \n",
    "    return torch.tensor(X), torch.tensor(y)"
   ]
  },
  {
   "cell_type": "code",
   "execution_count": 169,
   "id": "76c411b8-f48e-4be1-b8e9-a6471aef1d18",
   "metadata": {},
   "outputs": [
    {
     "data": {
      "text/plain": [
       "([[0, 1, 2, 3, 4, 5, 6, 7, 8, 9], [0, 2, 4, 6, 8, 10, 12, 14, 16, 18]],\n",
       " [0, 5, 20, 45, 80, 125, 180, 245, 320, 405])"
      ]
     },
     "execution_count": 169,
     "metadata": {},
     "output_type": "execute_result"
    }
   ],
   "source": [
    "X_init, y_init = [], []\n",
    "X_i, X_i2 = [], []\n",
    "\n",
    "for i in range(10):\n",
    "    X_i.append(i)\n",
    "    X_i2.append(i * 2)\n",
    "    y_init.append(i*i + (i * 2) ** 2)\n",
    "X_init.append(X_i)\n",
    "X_init.append(X_i2)\n",
    "\n",
    "X_init, y_init"
   ]
  },
  {
   "cell_type": "code",
   "execution_count": 170,
   "id": "aff40fcc-6581-4e93-8332-82ce6617e49f",
   "metadata": {},
   "outputs": [
    {
     "data": {
      "text/plain": [
       "(tensor([[0.0000, 0.1111, 0.2222, 0.3333, 0.4444, 0.5556, 0.6667, 0.7778, 0.8889,\n",
       "          1.0000],\n",
       "         [0.0000, 0.1111, 0.2222, 0.3333, 0.4444, 0.5556, 0.6667, 0.7778, 0.8889,\n",
       "          1.0000]]),\n",
       " tensor([0.0000, 0.0123, 0.0494, 0.1111, 0.1975, 0.3086, 0.4444, 0.6049, 0.7901,\n",
       "         1.0000]))"
      ]
     },
     "execution_count": 170,
     "metadata": {},
     "output_type": "execute_result"
    }
   ],
   "source": [
    "X, y = scale_data(X_init, y_init, n_dim=2)\n",
    "X, y"
   ]
  },
  {
   "cell_type": "code",
   "execution_count": 172,
   "id": "0c44353c-8765-4953-ab54-126441518344",
   "metadata": {},
   "outputs": [
    {
     "data": {
      "image/png": "[encoded data removed]",
      "text/plain": [
       "<Figure size 640x480 with 1 Axes>"
      ]
     },
     "metadata": {},
     "output_type": "display_data"
    }
   ],
   "source": [
    "x_np = X_init[1]\n",
    "y_np = y_init\n",
    "plt.plot(x_np, y_np)\n",
    "plt.xlabel('x')\n",
    "plt.ylabel('y')\n",
    "plt.title(\"Oscillatory 1D\")\n",
    "plt.grid(True)\n",
    "plt.show()"
   ]
  },
  {
   "cell_type": "code",
   "execution_count": 174,
   "id": "4434ef60-e5eb-4c68-9f7d-cc42941b8137",
   "metadata": {},
   "outputs": [
    {
     "data": {
      "image/png": "[encoded data removed]",
      "text/plain": [
       "<Figure size 640x480 with 1 Axes>"
      ]
     },
     "metadata": {},
     "output_type": "display_data"
    }
   ],
   "source": [
    "x_np = X[1].numpy()\n",
    "y_np = y.numpy()\n",
    "plt.plot(x_np, y_np)\n",
    "plt.xlabel('x')\n",
    "plt.ylabel('y')\n",
    "plt.title(\"Oscillatory 1D\")\n",
    "plt.grid(True)\n",
    "plt.show()"
   ]
  },
  {
   "cell_type": "code",
   "execution_count": null,
   "id": "7a69d751-8a11-4035-9b5d-c009f2d8ac98",
   "metadata": {},
   "outputs": [],
   "source": []
  }
 ],
 "metadata": {
  "kernelspec": {
   "display_name": "Python 3 (ipykernel)",
   "language": "python",
   "name": "python3"
  },
  "language_info": {
   "codemirror_mode": {
    "name": "ipython",
    "version": 3
   },
   "file_extension": ".py",
   "mimetype": "text/x-python",
   "name": "python",
   "nbconvert_exporter": "python",
   "pygments_lexer": "ipython3",
   "version": "3.11.5"
  }
 },
 "nbformat": 4,
 "nbformat_minor": 5
}
