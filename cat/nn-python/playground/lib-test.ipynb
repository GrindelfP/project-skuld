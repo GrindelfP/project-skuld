{
 "cells": [
  {
   "cell_type": "code",
   "execution_count": 1,
   "id": "414abe70-b4ec-4aa4-9398-593c9264edf6",
   "metadata": {},
   "outputs": [],
   "source": [
    "import torch\n",
    "import torch.nn as nn\n",
    "import torch.optim as optim\n",
    "from torchsummary import summary\n",
    "import numpy as np\n",
    "from mpmath import polylog\n",
    "from sklearn.model_selection import train_test_split\n",
    "import scipy.integrate\n",
    "from mpl_toolkits.mplot3d import Axes3D\n",
    "from scipy.interpolate import griddata\n",
    "import matplotlib.pyplot as plt\n",
    "import math\n",
    "import random\n",
    "from sklearn.model_selection import train_test_split\n",
    "import time\n",
    "import itertools\n",
    "from sklearn.preprocessing import MinMaxScaler\n",
    "\n",
    "\n",
    "class MLP(nn.Module):\n",
    "    \"\"\"\n",
    "        Class defining neural network approximator for the integrand.\n",
    "    \"\"\"\n",
    "\n",
    "    def __init__(self, input_size, hidden_size):\n",
    "        \"\"\"\n",
    "            Main constructor.\n",
    "\n",
    "            :param input_size: input layer size (number of integrand dimensions)\n",
    "            :param hidden_size: hidden layer size (arbitrary value, which would be chosen when training the network)\n",
    "        \"\"\"\n",
    "        super(MLP, self).__init__()\n",
    "        self.input_size = input_size\n",
    "        self.input_hidden_layer = nn.Linear(input_size, hidden_size)  # initialisation of input->hidden layers structure\n",
    "        self.sigmoid_activation = nn.Sigmoid()  # hidden layer activation function\n",
    "        self.output_layer = nn.Linear(hidden_size, 1)  # output layer initialisation (always size 1)\n",
    "\n",
    "    def forward(self, x):\n",
    "        \"\"\"\n",
    "            Forward propagation of the data through the network.\n",
    "\n",
    "            :param x:    the data to be propagated\n",
    "\n",
    "            :returns: data after the forward propagation\n",
    "        \"\"\"\n",
    "        x = self.input_hidden_layer(x)  # input->hidden propagation\n",
    "        x = self.sigmoid_activation(x)  # sigmoid activation function applied\n",
    "        x = self.output_layer(x)  # hidden->output propagation\n",
    "\n",
    "        return x\n",
    "\n",
    "\n",
    "def train(model, criterion, optimizer, x_train, y_train, epochs, verbose=True):\n",
    "    \"\"\"\n",
    "        Trains the model.\n",
    "\n",
    "        :param model:      The model to be trained\n",
    "        :param criterion:  Loss function\n",
    "        :param optimizer:  Optimization algorithm\n",
    "        :param x_train:    Training inputs\n",
    "        :param y_train:    True labels\n",
    "        :param epochs:     Number of training epochs\n",
    "        :param verbose:    Boolean depicting whether should the network print each 100 epochs done message,\n",
    "                           or only the completion message.\n",
    "\n",
    "        :returns: loss functions history\n",
    "    \"\"\"\n",
    "    loss_history = []\n",
    "    start_time = time.time()\n",
    "    for epoch in range(epochs):\n",
    "        predictions = model(x_train)  # forward propagation of all the data\n",
    "        loss = criterion(predictions, y_train)  # loss function calculation\n",
    "\n",
    "        optimizer.zero_grad()  # gradients are being reset\n",
    "        loss.backward()  # backwards data propagation\n",
    "        optimizer.step()  # optimization step (network params are being updated)\n",
    "\n",
    "        loss_history.append(loss.item())  # current loss function added to history\n",
    "\n",
    "        # hereon the logs are being printed\n",
    "        if verbose:\n",
    "            if (epoch + 1) % 100 == 0:\n",
    "                print(f'Epoch [{epoch + 1}/{epochs}], Loss: {loss.item():.10f}')\n",
    "    total_time = time.time() - start_time\n",
    "    print(f'Training done! Time elapsed: {total_time:.2f} seconds')\n",
    "\n",
    "    return loss_history  # loss history is returned\n",
    "\n",
    "\n",
    "def test(model, criterion, x_test, y_test):\n",
    "    \"\"\"\n",
    "        Tests the model.\n",
    "\n",
    "        :param model:     The trained model\n",
    "        :param criterion: Loss function\n",
    "        :param x_test:    Test inputs\n",
    "        :param y_test:    True labels\n",
    "\n",
    "        :returns: test loss function value\n",
    "    \"\"\"\n",
    "    with torch.no_grad():  # no gradients will be calculated\n",
    "        predictions = model(x_test)  # forward data propagation\n",
    "        loss = criterion(predictions, y_test)  # loss function for the test data\n",
    "\n",
    "    return loss.item()  # loss function value (item() required to convert tensor to scalar)\n",
    "\n",
    "\n",
    "def predict_with(model, x_test):\n",
    "    \"\"\"\n",
    "        Uses the model to predict values based on x_test arguments.\n",
    "\n",
    "        :param model:  the trained model\n",
    "        :param x_test: test inputs\n",
    "\n",
    "        :returns: predicted function value\n",
    "    \"\"\"\n",
    "    with torch.no_grad():\n",
    "        prediction = model(x_test)  # forward data propagation\n",
    "\n",
    "    return prediction\n",
    "\n",
    "\n",
    "def extract_params(model):\n",
    "    \"\"\"\n",
    "        Extracts weights and biases from the network.\n",
    "\n",
    "        :param model: the trained model\n",
    "\n",
    "        :returns: tuple of 4 numpy.ndarray-s with biases1, weights1, biases2 and weights2\n",
    "                  (number represents 1 - input->hidden layers params, 2 - hidden->output layers params)\n",
    "    \"\"\"\n",
    "\n",
    "    b1 = model.input_hidden_layer.bias.detach().numpy()\n",
    "    w1 = model.input_hidden_layer.weight.detach().numpy()\n",
    "    b2 = model.output_layer.bias.detach().numpy()\n",
    "    w2 = model.output_layer.weight.detach().numpy().flatten()\n",
    "\n",
    "    return b1, w1, b2, w2\n",
    "\n",
    "\n",
    "class NeuralNumericalIntegration:\n",
    "\n",
    "    @staticmethod\n",
    "    def calculate(alphas, betas, network_params, n_dims=1):\n",
    "        \"\"\"\n",
    "            Calculates integrand value using neural network model params\n",
    "            across given boundaries.\n",
    "\n",
    "            :param alphas:         lower boundaries sequence (should be placed in integration order)\n",
    "            :param betas:          upper boundaries sequence (should be placed in integration order)\n",
    "            :param network_params: params for the trained neural network\n",
    "            :param n_dims:          number of integrand dimensions (default value is 1)\n",
    "\n",
    "            :returns: integrand value\n",
    "        \"\"\"\n",
    "\n",
    "        b1, w1, b2, w2 = network_params\n",
    "\n",
    "        def Phi_j(b1_j_, w1_j_):\n",
    "            def xi(r_):\n",
    "                prod_ = 1\n",
    "                for d in range(1, n_dims + 1):\n",
    "                    prod_ *= (-1) ** (r_ / (2 ** (n_dims - d)))\n",
    "\n",
    "                return prod_\n",
    "\n",
    "            def l(i_, r_):\n",
    "                if r_ / (2 ** (n_dims - i_ + 1)) % 2 == 0:\n",
    "                    return alphas[i_]\n",
    "                else:\n",
    "                    return betas[i_]\n",
    "\n",
    "            Phi_sum = 0\n",
    "\n",
    "            for r in range(1, 2 ** n_dims + 1):\n",
    "                sum_ = 0\n",
    "                for i in range(n_dims):\n",
    "                    sum_ += w1_j_[i] * l(i, r)\n",
    "                Phi_sum += xi(r) * polylog(n_dims, -np.exp(-b1_j_ - sum_))\n",
    "\n",
    "            return Phi_sum\n",
    "\n",
    "        integral_sum = 0\n",
    "\n",
    "        prod_bound = 1\n",
    "        for i in range(n_dims):\n",
    "            prod_bound *= betas[i] - alphas[i]\n",
    "\n",
    "        for w2_j, w1_j, b1_j in zip(w2, w1, b1):\n",
    "\n",
    "            Phi_j_ = Phi_j(b1_j, w1_j)\n",
    "            prod_w = 1\n",
    "            for i in range(n_dims):\n",
    "                prod_w *= w1_j[i]\n",
    "\n",
    "            integral_sum += w2_j * (prod_bound + Phi_j_ / prod_w)\n",
    "\n",
    "        return float((b2 * prod_bound + integral_sum)[0])\n",
    "\n",
    "    @staticmethod\n",
    "    def integrate(model, alphas, betas, n_dims=1):\n",
    "        \"\"\"\n",
    "            Integrates function-approximator (model) of n-dim dimensions over given boundaries.\n",
    "\n",
    "            :model: the trained model-approximator\n",
    "            :param alphas: lower boundaries sequence (should be placed in integration order)\n",
    "            :param betas:  upper boundaries sequence (should be placed in integration order)\n",
    "            :param n_dims: number of integrand dimensions (default value is 1)\n",
    "\n",
    "            :returns: neural numeric integration result\n",
    "        \"\"\"\n",
    "        network_params = MLP.extract_params(model)\n",
    "\n",
    "        return NeuralNumericalIntegration.calculate(alphas, betas, network_params, n_dims)"
   ]
  },
  {
   "cell_type": "markdown",
   "id": "c055facd-ddf2-4b93-88cb-8708b4431624",
   "metadata": {},
   "source": [
    "# Hyperparams"
   ]
  },
  {
   "cell_type": "code",
   "execution_count": 2,
   "id": "cd931d66-32e9-43f6-8cfc-2a6e5106c3f0",
   "metadata": {},
   "outputs": [],
   "source": [
    "input_size = 1\n",
    "hidden_size = 100\n",
    "learning_rate = 0.001\n",
    "num_epochs = 5000\n",
    "\n",
    "a = 0.0\n",
    "b = 1.0"
   ]
  },
  {
   "cell_type": "markdown",
   "id": "c25ac61a-bdaf-4c88-acb4-e1b4a8a8e773",
   "metadata": {},
   "source": [
    "# Oscillatory 1D: Example"
   ]
  },
  {
   "cell_type": "code",
   "execution_count": 3,
   "id": "1fec3dcc-c004-45a9-8e53-06b5c48284dc",
   "metadata": {},
   "outputs": [],
   "source": [
    "def osc_1d(X):\n",
    "    return torch.cos(2 * math.pi * u + X * c)\n",
    "\n",
    "def osc_1d_float(X):\n",
    "    return math.cos(2 * math.pi * u + X * c)"
   ]
  },
  {
   "cell_type": "code",
   "execution_count": 4,
   "id": "534dc688-8be3-4aa0-9f2c-7ffd9b99900f",
   "metadata": {},
   "outputs": [],
   "source": [
    "u = random.uniform(0, 1)\n",
    "cs = random.uniform(0, 1)\n",
    "c = cs"
   ]
  },
  {
   "cell_type": "code",
   "execution_count": 5,
   "id": "fbb8517a-89b8-4d76-a8d6-f9a00346ca28",
   "metadata": {},
   "outputs": [
    {
     "ename": "NameError",
     "evalue": "name 'generate_data' is not defined",
     "output_type": "error",
     "traceback": [
      "\u001b[0;31m---------------------------------------------------------------------------\u001b[0m",
      "\u001b[0;31mNameError\u001b[0m                                 Traceback (most recent call last)",
      "Cell \u001b[0;32mIn[5], line 1\u001b[0m\n\u001b[0;32m----> 1\u001b[0m X, y \u001b[38;5;241m=\u001b[39m \u001b[43mgenerate_data\u001b[49m(osc_1d, params\u001b[38;5;241m=\u001b[39m[u,c], lower\u001b[38;5;241m=\u001b[39m[\u001b[38;5;241m0.0\u001b[39m], upper\u001b[38;5;241m=\u001b[39m[\u001b[38;5;241m1.0\u001b[39m], n_samples\u001b[38;5;241m=\u001b[39m\u001b[38;5;241m10000\u001b[39m, n_dim\u001b[38;5;241m=\u001b[39m\u001b[38;5;241m1\u001b[39m)\n",
      "\u001b[0;31mNameError\u001b[0m: name 'generate_data' is not defined"
     ]
    }
   ],
   "source": [
    "X, y = generate_data(osc_1d, params=[u,c], lower=[0.0], upper=[1.0], n_samples=10000, n_dim=1)"
   ]
  },
  {
   "cell_type": "code",
   "execution_count": 6,
   "id": "bbdd9afb-8802-4a1d-8455-b9c940e7647d",
   "metadata": {},
   "outputs": [
    {
     "ename": "NameError",
     "evalue": "name 'X' is not defined",
     "output_type": "error",
     "traceback": [
      "\u001b[0;31m---------------------------------------------------------------------------\u001b[0m",
      "\u001b[0;31mNameError\u001b[0m                                 Traceback (most recent call last)",
      "Cell \u001b[0;32mIn[6], line 1\u001b[0m\n\u001b[0;32m----> 1\u001b[0m x_np \u001b[38;5;241m=\u001b[39m \u001b[43mX\u001b[49m[:, \u001b[38;5;241m0\u001b[39m]\u001b[38;5;241m.\u001b[39mnumpy()\n\u001b[1;32m      2\u001b[0m y_np \u001b[38;5;241m=\u001b[39m y\u001b[38;5;241m.\u001b[39mnumpy()\n\u001b[1;32m      3\u001b[0m plt\u001b[38;5;241m.\u001b[39mplot(x_np, y_np)\n",
      "\u001b[0;31mNameError\u001b[0m: name 'X' is not defined"
     ]
    }
   ],
   "source": [
    "x_np = X[:, 0].numpy()\n",
    "y_np = y.numpy()\n",
    "plt.plot(x_np, y_np)\n",
    "plt.xlabel('x')\n",
    "plt.ylabel('y')\n",
    "plt.title('Oscillatory 1D')\n",
    "plt.grid(True)\n",
    "plt.show()"
   ]
  },
  {
   "cell_type": "code",
   "execution_count": 21,
   "id": "0080b01c-34e5-4d4b-b526-6f78fd3b73d6",
   "metadata": {},
   "outputs": [],
   "source": [
    "x_train, x_test, y_train, y_test = train_test_split(X, y, test_size=0.1)"
   ]
  },
  {
   "cell_type": "markdown",
   "id": "b55d2524-8862-407f-a0d4-6d52a66be502",
   "metadata": {},
   "source": [
    "## Model"
   ]
  },
  {
   "cell_type": "markdown",
   "id": "b91b13b7-3681-4018-89c7-b83defc73992",
   "metadata": {},
   "source": [
    "### Hyperparams for the NN model"
   ]
  },
  {
   "cell_type": "code",
   "execution_count": 129,
   "id": "5845b4f7-b52d-443c-a1a3-a3a48819cda0",
   "metadata": {},
   "outputs": [],
   "source": [
    "input_size = 1\n",
    "hidden_size = 10\n",
    "learning_rate = 0.001\n",
    "num_epochs = 5000"
   ]
  },
  {
   "cell_type": "markdown",
   "id": "c45b23ff-be81-4e2c-97c5-bece7432f065",
   "metadata": {},
   "source": [
    "### Model definition, compilation and training"
   ]
  },
  {
   "cell_type": "code",
   "execution_count": 130,
   "id": "5fd6b410-85b2-4603-93f7-61be653334dc",
   "metadata": {
    "scrolled": true
   },
   "outputs": [
    {
     "name": "stdout",
     "output_type": "stream",
     "text": [
      "Epoch [100/5000], Loss: 0.0757163912\n",
      "Epoch [200/5000], Loss: 0.0647155568\n",
      "Epoch [300/5000], Loss: 0.0545887016\n",
      "Epoch [400/5000], Loss: 0.0447357930\n",
      "Epoch [500/5000], Loss: 0.0350361243\n",
      "Epoch [600/5000], Loss: 0.0257063266\n",
      "Epoch [700/5000], Loss: 0.0172666162\n",
      "Epoch [800/5000], Loss: 0.0103747491\n",
      "Epoch [900/5000], Loss: 0.0054799453\n",
      "Epoch [1000/5000], Loss: 0.0025359904\n",
      "Epoch [1100/5000], Loss: 0.0010556624\n",
      "Epoch [1200/5000], Loss: 0.0004324869\n",
      "Epoch [1300/5000], Loss: 0.0002096105\n",
      "Epoch [1400/5000], Loss: 0.0001396118\n",
      "Epoch [1500/5000], Loss: 0.0001185566\n",
      "Epoch [1600/5000], Loss: 0.0001108712\n",
      "Epoch [1700/5000], Loss: 0.0001063045\n",
      "Epoch [1800/5000], Loss: 0.0001023240\n",
      "Epoch [1900/5000], Loss: 0.0000983939\n",
      "Epoch [2000/5000], Loss: 0.0000944251\n",
      "Epoch [2100/5000], Loss: 0.0000904143\n",
      "Epoch [2200/5000], Loss: 0.0000863728\n",
      "Epoch [2300/5000], Loss: 0.0000823140\n",
      "Epoch [2400/5000], Loss: 0.0000782517\n",
      "Epoch [2500/5000], Loss: 0.0000741994\n",
      "Epoch [2600/5000], Loss: 0.0000701707\n",
      "Epoch [2700/5000], Loss: 0.0000661794\n",
      "Epoch [2800/5000], Loss: 0.0000622388\n",
      "Epoch [2900/5000], Loss: 0.0000583618\n",
      "Epoch [3000/5000], Loss: 0.0000545609\n",
      "Epoch [3100/5000], Loss: 0.0000508477\n",
      "Epoch [3200/5000], Loss: 0.0000472341\n",
      "Epoch [3300/5000], Loss: 0.0000437305\n",
      "Epoch [3400/5000], Loss: 0.0000403461\n",
      "Epoch [3500/5000], Loss: 0.0000370897\n",
      "Epoch [3600/5000], Loss: 0.0000339690\n",
      "Epoch [3700/5000], Loss: 0.0000309905\n",
      "Epoch [3800/5000], Loss: 0.0000281595\n",
      "Epoch [3900/5000], Loss: 0.0000254803\n",
      "Epoch [4000/5000], Loss: 0.0000229560\n",
      "Epoch [4100/5000], Loss: 0.0000205881\n",
      "Epoch [4200/5000], Loss: 0.0000183777\n",
      "Epoch [4300/5000], Loss: 0.0000163240\n",
      "Epoch [4400/5000], Loss: 0.0000144256\n",
      "Epoch [4500/5000], Loss: 0.0000126799\n",
      "Epoch [4600/5000], Loss: 0.0000110832\n",
      "Epoch [4700/5000], Loss: 0.0000096309\n",
      "Epoch [4800/5000], Loss: 0.0000083178\n",
      "Epoch [4900/5000], Loss: 0.0000071377\n",
      "Epoch [5000/5000], Loss: 0.0000060838\n",
      "Training done! Time elapsed: 5.77 seconds\n"
     ]
    }
   ],
   "source": [
    "model = MLP(input_size, hidden_size)\n",
    "\n",
    "criterion = nn.MSELoss()\n",
    "optimizer = optim.Adam(model.parameters(), lr=learning_rate)\n",
    "\n",
    "train_history = train_model(model, criterion, optimizer, x_train, y_train, num_epochs)"
   ]
  },
  {
   "cell_type": "code",
   "execution_count": 131,
   "id": "521668a0-1ced-4b3d-8d96-eec48a051c18",
   "metadata": {},
   "outputs": [
    {
     "name": "stdout",
     "output_type": "stream",
     "text": [
      "----------------------------------------------------------------\n",
      "        Layer (type)               Output Shape         Param #\n",
      "================================================================\n",
      "            Linear-1                   [-1, 10]              20\n",
      "           Sigmoid-2                   [-1, 10]               0\n",
      "            Linear-3                    [-1, 1]              11\n",
      "================================================================\n",
      "Total params: 31\n",
      "Trainable params: 31\n",
      "Non-trainable params: 0\n",
      "----------------------------------------------------------------\n",
      "Input size (MB): 0.00\n",
      "Forward/backward pass size (MB): 0.00\n",
      "Params size (MB): 0.00\n",
      "Estimated Total Size (MB): 0.00\n",
      "----------------------------------------------------------------\n"
     ]
    }
   ],
   "source": [
    "summary(model, (input_size,)) # (input_size, ) - input shape"
   ]
  },
  {
   "cell_type": "code",
   "execution_count": 132,
   "id": "bb54dc09-d01d-4198-a8ea-5f8e7b872a1d",
   "metadata": {},
   "outputs": [
    {
     "data": {
      "image/png": "[encoded data removed]",
      "text/plain": [
       "<Figure size 1000x600 with 1 Axes>"
      ]
     },
     "metadata": {},
     "output_type": "display_data"
    }
   ],
   "source": [
    "plt.figure(figsize=(10, 6))\n",
    "plt.plot(train_history, label='MSE', color='b')\n",
    "plt.xlabel('Epochs')\n",
    "plt.ylabel('MSE')\n",
    "plt.title('Learning curve for Oscillatory 1D')\n",
    "plt.legend()\n",
    "plt.grid(False)\n",
    "plt.show()"
   ]
  },
  {
   "cell_type": "markdown",
   "id": "52b5f72c-d592-4e5f-8ce8-35827518bd60",
   "metadata": {},
   "source": [
    "### Model testing"
   ]
  },
  {
   "cell_type": "code",
   "execution_count": 133,
   "id": "f7913411-fa0b-4624-a8c7-9aeda5a4a1ab",
   "metadata": {},
   "outputs": [
    {
     "name": "stdout",
     "output_type": "stream",
     "text": [
      "Test Loss: 0.0000058017\n"
     ]
    }
   ],
   "source": [
    "test_loss = test_model(model, criterion, x_test, y_test)\n",
    "print(f\"Test Loss: {test_loss:.10f}\")"
   ]
  },
  {
   "cell_type": "code",
   "execution_count": 134,
   "id": "026a89b8-0821-4bbd-9eae-b20733caf844",
   "metadata": {},
   "outputs": [],
   "source": [
    "bs1, we1, bs2, we2 = extract_model_params(model)"
   ]
  },
  {
   "cell_type": "code",
   "execution_count": 135,
   "id": "b62ed0f6-5958-4b3e-b8b8-02f627636b00",
   "metadata": {},
   "outputs": [],
   "source": [
    "a = 0.0\n",
    "b = 1.0"
   ]
  },
  {
   "cell_type": "code",
   "execution_count": 140,
   "id": "1a7936ba-0706-4acb-a8d9-b4d1f76b41f6",
   "metadata": {},
   "outputs": [
    {
     "data": {
      "text/plain": [
       "0.061260837151441906"
      ]
     },
     "execution_count": 140,
     "metadata": {},
     "output_type": "execute_result"
    }
   ],
   "source": [
    "nni = get_NN_integral(a, b, bs1, we1, bs2, we2)\n",
    "\n",
    "nni"
   ]
  },
  {
   "cell_type": "code",
   "execution_count": 141,
   "id": "319f6adf-3eb9-4db5-a5da-2e658e10c759",
   "metadata": {},
   "outputs": [
    {
     "name": "stdout",
     "output_type": "stream",
     "text": [
      "Integral: 0.8532598358708471\n",
      "Error: 9.473087157716965e-15\n"
     ]
    }
   ],
   "source": [
    "result, error = scipy.integrate.quad(osc_1d_float, a, b)\n",
    "\n",
    "print(\"Integral:\", result)\n",
    "print(\"Error:\", error)"
   ]
  },
  {
   "cell_type": "code",
   "execution_count": 142,
   "id": "82d9c2c1-1221-4f93-84e2-e426290c2dc1",
   "metadata": {},
   "outputs": [
    {
     "data": {
      "text/plain": [
       "0.7919989987194052"
      ]
     },
     "execution_count": 142,
     "metadata": {},
     "output_type": "execute_result"
    }
   ],
   "source": [
    "abs(nni - result)"
   ]
  },
  {
   "cell_type": "code",
   "execution_count": null,
   "id": "7fce0e4c-52e7-485c-888e-698caae49a8d",
   "metadata": {},
   "outputs": [],
   "source": []
  }
 ],
 "metadata": {
  "kernelspec": {
   "display_name": "Python 3 (ipykernel)",
   "language": "python",
   "name": "python3"
  },
  "language_info": {
   "codemirror_mode": {
    "name": "ipython",
    "version": 3
   },
   "file_extension": ".py",
   "mimetype": "text/x-python",
   "name": "python",
   "nbconvert_exporter": "python",
   "pygments_lexer": "ipython3",
   "version": "3.11.5"
  }
 },
 "nbformat": 4,
 "nbformat_minor": 5
}
